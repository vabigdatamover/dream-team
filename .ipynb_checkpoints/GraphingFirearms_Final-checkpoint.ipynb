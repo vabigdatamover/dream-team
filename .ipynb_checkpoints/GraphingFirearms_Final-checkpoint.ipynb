{
 "cells": [
  {
   "cell_type": "code",
   "execution_count": 26,
   "metadata": {},
   "outputs": [],
   "source": [
    "#conda install -c plotly plotly=4.0"
   ]
  },
  {
   "cell_type": "code",
   "execution_count": 77,
   "metadata": {},
   "outputs": [],
   "source": [
    "import plotly.graph_objects as go\n",
    "import plotly\n",
    "import pandas as pd\n",
    "import matplotlib.pyplot as plt\n",
    "import sys\n",
    "import json\n",
    "import os"
   ]
  },
  {
   "cell_type": "code",
   "execution_count": 78,
   "metadata": {},
   "outputs": [
    {
     "data": {
      "text/html": [
       "<div>\n",
       "<style scoped>\n",
       "    .dataframe tbody tr th:only-of-type {\n",
       "        vertical-align: middle;\n",
       "    }\n",
       "\n",
       "    .dataframe tbody tr th {\n",
       "        vertical-align: top;\n",
       "    }\n",
       "\n",
       "    .dataframe thead th {\n",
       "        text-align: right;\n",
       "    }\n",
       "</style>\n",
       "<table border=\"1\" class=\"dataframe\">\n",
       "  <thead>\n",
       "    <tr style=\"text-align: right;\">\n",
       "      <th></th>\n",
       "      <th>state</th>\n",
       "      <th>latitude</th>\n",
       "      <th>longitude</th>\n",
       "      <th>code</th>\n",
       "    </tr>\n",
       "  </thead>\n",
       "  <tbody>\n",
       "    <tr>\n",
       "      <th>0</th>\n",
       "      <td>Alabama</td>\n",
       "      <td>32.806671</td>\n",
       "      <td>-86.791130</td>\n",
       "      <td>AL</td>\n",
       "    </tr>\n",
       "    <tr>\n",
       "      <th>1</th>\n",
       "      <td>Alaska</td>\n",
       "      <td>61.370716</td>\n",
       "      <td>-152.404419</td>\n",
       "      <td>AK</td>\n",
       "    </tr>\n",
       "    <tr>\n",
       "      <th>2</th>\n",
       "      <td>Arizona</td>\n",
       "      <td>33.729759</td>\n",
       "      <td>-111.431221</td>\n",
       "      <td>AZ</td>\n",
       "    </tr>\n",
       "    <tr>\n",
       "      <th>3</th>\n",
       "      <td>Arkansas</td>\n",
       "      <td>34.969704</td>\n",
       "      <td>-92.373123</td>\n",
       "      <td>AR</td>\n",
       "    </tr>\n",
       "    <tr>\n",
       "      <th>4</th>\n",
       "      <td>California</td>\n",
       "      <td>36.116203</td>\n",
       "      <td>-119.681564</td>\n",
       "      <td>CA</td>\n",
       "    </tr>\n",
       "  </tbody>\n",
       "</table>\n",
       "</div>"
      ],
      "text/plain": [
       "        state   latitude   longitude code\n",
       "0     Alabama  32.806671  -86.791130   AL\n",
       "1      Alaska  61.370716 -152.404419   AK\n",
       "2     Arizona  33.729759 -111.431221   AZ\n",
       "3    Arkansas  34.969704  -92.373123   AR\n",
       "4  California  36.116203 -119.681564   CA"
      ]
     },
     "execution_count": 78,
     "metadata": {},
     "output_type": "execute_result"
    }
   ],
   "source": [
    "#State Coords\n",
    "# File to Load \n",
    "state_coords_to_load = \"input/state_cords.csv\"\n",
    "\n",
    "# Read the firearms data\n",
    "coord_data = pd.read_csv(state_coords_to_load)\n",
    "coord_data.head()"
   ]
  },
  {
   "cell_type": "code",
   "execution_count": 79,
   "metadata": {},
   "outputs": [
    {
     "data": {
      "text/html": [
       "<div>\n",
       "<style scoped>\n",
       "    .dataframe tbody tr th:only-of-type {\n",
       "        vertical-align: middle;\n",
       "    }\n",
       "\n",
       "    .dataframe tbody tr th {\n",
       "        vertical-align: top;\n",
       "    }\n",
       "\n",
       "    .dataframe thead th {\n",
       "        text-align: right;\n",
       "    }\n",
       "</style>\n",
       "<table border=\"1\" class=\"dataframe\">\n",
       "  <thead>\n",
       "    <tr style=\"text-align: right;\">\n",
       "      <th></th>\n",
       "      <th>month</th>\n",
       "      <th>state</th>\n",
       "      <th>permit</th>\n",
       "      <th>permit_recheck</th>\n",
       "      <th>handgun</th>\n",
       "      <th>long_gun</th>\n",
       "      <th>other</th>\n",
       "      <th>multiple</th>\n",
       "      <th>admin</th>\n",
       "      <th>prepawn_handgun</th>\n",
       "      <th>...</th>\n",
       "      <th>returned_other</th>\n",
       "      <th>rentals_handgun</th>\n",
       "      <th>rentals_long_gun</th>\n",
       "      <th>private_sale_handgun</th>\n",
       "      <th>private_sale_long_gun</th>\n",
       "      <th>private_sale_other</th>\n",
       "      <th>return_to_seller_handgun</th>\n",
       "      <th>return_to_seller_long_gun</th>\n",
       "      <th>return_to_seller_other</th>\n",
       "      <th>totals</th>\n",
       "    </tr>\n",
       "  </thead>\n",
       "  <tbody>\n",
       "    <tr>\n",
       "      <th>0</th>\n",
       "      <td>2019-06</td>\n",
       "      <td>Alabama</td>\n",
       "      <td>28449.0</td>\n",
       "      <td>499.0</td>\n",
       "      <td>6947.0</td>\n",
       "      <td>4521.0</td>\n",
       "      <td>298.0</td>\n",
       "      <td>432</td>\n",
       "      <td>0.0</td>\n",
       "      <td>19.0</td>\n",
       "      <td>...</td>\n",
       "      <td>0.0</td>\n",
       "      <td>0.0</td>\n",
       "      <td>0.0</td>\n",
       "      <td>10.0</td>\n",
       "      <td>11.0</td>\n",
       "      <td>1.0</td>\n",
       "      <td>0.0</td>\n",
       "      <td>0.0</td>\n",
       "      <td>1.0</td>\n",
       "      <td>42898</td>\n",
       "    </tr>\n",
       "    <tr>\n",
       "      <th>1</th>\n",
       "      <td>2019-06</td>\n",
       "      <td>Alaska</td>\n",
       "      <td>251.0</td>\n",
       "      <td>6.0</td>\n",
       "      <td>2465.0</td>\n",
       "      <td>2000.0</td>\n",
       "      <td>239.0</td>\n",
       "      <td>182</td>\n",
       "      <td>0.0</td>\n",
       "      <td>0.0</td>\n",
       "      <td>...</td>\n",
       "      <td>0.0</td>\n",
       "      <td>0.0</td>\n",
       "      <td>0.0</td>\n",
       "      <td>14.0</td>\n",
       "      <td>12.0</td>\n",
       "      <td>2.0</td>\n",
       "      <td>0.0</td>\n",
       "      <td>0.0</td>\n",
       "      <td>0.0</td>\n",
       "      <td>5557</td>\n",
       "    </tr>\n",
       "    <tr>\n",
       "      <th>2</th>\n",
       "      <td>2019-06</td>\n",
       "      <td>Arizona</td>\n",
       "      <td>5371.0</td>\n",
       "      <td>438.0</td>\n",
       "      <td>11375.0</td>\n",
       "      <td>5931.0</td>\n",
       "      <td>1309.0</td>\n",
       "      <td>656</td>\n",
       "      <td>0.0</td>\n",
       "      <td>14.0</td>\n",
       "      <td>...</td>\n",
       "      <td>4.0</td>\n",
       "      <td>0.0</td>\n",
       "      <td>0.0</td>\n",
       "      <td>13.0</td>\n",
       "      <td>7.0</td>\n",
       "      <td>5.0</td>\n",
       "      <td>2.0</td>\n",
       "      <td>0.0</td>\n",
       "      <td>0.0</td>\n",
       "      <td>26746</td>\n",
       "    </tr>\n",
       "    <tr>\n",
       "      <th>3</th>\n",
       "      <td>2019-06</td>\n",
       "      <td>Arkansas</td>\n",
       "      <td>2690.0</td>\n",
       "      <td>559.0</td>\n",
       "      <td>4653.0</td>\n",
       "      <td>3214.0</td>\n",
       "      <td>292.0</td>\n",
       "      <td>458</td>\n",
       "      <td>8.0</td>\n",
       "      <td>11.0</td>\n",
       "      <td>...</td>\n",
       "      <td>0.0</td>\n",
       "      <td>0.0</td>\n",
       "      <td>0.0</td>\n",
       "      <td>9.0</td>\n",
       "      <td>10.0</td>\n",
       "      <td>1.0</td>\n",
       "      <td>0.0</td>\n",
       "      <td>2.0</td>\n",
       "      <td>0.0</td>\n",
       "      <td>13956</td>\n",
       "    </tr>\n",
       "    <tr>\n",
       "      <th>4</th>\n",
       "      <td>2019-06</td>\n",
       "      <td>California</td>\n",
       "      <td>39303.0</td>\n",
       "      <td>0.0</td>\n",
       "      <td>38712.0</td>\n",
       "      <td>27050.0</td>\n",
       "      <td>4856.0</td>\n",
       "      <td>0</td>\n",
       "      <td>5040.0</td>\n",
       "      <td>0.0</td>\n",
       "      <td>...</td>\n",
       "      <td>0.0</td>\n",
       "      <td>0.0</td>\n",
       "      <td>0.0</td>\n",
       "      <td>0.0</td>\n",
       "      <td>0.0</td>\n",
       "      <td>0.0</td>\n",
       "      <td>0.0</td>\n",
       "      <td>0.0</td>\n",
       "      <td>0.0</td>\n",
       "      <td>115987</td>\n",
       "    </tr>\n",
       "  </tbody>\n",
       "</table>\n",
       "<p>5 rows × 27 columns</p>\n",
       "</div>"
      ],
      "text/plain": [
       "     month       state   permit  permit_recheck  handgun  long_gun   other  \\\n",
       "0  2019-06     Alabama  28449.0           499.0   6947.0    4521.0   298.0   \n",
       "1  2019-06      Alaska    251.0             6.0   2465.0    2000.0   239.0   \n",
       "2  2019-06     Arizona   5371.0           438.0  11375.0    5931.0  1309.0   \n",
       "3  2019-06    Arkansas   2690.0           559.0   4653.0    3214.0   292.0   \n",
       "4  2019-06  California  39303.0             0.0  38712.0   27050.0  4856.0   \n",
       "\n",
       "   multiple   admin  prepawn_handgun  ...  returned_other  rentals_handgun  \\\n",
       "0       432     0.0             19.0  ...             0.0              0.0   \n",
       "1       182     0.0              0.0  ...             0.0              0.0   \n",
       "2       656     0.0             14.0  ...             4.0              0.0   \n",
       "3       458     8.0             11.0  ...             0.0              0.0   \n",
       "4         0  5040.0              0.0  ...             0.0              0.0   \n",
       "\n",
       "   rentals_long_gun  private_sale_handgun  private_sale_long_gun  \\\n",
       "0               0.0                  10.0                   11.0   \n",
       "1               0.0                  14.0                   12.0   \n",
       "2               0.0                  13.0                    7.0   \n",
       "3               0.0                   9.0                   10.0   \n",
       "4               0.0                   0.0                    0.0   \n",
       "\n",
       "   private_sale_other  return_to_seller_handgun  return_to_seller_long_gun  \\\n",
       "0                 1.0                       0.0                        0.0   \n",
       "1                 2.0                       0.0                        0.0   \n",
       "2                 5.0                       2.0                        0.0   \n",
       "3                 1.0                       0.0                        2.0   \n",
       "4                 0.0                       0.0                        0.0   \n",
       "\n",
       "   return_to_seller_other  totals  \n",
       "0                     1.0   42898  \n",
       "1                     0.0    5557  \n",
       "2                     0.0   26746  \n",
       "3                     0.0   13956  \n",
       "4                     0.0  115987  \n",
       "\n",
       "[5 rows x 27 columns]"
      ]
     },
     "execution_count": 79,
     "metadata": {},
     "output_type": "execute_result"
    }
   ],
   "source": [
    "# File to Load \n",
    "fireams_data_to_load = \"input/nics-firearm-background-checks.csv\"\n",
    "\n",
    "# Read the firearms data\n",
    "firearms_data = pd.read_csv(fireams_data_to_load)\n",
    "firearms_data.head()"
   ]
  },
  {
   "cell_type": "code",
   "execution_count": 80,
   "metadata": {},
   "outputs": [
    {
     "data": {
      "text/html": [
       "<div>\n",
       "<style scoped>\n",
       "    .dataframe tbody tr th:only-of-type {\n",
       "        vertical-align: middle;\n",
       "    }\n",
       "\n",
       "    .dataframe tbody tr th {\n",
       "        vertical-align: top;\n",
       "    }\n",
       "\n",
       "    .dataframe thead th {\n",
       "        text-align: right;\n",
       "    }\n",
       "</style>\n",
       "<table border=\"1\" class=\"dataframe\">\n",
       "  <thead>\n",
       "    <tr style=\"text-align: right;\">\n",
       "      <th></th>\n",
       "      <th>month</th>\n",
       "      <th>state</th>\n",
       "      <th>totals</th>\n",
       "    </tr>\n",
       "  </thead>\n",
       "  <tbody>\n",
       "    <tr>\n",
       "      <th>0</th>\n",
       "      <td>2019-06</td>\n",
       "      <td>Alabama</td>\n",
       "      <td>42898</td>\n",
       "    </tr>\n",
       "    <tr>\n",
       "      <th>1</th>\n",
       "      <td>2019-06</td>\n",
       "      <td>Alaska</td>\n",
       "      <td>5557</td>\n",
       "    </tr>\n",
       "  </tbody>\n",
       "</table>\n",
       "</div>"
      ],
      "text/plain": [
       "     month    state  totals\n",
       "0  2019-06  Alabama   42898\n",
       "1  2019-06   Alaska    5557"
      ]
     },
     "execution_count": 80,
     "metadata": {},
     "output_type": "execute_result"
    }
   ],
   "source": [
    "# Creating a subset DataFrame\n",
    "bkgnd_chk_tot_data = pd.DataFrame(firearms_data,\n",
    "                            columns=['month', 'state', 'totals'])\n",
    "\n",
    "bct_data=bkgnd_chk_tot_data\n",
    "bct_data.head(2)"
   ]
  },
  {
   "cell_type": "code",
   "execution_count": 81,
   "metadata": {},
   "outputs": [
    {
     "data": {
      "text/plain": [
       "month\n",
       "1998-11     21176\n",
       "1998-12    870722\n",
       "1999-01    585974\n",
       "1999-02    690215\n",
       "1999-03    741687\n",
       "Name: totals, dtype: int64"
      ]
     },
     "execution_count": 81,
     "metadata": {},
     "output_type": "execute_result"
    }
   ],
   "source": [
    "# Grouping the results by month\n",
    "bct_data_by_mo = bkgnd_chk_tot_data.groupby(['month'])\n",
    "\n",
    "bc_per_month=bct_data_by_mo['totals'].sum()\n",
    "bc_per_month.head()"
   ]
  },
  {
   "cell_type": "code",
   "execution_count": 83,
   "metadata": {},
   "outputs": [
    {
     "data": {
      "image/png": "[encoded data removed]",
      "text/plain": [
       "<Figure size 432x288 with 1 Axes>"
      ]
     },
     "metadata": {
      "needs_background": "light"
     },
     "output_type": "display_data"
    }
   ],
   "source": [
    "#Plots monthly Back\n",
    "ax1 = bc_per_month.plot.line(x='month', y='totals')\n",
    "\n",
    "#Creates Red Election Lines\n",
    "plt.axvline(x=168, ymin=0, ymax=1, color=\"r\")\n",
    "plt.axvline(x=216, ymin=0, ymax=1, color=\"r\")\n",
    "# Adding grid, title, and labels\n",
    "plt.grid(True)\n",
    "plt.title('NICS Background Check Total Data')\n",
    "\n",
    "# Adding note on right hand side\n",
    "textstr = ('Note:')\n",
    "plt.text(.94, 0.7, textstr, fontsize=10, transform=plt.gcf().transFigure)\n",
    "textstr = ('Red Lines correlate to 2012 and 2016 elections.')\n",
    "plt.text(.94, 0.65, textstr, fontsize=10, transform=plt.gcf().transFigure)\n",
    "\n",
    "#Save Figure\n",
    "plt.savefig('output/t_chk_per_month_vline.png', bbox_inches=\"tight\")"
   ]
  },
  {
   "cell_type": "code",
   "execution_count": 84,
   "metadata": {},
   "outputs": [],
   "source": [
    "bct_range = bct_data[(bct_data['month'] >='2011-01') & (bct_data['month'] <= '2018-1') ].groupby(['month'])['totals'].sum()\n",
    "#bct_range.head()"
   ]
  },
  {
   "cell_type": "code",
   "execution_count": 85,
   "metadata": {},
   "outputs": [
    {
     "data": {
      "image/png": "[encoded data removed]",
      "text/plain": [
       "<Figure size 432x288 with 1 Axes>"
      ]
     },
     "metadata": {
      "needs_background": "light"
     },
     "output_type": "display_data"
    }
   ],
   "source": [
    "# Plotting background checks data\n",
    "ax1 = bct_range.plot.line(x='month', y='totals')\n",
    "\n",
    "# Adding grid, title, and labels\n",
    "plt.grid(True)\n",
    "plt.title('2011-2017 NICS Background Check Totals')\n",
    "\n",
    "# Adding note on right hand side\n",
    "textstr = ('Note:')\n",
    "plt.text(.94, 0.7, textstr, fontsize=10, transform=plt.gcf().transFigure)\n",
    "textstr = ('Red Lines correlate to 2012 and 2016 elections.')\n",
    "plt.text(.94, 0.65, textstr, fontsize=10, transform=plt.gcf().transFigure)\n",
    "\n",
    "# Adding vertical red lines\n",
    "plt.axvline(x=18, ymin=0, ymax=1, color=\"r\")\n",
    "plt.axvline(x=66, ymin=0, ymax=1, color=\"r\")\n",
    "#plt.axvline(dt.datetime(2016, 11, 8 ))\n",
    "plt.savefig('output/2011-5_2017-5_bct.png', bbox_inches=\"tight\")"
   ]
  },
  {
   "cell_type": "code",
   "execution_count": 86,
   "metadata": {
    "scrolled": true
   },
   "outputs": [
    {
     "data": {
      "text/html": [
       "<div>\n",
       "<style scoped>\n",
       "    .dataframe tbody tr th:only-of-type {\n",
       "        vertical-align: middle;\n",
       "    }\n",
       "\n",
       "    .dataframe tbody tr th {\n",
       "        vertical-align: top;\n",
       "    }\n",
       "\n",
       "    .dataframe thead th {\n",
       "        text-align: right;\n",
       "    }\n",
       "</style>\n",
       "<table border=\"1\" class=\"dataframe\">\n",
       "  <thead>\n",
       "    <tr style=\"text-align: right;\">\n",
       "      <th></th>\n",
       "      <th>state</th>\n",
       "      <th>totals</th>\n",
       "      <th>handgun</th>\n",
       "      <th>permit</th>\n",
       "      <th>long_gun</th>\n",
       "    </tr>\n",
       "  </thead>\n",
       "  <tbody>\n",
       "    <tr>\n",
       "      <th>0</th>\n",
       "      <td>Alabama</td>\n",
       "      <td>477345</td>\n",
       "      <td>97751.0</td>\n",
       "      <td>253338.0</td>\n",
       "      <td>86210.0</td>\n",
       "    </tr>\n",
       "    <tr>\n",
       "      <th>1</th>\n",
       "      <td>Alaska</td>\n",
       "      <td>80839</td>\n",
       "      <td>34556.0</td>\n",
       "      <td>2923.0</td>\n",
       "      <td>32648.0</td>\n",
       "    </tr>\n",
       "    <tr>\n",
       "      <th>2</th>\n",
       "      <td>Arizona</td>\n",
       "      <td>384930</td>\n",
       "      <td>153522.0</td>\n",
       "      <td>81734.0</td>\n",
       "      <td>99248.0</td>\n",
       "    </tr>\n",
       "    <tr>\n",
       "      <th>3</th>\n",
       "      <td>Arkansas</td>\n",
       "      <td>237629</td>\n",
       "      <td>72100.0</td>\n",
       "      <td>39473.0</td>\n",
       "      <td>76765.0</td>\n",
       "    </tr>\n",
       "    <tr>\n",
       "      <th>4</th>\n",
       "      <td>California</td>\n",
       "      <td>1570110</td>\n",
       "      <td>512465.0</td>\n",
       "      <td>689851.0</td>\n",
       "      <td>318133.0</td>\n",
       "    </tr>\n",
       "  </tbody>\n",
       "</table>\n",
       "</div>"
      ],
      "text/plain": [
       "        state   totals   handgun    permit  long_gun\n",
       "0     Alabama   477345   97751.0  253338.0   86210.0\n",
       "1      Alaska    80839   34556.0    2923.0   32648.0\n",
       "2     Arizona   384930  153522.0   81734.0   99248.0\n",
       "3    Arkansas   237629   72100.0   39473.0   76765.0\n",
       "4  California  1570110  512465.0  689851.0  318133.0"
      ]
     },
     "execution_count": 86,
     "metadata": {},
     "output_type": "execute_result"
    }
   ],
   "source": [
    "#Sort 2017\n",
    "firearms_2017 = firearms_data[firearms_data['month'].str.contains('2017')]\n",
    "\n",
    "#Registration sum 2017 & Set Index\n",
    "registration_sum = firearms_2017.groupby(['state'])['totals'].sum()\n",
    "registration_sum = registration_sum.reset_index()\n",
    "\n",
    "#Hand Gun sum 2017 & Set Index\n",
    "state_handguns_sum = firearms_2017.groupby(['state'])['handgun'].sum()\n",
    "state_handguns_sum = state_handguns_sum.reset_index()\n",
    "\n",
    "#Long Gun sum 2017 & Set Index\n",
    "state_longguns_sum = firearms_2017.groupby(['state'])['long_gun'].sum()\n",
    "state_longguns_sum = state_longguns_sum.reset_index()\n",
    "\n",
    "#Permit sum 2017 & Set Index\n",
    "permit_sum = firearms_2017.groupby(['state'])['permit'].sum()\n",
    "permit_sum = permit_sum.reset_index()\n",
    "\n",
    "#Merge all data frames\n",
    "data_pair = pd.merge(registration_sum, state_handguns_sum, how=\"left\", on=[\"state\", \"state\"])\n",
    "other_pair = pd.merge(permit_sum, state_longguns_sum, how=\"left\", on=[\"state\", \"state\"])\n",
    "totals_df = pd.merge(data_pair, other_pair, how=\"left\", on=[\"state\", \"state\"])\n",
    "\n",
    "#Show\n",
    "totals_df.head()"
   ]
  },
  {
   "cell_type": "code",
   "execution_count": 87,
   "metadata": {},
   "outputs": [
    {
     "data": {
      "text/html": [
       "<div>\n",
       "<style scoped>\n",
       "    .dataframe tbody tr th:only-of-type {\n",
       "        vertical-align: middle;\n",
       "    }\n",
       "\n",
       "    .dataframe tbody tr th {\n",
       "        vertical-align: top;\n",
       "    }\n",
       "\n",
       "    .dataframe thead th {\n",
       "        text-align: right;\n",
       "    }\n",
       "</style>\n",
       "<table border=\"1\" class=\"dataframe\">\n",
       "  <thead>\n",
       "    <tr style=\"text-align: right;\">\n",
       "      <th></th>\n",
       "      <th>pop_rank</th>\n",
       "      <th>state</th>\n",
       "      <th>population</th>\n",
       "    </tr>\n",
       "  </thead>\n",
       "  <tbody>\n",
       "    <tr>\n",
       "      <th>0</th>\n",
       "      <td>1</td>\n",
       "      <td>California</td>\n",
       "      <td>39,536,653</td>\n",
       "    </tr>\n",
       "    <tr>\n",
       "      <th>1</th>\n",
       "      <td>2</td>\n",
       "      <td>Texas</td>\n",
       "      <td>28,304,596</td>\n",
       "    </tr>\n",
       "    <tr>\n",
       "      <th>2</th>\n",
       "      <td>3</td>\n",
       "      <td>Florida</td>\n",
       "      <td>20,984,400</td>\n",
       "    </tr>\n",
       "    <tr>\n",
       "      <th>3</th>\n",
       "      <td>4</td>\n",
       "      <td>New York</td>\n",
       "      <td>19,849,399</td>\n",
       "    </tr>\n",
       "    <tr>\n",
       "      <th>4</th>\n",
       "      <td>5</td>\n",
       "      <td>Pennsylvania</td>\n",
       "      <td>12,805,537</td>\n",
       "    </tr>\n",
       "  </tbody>\n",
       "</table>\n",
       "</div>"
      ],
      "text/plain": [
       "   pop_rank         state  population\n",
       "0         1    California  39,536,653\n",
       "1         2         Texas  28,304,596\n",
       "2         3       Florida  20,984,400\n",
       "3         4      New York  19,849,399\n",
       "4         5  Pennsylvania  12,805,537"
      ]
     },
     "execution_count": 87,
     "metadata": {},
     "output_type": "execute_result"
    }
   ],
   "source": [
    "#World Atlas.COM\n",
    "# File to Load \n",
    "state_population_to_load = \"input/state_populations.csv\"\n",
    "\n",
    "# Read the firearms data\n",
    "population_data = pd.read_csv(state_population_to_load)\n",
    "population_data.head()"
   ]
  },
  {
   "cell_type": "code",
   "execution_count": 88,
   "metadata": {},
   "outputs": [
    {
     "data": {
      "text/html": [
       "<div>\n",
       "<style scoped>\n",
       "    .dataframe tbody tr th:only-of-type {\n",
       "        vertical-align: middle;\n",
       "    }\n",
       "\n",
       "    .dataframe tbody tr th {\n",
       "        vertical-align: top;\n",
       "    }\n",
       "\n",
       "    .dataframe thead th {\n",
       "        text-align: right;\n",
       "    }\n",
       "</style>\n",
       "<table border=\"1\" class=\"dataframe\">\n",
       "  <thead>\n",
       "    <tr style=\"text-align: right;\">\n",
       "      <th></th>\n",
       "      <th>state</th>\n",
       "      <th>totals</th>\n",
       "      <th>handgun</th>\n",
       "      <th>permit</th>\n",
       "      <th>long_gun</th>\n",
       "      <th>pop_rank</th>\n",
       "      <th>population</th>\n",
       "      <th>latitude</th>\n",
       "      <th>longitude</th>\n",
       "      <th>code</th>\n",
       "    </tr>\n",
       "  </thead>\n",
       "  <tbody>\n",
       "    <tr>\n",
       "      <th>0</th>\n",
       "      <td>Alabama</td>\n",
       "      <td>477345</td>\n",
       "      <td>97751.0</td>\n",
       "      <td>253338.0</td>\n",
       "      <td>86210.0</td>\n",
       "      <td>24.0</td>\n",
       "      <td>4,874,747</td>\n",
       "      <td>32.806671</td>\n",
       "      <td>-86.791130</td>\n",
       "      <td>AL</td>\n",
       "    </tr>\n",
       "    <tr>\n",
       "      <th>1</th>\n",
       "      <td>Alaska</td>\n",
       "      <td>80839</td>\n",
       "      <td>34556.0</td>\n",
       "      <td>2923.0</td>\n",
       "      <td>32648.0</td>\n",
       "      <td>48.0</td>\n",
       "      <td>739,795</td>\n",
       "      <td>61.370716</td>\n",
       "      <td>-152.404419</td>\n",
       "      <td>AK</td>\n",
       "    </tr>\n",
       "    <tr>\n",
       "      <th>2</th>\n",
       "      <td>Arizona</td>\n",
       "      <td>384930</td>\n",
       "      <td>153522.0</td>\n",
       "      <td>81734.0</td>\n",
       "      <td>99248.0</td>\n",
       "      <td>14.0</td>\n",
       "      <td>7,016,270</td>\n",
       "      <td>33.729759</td>\n",
       "      <td>-111.431221</td>\n",
       "      <td>AZ</td>\n",
       "    </tr>\n",
       "    <tr>\n",
       "      <th>3</th>\n",
       "      <td>Arkansas</td>\n",
       "      <td>237629</td>\n",
       "      <td>72100.0</td>\n",
       "      <td>39473.0</td>\n",
       "      <td>76765.0</td>\n",
       "      <td>32.0</td>\n",
       "      <td>3,004,279</td>\n",
       "      <td>34.969704</td>\n",
       "      <td>-92.373123</td>\n",
       "      <td>AR</td>\n",
       "    </tr>\n",
       "    <tr>\n",
       "      <th>4</th>\n",
       "      <td>California</td>\n",
       "      <td>1570110</td>\n",
       "      <td>512465.0</td>\n",
       "      <td>689851.0</td>\n",
       "      <td>318133.0</td>\n",
       "      <td>1.0</td>\n",
       "      <td>39,536,653</td>\n",
       "      <td>36.116203</td>\n",
       "      <td>-119.681564</td>\n",
       "      <td>CA</td>\n",
       "    </tr>\n",
       "  </tbody>\n",
       "</table>\n",
       "</div>"
      ],
      "text/plain": [
       "        state   totals   handgun    permit  long_gun  pop_rank  population  \\\n",
       "0     Alabama   477345   97751.0  253338.0   86210.0      24.0   4,874,747   \n",
       "1      Alaska    80839   34556.0    2923.0   32648.0      48.0     739,795   \n",
       "2     Arizona   384930  153522.0   81734.0   99248.0      14.0   7,016,270   \n",
       "3    Arkansas   237629   72100.0   39473.0   76765.0      32.0   3,004,279   \n",
       "4  California  1570110  512465.0  689851.0  318133.0       1.0  39,536,653   \n",
       "\n",
       "    latitude   longitude code  \n",
       "0  32.806671  -86.791130   AL  \n",
       "1  61.370716 -152.404419   AK  \n",
       "2  33.729759 -111.431221   AZ  \n",
       "3  34.969704  -92.373123   AR  \n",
       "4  36.116203 -119.681564   CA  "
      ]
     },
     "execution_count": 88,
     "metadata": {},
     "output_type": "execute_result"
    }
   ],
   "source": [
    "# Combine the data into a single dataset with a left merge on \"state\"\n",
    "data_pair = pd.merge(totals_df, population_data, how=\"left\", on=[\"state\", \"state\"])\n",
    "df = pd.merge(data_pair, coord_data, how=\"left\", on=[\"state\", \"state\"])\n",
    "df.head()"
   ]
  },
  {
   "cell_type": "code",
   "execution_count": 89,
   "metadata": {},
   "outputs": [
    {
     "data": {
      "application/vnd.plotly.v1+json": {
       "config": {
        "plotlyServerURL": "https://plot.ly"
       },
       "data": [
        {
         "autocolorscale": false,
         "colorbar": {
          "title": {
           "text": "Hundreds of Thousands"
          }
         },
         "colorscale": [
          [
           0,
           "rgb(255,245,240)"
          ],
          [
           0.125,
           "rgb(254,224,210)"
          ],
          [
           0.25,
           "rgb(252,187,161)"
          ],
          [
           0.375,
           "rgb(252,146,114)"
          ],
          [
           0.5,
           "rgb(251,106,74)"
          ],
          [
           0.625,
           "rgb(239,59,44)"
          ],
          [
           0.75,
           "rgb(203,24,29)"
          ],
          [
           0.875,
           "rgb(165,15,21)"
          ],
          [
           1,
           "rgb(103,0,13)"
          ]
         ],
         "locationmode": "USA-states",
         "locations": [
          "AL",
          "AK",
          "AZ",
          "AR",
          "CA",
          "CO",
          "CT",
          "DE",
          "DC",
          "FL",
          "GA",
          "nan",
          "HI",
          "ID",
          "IL",
          "IN",
          "IA",
          "KS",
          "KY",
          "LA",
          "ME",
          "nan",
          "MD",
          "MA",
          "MI",
          "MN",
          "MS",
          "MO",
          "MT",
          "NE",
          "NV",
          "NH",
          "NJ",
          "NM",
          "NY",
          "NC",
          "ND",
          "OH",
          "OK",
          "OR",
          "PA",
          "nan",
          "RI",
          "SC",
          "SD",
          "TN",
          "TX",
          "UT",
          "VT",
          "nan",
          "VA",
          "WA",
          "WV",
          "WI",
          "WY"
         ],
         "marker": {
          "line": {
           "color": "black"
          }
         },
         "text": [
          "Alabama<br>Total Handgun Background Checks 201797751.0<br>Population 4,874,747<br>Populations Rank 24.0",
          "Alaska<br>Total Handgun Background Checks 201734556.0<br>Population 739,795<br>Populations Rank 48.0",
          "Arizona<br>Total Handgun Background Checks 2017153522.0<br>Population 7,016,270<br>Populations Rank 14.0",
          "Arkansas<br>Total Handgun Background Checks 201772100.0<br>Population 3,004,279<br>Populations Rank 32.0",
          "California<br>Total Handgun Background Checks 2017512465.0<br>Population 39,536,653<br>Populations Rank 1.0",
          "Colorado<br>Total Handgun Background Checks 2017229708.0<br>Population 5,607,154<br>Populations Rank 21.0",
          "Connecticut<br>Total Handgun Background Checks 201771853.0<br>Population 3,588,184<br>Populations Rank 29.0",
          "Delaware<br>Total Handgun Background Checks 201722308.0<br>Population 961,939<br>Populations Rank 45.0",
          "District of Columbia<br>Total Handgun Background Checks 2017756.0<br>Population nan<br>Populations Rank nan",
          "Florida<br>Total Handgun Background Checks 2017638938.0<br>Population 20,984,400<br>Populations Rank 3.0",
          "Georgia<br>Total Handgun Background Checks 2017172447.0<br>Population 10,429,379<br>Populations Rank 8.0",
          "Guam<br>Total Handgun Background Checks 20171041.0<br>Population nan<br>Populations Rank nan",
          "Hawaii<br>Total Handgun Background Checks 20170.0<br>Population 1,427,538<br>Populations Rank 40.0",
          "Idaho<br>Total Handgun Background Checks 201744939.0<br>Population 1,716,943<br>Populations Rank 39.0",
          "Illinois<br>Total Handgun Background Checks 2017282267.0<br>Population 12,802,023<br>Populations Rank 6.0",
          "Indiana<br>Total Handgun Background Checks 2017249127.0<br>Population 6,666,818<br>Populations Rank 17.0",
          "Iowa<br>Total Handgun Background Checks 20172376.0<br>Population 3,145,711<br>Populations Rank 30.0",
          "Kansas<br>Total Handgun Background Checks 201773959.0<br>Population 2,913,123<br>Populations Rank 35.0",
          "Kentucky<br>Total Handgun Background Checks 2017127240.0<br>Population 4,454,189<br>Populations Rank 26.0",
          "Louisiana<br>Total Handgun Background Checks 2017138975.0<br>Population 4,684,333<br>Populations Rank 25.0",
          "Maine<br>Total Handgun Background Checks 201740485.0<br>Population 1,335,907<br>Populations Rank 42.0",
          "Mariana Islands<br>Total Handgun Background Checks 2017108.0<br>Population nan<br>Populations Rank nan",
          "Maryland<br>Total Handgun Background Checks 201751873.0<br>Population 6,052,177<br>Populations Rank 19.0",
          "Massachusetts<br>Total Handgun Background Checks 201766966.0<br>Population 6,859,819<br>Populations Rank 15.0",
          "Michigan<br>Total Handgun Background Checks 2017141062.0<br>Population 9,962,311<br>Populations Rank 10.0",
          "Minnesota<br>Total Handgun Background Checks 201794383.0<br>Population 5,576,606<br>Populations Rank 22.0",
          "Mississippi<br>Total Handgun Background Checks 2017103312.0<br>Population 2,984,100<br>Populations Rank 34.0",
          "Missouri<br>Total Handgun Background Checks 2017252709.0<br>Population 6,113,532<br>Populations Rank 18.0",
          "Montana<br>Total Handgun Background Checks 201734444.0<br>Population 1,050,493<br>Populations Rank 44.0",
          "Nebraska<br>Total Handgun Background Checks 20171669.0<br>Population 1,920,076<br>Populations Rank 37.0",
          "Nevada<br>Total Handgun Background Checks 201757524.0<br>Population 2,998,039<br>Populations Rank 33.0",
          "New Hampshire<br>Total Handgun Background Checks 201762280.0<br>Population 1,342,795<br>Populations Rank 41.0",
          "New Jersey<br>Total Handgun Background Checks 201758989.0<br>Population 9,005,644<br>Populations Rank 11.0",
          "New Mexico<br>Total Handgun Background Checks 201770791.0<br>Population 2,088,070<br>Populations Rank 36.0",
          "New York<br>Total Handgun Background Checks 2017124253.0<br>Population 19,849,399<br>Populations Rank 4.0",
          "North Carolina<br>Total Handgun Background Checks 201718131.0<br>Population 10,273,419<br>Populations Rank 9.0",
          "North Dakota<br>Total Handgun Background Checks 201719693.0<br>Population 755,393<br>Populations Rank 47.0",
          "Ohio<br>Total Handgun Background Checks 2017332879.0<br>Population 11,658,609<br>Populations Rank 7.0",
          "Oklahoma<br>Total Handgun Background Checks 2017144736.0<br>Population 3,930,864<br>Populations Rank 28.0",
          "Oregon<br>Total Handgun Background Checks 2017168938.0<br>Population 4,142,776<br>Populations Rank 27.0",
          "Pennsylvania<br>Total Handgun Background Checks 2017566320.0<br>Population 12,805,537<br>Populations Rank 5.0",
          "Puerto Rico<br>Total Handgun Background Checks 201715298.0<br>Population nan<br>Populations Rank nan",
          "Rhode Island<br>Total Handgun Background Checks 201712959.0<br>Population 1,059,639<br>Populations Rank 43.0",
          "South Carolina<br>Total Handgun Background Checks 2017123035.0<br>Population 5,024,369<br>Populations Rank 23.0",
          "South Dakota<br>Total Handgun Background Checks 201731493.0<br>Population 869,666<br>Populations Rank 46.0",
          "Tennessee<br>Total Handgun Background Checks 2017303513.0<br>Population 6,715,984<br>Populations Rank 16.0",
          "Texas<br>Total Handgun Background Checks 2017577417.0<br>Population 28,304,596<br>Populations Rank 2.0",
          "Utah<br>Total Handgun Background Checks 201745085.0<br>Population 3,101,833<br>Populations Rank 31.0",
          "Vermont<br>Total Handgun Background Checks 201717599.0<br>Population 623,657<br>Populations Rank 49.0",
          "Virgin Islands<br>Total Handgun Background Checks 2017298.0<br>Population nan<br>Populations Rank nan",
          "Virginia<br>Total Handgun Background Checks 2017292199.0<br>Population 8,470,020<br>Populations Rank 12.0",
          "Washington<br>Total Handgun Background Checks 2017198632.0<br>Population 7,405,743<br>Populations Rank 13.0",
          "West Virginia<br>Total Handgun Background Checks 201779813.0<br>Population 1,815,857<br>Populations Rank 38.0",
          "Wisconsin<br>Total Handgun Background Checks 2017171610.0<br>Population 5,795,483<br>Populations Rank 20.0",
          "Wyoming<br>Total Handgun Background Checks 201720155.0<br>Population 579,315<br>Populations Rank 50.0"
         ],
         "type": "choropleth",
         "z": [
          97751,
          34556,
          153522,
          72100,
          512465,
          229708,
          71853,
          22308,
          756,
          638938,
          172447,
          1041,
          0,
          44939,
          282267,
          249127,
          2376,
          73959,
          127240,
          138975,
          40485,
          108,
          51873,
          66966,
          141062,
          94383,
          103312,
          252709,
          34444,
          1669,
          57524,
          62280,
          58989,
          70791,
          124253,
          18131,
          19693,
          332879,
          144736,
          168938,
          566320,
          15298,
          12959,
          123035,
          31493,
          303513,
          577417,
          45085,
          17599,
          298,
          292199,
          198632,
          79813,
          171610,
          20155
         ]
        }
       ],
       "layout": {
        "geo": {
         "lakecolor": "rgb(255, 255, 255)",
         "projection": {
          "type": "albers usa"
         },
         "scope": "usa",
         "showlakes": true
        },
        "template": {
         "data": {
          "bar": [
           {
            "error_x": {
             "color": "#2a3f5f"
            },
            "error_y": {
             "color": "#2a3f5f"
            },
            "marker": {
             "line": {
              "color": "#E5ECF6",
              "width": 0.5
             }
            },
            "type": "bar"
           }
          ],
          "barpolar": [
           {
            "marker": {
             "line": {
              "color": "#E5ECF6",
              "width": 0.5
             }
            },
            "type": "barpolar"
           }
          ],
          "carpet": [
           {
            "aaxis": {
             "endlinecolor": "#2a3f5f",
             "gridcolor": "white",
             "linecolor": "white",
             "minorgridcolor": "white",
             "startlinecolor": "#2a3f5f"
            },
            "baxis": {
             "endlinecolor": "#2a3f5f",
             "gridcolor": "white",
             "linecolor": "white",
             "minorgridcolor": "white",
             "startlinecolor": "#2a3f5f"
            },
            "type": "carpet"
           }
          ],
          "choropleth": [
           {
            "colorbar": {
             "outlinewidth": 0,
             "ticks": ""
            },
            "type": "choropleth"
           }
          ],
          "contour": [
           {
            "colorbar": {
             "outlinewidth": 0,
             "ticks": ""
            },
            "colorscale": [
             [
              0,
              "#0d0887"
             ],
             [
              0.1111111111111111,
              "#46039f"
             ],
             [
              0.2222222222222222,
              "#7201a8"
             ],
             [
              0.3333333333333333,
              "#9c179e"
             ],
             [
              0.4444444444444444,
              "#bd3786"
             ],
             [
              0.5555555555555556,
              "#d8576b"
             ],
             [
              0.6666666666666666,
              "#ed7953"
             ],
             [
              0.7777777777777778,
              "#fb9f3a"
             ],
             [
              0.8888888888888888,
              "#fdca26"
             ],
             [
              1,
              "#f0f921"
             ]
            ],
            "type": "contour"
           }
          ],
          "contourcarpet": [
           {
            "colorbar": {
             "outlinewidth": 0,
             "ticks": ""
            },
            "type": "contourcarpet"
           }
          ],
          "heatmap": [
           {
            "colorbar": {
             "outlinewidth": 0,
             "ticks": ""
            },
            "colorscale": [
             [
              0,
              "#0d0887"
             ],
             [
              0.1111111111111111,
              "#46039f"
             ],
             [
              0.2222222222222222,
              "#7201a8"
             ],
             [
              0.3333333333333333,
              "#9c179e"
             ],
             [
              0.4444444444444444,
              "#bd3786"
             ],
             [
              0.5555555555555556,
              "#d8576b"
             ],
             [
              0.6666666666666666,
              "#ed7953"
             ],
             [
              0.7777777777777778,
              "#fb9f3a"
             ],
             [
              0.8888888888888888,
              "#fdca26"
             ],
             [
              1,
              "#f0f921"
             ]
            ],
            "type": "heatmap"
           }
          ],
          "heatmapgl": [
           {
            "colorbar": {
             "outlinewidth": 0,
             "ticks": ""
            },
            "colorscale": [
             [
              0,
              "#0d0887"
             ],
             [
              0.1111111111111111,
              "#46039f"
             ],
             [
              0.2222222222222222,
              "#7201a8"
             ],
             [
              0.3333333333333333,
              "#9c179e"
             ],
             [
              0.4444444444444444,
              "#bd3786"
             ],
             [
              0.5555555555555556,
              "#d8576b"
             ],
             [
              0.6666666666666666,
              "#ed7953"
             ],
             [
              0.7777777777777778,
              "#fb9f3a"
             ],
             [
              0.8888888888888888,
              "#fdca26"
             ],
             [
              1,
              "#f0f921"
             ]
            ],
            "type": "heatmapgl"
           }
          ],
          "histogram": [
           {
            "marker": {
             "colorbar": {
              "outlinewidth": 0,
              "ticks": ""
             }
            },
            "type": "histogram"
           }
          ],
          "histogram2d": [
           {
            "colorbar": {
             "outlinewidth": 0,
             "ticks": ""
            },
            "colorscale": [
             [
              0,
              "#0d0887"
             ],
             [
              0.1111111111111111,
              "#46039f"
             ],
             [
              0.2222222222222222,
              "#7201a8"
             ],
             [
              0.3333333333333333,
              "#9c179e"
             ],
             [
              0.4444444444444444,
              "#bd3786"
             ],
             [
              0.5555555555555556,
              "#d8576b"
             ],
             [
              0.6666666666666666,
              "#ed7953"
             ],
             [
              0.7777777777777778,
              "#fb9f3a"
             ],
             [
              0.8888888888888888,
              "#fdca26"
             ],
             [
              1,
              "#f0f921"
             ]
            ],
            "type": "histogram2d"
           }
          ],
          "histogram2dcontour": [
           {
            "colorbar": {
             "outlinewidth": 0,
             "ticks": ""
            },
            "colorscale": [
             [
              0,
              "#0d0887"
             ],
             [
              0.1111111111111111,
              "#46039f"
             ],
             [
              0.2222222222222222,
              "#7201a8"
             ],
             [
              0.3333333333333333,
              "#9c179e"
             ],
             [
              0.4444444444444444,
              "#bd3786"
             ],
             [
              0.5555555555555556,
              "#d8576b"
             ],
             [
              0.6666666666666666,
              "#ed7953"
             ],
             [
              0.7777777777777778,
              "#fb9f3a"
             ],
             [
              0.8888888888888888,
              "#fdca26"
             ],
             [
              1,
              "#f0f921"
             ]
            ],
            "type": "histogram2dcontour"
           }
          ],
          "mesh3d": [
           {
            "colorbar": {
             "outlinewidth": 0,
             "ticks": ""
            },
            "type": "mesh3d"
           }
          ],
          "parcoords": [
           {
            "line": {
             "colorbar": {
              "outlinewidth": 0,
              "ticks": ""
             }
            },
            "type": "parcoords"
           }
          ],
          "scatter": [
           {
            "marker": {
             "colorbar": {
              "outlinewidth": 0,
              "ticks": ""
             }
            },
            "type": "scatter"
           }
          ],
          "scatter3d": [
           {
            "line": {
             "colorbar": {
              "outlinewidth": 0,
              "ticks": ""
             }
            },
            "marker": {
             "colorbar": {
              "outlinewidth": 0,
              "ticks": ""
             }
            },
            "type": "scatter3d"
           }
          ],
          "scattercarpet": [
           {
            "marker": {
             "colorbar": {
              "outlinewidth": 0,
              "ticks": ""
             }
            },
            "type": "scattercarpet"
           }
          ],
          "scattergeo": [
           {
            "marker": {
             "colorbar": {
              "outlinewidth": 0,
              "ticks": ""
             }
            },
            "type": "scattergeo"
           }
          ],
          "scattergl": [
           {
            "marker": {
             "colorbar": {
              "outlinewidth": 0,
              "ticks": ""
             }
            },
            "type": "scattergl"
           }
          ],
          "scattermapbox": [
           {
            "marker": {
             "colorbar": {
              "outlinewidth": 0,
              "ticks": ""
             }
            },
            "type": "scattermapbox"
           }
          ],
          "scatterpolar": [
           {
            "marker": {
             "colorbar": {
              "outlinewidth": 0,
              "ticks": ""
             }
            },
            "type": "scatterpolar"
           }
          ],
          "scatterpolargl": [
           {
            "marker": {
             "colorbar": {
              "outlinewidth": 0,
              "ticks": ""
             }
            },
            "type": "scatterpolargl"
           }
          ],
          "scatterternary": [
           {
            "marker": {
             "colorbar": {
              "outlinewidth": 0,
              "ticks": ""
             }
            },
            "type": "scatterternary"
           }
          ],
          "surface": [
           {
            "colorbar": {
             "outlinewidth": 0,
             "ticks": ""
            },
            "colorscale": [
             [
              0,
              "#0d0887"
             ],
             [
              0.1111111111111111,
              "#46039f"
             ],
             [
              0.2222222222222222,
              "#7201a8"
             ],
             [
              0.3333333333333333,
              "#9c179e"
             ],
             [
              0.4444444444444444,
              "#bd3786"
             ],
             [
              0.5555555555555556,
              "#d8576b"
             ],
             [
              0.6666666666666666,
              "#ed7953"
             ],
             [
              0.7777777777777778,
              "#fb9f3a"
             ],
             [
              0.8888888888888888,
              "#fdca26"
             ],
             [
              1,
              "#f0f921"
             ]
            ],
            "type": "surface"
           }
          ],
          "table": [
           {
            "cells": {
             "fill": {
              "color": "#EBF0F8"
             },
             "line": {
              "color": "white"
             }
            },
            "header": {
             "fill": {
              "color": "#C8D4E3"
             },
             "line": {
              "color": "white"
             }
            },
            "type": "table"
           }
          ]
         },
         "layout": {
          "annotationdefaults": {
           "arrowcolor": "#2a3f5f",
           "arrowhead": 0,
           "arrowwidth": 1
          },
          "colorscale": {
           "diverging": [
            [
             0,
             "#8e0152"
            ],
            [
             0.1,
             "#c51b7d"
            ],
            [
             0.2,
             "#de77ae"
            ],
            [
             0.3,
             "#f1b6da"
            ],
            [
             0.4,
             "#fde0ef"
            ],
            [
             0.5,
             "#f7f7f7"
            ],
            [
             0.6,
             "#e6f5d0"
            ],
            [
             0.7,
             "#b8e186"
            ],
            [
             0.8,
             "#7fbc41"
            ],
            [
             0.9,
             "#4d9221"
            ],
            [
             1,
             "#276419"
            ]
           ],
           "sequential": [
            [
             0,
             "#0d0887"
            ],
            [
             0.1111111111111111,
             "#46039f"
            ],
            [
             0.2222222222222222,
             "#7201a8"
            ],
            [
             0.3333333333333333,
             "#9c179e"
            ],
            [
             0.4444444444444444,
             "#bd3786"
            ],
            [
             0.5555555555555556,
             "#d8576b"
            ],
            [
             0.6666666666666666,
             "#ed7953"
            ],
            [
             0.7777777777777778,
             "#fb9f3a"
            ],
            [
             0.8888888888888888,
             "#fdca26"
            ],
            [
             1,
             "#f0f921"
            ]
           ],
           "sequentialminus": [
            [
             0,
             "#0d0887"
            ],
            [
             0.1111111111111111,
             "#46039f"
            ],
            [
             0.2222222222222222,
             "#7201a8"
            ],
            [
             0.3333333333333333,
             "#9c179e"
            ],
            [
             0.4444444444444444,
             "#bd3786"
            ],
            [
             0.5555555555555556,
             "#d8576b"
            ],
            [
             0.6666666666666666,
             "#ed7953"
            ],
            [
             0.7777777777777778,
             "#fb9f3a"
            ],
            [
             0.8888888888888888,
             "#fdca26"
            ],
            [
             1,
             "#f0f921"
            ]
           ]
          },
          "colorway": [
           "#636efa",
           "#EF553B",
           "#00cc96",
           "#ab63fa",
           "#FFA15A",
           "#19d3f3",
           "#FF6692",
           "#B6E880",
           "#FF97FF",
           "#FECB52"
          ],
          "font": {
           "color": "#2a3f5f"
          },
          "geo": {
           "bgcolor": "white",
           "lakecolor": "white",
           "landcolor": "#E5ECF6",
           "showlakes": true,
           "showland": true,
           "subunitcolor": "white"
          },
          "hoverlabel": {
           "align": "left"
          },
          "hovermode": "closest",
          "mapbox": {
           "style": "light"
          },
          "paper_bgcolor": "white",
          "plot_bgcolor": "#E5ECF6",
          "polar": {
           "angularaxis": {
            "gridcolor": "white",
            "linecolor": "white",
            "ticks": ""
           },
           "bgcolor": "#E5ECF6",
           "radialaxis": {
            "gridcolor": "white",
            "linecolor": "white",
            "ticks": ""
           }
          },
          "scene": {
           "xaxis": {
            "backgroundcolor": "#E5ECF6",
            "gridcolor": "white",
            "gridwidth": 2,
            "linecolor": "white",
            "showbackground": true,
            "ticks": "",
            "zerolinecolor": "white"
           },
           "yaxis": {
            "backgroundcolor": "#E5ECF6",
            "gridcolor": "white",
            "gridwidth": 2,
            "linecolor": "white",
            "showbackground": true,
            "ticks": "",
            "zerolinecolor": "white"
           },
           "zaxis": {
            "backgroundcolor": "#E5ECF6",
            "gridcolor": "white",
            "gridwidth": 2,
            "linecolor": "white",
            "showbackground": true,
            "ticks": "",
            "zerolinecolor": "white"
           }
          },
          "shapedefaults": {
           "line": {
            "color": "#2a3f5f"
           }
          },
          "ternary": {
           "aaxis": {
            "gridcolor": "white",
            "linecolor": "white",
            "ticks": ""
           },
           "baxis": {
            "gridcolor": "white",
            "linecolor": "white",
            "ticks": ""
           },
           "bgcolor": "#E5ECF6",
           "caxis": {
            "gridcolor": "white",
            "linecolor": "white",
            "ticks": ""
           }
          },
          "title": {
           "x": 0.05
          },
          "xaxis": {
           "automargin": true,
           "gridcolor": "white",
           "linecolor": "white",
           "ticks": "",
           "zerolinecolor": "white",
           "zerolinewidth": 2
          },
          "yaxis": {
           "automargin": true,
           "gridcolor": "white",
           "linecolor": "white",
           "ticks": "",
           "zerolinecolor": "white",
           "zerolinewidth": 2
          }
         }
        },
        "title": {
         "text": "2017 Handgun Background Checks Per State<br>(Hover for breakdown)"
        }
       }
      },
      "text/html": [
       "<div>\n",
       "        \n",
       "        \n",
       "            <div id=\"b97fc24f-cf8f-4d66-a601-158ecacc6b2a\" class=\"plotly-graph-div\" style=\"height:525px; width:100%;\"></div>\n",
       "            <script type=\"text/javascript\">\n",
       "                require([\"plotly\"], function(Plotly) {\n",
       "                    window.PLOTLYENV=window.PLOTLYENV || {};\n",
       "                    \n",
       "                if (document.getElementById(\"b97fc24f-cf8f-4d66-a601-158ecacc6b2a\")) {\n",
       "                    Plotly.newPlot(\n",
       "                        'b97fc24f-cf8f-4d66-a601-158ecacc6b2a',\n",
       "                        [{\"autocolorscale\": false, \"colorbar\": {\"title\": {\"text\": \"Hundreds of Thousands\"}}, \"colorscale\": [[0.0, \"rgb(255,245,240)\"], [0.125, \"rgb(254,224,210)\"], [0.25, \"rgb(252,187,161)\"], [0.375, \"rgb(252,146,114)\"], [0.5, \"rgb(251,106,74)\"], [0.625, \"rgb(239,59,44)\"], [0.75, \"rgb(203,24,29)\"], [0.875, \"rgb(165,15,21)\"], [1.0, \"rgb(103,0,13)\"]], \"locationmode\": \"USA-states\", \"locations\": [\"AL\", \"AK\", \"AZ\", \"AR\", \"CA\", \"CO\", \"CT\", \"DE\", \"DC\", \"FL\", \"GA\", \"nan\", \"HI\", \"ID\", \"IL\", \"IN\", \"IA\", \"KS\", \"KY\", \"LA\", \"ME\", \"nan\", \"MD\", \"MA\", \"MI\", \"MN\", \"MS\", \"MO\", \"MT\", \"NE\", \"NV\", \"NH\", \"NJ\", \"NM\", \"NY\", \"NC\", \"ND\", \"OH\", \"OK\", \"OR\", \"PA\", \"nan\", \"RI\", \"SC\", \"SD\", \"TN\", \"TX\", \"UT\", \"VT\", \"nan\", \"VA\", \"WA\", \"WV\", \"WI\", \"WY\"], \"marker\": {\"line\": {\"color\": \"black\"}}, \"text\": [\"Alabama<br>Total Handgun Background Checks 201797751.0<br>Population 4,874,747<br>Populations Rank 24.0\", \"Alaska<br>Total Handgun Background Checks 201734556.0<br>Population 739,795<br>Populations Rank 48.0\", \"Arizona<br>Total Handgun Background Checks 2017153522.0<br>Population 7,016,270<br>Populations Rank 14.0\", \"Arkansas<br>Total Handgun Background Checks 201772100.0<br>Population 3,004,279<br>Populations Rank 32.0\", \"California<br>Total Handgun Background Checks 2017512465.0<br>Population 39,536,653<br>Populations Rank 1.0\", \"Colorado<br>Total Handgun Background Checks 2017229708.0<br>Population 5,607,154<br>Populations Rank 21.0\", \"Connecticut<br>Total Handgun Background Checks 201771853.0<br>Population 3,588,184<br>Populations Rank 29.0\", \"Delaware<br>Total Handgun Background Checks 201722308.0<br>Population 961,939<br>Populations Rank 45.0\", \"District of Columbia<br>Total Handgun Background Checks 2017756.0<br>Population nan<br>Populations Rank nan\", \"Florida<br>Total Handgun Background Checks 2017638938.0<br>Population 20,984,400<br>Populations Rank 3.0\", \"Georgia<br>Total Handgun Background Checks 2017172447.0<br>Population 10,429,379<br>Populations Rank 8.0\", \"Guam<br>Total Handgun Background Checks 20171041.0<br>Population nan<br>Populations Rank nan\", \"Hawaii<br>Total Handgun Background Checks 20170.0<br>Population 1,427,538<br>Populations Rank 40.0\", \"Idaho<br>Total Handgun Background Checks 201744939.0<br>Population 1,716,943<br>Populations Rank 39.0\", \"Illinois<br>Total Handgun Background Checks 2017282267.0<br>Population 12,802,023<br>Populations Rank 6.0\", \"Indiana<br>Total Handgun Background Checks 2017249127.0<br>Population 6,666,818<br>Populations Rank 17.0\", \"Iowa<br>Total Handgun Background Checks 20172376.0<br>Population 3,145,711<br>Populations Rank 30.0\", \"Kansas<br>Total Handgun Background Checks 201773959.0<br>Population 2,913,123<br>Populations Rank 35.0\", \"Kentucky<br>Total Handgun Background Checks 2017127240.0<br>Population 4,454,189<br>Populations Rank 26.0\", \"Louisiana<br>Total Handgun Background Checks 2017138975.0<br>Population 4,684,333<br>Populations Rank 25.0\", \"Maine<br>Total Handgun Background Checks 201740485.0<br>Population 1,335,907<br>Populations Rank 42.0\", \"Mariana Islands<br>Total Handgun Background Checks 2017108.0<br>Population nan<br>Populations Rank nan\", \"Maryland<br>Total Handgun Background Checks 201751873.0<br>Population 6,052,177<br>Populations Rank 19.0\", \"Massachusetts<br>Total Handgun Background Checks 201766966.0<br>Population 6,859,819<br>Populations Rank 15.0\", \"Michigan<br>Total Handgun Background Checks 2017141062.0<br>Population 9,962,311<br>Populations Rank 10.0\", \"Minnesota<br>Total Handgun Background Checks 201794383.0<br>Population 5,576,606<br>Populations Rank 22.0\", \"Mississippi<br>Total Handgun Background Checks 2017103312.0<br>Population 2,984,100<br>Populations Rank 34.0\", \"Missouri<br>Total Handgun Background Checks 2017252709.0<br>Population 6,113,532<br>Populations Rank 18.0\", \"Montana<br>Total Handgun Background Checks 201734444.0<br>Population 1,050,493<br>Populations Rank 44.0\", \"Nebraska<br>Total Handgun Background Checks 20171669.0<br>Population 1,920,076<br>Populations Rank 37.0\", \"Nevada<br>Total Handgun Background Checks 201757524.0<br>Population 2,998,039<br>Populations Rank 33.0\", \"New Hampshire<br>Total Handgun Background Checks 201762280.0<br>Population 1,342,795<br>Populations Rank 41.0\", \"New Jersey<br>Total Handgun Background Checks 201758989.0<br>Population 9,005,644<br>Populations Rank 11.0\", \"New Mexico<br>Total Handgun Background Checks 201770791.0<br>Population 2,088,070<br>Populations Rank 36.0\", \"New York<br>Total Handgun Background Checks 2017124253.0<br>Population 19,849,399<br>Populations Rank 4.0\", \"North Carolina<br>Total Handgun Background Checks 201718131.0<br>Population 10,273,419<br>Populations Rank 9.0\", \"North Dakota<br>Total Handgun Background Checks 201719693.0<br>Population 755,393<br>Populations Rank 47.0\", \"Ohio<br>Total Handgun Background Checks 2017332879.0<br>Population 11,658,609<br>Populations Rank 7.0\", \"Oklahoma<br>Total Handgun Background Checks 2017144736.0<br>Population 3,930,864<br>Populations Rank 28.0\", \"Oregon<br>Total Handgun Background Checks 2017168938.0<br>Population 4,142,776<br>Populations Rank 27.0\", \"Pennsylvania<br>Total Handgun Background Checks 2017566320.0<br>Population 12,805,537<br>Populations Rank 5.0\", \"Puerto Rico<br>Total Handgun Background Checks 201715298.0<br>Population nan<br>Populations Rank nan\", \"Rhode Island<br>Total Handgun Background Checks 201712959.0<br>Population 1,059,639<br>Populations Rank 43.0\", \"South Carolina<br>Total Handgun Background Checks 2017123035.0<br>Population 5,024,369<br>Populations Rank 23.0\", \"South Dakota<br>Total Handgun Background Checks 201731493.0<br>Population 869,666<br>Populations Rank 46.0\", \"Tennessee<br>Total Handgun Background Checks 2017303513.0<br>Population 6,715,984<br>Populations Rank 16.0\", \"Texas<br>Total Handgun Background Checks 2017577417.0<br>Population 28,304,596<br>Populations Rank 2.0\", \"Utah<br>Total Handgun Background Checks 201745085.0<br>Population 3,101,833<br>Populations Rank 31.0\", \"Vermont<br>Total Handgun Background Checks 201717599.0<br>Population 623,657<br>Populations Rank 49.0\", \"Virgin Islands<br>Total Handgun Background Checks 2017298.0<br>Population nan<br>Populations Rank nan\", \"Virginia<br>Total Handgun Background Checks 2017292199.0<br>Population 8,470,020<br>Populations Rank 12.0\", \"Washington<br>Total Handgun Background Checks 2017198632.0<br>Population 7,405,743<br>Populations Rank 13.0\", \"West Virginia<br>Total Handgun Background Checks 201779813.0<br>Population 1,815,857<br>Populations Rank 38.0\", \"Wisconsin<br>Total Handgun Background Checks 2017171610.0<br>Population 5,795,483<br>Populations Rank 20.0\", \"Wyoming<br>Total Handgun Background Checks 201720155.0<br>Population 579,315<br>Populations Rank 50.0\"], \"type\": \"choropleth\", \"z\": [97751.0, 34556.0, 153522.0, 72100.0, 512465.0, 229708.0, 71853.0, 22308.0, 756.0, 638938.0, 172447.0, 1041.0, 0.0, 44939.0, 282267.0, 249127.0, 2376.0, 73959.0, 127240.0, 138975.0, 40485.0, 108.0, 51873.0, 66966.0, 141062.0, 94383.0, 103312.0, 252709.0, 34444.0, 1669.0, 57524.0, 62280.0, 58989.0, 70791.0, 124253.0, 18131.0, 19693.0, 332879.0, 144736.0, 168938.0, 566320.0, 15298.0, 12959.0, 123035.0, 31493.0, 303513.0, 577417.0, 45085.0, 17599.0, 298.0, 292199.0, 198632.0, 79813.0, 171610.0, 20155.0]}],\n",
       "                        {\"geo\": {\"lakecolor\": \"rgb(255, 255, 255)\", \"projection\": {\"type\": \"albers usa\"}, \"scope\": \"usa\", \"showlakes\": true}, \"template\": {\"data\": {\"bar\": [{\"error_x\": {\"color\": \"#2a3f5f\"}, \"error_y\": {\"color\": \"#2a3f5f\"}, \"marker\": {\"line\": {\"color\": \"#E5ECF6\", \"width\": 0.5}}, \"type\": \"bar\"}], \"barpolar\": [{\"marker\": {\"line\": {\"color\": \"#E5ECF6\", \"width\": 0.5}}, \"type\": \"barpolar\"}], \"carpet\": [{\"aaxis\": {\"endlinecolor\": \"#2a3f5f\", \"gridcolor\": \"white\", \"linecolor\": \"white\", \"minorgridcolor\": \"white\", \"startlinecolor\": \"#2a3f5f\"}, \"baxis\": {\"endlinecolor\": \"#2a3f5f\", \"gridcolor\": \"white\", \"linecolor\": \"white\", \"minorgridcolor\": \"white\", \"startlinecolor\": \"#2a3f5f\"}, \"type\": \"carpet\"}], \"choropleth\": [{\"colorbar\": {\"outlinewidth\": 0, \"ticks\": \"\"}, \"type\": \"choropleth\"}], \"contour\": [{\"colorbar\": {\"outlinewidth\": 0, \"ticks\": \"\"}, \"colorscale\": [[0.0, \"#0d0887\"], [0.1111111111111111, \"#46039f\"], [0.2222222222222222, \"#7201a8\"], [0.3333333333333333, \"#9c179e\"], [0.4444444444444444, \"#bd3786\"], [0.5555555555555556, \"#d8576b\"], [0.6666666666666666, \"#ed7953\"], [0.7777777777777778, \"#fb9f3a\"], [0.8888888888888888, \"#fdca26\"], [1.0, \"#f0f921\"]], \"type\": \"contour\"}], \"contourcarpet\": [{\"colorbar\": {\"outlinewidth\": 0, \"ticks\": \"\"}, \"type\": \"contourcarpet\"}], \"heatmap\": [{\"colorbar\": {\"outlinewidth\": 0, \"ticks\": \"\"}, \"colorscale\": [[0.0, \"#0d0887\"], [0.1111111111111111, \"#46039f\"], [0.2222222222222222, \"#7201a8\"], [0.3333333333333333, \"#9c179e\"], [0.4444444444444444, \"#bd3786\"], [0.5555555555555556, \"#d8576b\"], [0.6666666666666666, \"#ed7953\"], [0.7777777777777778, \"#fb9f3a\"], [0.8888888888888888, \"#fdca26\"], [1.0, \"#f0f921\"]], \"type\": \"heatmap\"}], \"heatmapgl\": [{\"colorbar\": {\"outlinewidth\": 0, \"ticks\": \"\"}, \"colorscale\": [[0.0, \"#0d0887\"], [0.1111111111111111, \"#46039f\"], [0.2222222222222222, \"#7201a8\"], [0.3333333333333333, \"#9c179e\"], [0.4444444444444444, \"#bd3786\"], [0.5555555555555556, \"#d8576b\"], [0.6666666666666666, \"#ed7953\"], [0.7777777777777778, \"#fb9f3a\"], [0.8888888888888888, \"#fdca26\"], [1.0, \"#f0f921\"]], \"type\": \"heatmapgl\"}], \"histogram\": [{\"marker\": {\"colorbar\": {\"outlinewidth\": 0, \"ticks\": \"\"}}, \"type\": \"histogram\"}], \"histogram2d\": [{\"colorbar\": {\"outlinewidth\": 0, \"ticks\": \"\"}, \"colorscale\": [[0.0, \"#0d0887\"], [0.1111111111111111, \"#46039f\"], [0.2222222222222222, \"#7201a8\"], [0.3333333333333333, \"#9c179e\"], [0.4444444444444444, \"#bd3786\"], [0.5555555555555556, \"#d8576b\"], [0.6666666666666666, \"#ed7953\"], [0.7777777777777778, \"#fb9f3a\"], [0.8888888888888888, \"#fdca26\"], [1.0, \"#f0f921\"]], \"type\": \"histogram2d\"}], \"histogram2dcontour\": [{\"colorbar\": {\"outlinewidth\": 0, \"ticks\": \"\"}, \"colorscale\": [[0.0, \"#0d0887\"], [0.1111111111111111, \"#46039f\"], [0.2222222222222222, \"#7201a8\"], [0.3333333333333333, \"#9c179e\"], [0.4444444444444444, \"#bd3786\"], [0.5555555555555556, \"#d8576b\"], [0.6666666666666666, \"#ed7953\"], [0.7777777777777778, \"#fb9f3a\"], [0.8888888888888888, \"#fdca26\"], [1.0, \"#f0f921\"]], \"type\": \"histogram2dcontour\"}], \"mesh3d\": [{\"colorbar\": {\"outlinewidth\": 0, \"ticks\": \"\"}, \"type\": \"mesh3d\"}], \"parcoords\": [{\"line\": {\"colorbar\": {\"outlinewidth\": 0, \"ticks\": \"\"}}, \"type\": \"parcoords\"}], \"scatter\": [{\"marker\": {\"colorbar\": {\"outlinewidth\": 0, \"ticks\": \"\"}}, \"type\": \"scatter\"}], \"scatter3d\": [{\"line\": {\"colorbar\": {\"outlinewidth\": 0, \"ticks\": \"\"}}, \"marker\": {\"colorbar\": {\"outlinewidth\": 0, \"ticks\": \"\"}}, \"type\": \"scatter3d\"}], \"scattercarpet\": [{\"marker\": {\"colorbar\": {\"outlinewidth\": 0, \"ticks\": \"\"}}, \"type\": \"scattercarpet\"}], \"scattergeo\": [{\"marker\": {\"colorbar\": {\"outlinewidth\": 0, \"ticks\": \"\"}}, \"type\": \"scattergeo\"}], \"scattergl\": [{\"marker\": {\"colorbar\": {\"outlinewidth\": 0, \"ticks\": \"\"}}, \"type\": \"scattergl\"}], \"scattermapbox\": [{\"marker\": {\"colorbar\": {\"outlinewidth\": 0, \"ticks\": \"\"}}, \"type\": \"scattermapbox\"}], \"scatterpolar\": [{\"marker\": {\"colorbar\": {\"outlinewidth\": 0, \"ticks\": \"\"}}, \"type\": \"scatterpolar\"}], \"scatterpolargl\": [{\"marker\": {\"colorbar\": {\"outlinewidth\": 0, \"ticks\": \"\"}}, \"type\": \"scatterpolargl\"}], \"scatterternary\": [{\"marker\": {\"colorbar\": {\"outlinewidth\": 0, \"ticks\": \"\"}}, \"type\": \"scatterternary\"}], \"surface\": [{\"colorbar\": {\"outlinewidth\": 0, \"ticks\": \"\"}, \"colorscale\": [[0.0, \"#0d0887\"], [0.1111111111111111, \"#46039f\"], [0.2222222222222222, \"#7201a8\"], [0.3333333333333333, \"#9c179e\"], [0.4444444444444444, \"#bd3786\"], [0.5555555555555556, \"#d8576b\"], [0.6666666666666666, \"#ed7953\"], [0.7777777777777778, \"#fb9f3a\"], [0.8888888888888888, \"#fdca26\"], [1.0, \"#f0f921\"]], \"type\": \"surface\"}], \"table\": [{\"cells\": {\"fill\": {\"color\": \"#EBF0F8\"}, \"line\": {\"color\": \"white\"}}, \"header\": {\"fill\": {\"color\": \"#C8D4E3\"}, \"line\": {\"color\": \"white\"}}, \"type\": \"table\"}]}, \"layout\": {\"annotationdefaults\": {\"arrowcolor\": \"#2a3f5f\", \"arrowhead\": 0, \"arrowwidth\": 1}, \"colorscale\": {\"diverging\": [[0, \"#8e0152\"], [0.1, \"#c51b7d\"], [0.2, \"#de77ae\"], [0.3, \"#f1b6da\"], [0.4, \"#fde0ef\"], [0.5, \"#f7f7f7\"], [0.6, \"#e6f5d0\"], [0.7, \"#b8e186\"], [0.8, \"#7fbc41\"], [0.9, \"#4d9221\"], [1, \"#276419\"]], \"sequential\": [[0.0, \"#0d0887\"], [0.1111111111111111, \"#46039f\"], [0.2222222222222222, \"#7201a8\"], [0.3333333333333333, \"#9c179e\"], [0.4444444444444444, \"#bd3786\"], [0.5555555555555556, \"#d8576b\"], [0.6666666666666666, \"#ed7953\"], [0.7777777777777778, \"#fb9f3a\"], [0.8888888888888888, \"#fdca26\"], [1.0, \"#f0f921\"]], \"sequentialminus\": [[0.0, \"#0d0887\"], [0.1111111111111111, \"#46039f\"], [0.2222222222222222, \"#7201a8\"], [0.3333333333333333, \"#9c179e\"], [0.4444444444444444, \"#bd3786\"], [0.5555555555555556, \"#d8576b\"], [0.6666666666666666, \"#ed7953\"], [0.7777777777777778, \"#fb9f3a\"], [0.8888888888888888, \"#fdca26\"], [1.0, \"#f0f921\"]]}, \"colorway\": [\"#636efa\", \"#EF553B\", \"#00cc96\", \"#ab63fa\", \"#FFA15A\", \"#19d3f3\", \"#FF6692\", \"#B6E880\", \"#FF97FF\", \"#FECB52\"], \"font\": {\"color\": \"#2a3f5f\"}, \"geo\": {\"bgcolor\": \"white\", \"lakecolor\": \"white\", \"landcolor\": \"#E5ECF6\", \"showlakes\": true, \"showland\": true, \"subunitcolor\": \"white\"}, \"hoverlabel\": {\"align\": \"left\"}, \"hovermode\": \"closest\", \"mapbox\": {\"style\": \"light\"}, \"paper_bgcolor\": \"white\", \"plot_bgcolor\": \"#E5ECF6\", \"polar\": {\"angularaxis\": {\"gridcolor\": \"white\", \"linecolor\": \"white\", \"ticks\": \"\"}, \"bgcolor\": \"#E5ECF6\", \"radialaxis\": {\"gridcolor\": \"white\", \"linecolor\": \"white\", \"ticks\": \"\"}}, \"scene\": {\"xaxis\": {\"backgroundcolor\": \"#E5ECF6\", \"gridcolor\": \"white\", \"gridwidth\": 2, \"linecolor\": \"white\", \"showbackground\": true, \"ticks\": \"\", \"zerolinecolor\": \"white\"}, \"yaxis\": {\"backgroundcolor\": \"#E5ECF6\", \"gridcolor\": \"white\", \"gridwidth\": 2, \"linecolor\": \"white\", \"showbackground\": true, \"ticks\": \"\", \"zerolinecolor\": \"white\"}, \"zaxis\": {\"backgroundcolor\": \"#E5ECF6\", \"gridcolor\": \"white\", \"gridwidth\": 2, \"linecolor\": \"white\", \"showbackground\": true, \"ticks\": \"\", \"zerolinecolor\": \"white\"}}, \"shapedefaults\": {\"line\": {\"color\": \"#2a3f5f\"}}, \"ternary\": {\"aaxis\": {\"gridcolor\": \"white\", \"linecolor\": \"white\", \"ticks\": \"\"}, \"baxis\": {\"gridcolor\": \"white\", \"linecolor\": \"white\", \"ticks\": \"\"}, \"bgcolor\": \"#E5ECF6\", \"caxis\": {\"gridcolor\": \"white\", \"linecolor\": \"white\", \"ticks\": \"\"}}, \"title\": {\"x\": 0.05}, \"xaxis\": {\"automargin\": true, \"gridcolor\": \"white\", \"linecolor\": \"white\", \"ticks\": \"\", \"zerolinecolor\": \"white\", \"zerolinewidth\": 2}, \"yaxis\": {\"automargin\": true, \"gridcolor\": \"white\", \"linecolor\": \"white\", \"ticks\": \"\", \"zerolinecolor\": \"white\", \"zerolinewidth\": 2}}}, \"title\": {\"text\": \"2017 Handgun Background Checks Per State<br>(Hover for breakdown)\"}},\n",
       "                        {\"responsive\": true}\n",
       "                    ).then(function(){\n",
       "                            \n",
       "var gd = document.getElementById('b97fc24f-cf8f-4d66-a601-158ecacc6b2a');\n",
       "var x = new MutationObserver(function (mutations, observer) {{\n",
       "        var display = window.getComputedStyle(gd).display;\n",
       "        if (!display || display === 'none') {{\n",
       "            console.log([gd, 'removed!']);\n",
       "            Plotly.purge(gd);\n",
       "            observer.disconnect();\n",
       "        }}\n",
       "}});\n",
       "\n",
       "// Listen for the removal of the full notebook cells\n",
       "var notebookContainer = gd.closest('#notebook-container');\n",
       "if (notebookContainer) {{\n",
       "    x.observe(notebookContainer, {childList: true});\n",
       "}}\n",
       "\n",
       "// Listen for the clearing of the current output cell\n",
       "var outputEl = gd.closest('.output');\n",
       "if (outputEl) {{\n",
       "    x.observe(outputEl, {childList: true});\n",
       "}}\n",
       "\n",
       "                        })\n",
       "                };\n",
       "                });\n",
       "            </script>\n",
       "        </div>"
      ]
     },
     "metadata": {},
     "output_type": "display_data"
    }
   ],
   "source": [
    "for col in df.columns:\n",
    "    df[col] = df[col].astype(str)\n",
    "\n",
    "df['text'] = df['state'] + '<br>' + \\\n",
    "    'Total Handgun Background Checks 2017' + df['handgun'] + '<br>' + \\\n",
    "    'Population ' + df['population'] + '<br>' + \\\n",
    "    'Populations Rank ' + df['pop_rank']\n",
    "    \n",
    "plt = go.Figure(data=go.Choropleth(\n",
    "    #state digraph = location code\n",
    "    locations=df['code'],\n",
    "    z=df['handgun'].astype(float),\n",
    "    locationmode='USA-states',\n",
    "    colorscale='Reds',\n",
    "    autocolorscale=False,\n",
    "    text=df['text'], # hover text\n",
    "    marker_line_color='black', # line markers between states\n",
    "    colorbar_title=\"Hundreds of Thousands\"\n",
    "))\n",
    "\n",
    "plt.update_layout(\n",
    "    title_text='2017 Handgun Background Checks Per State<br>(Hover for breakdown)',\n",
    "    geo = dict(\n",
    "        scope='usa',\n",
    "        projection=go.layout.geo.Projection(type = 'albers usa'),\n",
    "        showlakes=True, # lakes\n",
    "        lakecolor='rgb(255, 255, 255)'),\n",
    ")\n",
    "#plt.savefig('output/handguns2017.png', bbox_inches=\"tight\")\n",
    "plt.show()"
   ]
  },
  {
   "cell_type": "code",
   "execution_count": 90,
   "metadata": {},
   "outputs": [
    {
     "data": {
      "application/vnd.plotly.v1+json": {
       "config": {
        "plotlyServerURL": "https://plot.ly"
       },
       "data": [
        {
         "autocolorscale": false,
         "colorbar": {
          "title": {
           "text": "Hundreds of Thousands"
          }
         },
         "colorscale": [
          [
           0,
           "rgb(255,245,240)"
          ],
          [
           0.125,
           "rgb(254,224,210)"
          ],
          [
           0.25,
           "rgb(252,187,161)"
          ],
          [
           0.375,
           "rgb(252,146,114)"
          ],
          [
           0.5,
           "rgb(251,106,74)"
          ],
          [
           0.625,
           "rgb(239,59,44)"
          ],
          [
           0.75,
           "rgb(203,24,29)"
          ],
          [
           0.875,
           "rgb(165,15,21)"
          ],
          [
           1,
           "rgb(103,0,13)"
          ]
         ],
         "locationmode": "USA-states",
         "locations": [
          "AL",
          "AK",
          "AZ",
          "AR",
          "CA",
          "CO",
          "CT",
          "DE",
          "DC",
          "FL",
          "GA",
          "nan",
          "HI",
          "ID",
          "IL",
          "IN",
          "IA",
          "KS",
          "KY",
          "LA",
          "ME",
          "nan",
          "MD",
          "MA",
          "MI",
          "MN",
          "MS",
          "MO",
          "MT",
          "NE",
          "NV",
          "NH",
          "NJ",
          "NM",
          "NY",
          "NC",
          "ND",
          "OH",
          "OK",
          "OR",
          "PA",
          "nan",
          "RI",
          "SC",
          "SD",
          "TN",
          "TX",
          "UT",
          "VT",
          "nan",
          "VA",
          "WA",
          "WV",
          "WI",
          "WY"
         ],
         "marker": {
          "line": {
           "color": "black"
          }
         },
         "text": [
          "Alabama<br>Total Long Gun Background Checks 201786210.0<br>Population 4,874,747<br>Populations Rank 24.0",
          "Alaska<br>Total Long Gun Background Checks 201732648.0<br>Population 739,795<br>Populations Rank 48.0",
          "Arizona<br>Total Long Gun Background Checks 201799248.0<br>Population 7,016,270<br>Populations Rank 14.0",
          "Arkansas<br>Total Long Gun Background Checks 201776765.0<br>Population 3,004,279<br>Populations Rank 32.0",
          "California<br>Total Long Gun Background Checks 2017318133.0<br>Population 39,536,653<br>Populations Rank 1.0",
          "Colorado<br>Total Long Gun Background Checks 2017166994.0<br>Population 5,607,154<br>Populations Rank 21.0",
          "Connecticut<br>Total Long Gun Background Checks 201725866.0<br>Population 3,588,184<br>Populations Rank 29.0",
          "Delaware<br>Total Long Gun Background Checks 201718415.0<br>Population 961,939<br>Populations Rank 45.0",
          "District of Columbia<br>Total Long Gun Background Checks 201745.0<br>Population nan<br>Populations Rank nan",
          "Florida<br>Total Long Gun Background Checks 2017278618.0<br>Population 20,984,400<br>Populations Rank 3.0",
          "Georgia<br>Total Long Gun Background Checks 2017113882.0<br>Population 10,429,379<br>Populations Rank 8.0",
          "Guam<br>Total Long Gun Background Checks 2017566.0<br>Population nan<br>Populations Rank nan",
          "Hawaii<br>Total Long Gun Background Checks 20170.0<br>Population 1,427,538<br>Populations Rank 40.0",
          "Idaho<br>Total Long Gun Background Checks 201755018.0<br>Population 1,716,943<br>Populations Rank 39.0",
          "Illinois<br>Total Long Gun Background Checks 2017142550.0<br>Population 12,802,023<br>Populations Rank 6.0",
          "Indiana<br>Total Long Gun Background Checks 2017156718.0<br>Population 6,666,818<br>Populations Rank 17.0",
          "Iowa<br>Total Long Gun Background Checks 201732328.0<br>Population 3,145,711<br>Populations Rank 30.0",
          "Kansas<br>Total Long Gun Background Checks 201766850.0<br>Population 2,913,123<br>Populations Rank 35.0",
          "Kentucky<br>Total Long Gun Background Checks 201799223.0<br>Population 4,454,189<br>Populations Rank 26.0",
          "Louisiana<br>Total Long Gun Background Checks 2017118492.0<br>Population 4,684,333<br>Populations Rank 25.0",
          "Maine<br>Total Long Gun Background Checks 201739720.0<br>Population 1,335,907<br>Populations Rank 42.0",
          "Mariana Islands<br>Total Long Gun Background Checks 201735.0<br>Population nan<br>Populations Rank nan",
          "Maryland<br>Total Long Gun Background Checks 201766023.0<br>Population 6,052,177<br>Populations Rank 19.0",
          "Massachusetts<br>Total Long Gun Background Checks 201734448.0<br>Population 6,859,819<br>Populations Rank 15.0",
          "Michigan<br>Total Long Gun Background Checks 2017125413.0<br>Population 9,962,311<br>Populations Rank 10.0",
          "Minnesota<br>Total Long Gun Background Checks 2017125512.0<br>Population 5,576,606<br>Populations Rank 22.0",
          "Mississippi<br>Total Long Gun Background Checks 201784199.0<br>Population 2,984,100<br>Populations Rank 34.0",
          "Missouri<br>Total Long Gun Background Checks 2017196933.0<br>Population 6,113,532<br>Populations Rank 18.0",
          "Montana<br>Total Long Gun Background Checks 201751763.0<br>Population 1,050,493<br>Populations Rank 44.0",
          "Nebraska<br>Total Long Gun Background Checks 201724473.0<br>Population 1,920,076<br>Populations Rank 37.0",
          "Nevada<br>Total Long Gun Background Checks 201732903.0<br>Population 2,998,039<br>Populations Rank 33.0",
          "New Hampshire<br>Total Long Gun Background Checks 201736962.0<br>Population 1,342,795<br>Populations Rank 41.0",
          "New Jersey<br>Total Long Gun Background Checks 201742432.0<br>Population 9,005,644<br>Populations Rank 11.0",
          "New Mexico<br>Total Long Gun Background Checks 201753472.0<br>Population 2,088,070<br>Populations Rank 36.0",
          "New York<br>Total Long Gun Background Checks 2017181692.0<br>Population 19,849,399<br>Populations Rank 4.0",
          "North Carolina<br>Total Long Gun Background Checks 2017158597.0<br>Population 10,273,419<br>Populations Rank 9.0",
          "North Dakota<br>Total Long Gun Background Checks 201730691.0<br>Population 755,393<br>Populations Rank 47.0",
          "Ohio<br>Total Long Gun Background Checks 2017213760.0<br>Population 11,658,609<br>Populations Rank 7.0",
          "Oklahoma<br>Total Long Gun Background Checks 2017121829.0<br>Population 3,930,864<br>Populations Rank 28.0",
          "Oregon<br>Total Long Gun Background Checks 2017131568.0<br>Population 4,142,776<br>Populations Rank 27.0",
          "Pennsylvania<br>Total Long Gun Background Checks 2017168472.0<br>Population 12,805,537<br>Populations Rank 5.0",
          "Puerto Rico<br>Total Long Gun Background Checks 20172439.0<br>Population nan<br>Populations Rank nan",
          "Rhode Island<br>Total Long Gun Background Checks 20178154.0<br>Population 1,059,639<br>Populations Rank 43.0",
          "South Carolina<br>Total Long Gun Background Checks 201780375.0<br>Population 5,024,369<br>Populations Rank 23.0",
          "South Dakota<br>Total Long Gun Background Checks 201744147.0<br>Population 869,666<br>Populations Rank 46.0",
          "Tennessee<br>Total Long Gun Background Checks 2017187974.0<br>Population 6,715,984<br>Populations Rank 16.0",
          "Texas<br>Total Long Gun Background Checks 2017443142.0<br>Population 28,304,596<br>Populations Rank 2.0",
          "Utah<br>Total Long Gun Background Checks 201749570.0<br>Population 3,101,833<br>Populations Rank 31.0",
          "Vermont<br>Total Long Gun Background Checks 201717825.0<br>Population 623,657<br>Populations Rank 49.0",
          "Virgin Islands<br>Total Long Gun Background Checks 201746.0<br>Population nan<br>Populations Rank nan",
          "Virginia<br>Total Long Gun Background Checks 2017198004.0<br>Population 8,470,020<br>Populations Rank 12.0",
          "Washington<br>Total Long Gun Background Checks 2017138087.0<br>Population 7,405,743<br>Populations Rank 13.0",
          "West Virginia<br>Total Long Gun Background Checks 201776655.0<br>Population 1,815,857<br>Populations Rank 38.0",
          "Wisconsin<br>Total Long Gun Background Checks 2017155995.0<br>Population 5,795,483<br>Populations Rank 20.0",
          "Wyoming<br>Total Long Gun Background Checks 201722878.0<br>Population 579,315<br>Populations Rank 50.0"
         ],
         "type": "choropleth",
         "z": [
          86210,
          32648,
          99248,
          76765,
          318133,
          166994,
          25866,
          18415,
          45,
          278618,
          113882,
          566,
          0,
          55018,
          142550,
          156718,
          32328,
          66850,
          99223,
          118492,
          39720,
          35,
          66023,
          34448,
          125413,
          125512,
          84199,
          196933,
          51763,
          24473,
          32903,
          36962,
          42432,
          53472,
          181692,
          158597,
          30691,
          213760,
          121829,
          131568,
          168472,
          2439,
          8154,
          80375,
          44147,
          187974,
          443142,
          49570,
          17825,
          46,
          198004,
          138087,
          76655,
          155995,
          22878
         ]
        }
       ],
       "layout": {
        "geo": {
         "lakecolor": "rgb(255, 255, 255)",
         "projection": {
          "type": "albers usa"
         },
         "scope": "usa",
         "showlakes": true
        },
        "template": {
         "data": {
          "bar": [
           {
            "error_x": {
             "color": "#2a3f5f"
            },
            "error_y": {
             "color": "#2a3f5f"
            },
            "marker": {
             "line": {
              "color": "#E5ECF6",
              "width": 0.5
             }
            },
            "type": "bar"
           }
          ],
          "barpolar": [
           {
            "marker": {
             "line": {
              "color": "#E5ECF6",
              "width": 0.5
             }
            },
            "type": "barpolar"
           }
          ],
          "carpet": [
           {
            "aaxis": {
             "endlinecolor": "#2a3f5f",
             "gridcolor": "white",
             "linecolor": "white",
             "minorgridcolor": "white",
             "startlinecolor": "#2a3f5f"
            },
            "baxis": {
             "endlinecolor": "#2a3f5f",
             "gridcolor": "white",
             "linecolor": "white",
             "minorgridcolor": "white",
             "startlinecolor": "#2a3f5f"
            },
            "type": "carpet"
           }
          ],
          "choropleth": [
           {
            "colorbar": {
             "outlinewidth": 0,
             "ticks": ""
            },
            "type": "choropleth"
           }
          ],
          "contour": [
           {
            "colorbar": {
             "outlinewidth": 0,
             "ticks": ""
            },
            "colorscale": [
             [
              0,
              "#0d0887"
             ],
             [
              0.1111111111111111,
              "#46039f"
             ],
             [
              0.2222222222222222,
              "#7201a8"
             ],
             [
              0.3333333333333333,
              "#9c179e"
             ],
             [
              0.4444444444444444,
              "#bd3786"
             ],
             [
              0.5555555555555556,
              "#d8576b"
             ],
             [
              0.6666666666666666,
              "#ed7953"
             ],
             [
              0.7777777777777778,
              "#fb9f3a"
             ],
             [
              0.8888888888888888,
              "#fdca26"
             ],
             [
              1,
              "#f0f921"
             ]
            ],
            "type": "contour"
           }
          ],
          "contourcarpet": [
           {
            "colorbar": {
             "outlinewidth": 0,
             "ticks": ""
            },
            "type": "contourcarpet"
           }
          ],
          "heatmap": [
           {
            "colorbar": {
             "outlinewidth": 0,
             "ticks": ""
            },
            "colorscale": [
             [
              0,
              "#0d0887"
             ],
             [
              0.1111111111111111,
              "#46039f"
             ],
             [
              0.2222222222222222,
              "#7201a8"
             ],
             [
              0.3333333333333333,
              "#9c179e"
             ],
             [
              0.4444444444444444,
              "#bd3786"
             ],
             [
              0.5555555555555556,
              "#d8576b"
             ],
             [
              0.6666666666666666,
              "#ed7953"
             ],
             [
              0.7777777777777778,
              "#fb9f3a"
             ],
             [
              0.8888888888888888,
              "#fdca26"
             ],
             [
              1,
              "#f0f921"
             ]
            ],
            "type": "heatmap"
           }
          ],
          "heatmapgl": [
           {
            "colorbar": {
             "outlinewidth": 0,
             "ticks": ""
            },
            "colorscale": [
             [
              0,
              "#0d0887"
             ],
             [
              0.1111111111111111,
              "#46039f"
             ],
             [
              0.2222222222222222,
              "#7201a8"
             ],
             [
              0.3333333333333333,
              "#9c179e"
             ],
             [
              0.4444444444444444,
              "#bd3786"
             ],
             [
              0.5555555555555556,
              "#d8576b"
             ],
             [
              0.6666666666666666,
              "#ed7953"
             ],
             [
              0.7777777777777778,
              "#fb9f3a"
             ],
             [
              0.8888888888888888,
              "#fdca26"
             ],
             [
              1,
              "#f0f921"
             ]
            ],
            "type": "heatmapgl"
           }
          ],
          "histogram": [
           {
            "marker": {
             "colorbar": {
              "outlinewidth": 0,
              "ticks": ""
             }
            },
            "type": "histogram"
           }
          ],
          "histogram2d": [
           {
            "colorbar": {
             "outlinewidth": 0,
             "ticks": ""
            },
            "colorscale": [
             [
              0,
              "#0d0887"
             ],
             [
              0.1111111111111111,
              "#46039f"
             ],
             [
              0.2222222222222222,
              "#7201a8"
             ],
             [
              0.3333333333333333,
              "#9c179e"
             ],
             [
              0.4444444444444444,
              "#bd3786"
             ],
             [
              0.5555555555555556,
              "#d8576b"
             ],
             [
              0.6666666666666666,
              "#ed7953"
             ],
             [
              0.7777777777777778,
              "#fb9f3a"
             ],
             [
              0.8888888888888888,
              "#fdca26"
             ],
             [
              1,
              "#f0f921"
             ]
            ],
            "type": "histogram2d"
           }
          ],
          "histogram2dcontour": [
           {
            "colorbar": {
             "outlinewidth": 0,
             "ticks": ""
            },
            "colorscale": [
             [
              0,
              "#0d0887"
             ],
             [
              0.1111111111111111,
              "#46039f"
             ],
             [
              0.2222222222222222,
              "#7201a8"
             ],
             [
              0.3333333333333333,
              "#9c179e"
             ],
             [
              0.4444444444444444,
              "#bd3786"
             ],
             [
              0.5555555555555556,
              "#d8576b"
             ],
             [
              0.6666666666666666,
              "#ed7953"
             ],
             [
              0.7777777777777778,
              "#fb9f3a"
             ],
             [
              0.8888888888888888,
              "#fdca26"
             ],
             [
              1,
              "#f0f921"
             ]
            ],
            "type": "histogram2dcontour"
           }
          ],
          "mesh3d": [
           {
            "colorbar": {
             "outlinewidth": 0,
             "ticks": ""
            },
            "type": "mesh3d"
           }
          ],
          "parcoords": [
           {
            "line": {
             "colorbar": {
              "outlinewidth": 0,
              "ticks": ""
             }
            },
            "type": "parcoords"
           }
          ],
          "scatter": [
           {
            "marker": {
             "colorbar": {
              "outlinewidth": 0,
              "ticks": ""
             }
            },
            "type": "scatter"
           }
          ],
          "scatter3d": [
           {
            "line": {
             "colorbar": {
              "outlinewidth": 0,
              "ticks": ""
             }
            },
            "marker": {
             "colorbar": {
              "outlinewidth": 0,
              "ticks": ""
             }
            },
            "type": "scatter3d"
           }
          ],
          "scattercarpet": [
           {
            "marker": {
             "colorbar": {
              "outlinewidth": 0,
              "ticks": ""
             }
            },
            "type": "scattercarpet"
           }
          ],
          "scattergeo": [
           {
            "marker": {
             "colorbar": {
              "outlinewidth": 0,
              "ticks": ""
             }
            },
            "type": "scattergeo"
           }
          ],
          "scattergl": [
           {
            "marker": {
             "colorbar": {
              "outlinewidth": 0,
              "ticks": ""
             }
            },
            "type": "scattergl"
           }
          ],
          "scattermapbox": [
           {
            "marker": {
             "colorbar": {
              "outlinewidth": 0,
              "ticks": ""
             }
            },
            "type": "scattermapbox"
           }
          ],
          "scatterpolar": [
           {
            "marker": {
             "colorbar": {
              "outlinewidth": 0,
              "ticks": ""
             }
            },
            "type": "scatterpolar"
           }
          ],
          "scatterpolargl": [
           {
            "marker": {
             "colorbar": {
              "outlinewidth": 0,
              "ticks": ""
             }
            },
            "type": "scatterpolargl"
           }
          ],
          "scatterternary": [
           {
            "marker": {
             "colorbar": {
              "outlinewidth": 0,
              "ticks": ""
             }
            },
            "type": "scatterternary"
           }
          ],
          "surface": [
           {
            "colorbar": {
             "outlinewidth": 0,
             "ticks": ""
            },
            "colorscale": [
             [
              0,
              "#0d0887"
             ],
             [
              0.1111111111111111,
              "#46039f"
             ],
             [
              0.2222222222222222,
              "#7201a8"
             ],
             [
              0.3333333333333333,
              "#9c179e"
             ],
             [
              0.4444444444444444,
              "#bd3786"
             ],
             [
              0.5555555555555556,
              "#d8576b"
             ],
             [
              0.6666666666666666,
              "#ed7953"
             ],
             [
              0.7777777777777778,
              "#fb9f3a"
             ],
             [
              0.8888888888888888,
              "#fdca26"
             ],
             [
              1,
              "#f0f921"
             ]
            ],
            "type": "surface"
           }
          ],
          "table": [
           {
            "cells": {
             "fill": {
              "color": "#EBF0F8"
             },
             "line": {
              "color": "white"
             }
            },
            "header": {
             "fill": {
              "color": "#C8D4E3"
             },
             "line": {
              "color": "white"
             }
            },
            "type": "table"
           }
          ]
         },
         "layout": {
          "annotationdefaults": {
           "arrowcolor": "#2a3f5f",
           "arrowhead": 0,
           "arrowwidth": 1
          },
          "colorscale": {
           "diverging": [
            [
             0,
             "#8e0152"
            ],
            [
             0.1,
             "#c51b7d"
            ],
            [
             0.2,
             "#de77ae"
            ],
            [
             0.3,
             "#f1b6da"
            ],
            [
             0.4,
             "#fde0ef"
            ],
            [
             0.5,
             "#f7f7f7"
            ],
            [
             0.6,
             "#e6f5d0"
            ],
            [
             0.7,
             "#b8e186"
            ],
            [
             0.8,
             "#7fbc41"
            ],
            [
             0.9,
             "#4d9221"
            ],
            [
             1,
             "#276419"
            ]
           ],
           "sequential": [
            [
             0,
             "#0d0887"
            ],
            [
             0.1111111111111111,
             "#46039f"
            ],
            [
             0.2222222222222222,
             "#7201a8"
            ],
            [
             0.3333333333333333,
             "#9c179e"
            ],
            [
             0.4444444444444444,
             "#bd3786"
            ],
            [
             0.5555555555555556,
             "#d8576b"
            ],
            [
             0.6666666666666666,
             "#ed7953"
            ],
            [
             0.7777777777777778,
             "#fb9f3a"
            ],
            [
             0.8888888888888888,
             "#fdca26"
            ],
            [
             1,
             "#f0f921"
            ]
           ],
           "sequentialminus": [
            [
             0,
             "#0d0887"
            ],
            [
             0.1111111111111111,
             "#46039f"
            ],
            [
             0.2222222222222222,
             "#7201a8"
            ],
            [
             0.3333333333333333,
             "#9c179e"
            ],
            [
             0.4444444444444444,
             "#bd3786"
            ],
            [
             0.5555555555555556,
             "#d8576b"
            ],
            [
             0.6666666666666666,
             "#ed7953"
            ],
            [
             0.7777777777777778,
             "#fb9f3a"
            ],
            [
             0.8888888888888888,
             "#fdca26"
            ],
            [
             1,
             "#f0f921"
            ]
           ]
          },
          "colorway": [
           "#636efa",
           "#EF553B",
           "#00cc96",
           "#ab63fa",
           "#FFA15A",
           "#19d3f3",
           "#FF6692",
           "#B6E880",
           "#FF97FF",
           "#FECB52"
          ],
          "font": {
           "color": "#2a3f5f"
          },
          "geo": {
           "bgcolor": "white",
           "lakecolor": "white",
           "landcolor": "#E5ECF6",
           "showlakes": true,
           "showland": true,
           "subunitcolor": "white"
          },
          "hoverlabel": {
           "align": "left"
          },
          "hovermode": "closest",
          "mapbox": {
           "style": "light"
          },
          "paper_bgcolor": "white",
          "plot_bgcolor": "#E5ECF6",
          "polar": {
           "angularaxis": {
            "gridcolor": "white",
            "linecolor": "white",
            "ticks": ""
           },
           "bgcolor": "#E5ECF6",
           "radialaxis": {
            "gridcolor": "white",
            "linecolor": "white",
            "ticks": ""
           }
          },
          "scene": {
           "xaxis": {
            "backgroundcolor": "#E5ECF6",
            "gridcolor": "white",
            "gridwidth": 2,
            "linecolor": "white",
            "showbackground": true,
            "ticks": "",
            "zerolinecolor": "white"
           },
           "yaxis": {
            "backgroundcolor": "#E5ECF6",
            "gridcolor": "white",
            "gridwidth": 2,
            "linecolor": "white",
            "showbackground": true,
            "ticks": "",
            "zerolinecolor": "white"
           },
           "zaxis": {
            "backgroundcolor": "#E5ECF6",
            "gridcolor": "white",
            "gridwidth": 2,
            "linecolor": "white",
            "showbackground": true,
            "ticks": "",
            "zerolinecolor": "white"
           }
          },
          "shapedefaults": {
           "line": {
            "color": "#2a3f5f"
           }
          },
          "ternary": {
           "aaxis": {
            "gridcolor": "white",
            "linecolor": "white",
            "ticks": ""
           },
           "baxis": {
            "gridcolor": "white",
            "linecolor": "white",
            "ticks": ""
           },
           "bgcolor": "#E5ECF6",
           "caxis": {
            "gridcolor": "white",
            "linecolor": "white",
            "ticks": ""
           }
          },
          "title": {
           "x": 0.05
          },
          "xaxis": {
           "automargin": true,
           "gridcolor": "white",
           "linecolor": "white",
           "ticks": "",
           "zerolinecolor": "white",
           "zerolinewidth": 2
          },
          "yaxis": {
           "automargin": true,
           "gridcolor": "white",
           "linecolor": "white",
           "ticks": "",
           "zerolinecolor": "white",
           "zerolinewidth": 2
          }
         }
        },
        "title": {
         "text": "2017 Long Gun Background Checks Per State<br>(Hover for breakdown)"
        }
       }
      },
      "text/html": [
       "<div>\n",
       "        \n",
       "        \n",
       "            <div id=\"5951f6d1-9603-46b2-9719-0e8f33f53d36\" class=\"plotly-graph-div\" style=\"height:525px; width:100%;\"></div>\n",
       "            <script type=\"text/javascript\">\n",
       "                require([\"plotly\"], function(Plotly) {\n",
       "                    window.PLOTLYENV=window.PLOTLYENV || {};\n",
       "                    \n",
       "                if (document.getElementById(\"5951f6d1-9603-46b2-9719-0e8f33f53d36\")) {\n",
       "                    Plotly.newPlot(\n",
       "                        '5951f6d1-9603-46b2-9719-0e8f33f53d36',\n",
       "                        [{\"autocolorscale\": false, \"colorbar\": {\"title\": {\"text\": \"Hundreds of Thousands\"}}, \"colorscale\": [[0.0, \"rgb(255,245,240)\"], [0.125, \"rgb(254,224,210)\"], [0.25, \"rgb(252,187,161)\"], [0.375, \"rgb(252,146,114)\"], [0.5, \"rgb(251,106,74)\"], [0.625, \"rgb(239,59,44)\"], [0.75, \"rgb(203,24,29)\"], [0.875, \"rgb(165,15,21)\"], [1.0, \"rgb(103,0,13)\"]], \"locationmode\": \"USA-states\", \"locations\": [\"AL\", \"AK\", \"AZ\", \"AR\", \"CA\", \"CO\", \"CT\", \"DE\", \"DC\", \"FL\", \"GA\", \"nan\", \"HI\", \"ID\", \"IL\", \"IN\", \"IA\", \"KS\", \"KY\", \"LA\", \"ME\", \"nan\", \"MD\", \"MA\", \"MI\", \"MN\", \"MS\", \"MO\", \"MT\", \"NE\", \"NV\", \"NH\", \"NJ\", \"NM\", \"NY\", \"NC\", \"ND\", \"OH\", \"OK\", \"OR\", \"PA\", \"nan\", \"RI\", \"SC\", \"SD\", \"TN\", \"TX\", \"UT\", \"VT\", \"nan\", \"VA\", \"WA\", \"WV\", \"WI\", \"WY\"], \"marker\": {\"line\": {\"color\": \"black\"}}, \"text\": [\"Alabama<br>Total Long Gun Background Checks 201786210.0<br>Population 4,874,747<br>Populations Rank 24.0\", \"Alaska<br>Total Long Gun Background Checks 201732648.0<br>Population 739,795<br>Populations Rank 48.0\", \"Arizona<br>Total Long Gun Background Checks 201799248.0<br>Population 7,016,270<br>Populations Rank 14.0\", \"Arkansas<br>Total Long Gun Background Checks 201776765.0<br>Population 3,004,279<br>Populations Rank 32.0\", \"California<br>Total Long Gun Background Checks 2017318133.0<br>Population 39,536,653<br>Populations Rank 1.0\", \"Colorado<br>Total Long Gun Background Checks 2017166994.0<br>Population 5,607,154<br>Populations Rank 21.0\", \"Connecticut<br>Total Long Gun Background Checks 201725866.0<br>Population 3,588,184<br>Populations Rank 29.0\", \"Delaware<br>Total Long Gun Background Checks 201718415.0<br>Population 961,939<br>Populations Rank 45.0\", \"District of Columbia<br>Total Long Gun Background Checks 201745.0<br>Population nan<br>Populations Rank nan\", \"Florida<br>Total Long Gun Background Checks 2017278618.0<br>Population 20,984,400<br>Populations Rank 3.0\", \"Georgia<br>Total Long Gun Background Checks 2017113882.0<br>Population 10,429,379<br>Populations Rank 8.0\", \"Guam<br>Total Long Gun Background Checks 2017566.0<br>Population nan<br>Populations Rank nan\", \"Hawaii<br>Total Long Gun Background Checks 20170.0<br>Population 1,427,538<br>Populations Rank 40.0\", \"Idaho<br>Total Long Gun Background Checks 201755018.0<br>Population 1,716,943<br>Populations Rank 39.0\", \"Illinois<br>Total Long Gun Background Checks 2017142550.0<br>Population 12,802,023<br>Populations Rank 6.0\", \"Indiana<br>Total Long Gun Background Checks 2017156718.0<br>Population 6,666,818<br>Populations Rank 17.0\", \"Iowa<br>Total Long Gun Background Checks 201732328.0<br>Population 3,145,711<br>Populations Rank 30.0\", \"Kansas<br>Total Long Gun Background Checks 201766850.0<br>Population 2,913,123<br>Populations Rank 35.0\", \"Kentucky<br>Total Long Gun Background Checks 201799223.0<br>Population 4,454,189<br>Populations Rank 26.0\", \"Louisiana<br>Total Long Gun Background Checks 2017118492.0<br>Population 4,684,333<br>Populations Rank 25.0\", \"Maine<br>Total Long Gun Background Checks 201739720.0<br>Population 1,335,907<br>Populations Rank 42.0\", \"Mariana Islands<br>Total Long Gun Background Checks 201735.0<br>Population nan<br>Populations Rank nan\", \"Maryland<br>Total Long Gun Background Checks 201766023.0<br>Population 6,052,177<br>Populations Rank 19.0\", \"Massachusetts<br>Total Long Gun Background Checks 201734448.0<br>Population 6,859,819<br>Populations Rank 15.0\", \"Michigan<br>Total Long Gun Background Checks 2017125413.0<br>Population 9,962,311<br>Populations Rank 10.0\", \"Minnesota<br>Total Long Gun Background Checks 2017125512.0<br>Population 5,576,606<br>Populations Rank 22.0\", \"Mississippi<br>Total Long Gun Background Checks 201784199.0<br>Population 2,984,100<br>Populations Rank 34.0\", \"Missouri<br>Total Long Gun Background Checks 2017196933.0<br>Population 6,113,532<br>Populations Rank 18.0\", \"Montana<br>Total Long Gun Background Checks 201751763.0<br>Population 1,050,493<br>Populations Rank 44.0\", \"Nebraska<br>Total Long Gun Background Checks 201724473.0<br>Population 1,920,076<br>Populations Rank 37.0\", \"Nevada<br>Total Long Gun Background Checks 201732903.0<br>Population 2,998,039<br>Populations Rank 33.0\", \"New Hampshire<br>Total Long Gun Background Checks 201736962.0<br>Population 1,342,795<br>Populations Rank 41.0\", \"New Jersey<br>Total Long Gun Background Checks 201742432.0<br>Population 9,005,644<br>Populations Rank 11.0\", \"New Mexico<br>Total Long Gun Background Checks 201753472.0<br>Population 2,088,070<br>Populations Rank 36.0\", \"New York<br>Total Long Gun Background Checks 2017181692.0<br>Population 19,849,399<br>Populations Rank 4.0\", \"North Carolina<br>Total Long Gun Background Checks 2017158597.0<br>Population 10,273,419<br>Populations Rank 9.0\", \"North Dakota<br>Total Long Gun Background Checks 201730691.0<br>Population 755,393<br>Populations Rank 47.0\", \"Ohio<br>Total Long Gun Background Checks 2017213760.0<br>Population 11,658,609<br>Populations Rank 7.0\", \"Oklahoma<br>Total Long Gun Background Checks 2017121829.0<br>Population 3,930,864<br>Populations Rank 28.0\", \"Oregon<br>Total Long Gun Background Checks 2017131568.0<br>Population 4,142,776<br>Populations Rank 27.0\", \"Pennsylvania<br>Total Long Gun Background Checks 2017168472.0<br>Population 12,805,537<br>Populations Rank 5.0\", \"Puerto Rico<br>Total Long Gun Background Checks 20172439.0<br>Population nan<br>Populations Rank nan\", \"Rhode Island<br>Total Long Gun Background Checks 20178154.0<br>Population 1,059,639<br>Populations Rank 43.0\", \"South Carolina<br>Total Long Gun Background Checks 201780375.0<br>Population 5,024,369<br>Populations Rank 23.0\", \"South Dakota<br>Total Long Gun Background Checks 201744147.0<br>Population 869,666<br>Populations Rank 46.0\", \"Tennessee<br>Total Long Gun Background Checks 2017187974.0<br>Population 6,715,984<br>Populations Rank 16.0\", \"Texas<br>Total Long Gun Background Checks 2017443142.0<br>Population 28,304,596<br>Populations Rank 2.0\", \"Utah<br>Total Long Gun Background Checks 201749570.0<br>Population 3,101,833<br>Populations Rank 31.0\", \"Vermont<br>Total Long Gun Background Checks 201717825.0<br>Population 623,657<br>Populations Rank 49.0\", \"Virgin Islands<br>Total Long Gun Background Checks 201746.0<br>Population nan<br>Populations Rank nan\", \"Virginia<br>Total Long Gun Background Checks 2017198004.0<br>Population 8,470,020<br>Populations Rank 12.0\", \"Washington<br>Total Long Gun Background Checks 2017138087.0<br>Population 7,405,743<br>Populations Rank 13.0\", \"West Virginia<br>Total Long Gun Background Checks 201776655.0<br>Population 1,815,857<br>Populations Rank 38.0\", \"Wisconsin<br>Total Long Gun Background Checks 2017155995.0<br>Population 5,795,483<br>Populations Rank 20.0\", \"Wyoming<br>Total Long Gun Background Checks 201722878.0<br>Population 579,315<br>Populations Rank 50.0\"], \"type\": \"choropleth\", \"z\": [86210.0, 32648.0, 99248.0, 76765.0, 318133.0, 166994.0, 25866.0, 18415.0, 45.0, 278618.0, 113882.0, 566.0, 0.0, 55018.0, 142550.0, 156718.0, 32328.0, 66850.0, 99223.0, 118492.0, 39720.0, 35.0, 66023.0, 34448.0, 125413.0, 125512.0, 84199.0, 196933.0, 51763.0, 24473.0, 32903.0, 36962.0, 42432.0, 53472.0, 181692.0, 158597.0, 30691.0, 213760.0, 121829.0, 131568.0, 168472.0, 2439.0, 8154.0, 80375.0, 44147.0, 187974.0, 443142.0, 49570.0, 17825.0, 46.0, 198004.0, 138087.0, 76655.0, 155995.0, 22878.0]}],\n",
       "                        {\"geo\": {\"lakecolor\": \"rgb(255, 255, 255)\", \"projection\": {\"type\": \"albers usa\"}, \"scope\": \"usa\", \"showlakes\": true}, \"template\": {\"data\": {\"bar\": [{\"error_x\": {\"color\": \"#2a3f5f\"}, \"error_y\": {\"color\": \"#2a3f5f\"}, \"marker\": {\"line\": {\"color\": \"#E5ECF6\", \"width\": 0.5}}, \"type\": \"bar\"}], \"barpolar\": [{\"marker\": {\"line\": {\"color\": \"#E5ECF6\", \"width\": 0.5}}, \"type\": \"barpolar\"}], \"carpet\": [{\"aaxis\": {\"endlinecolor\": \"#2a3f5f\", \"gridcolor\": \"white\", \"linecolor\": \"white\", \"minorgridcolor\": \"white\", \"startlinecolor\": \"#2a3f5f\"}, \"baxis\": {\"endlinecolor\": \"#2a3f5f\", \"gridcolor\": \"white\", \"linecolor\": \"white\", \"minorgridcolor\": \"white\", \"startlinecolor\": \"#2a3f5f\"}, \"type\": \"carpet\"}], \"choropleth\": [{\"colorbar\": {\"outlinewidth\": 0, \"ticks\": \"\"}, \"type\": \"choropleth\"}], \"contour\": [{\"colorbar\": {\"outlinewidth\": 0, \"ticks\": \"\"}, \"colorscale\": [[0.0, \"#0d0887\"], [0.1111111111111111, \"#46039f\"], [0.2222222222222222, \"#7201a8\"], [0.3333333333333333, \"#9c179e\"], [0.4444444444444444, \"#bd3786\"], [0.5555555555555556, \"#d8576b\"], [0.6666666666666666, \"#ed7953\"], [0.7777777777777778, \"#fb9f3a\"], [0.8888888888888888, \"#fdca26\"], [1.0, \"#f0f921\"]], \"type\": \"contour\"}], \"contourcarpet\": [{\"colorbar\": {\"outlinewidth\": 0, \"ticks\": \"\"}, \"type\": \"contourcarpet\"}], \"heatmap\": [{\"colorbar\": {\"outlinewidth\": 0, \"ticks\": \"\"}, \"colorscale\": [[0.0, \"#0d0887\"], [0.1111111111111111, \"#46039f\"], [0.2222222222222222, \"#7201a8\"], [0.3333333333333333, \"#9c179e\"], [0.4444444444444444, \"#bd3786\"], [0.5555555555555556, \"#d8576b\"], [0.6666666666666666, \"#ed7953\"], [0.7777777777777778, \"#fb9f3a\"], [0.8888888888888888, \"#fdca26\"], [1.0, \"#f0f921\"]], \"type\": \"heatmap\"}], \"heatmapgl\": [{\"colorbar\": {\"outlinewidth\": 0, \"ticks\": \"\"}, \"colorscale\": [[0.0, \"#0d0887\"], [0.1111111111111111, \"#46039f\"], [0.2222222222222222, \"#7201a8\"], [0.3333333333333333, \"#9c179e\"], [0.4444444444444444, \"#bd3786\"], [0.5555555555555556, \"#d8576b\"], [0.6666666666666666, \"#ed7953\"], [0.7777777777777778, \"#fb9f3a\"], [0.8888888888888888, \"#fdca26\"], [1.0, \"#f0f921\"]], \"type\": \"heatmapgl\"}], \"histogram\": [{\"marker\": {\"colorbar\": {\"outlinewidth\": 0, \"ticks\": \"\"}}, \"type\": \"histogram\"}], \"histogram2d\": [{\"colorbar\": {\"outlinewidth\": 0, \"ticks\": \"\"}, \"colorscale\": [[0.0, \"#0d0887\"], [0.1111111111111111, \"#46039f\"], [0.2222222222222222, \"#7201a8\"], [0.3333333333333333, \"#9c179e\"], [0.4444444444444444, \"#bd3786\"], [0.5555555555555556, \"#d8576b\"], [0.6666666666666666, \"#ed7953\"], [0.7777777777777778, \"#fb9f3a\"], [0.8888888888888888, \"#fdca26\"], [1.0, \"#f0f921\"]], \"type\": \"histogram2d\"}], \"histogram2dcontour\": [{\"colorbar\": {\"outlinewidth\": 0, \"ticks\": \"\"}, \"colorscale\": [[0.0, \"#0d0887\"], [0.1111111111111111, \"#46039f\"], [0.2222222222222222, \"#7201a8\"], [0.3333333333333333, \"#9c179e\"], [0.4444444444444444, \"#bd3786\"], [0.5555555555555556, \"#d8576b\"], [0.6666666666666666, \"#ed7953\"], [0.7777777777777778, \"#fb9f3a\"], [0.8888888888888888, \"#fdca26\"], [1.0, \"#f0f921\"]], \"type\": \"histogram2dcontour\"}], \"mesh3d\": [{\"colorbar\": {\"outlinewidth\": 0, \"ticks\": \"\"}, \"type\": \"mesh3d\"}], \"parcoords\": [{\"line\": {\"colorbar\": {\"outlinewidth\": 0, \"ticks\": \"\"}}, \"type\": \"parcoords\"}], \"scatter\": [{\"marker\": {\"colorbar\": {\"outlinewidth\": 0, \"ticks\": \"\"}}, \"type\": \"scatter\"}], \"scatter3d\": [{\"line\": {\"colorbar\": {\"outlinewidth\": 0, \"ticks\": \"\"}}, \"marker\": {\"colorbar\": {\"outlinewidth\": 0, \"ticks\": \"\"}}, \"type\": \"scatter3d\"}], \"scattercarpet\": [{\"marker\": {\"colorbar\": {\"outlinewidth\": 0, \"ticks\": \"\"}}, \"type\": \"scattercarpet\"}], \"scattergeo\": [{\"marker\": {\"colorbar\": {\"outlinewidth\": 0, \"ticks\": \"\"}}, \"type\": \"scattergeo\"}], \"scattergl\": [{\"marker\": {\"colorbar\": {\"outlinewidth\": 0, \"ticks\": \"\"}}, \"type\": \"scattergl\"}], \"scattermapbox\": [{\"marker\": {\"colorbar\": {\"outlinewidth\": 0, \"ticks\": \"\"}}, \"type\": \"scattermapbox\"}], \"scatterpolar\": [{\"marker\": {\"colorbar\": {\"outlinewidth\": 0, \"ticks\": \"\"}}, \"type\": \"scatterpolar\"}], \"scatterpolargl\": [{\"marker\": {\"colorbar\": {\"outlinewidth\": 0, \"ticks\": \"\"}}, \"type\": \"scatterpolargl\"}], \"scatterternary\": [{\"marker\": {\"colorbar\": {\"outlinewidth\": 0, \"ticks\": \"\"}}, \"type\": \"scatterternary\"}], \"surface\": [{\"colorbar\": {\"outlinewidth\": 0, \"ticks\": \"\"}, \"colorscale\": [[0.0, \"#0d0887\"], [0.1111111111111111, \"#46039f\"], [0.2222222222222222, \"#7201a8\"], [0.3333333333333333, \"#9c179e\"], [0.4444444444444444, \"#bd3786\"], [0.5555555555555556, \"#d8576b\"], [0.6666666666666666, \"#ed7953\"], [0.7777777777777778, \"#fb9f3a\"], [0.8888888888888888, \"#fdca26\"], [1.0, \"#f0f921\"]], \"type\": \"surface\"}], \"table\": [{\"cells\": {\"fill\": {\"color\": \"#EBF0F8\"}, \"line\": {\"color\": \"white\"}}, \"header\": {\"fill\": {\"color\": \"#C8D4E3\"}, \"line\": {\"color\": \"white\"}}, \"type\": \"table\"}]}, \"layout\": {\"annotationdefaults\": {\"arrowcolor\": \"#2a3f5f\", \"arrowhead\": 0, \"arrowwidth\": 1}, \"colorscale\": {\"diverging\": [[0, \"#8e0152\"], [0.1, \"#c51b7d\"], [0.2, \"#de77ae\"], [0.3, \"#f1b6da\"], [0.4, \"#fde0ef\"], [0.5, \"#f7f7f7\"], [0.6, \"#e6f5d0\"], [0.7, \"#b8e186\"], [0.8, \"#7fbc41\"], [0.9, \"#4d9221\"], [1, \"#276419\"]], \"sequential\": [[0.0, \"#0d0887\"], [0.1111111111111111, \"#46039f\"], [0.2222222222222222, \"#7201a8\"], [0.3333333333333333, \"#9c179e\"], [0.4444444444444444, \"#bd3786\"], [0.5555555555555556, \"#d8576b\"], [0.6666666666666666, \"#ed7953\"], [0.7777777777777778, \"#fb9f3a\"], [0.8888888888888888, \"#fdca26\"], [1.0, \"#f0f921\"]], \"sequentialminus\": [[0.0, \"#0d0887\"], [0.1111111111111111, \"#46039f\"], [0.2222222222222222, \"#7201a8\"], [0.3333333333333333, \"#9c179e\"], [0.4444444444444444, \"#bd3786\"], [0.5555555555555556, \"#d8576b\"], [0.6666666666666666, \"#ed7953\"], [0.7777777777777778, \"#fb9f3a\"], [0.8888888888888888, \"#fdca26\"], [1.0, \"#f0f921\"]]}, \"colorway\": [\"#636efa\", \"#EF553B\", \"#00cc96\", \"#ab63fa\", \"#FFA15A\", \"#19d3f3\", \"#FF6692\", \"#B6E880\", \"#FF97FF\", \"#FECB52\"], \"font\": {\"color\": \"#2a3f5f\"}, \"geo\": {\"bgcolor\": \"white\", \"lakecolor\": \"white\", \"landcolor\": \"#E5ECF6\", \"showlakes\": true, \"showland\": true, \"subunitcolor\": \"white\"}, \"hoverlabel\": {\"align\": \"left\"}, \"hovermode\": \"closest\", \"mapbox\": {\"style\": \"light\"}, \"paper_bgcolor\": \"white\", \"plot_bgcolor\": \"#E5ECF6\", \"polar\": {\"angularaxis\": {\"gridcolor\": \"white\", \"linecolor\": \"white\", \"ticks\": \"\"}, \"bgcolor\": \"#E5ECF6\", \"radialaxis\": {\"gridcolor\": \"white\", \"linecolor\": \"white\", \"ticks\": \"\"}}, \"scene\": {\"xaxis\": {\"backgroundcolor\": \"#E5ECF6\", \"gridcolor\": \"white\", \"gridwidth\": 2, \"linecolor\": \"white\", \"showbackground\": true, \"ticks\": \"\", \"zerolinecolor\": \"white\"}, \"yaxis\": {\"backgroundcolor\": \"#E5ECF6\", \"gridcolor\": \"white\", \"gridwidth\": 2, \"linecolor\": \"white\", \"showbackground\": true, \"ticks\": \"\", \"zerolinecolor\": \"white\"}, \"zaxis\": {\"backgroundcolor\": \"#E5ECF6\", \"gridcolor\": \"white\", \"gridwidth\": 2, \"linecolor\": \"white\", \"showbackground\": true, \"ticks\": \"\", \"zerolinecolor\": \"white\"}}, \"shapedefaults\": {\"line\": {\"color\": \"#2a3f5f\"}}, \"ternary\": {\"aaxis\": {\"gridcolor\": \"white\", \"linecolor\": \"white\", \"ticks\": \"\"}, \"baxis\": {\"gridcolor\": \"white\", \"linecolor\": \"white\", \"ticks\": \"\"}, \"bgcolor\": \"#E5ECF6\", \"caxis\": {\"gridcolor\": \"white\", \"linecolor\": \"white\", \"ticks\": \"\"}}, \"title\": {\"x\": 0.05}, \"xaxis\": {\"automargin\": true, \"gridcolor\": \"white\", \"linecolor\": \"white\", \"ticks\": \"\", \"zerolinecolor\": \"white\", \"zerolinewidth\": 2}, \"yaxis\": {\"automargin\": true, \"gridcolor\": \"white\", \"linecolor\": \"white\", \"ticks\": \"\", \"zerolinecolor\": \"white\", \"zerolinewidth\": 2}}}, \"title\": {\"text\": \"2017 Long Gun Background Checks Per State<br>(Hover for breakdown)\"}},\n",
       "                        {\"responsive\": true}\n",
       "                    ).then(function(){\n",
       "                            \n",
       "var gd = document.getElementById('5951f6d1-9603-46b2-9719-0e8f33f53d36');\n",
       "var x = new MutationObserver(function (mutations, observer) {{\n",
       "        var display = window.getComputedStyle(gd).display;\n",
       "        if (!display || display === 'none') {{\n",
       "            console.log([gd, 'removed!']);\n",
       "            Plotly.purge(gd);\n",
       "            observer.disconnect();\n",
       "        }}\n",
       "}});\n",
       "\n",
       "// Listen for the removal of the full notebook cells\n",
       "var notebookContainer = gd.closest('#notebook-container');\n",
       "if (notebookContainer) {{\n",
       "    x.observe(notebookContainer, {childList: true});\n",
       "}}\n",
       "\n",
       "// Listen for the clearing of the current output cell\n",
       "var outputEl = gd.closest('.output');\n",
       "if (outputEl) {{\n",
       "    x.observe(outputEl, {childList: true});\n",
       "}}\n",
       "\n",
       "                        })\n",
       "                };\n",
       "                });\n",
       "            </script>\n",
       "        </div>"
      ]
     },
     "metadata": {},
     "output_type": "display_data"
    }
   ],
   "source": [
    "for col in df.columns:\n",
    "    df[col] = df[col].astype(str)\n",
    "\n",
    "df['text'] = df['state'] + '<br>' + \\\n",
    "    'Total Long Gun Background Checks 2017' + df['long_gun'] + '<br>' + \\\n",
    "    'Population ' + df['population'] + '<br>' + \\\n",
    "    'Populations Rank ' + df['pop_rank']\n",
    "    \n",
    "plt = go.Figure(data=go.Choropleth(\n",
    "    #state digraph = location code\n",
    "    locations=df['code'],\n",
    "    z=df['long_gun'].astype(float),\n",
    "    locationmode='USA-states',\n",
    "    colorscale='Reds',\n",
    "    autocolorscale=False,\n",
    "    text=df['text'], # hover text\n",
    "    marker_line_color='black', # line markers between states\n",
    "    colorbar_title=\"Hundreds of Thousands\"\n",
    "))\n",
    "\n",
    "plt.update_layout(\n",
    "    title_text='2017 Long Gun Background Checks Per State<br>(Hover for breakdown)',\n",
    "    geo = dict(\n",
    "        scope='usa',\n",
    "        projection=go.layout.geo.Projection(type = 'albers usa'),\n",
    "        showlakes=True, # lakes\n",
    "        lakecolor='rgb(255, 255, 255)'),\n",
    ")\n",
    "#plt.savefig('output/longguns2017.png', bbox_inches=\"tight\")\n",
    "#plt.write_image('output/longguns2017.png')\n",
    "plt.show()"
   ]
  },
  {
   "cell_type": "code",
   "execution_count": 91,
   "metadata": {
    "scrolled": true
   },
   "outputs": [
    {
     "data": {
      "application/vnd.plotly.v1+json": {
       "config": {
        "plotlyServerURL": "https://plot.ly"
       },
       "data": [
        {
         "autocolorscale": false,
         "colorbar": {
          "title": {
           "text": "Millions"
          }
         },
         "colorscale": [
          [
           0,
           "rgb(255,245,240)"
          ],
          [
           0.125,
           "rgb(254,224,210)"
          ],
          [
           0.25,
           "rgb(252,187,161)"
          ],
          [
           0.375,
           "rgb(252,146,114)"
          ],
          [
           0.5,
           "rgb(251,106,74)"
          ],
          [
           0.625,
           "rgb(239,59,44)"
          ],
          [
           0.75,
           "rgb(203,24,29)"
          ],
          [
           0.875,
           "rgb(165,15,21)"
          ],
          [
           1,
           "rgb(103,0,13)"
          ]
         ],
         "locationmode": "USA-states",
         "locations": [
          "AL",
          "AK",
          "AZ",
          "AR",
          "CA",
          "CO",
          "CT",
          "DE",
          "DC",
          "FL",
          "GA",
          "nan",
          "HI",
          "ID",
          "IL",
          "IN",
          "IA",
          "KS",
          "KY",
          "LA",
          "ME",
          "nan",
          "MD",
          "MA",
          "MI",
          "MN",
          "MS",
          "MO",
          "MT",
          "NE",
          "NV",
          "NH",
          "NJ",
          "NM",
          "NY",
          "NC",
          "ND",
          "OH",
          "OK",
          "OR",
          "PA",
          "nan",
          "RI",
          "SC",
          "SD",
          "TN",
          "TX",
          "UT",
          "VT",
          "nan",
          "VA",
          "WA",
          "WV",
          "WI",
          "WY"
         ],
         "marker": {
          "line": {
           "color": "black"
          }
         },
         "text": [
          "Alabama<br>Total Permits 2017253338.0<br>Population 4,874,747<br>Populations Rank 24.0",
          "Alaska<br>Total Permits 20172923.0<br>Population 739,795<br>Populations Rank 48.0",
          "Arizona<br>Total Permits 201781734.0<br>Population 7,016,270<br>Populations Rank 14.0",
          "Arkansas<br>Total Permits 201739473.0<br>Population 3,004,279<br>Populations Rank 32.0",
          "California<br>Total Permits 2017689851.0<br>Population 39,536,653<br>Populations Rank 1.0",
          "Colorado<br>Total Permits 201768665.0<br>Population 5,607,154<br>Populations Rank 21.0",
          "Connecticut<br>Total Permits 201777904.0<br>Population 3,588,184<br>Populations Rank 29.0",
          "Delaware<br>Total Permits 20175984.0<br>Population 961,939<br>Populations Rank 45.0",
          "District of Columbia<br>Total Permits 2017729.0<br>Population nan<br>Populations Rank nan",
          "Florida<br>Total Permits 2017236486.0<br>Population 20,984,400<br>Populations Rank 3.0",
          "Georgia<br>Total Permits 2017202407.0<br>Population 10,429,379<br>Populations Rank 8.0",
          "Guam<br>Total Permits 20170.0<br>Population nan<br>Populations Rank nan",
          "Hawaii<br>Total Permits 201712712.0<br>Population 1,427,538<br>Populations Rank 40.0",
          "Idaho<br>Total Permits 201765533.0<br>Population 1,716,943<br>Populations Rank 39.0",
          "Illinois<br>Total Permits 2017182719.0<br>Population 12,802,023<br>Populations Rank 6.0",
          "Indiana<br>Total Permits 2017389171.0<br>Population 6,666,818<br>Populations Rank 17.0",
          "Iowa<br>Total Permits 2017107424.0<br>Population 3,145,711<br>Populations Rank 30.0",
          "Kansas<br>Total Permits 201728391.0<br>Population 2,913,123<br>Populations Rank 35.0",
          "Kentucky<br>Total Permits 20174362693.0<br>Population 4,454,189<br>Populations Rank 26.0",
          "Louisiana<br>Total Permits 201728709.0<br>Population 4,684,333<br>Populations Rank 25.0",
          "Maine<br>Total Permits 20178119.0<br>Population 1,335,907<br>Populations Rank 42.0",
          "Mariana Islands<br>Total Permits 20170.0<br>Population nan<br>Populations Rank nan",
          "Maryland<br>Total Permits 201734365.0<br>Population 6,052,177<br>Populations Rank 19.0",
          "Massachusetts<br>Total Permits 201796467.0<br>Population 6,859,819<br>Populations Rank 15.0",
          "Michigan<br>Total Permits 2017232407.0<br>Population 9,962,311<br>Populations Rank 10.0",
          "Minnesota<br>Total Permits 2017443975.0<br>Population 5,576,606<br>Populations Rank 22.0",
          "Mississippi<br>Total Permits 201721615.0<br>Population 2,984,100<br>Populations Rank 34.0",
          "Missouri<br>Total Permits 201710144.0<br>Population 6,113,532<br>Populations Rank 18.0",
          "Montana<br>Total Permits 201717059.0<br>Population 1,050,493<br>Populations Rank 44.0",
          "Nebraska<br>Total Permits 201745865.0<br>Population 1,920,076<br>Populations Rank 37.0",
          "Nevada<br>Total Permits 201726831.0<br>Population 2,998,039<br>Populations Rank 33.0",
          "New Hampshire<br>Total Permits 201726602.0<br>Population 1,342,795<br>Populations Rank 41.0",
          "New Jersey<br>Total Permits 20170.0<br>Population 9,005,644<br>Populations Rank 11.0",
          "New Mexico<br>Total Permits 201713493.0<br>Population 2,088,070<br>Populations Rank 36.0",
          "New York<br>Total Permits 201734301.0<br>Population 19,849,399<br>Populations Rank 4.0",
          "North Carolina<br>Total Permits 2017299025.0<br>Population 10,273,419<br>Populations Rank 9.0",
          "North Dakota<br>Total Permits 201711712.0<br>Population 755,393<br>Populations Rank 47.0",
          "Ohio<br>Total Permits 2017141773.0<br>Population 11,658,609<br>Populations Rank 7.0",
          "Oklahoma<br>Total Permits 20170.0<br>Population 3,930,864<br>Populations Rank 28.0",
          "Oregon<br>Total Permits 201738968.0<br>Population 4,142,776<br>Populations Rank 27.0",
          "Pennsylvania<br>Total Permits 2017316614.0<br>Population 12,805,537<br>Populations Rank 5.0",
          "Puerto Rico<br>Total Permits 20170.0<br>Population nan<br>Populations Rank nan",
          "Rhode Island<br>Total Permits 20170.0<br>Population 1,059,639<br>Populations Rank 43.0",
          "South Carolina<br>Total Permits 2017148381.0<br>Population 5,024,369<br>Populations Rank 23.0",
          "South Dakota<br>Total Permits 201713580.0<br>Population 869,666<br>Populations Rank 46.0",
          "Tennessee<br>Total Permits 2017259782.0<br>Population 6,715,984<br>Populations Rank 16.0",
          "Texas<br>Total Permits 2017317766.0<br>Population 28,304,596<br>Populations Rank 2.0",
          "Utah<br>Total Permits 2017161939.0<br>Population 3,101,833<br>Populations Rank 31.0",
          "Vermont<br>Total Permits 20170.0<br>Population 623,657<br>Populations Rank 49.0",
          "Virgin Islands<br>Total Permits 2017856.0<br>Population nan<br>Populations Rank nan",
          "Virginia<br>Total Permits 201711835.0<br>Population 8,470,020<br>Populations Rank 12.0",
          "Washington<br>Total Permits 2017159260.0<br>Population 7,405,743<br>Populations Rank 13.0",
          "West Virginia<br>Total Permits 201725259.0<br>Population 1,815,857<br>Populations Rank 38.0",
          "Wisconsin<br>Total Permits 2017182395.0<br>Population 5,795,483<br>Populations Rank 20.0",
          "Wyoming<br>Total Permits 20174450.0<br>Population 579,315<br>Populations Rank 50.0"
         ],
         "type": "choropleth",
         "z": [
          253338,
          2923,
          81734,
          39473,
          689851,
          68665,
          77904,
          5984,
          729,
          236486,
          202407,
          0,
          12712,
          65533,
          182719,
          389171,
          107424,
          28391,
          4362693,
          28709,
          8119,
          0,
          34365,
          96467,
          232407,
          443975,
          21615,
          10144,
          17059,
          45865,
          26831,
          26602,
          0,
          13493,
          34301,
          299025,
          11712,
          141773,
          0,
          38968,
          316614,
          0,
          0,
          148381,
          13580,
          259782,
          317766,
          161939,
          0,
          856,
          11835,
          159260,
          25259,
          182395,
          4450
         ]
        }
       ],
       "layout": {
        "geo": {
         "lakecolor": "rgb(255, 255, 255)",
         "projection": {
          "type": "albers usa"
         },
         "scope": "usa",
         "showlakes": true
        },
        "template": {
         "data": {
          "bar": [
           {
            "error_x": {
             "color": "#2a3f5f"
            },
            "error_y": {
             "color": "#2a3f5f"
            },
            "marker": {
             "line": {
              "color": "#E5ECF6",
              "width": 0.5
             }
            },
            "type": "bar"
           }
          ],
          "barpolar": [
           {
            "marker": {
             "line": {
              "color": "#E5ECF6",
              "width": 0.5
             }
            },
            "type": "barpolar"
           }
          ],
          "carpet": [
           {
            "aaxis": {
             "endlinecolor": "#2a3f5f",
             "gridcolor": "white",
             "linecolor": "white",
             "minorgridcolor": "white",
             "startlinecolor": "#2a3f5f"
            },
            "baxis": {
             "endlinecolor": "#2a3f5f",
             "gridcolor": "white",
             "linecolor": "white",
             "minorgridcolor": "white",
             "startlinecolor": "#2a3f5f"
            },
            "type": "carpet"
           }
          ],
          "choropleth": [
           {
            "colorbar": {
             "outlinewidth": 0,
             "ticks": ""
            },
            "type": "choropleth"
           }
          ],
          "contour": [
           {
            "colorbar": {
             "outlinewidth": 0,
             "ticks": ""
            },
            "colorscale": [
             [
              0,
              "#0d0887"
             ],
             [
              0.1111111111111111,
              "#46039f"
             ],
             [
              0.2222222222222222,
              "#7201a8"
             ],
             [
              0.3333333333333333,
              "#9c179e"
             ],
             [
              0.4444444444444444,
              "#bd3786"
             ],
             [
              0.5555555555555556,
              "#d8576b"
             ],
             [
              0.6666666666666666,
              "#ed7953"
             ],
             [
              0.7777777777777778,
              "#fb9f3a"
             ],
             [
              0.8888888888888888,
              "#fdca26"
             ],
             [
              1,
              "#f0f921"
             ]
            ],
            "type": "contour"
           }
          ],
          "contourcarpet": [
           {
            "colorbar": {
             "outlinewidth": 0,
             "ticks": ""
            },
            "type": "contourcarpet"
           }
          ],
          "heatmap": [
           {
            "colorbar": {
             "outlinewidth": 0,
             "ticks": ""
            },
            "colorscale": [
             [
              0,
              "#0d0887"
             ],
             [
              0.1111111111111111,
              "#46039f"
             ],
             [
              0.2222222222222222,
              "#7201a8"
             ],
             [
              0.3333333333333333,
              "#9c179e"
             ],
             [
              0.4444444444444444,
              "#bd3786"
             ],
             [
              0.5555555555555556,
              "#d8576b"
             ],
             [
              0.6666666666666666,
              "#ed7953"
             ],
             [
              0.7777777777777778,
              "#fb9f3a"
             ],
             [
              0.8888888888888888,
              "#fdca26"
             ],
             [
              1,
              "#f0f921"
             ]
            ],
            "type": "heatmap"
           }
          ],
          "heatmapgl": [
           {
            "colorbar": {
             "outlinewidth": 0,
             "ticks": ""
            },
            "colorscale": [
             [
              0,
              "#0d0887"
             ],
             [
              0.1111111111111111,
              "#46039f"
             ],
             [
              0.2222222222222222,
              "#7201a8"
             ],
             [
              0.3333333333333333,
              "#9c179e"
             ],
             [
              0.4444444444444444,
              "#bd3786"
             ],
             [
              0.5555555555555556,
              "#d8576b"
             ],
             [
              0.6666666666666666,
              "#ed7953"
             ],
             [
              0.7777777777777778,
              "#fb9f3a"
             ],
             [
              0.8888888888888888,
              "#fdca26"
             ],
             [
              1,
              "#f0f921"
             ]
            ],
            "type": "heatmapgl"
           }
          ],
          "histogram": [
           {
            "marker": {
             "colorbar": {
              "outlinewidth": 0,
              "ticks": ""
             }
            },
            "type": "histogram"
           }
          ],
          "histogram2d": [
           {
            "colorbar": {
             "outlinewidth": 0,
             "ticks": ""
            },
            "colorscale": [
             [
              0,
              "#0d0887"
             ],
             [
              0.1111111111111111,
              "#46039f"
             ],
             [
              0.2222222222222222,
              "#7201a8"
             ],
             [
              0.3333333333333333,
              "#9c179e"
             ],
             [
              0.4444444444444444,
              "#bd3786"
             ],
             [
              0.5555555555555556,
              "#d8576b"
             ],
             [
              0.6666666666666666,
              "#ed7953"
             ],
             [
              0.7777777777777778,
              "#fb9f3a"
             ],
             [
              0.8888888888888888,
              "#fdca26"
             ],
             [
              1,
              "#f0f921"
             ]
            ],
            "type": "histogram2d"
           }
          ],
          "histogram2dcontour": [
           {
            "colorbar": {
             "outlinewidth": 0,
             "ticks": ""
            },
            "colorscale": [
             [
              0,
              "#0d0887"
             ],
             [
              0.1111111111111111,
              "#46039f"
             ],
             [
              0.2222222222222222,
              "#7201a8"
             ],
             [
              0.3333333333333333,
              "#9c179e"
             ],
             [
              0.4444444444444444,
              "#bd3786"
             ],
             [
              0.5555555555555556,
              "#d8576b"
             ],
             [
              0.6666666666666666,
              "#ed7953"
             ],
             [
              0.7777777777777778,
              "#fb9f3a"
             ],
             [
              0.8888888888888888,
              "#fdca26"
             ],
             [
              1,
              "#f0f921"
             ]
            ],
            "type": "histogram2dcontour"
           }
          ],
          "mesh3d": [
           {
            "colorbar": {
             "outlinewidth": 0,
             "ticks": ""
            },
            "type": "mesh3d"
           }
          ],
          "parcoords": [
           {
            "line": {
             "colorbar": {
              "outlinewidth": 0,
              "ticks": ""
             }
            },
            "type": "parcoords"
           }
          ],
          "scatter": [
           {
            "marker": {
             "colorbar": {
              "outlinewidth": 0,
              "ticks": ""
             }
            },
            "type": "scatter"
           }
          ],
          "scatter3d": [
           {
            "line": {
             "colorbar": {
              "outlinewidth": 0,
              "ticks": ""
             }
            },
            "marker": {
             "colorbar": {
              "outlinewidth": 0,
              "ticks": ""
             }
            },
            "type": "scatter3d"
           }
          ],
          "scattercarpet": [
           {
            "marker": {
             "colorbar": {
              "outlinewidth": 0,
              "ticks": ""
             }
            },
            "type": "scattercarpet"
           }
          ],
          "scattergeo": [
           {
            "marker": {
             "colorbar": {
              "outlinewidth": 0,
              "ticks": ""
             }
            },
            "type": "scattergeo"
           }
          ],
          "scattergl": [
           {
            "marker": {
             "colorbar": {
              "outlinewidth": 0,
              "ticks": ""
             }
            },
            "type": "scattergl"
           }
          ],
          "scattermapbox": [
           {
            "marker": {
             "colorbar": {
              "outlinewidth": 0,
              "ticks": ""
             }
            },
            "type": "scattermapbox"
           }
          ],
          "scatterpolar": [
           {
            "marker": {
             "colorbar": {
              "outlinewidth": 0,
              "ticks": ""
             }
            },
            "type": "scatterpolar"
           }
          ],
          "scatterpolargl": [
           {
            "marker": {
             "colorbar": {
              "outlinewidth": 0,
              "ticks": ""
             }
            },
            "type": "scatterpolargl"
           }
          ],
          "scatterternary": [
           {
            "marker": {
             "colorbar": {
              "outlinewidth": 0,
              "ticks": ""
             }
            },
            "type": "scatterternary"
           }
          ],
          "surface": [
           {
            "colorbar": {
             "outlinewidth": 0,
             "ticks": ""
            },
            "colorscale": [
             [
              0,
              "#0d0887"
             ],
             [
              0.1111111111111111,
              "#46039f"
             ],
             [
              0.2222222222222222,
              "#7201a8"
             ],
             [
              0.3333333333333333,
              "#9c179e"
             ],
             [
              0.4444444444444444,
              "#bd3786"
             ],
             [
              0.5555555555555556,
              "#d8576b"
             ],
             [
              0.6666666666666666,
              "#ed7953"
             ],
             [
              0.7777777777777778,
              "#fb9f3a"
             ],
             [
              0.8888888888888888,
              "#fdca26"
             ],
             [
              1,
              "#f0f921"
             ]
            ],
            "type": "surface"
           }
          ],
          "table": [
           {
            "cells": {
             "fill": {
              "color": "#EBF0F8"
             },
             "line": {
              "color": "white"
             }
            },
            "header": {
             "fill": {
              "color": "#C8D4E3"
             },
             "line": {
              "color": "white"
             }
            },
            "type": "table"
           }
          ]
         },
         "layout": {
          "annotationdefaults": {
           "arrowcolor": "#2a3f5f",
           "arrowhead": 0,
           "arrowwidth": 1
          },
          "colorscale": {
           "diverging": [
            [
             0,
             "#8e0152"
            ],
            [
             0.1,
             "#c51b7d"
            ],
            [
             0.2,
             "#de77ae"
            ],
            [
             0.3,
             "#f1b6da"
            ],
            [
             0.4,
             "#fde0ef"
            ],
            [
             0.5,
             "#f7f7f7"
            ],
            [
             0.6,
             "#e6f5d0"
            ],
            [
             0.7,
             "#b8e186"
            ],
            [
             0.8,
             "#7fbc41"
            ],
            [
             0.9,
             "#4d9221"
            ],
            [
             1,
             "#276419"
            ]
           ],
           "sequential": [
            [
             0,
             "#0d0887"
            ],
            [
             0.1111111111111111,
             "#46039f"
            ],
            [
             0.2222222222222222,
             "#7201a8"
            ],
            [
             0.3333333333333333,
             "#9c179e"
            ],
            [
             0.4444444444444444,
             "#bd3786"
            ],
            [
             0.5555555555555556,
             "#d8576b"
            ],
            [
             0.6666666666666666,
             "#ed7953"
            ],
            [
             0.7777777777777778,
             "#fb9f3a"
            ],
            [
             0.8888888888888888,
             "#fdca26"
            ],
            [
             1,
             "#f0f921"
            ]
           ],
           "sequentialminus": [
            [
             0,
             "#0d0887"
            ],
            [
             0.1111111111111111,
             "#46039f"
            ],
            [
             0.2222222222222222,
             "#7201a8"
            ],
            [
             0.3333333333333333,
             "#9c179e"
            ],
            [
             0.4444444444444444,
             "#bd3786"
            ],
            [
             0.5555555555555556,
             "#d8576b"
            ],
            [
             0.6666666666666666,
             "#ed7953"
            ],
            [
             0.7777777777777778,
             "#fb9f3a"
            ],
            [
             0.8888888888888888,
             "#fdca26"
            ],
            [
             1,
             "#f0f921"
            ]
           ]
          },
          "colorway": [
           "#636efa",
           "#EF553B",
           "#00cc96",
           "#ab63fa",
           "#FFA15A",
           "#19d3f3",
           "#FF6692",
           "#B6E880",
           "#FF97FF",
           "#FECB52"
          ],
          "font": {
           "color": "#2a3f5f"
          },
          "geo": {
           "bgcolor": "white",
           "lakecolor": "white",
           "landcolor": "#E5ECF6",
           "showlakes": true,
           "showland": true,
           "subunitcolor": "white"
          },
          "hoverlabel": {
           "align": "left"
          },
          "hovermode": "closest",
          "mapbox": {
           "style": "light"
          },
          "paper_bgcolor": "white",
          "plot_bgcolor": "#E5ECF6",
          "polar": {
           "angularaxis": {
            "gridcolor": "white",
            "linecolor": "white",
            "ticks": ""
           },
           "bgcolor": "#E5ECF6",
           "radialaxis": {
            "gridcolor": "white",
            "linecolor": "white",
            "ticks": ""
           }
          },
          "scene": {
           "xaxis": {
            "backgroundcolor": "#E5ECF6",
            "gridcolor": "white",
            "gridwidth": 2,
            "linecolor": "white",
            "showbackground": true,
            "ticks": "",
            "zerolinecolor": "white"
           },
           "yaxis": {
            "backgroundcolor": "#E5ECF6",
            "gridcolor": "white",
            "gridwidth": 2,
            "linecolor": "white",
            "showbackground": true,
            "ticks": "",
            "zerolinecolor": "white"
           },
           "zaxis": {
            "backgroundcolor": "#E5ECF6",
            "gridcolor": "white",
            "gridwidth": 2,
            "linecolor": "white",
            "showbackground": true,
            "ticks": "",
            "zerolinecolor": "white"
           }
          },
          "shapedefaults": {
           "line": {
            "color": "#2a3f5f"
           }
          },
          "ternary": {
           "aaxis": {
            "gridcolor": "white",
            "linecolor": "white",
            "ticks": ""
           },
           "baxis": {
            "gridcolor": "white",
            "linecolor": "white",
            "ticks": ""
           },
           "bgcolor": "#E5ECF6",
           "caxis": {
            "gridcolor": "white",
            "linecolor": "white",
            "ticks": ""
           }
          },
          "title": {
           "x": 0.05
          },
          "xaxis": {
           "automargin": true,
           "gridcolor": "white",
           "linecolor": "white",
           "ticks": "",
           "zerolinecolor": "white",
           "zerolinewidth": 2
          },
          "yaxis": {
           "automargin": true,
           "gridcolor": "white",
           "linecolor": "white",
           "ticks": "",
           "zerolinecolor": "white",
           "zerolinewidth": 2
          }
         }
        },
        "title": {
         "text": "2017 Permits Per State<br>Note: Kentucky performs monthly checks on concealed carry permit holders<br>(Hover for breakdown)(Hover for breakdown)"
        }
       }
      },
      "text/html": [
       "<div>\n",
       "        \n",
       "        \n",
       "            <div id=\"85ec4e5b-766e-4688-a9b2-0522ffd38521\" class=\"plotly-graph-div\" style=\"height:525px; width:100%;\"></div>\n",
       "            <script type=\"text/javascript\">\n",
       "                require([\"plotly\"], function(Plotly) {\n",
       "                    window.PLOTLYENV=window.PLOTLYENV || {};\n",
       "                    \n",
       "                if (document.getElementById(\"85ec4e5b-766e-4688-a9b2-0522ffd38521\")) {\n",
       "                    Plotly.newPlot(\n",
       "                        '85ec4e5b-766e-4688-a9b2-0522ffd38521',\n",
       "                        [{\"autocolorscale\": false, \"colorbar\": {\"title\": {\"text\": \"Millions\"}}, \"colorscale\": [[0.0, \"rgb(255,245,240)\"], [0.125, \"rgb(254,224,210)\"], [0.25, \"rgb(252,187,161)\"], [0.375, \"rgb(252,146,114)\"], [0.5, \"rgb(251,106,74)\"], [0.625, \"rgb(239,59,44)\"], [0.75, \"rgb(203,24,29)\"], [0.875, \"rgb(165,15,21)\"], [1.0, \"rgb(103,0,13)\"]], \"locationmode\": \"USA-states\", \"locations\": [\"AL\", \"AK\", \"AZ\", \"AR\", \"CA\", \"CO\", \"CT\", \"DE\", \"DC\", \"FL\", \"GA\", \"nan\", \"HI\", \"ID\", \"IL\", \"IN\", \"IA\", \"KS\", \"KY\", \"LA\", \"ME\", \"nan\", \"MD\", \"MA\", \"MI\", \"MN\", \"MS\", \"MO\", \"MT\", \"NE\", \"NV\", \"NH\", \"NJ\", \"NM\", \"NY\", \"NC\", \"ND\", \"OH\", \"OK\", \"OR\", \"PA\", \"nan\", \"RI\", \"SC\", \"SD\", \"TN\", \"TX\", \"UT\", \"VT\", \"nan\", \"VA\", \"WA\", \"WV\", \"WI\", \"WY\"], \"marker\": {\"line\": {\"color\": \"black\"}}, \"text\": [\"Alabama<br>Total Permits 2017253338.0<br>Population 4,874,747<br>Populations Rank 24.0\", \"Alaska<br>Total Permits 20172923.0<br>Population 739,795<br>Populations Rank 48.0\", \"Arizona<br>Total Permits 201781734.0<br>Population 7,016,270<br>Populations Rank 14.0\", \"Arkansas<br>Total Permits 201739473.0<br>Population 3,004,279<br>Populations Rank 32.0\", \"California<br>Total Permits 2017689851.0<br>Population 39,536,653<br>Populations Rank 1.0\", \"Colorado<br>Total Permits 201768665.0<br>Population 5,607,154<br>Populations Rank 21.0\", \"Connecticut<br>Total Permits 201777904.0<br>Population 3,588,184<br>Populations Rank 29.0\", \"Delaware<br>Total Permits 20175984.0<br>Population 961,939<br>Populations Rank 45.0\", \"District of Columbia<br>Total Permits 2017729.0<br>Population nan<br>Populations Rank nan\", \"Florida<br>Total Permits 2017236486.0<br>Population 20,984,400<br>Populations Rank 3.0\", \"Georgia<br>Total Permits 2017202407.0<br>Population 10,429,379<br>Populations Rank 8.0\", \"Guam<br>Total Permits 20170.0<br>Population nan<br>Populations Rank nan\", \"Hawaii<br>Total Permits 201712712.0<br>Population 1,427,538<br>Populations Rank 40.0\", \"Idaho<br>Total Permits 201765533.0<br>Population 1,716,943<br>Populations Rank 39.0\", \"Illinois<br>Total Permits 2017182719.0<br>Population 12,802,023<br>Populations Rank 6.0\", \"Indiana<br>Total Permits 2017389171.0<br>Population 6,666,818<br>Populations Rank 17.0\", \"Iowa<br>Total Permits 2017107424.0<br>Population 3,145,711<br>Populations Rank 30.0\", \"Kansas<br>Total Permits 201728391.0<br>Population 2,913,123<br>Populations Rank 35.0\", \"Kentucky<br>Total Permits 20174362693.0<br>Population 4,454,189<br>Populations Rank 26.0\", \"Louisiana<br>Total Permits 201728709.0<br>Population 4,684,333<br>Populations Rank 25.0\", \"Maine<br>Total Permits 20178119.0<br>Population 1,335,907<br>Populations Rank 42.0\", \"Mariana Islands<br>Total Permits 20170.0<br>Population nan<br>Populations Rank nan\", \"Maryland<br>Total Permits 201734365.0<br>Population 6,052,177<br>Populations Rank 19.0\", \"Massachusetts<br>Total Permits 201796467.0<br>Population 6,859,819<br>Populations Rank 15.0\", \"Michigan<br>Total Permits 2017232407.0<br>Population 9,962,311<br>Populations Rank 10.0\", \"Minnesota<br>Total Permits 2017443975.0<br>Population 5,576,606<br>Populations Rank 22.0\", \"Mississippi<br>Total Permits 201721615.0<br>Population 2,984,100<br>Populations Rank 34.0\", \"Missouri<br>Total Permits 201710144.0<br>Population 6,113,532<br>Populations Rank 18.0\", \"Montana<br>Total Permits 201717059.0<br>Population 1,050,493<br>Populations Rank 44.0\", \"Nebraska<br>Total Permits 201745865.0<br>Population 1,920,076<br>Populations Rank 37.0\", \"Nevada<br>Total Permits 201726831.0<br>Population 2,998,039<br>Populations Rank 33.0\", \"New Hampshire<br>Total Permits 201726602.0<br>Population 1,342,795<br>Populations Rank 41.0\", \"New Jersey<br>Total Permits 20170.0<br>Population 9,005,644<br>Populations Rank 11.0\", \"New Mexico<br>Total Permits 201713493.0<br>Population 2,088,070<br>Populations Rank 36.0\", \"New York<br>Total Permits 201734301.0<br>Population 19,849,399<br>Populations Rank 4.0\", \"North Carolina<br>Total Permits 2017299025.0<br>Population 10,273,419<br>Populations Rank 9.0\", \"North Dakota<br>Total Permits 201711712.0<br>Population 755,393<br>Populations Rank 47.0\", \"Ohio<br>Total Permits 2017141773.0<br>Population 11,658,609<br>Populations Rank 7.0\", \"Oklahoma<br>Total Permits 20170.0<br>Population 3,930,864<br>Populations Rank 28.0\", \"Oregon<br>Total Permits 201738968.0<br>Population 4,142,776<br>Populations Rank 27.0\", \"Pennsylvania<br>Total Permits 2017316614.0<br>Population 12,805,537<br>Populations Rank 5.0\", \"Puerto Rico<br>Total Permits 20170.0<br>Population nan<br>Populations Rank nan\", \"Rhode Island<br>Total Permits 20170.0<br>Population 1,059,639<br>Populations Rank 43.0\", \"South Carolina<br>Total Permits 2017148381.0<br>Population 5,024,369<br>Populations Rank 23.0\", \"South Dakota<br>Total Permits 201713580.0<br>Population 869,666<br>Populations Rank 46.0\", \"Tennessee<br>Total Permits 2017259782.0<br>Population 6,715,984<br>Populations Rank 16.0\", \"Texas<br>Total Permits 2017317766.0<br>Population 28,304,596<br>Populations Rank 2.0\", \"Utah<br>Total Permits 2017161939.0<br>Population 3,101,833<br>Populations Rank 31.0\", \"Vermont<br>Total Permits 20170.0<br>Population 623,657<br>Populations Rank 49.0\", \"Virgin Islands<br>Total Permits 2017856.0<br>Population nan<br>Populations Rank nan\", \"Virginia<br>Total Permits 201711835.0<br>Population 8,470,020<br>Populations Rank 12.0\", \"Washington<br>Total Permits 2017159260.0<br>Population 7,405,743<br>Populations Rank 13.0\", \"West Virginia<br>Total Permits 201725259.0<br>Population 1,815,857<br>Populations Rank 38.0\", \"Wisconsin<br>Total Permits 2017182395.0<br>Population 5,795,483<br>Populations Rank 20.0\", \"Wyoming<br>Total Permits 20174450.0<br>Population 579,315<br>Populations Rank 50.0\"], \"type\": \"choropleth\", \"z\": [253338.0, 2923.0, 81734.0, 39473.0, 689851.0, 68665.0, 77904.0, 5984.0, 729.0, 236486.0, 202407.0, 0.0, 12712.0, 65533.0, 182719.0, 389171.0, 107424.0, 28391.0, 4362693.0, 28709.0, 8119.0, 0.0, 34365.0, 96467.0, 232407.0, 443975.0, 21615.0, 10144.0, 17059.0, 45865.0, 26831.0, 26602.0, 0.0, 13493.0, 34301.0, 299025.0, 11712.0, 141773.0, 0.0, 38968.0, 316614.0, 0.0, 0.0, 148381.0, 13580.0, 259782.0, 317766.0, 161939.0, 0.0, 856.0, 11835.0, 159260.0, 25259.0, 182395.0, 4450.0]}],\n",
       "                        {\"geo\": {\"lakecolor\": \"rgb(255, 255, 255)\", \"projection\": {\"type\": \"albers usa\"}, \"scope\": \"usa\", \"showlakes\": true}, \"template\": {\"data\": {\"bar\": [{\"error_x\": {\"color\": \"#2a3f5f\"}, \"error_y\": {\"color\": \"#2a3f5f\"}, \"marker\": {\"line\": {\"color\": \"#E5ECF6\", \"width\": 0.5}}, \"type\": \"bar\"}], \"barpolar\": [{\"marker\": {\"line\": {\"color\": \"#E5ECF6\", \"width\": 0.5}}, \"type\": \"barpolar\"}], \"carpet\": [{\"aaxis\": {\"endlinecolor\": \"#2a3f5f\", \"gridcolor\": \"white\", \"linecolor\": \"white\", \"minorgridcolor\": \"white\", \"startlinecolor\": \"#2a3f5f\"}, \"baxis\": {\"endlinecolor\": \"#2a3f5f\", \"gridcolor\": \"white\", \"linecolor\": \"white\", \"minorgridcolor\": \"white\", \"startlinecolor\": \"#2a3f5f\"}, \"type\": \"carpet\"}], \"choropleth\": [{\"colorbar\": {\"outlinewidth\": 0, \"ticks\": \"\"}, \"type\": \"choropleth\"}], \"contour\": [{\"colorbar\": {\"outlinewidth\": 0, \"ticks\": \"\"}, \"colorscale\": [[0.0, \"#0d0887\"], [0.1111111111111111, \"#46039f\"], [0.2222222222222222, \"#7201a8\"], [0.3333333333333333, \"#9c179e\"], [0.4444444444444444, \"#bd3786\"], [0.5555555555555556, \"#d8576b\"], [0.6666666666666666, \"#ed7953\"], [0.7777777777777778, \"#fb9f3a\"], [0.8888888888888888, \"#fdca26\"], [1.0, \"#f0f921\"]], \"type\": \"contour\"}], \"contourcarpet\": [{\"colorbar\": {\"outlinewidth\": 0, \"ticks\": \"\"}, \"type\": \"contourcarpet\"}], \"heatmap\": [{\"colorbar\": {\"outlinewidth\": 0, \"ticks\": \"\"}, \"colorscale\": [[0.0, \"#0d0887\"], [0.1111111111111111, \"#46039f\"], [0.2222222222222222, \"#7201a8\"], [0.3333333333333333, \"#9c179e\"], [0.4444444444444444, \"#bd3786\"], [0.5555555555555556, \"#d8576b\"], [0.6666666666666666, \"#ed7953\"], [0.7777777777777778, \"#fb9f3a\"], [0.8888888888888888, \"#fdca26\"], [1.0, \"#f0f921\"]], \"type\": \"heatmap\"}], \"heatmapgl\": [{\"colorbar\": {\"outlinewidth\": 0, \"ticks\": \"\"}, \"colorscale\": [[0.0, \"#0d0887\"], [0.1111111111111111, \"#46039f\"], [0.2222222222222222, \"#7201a8\"], [0.3333333333333333, \"#9c179e\"], [0.4444444444444444, \"#bd3786\"], [0.5555555555555556, \"#d8576b\"], [0.6666666666666666, \"#ed7953\"], [0.7777777777777778, \"#fb9f3a\"], [0.8888888888888888, \"#fdca26\"], [1.0, \"#f0f921\"]], \"type\": \"heatmapgl\"}], \"histogram\": [{\"marker\": {\"colorbar\": {\"outlinewidth\": 0, \"ticks\": \"\"}}, \"type\": \"histogram\"}], \"histogram2d\": [{\"colorbar\": {\"outlinewidth\": 0, \"ticks\": \"\"}, \"colorscale\": [[0.0, \"#0d0887\"], [0.1111111111111111, \"#46039f\"], [0.2222222222222222, \"#7201a8\"], [0.3333333333333333, \"#9c179e\"], [0.4444444444444444, \"#bd3786\"], [0.5555555555555556, \"#d8576b\"], [0.6666666666666666, \"#ed7953\"], [0.7777777777777778, \"#fb9f3a\"], [0.8888888888888888, \"#fdca26\"], [1.0, \"#f0f921\"]], \"type\": \"histogram2d\"}], \"histogram2dcontour\": [{\"colorbar\": {\"outlinewidth\": 0, \"ticks\": \"\"}, \"colorscale\": [[0.0, \"#0d0887\"], [0.1111111111111111, \"#46039f\"], [0.2222222222222222, \"#7201a8\"], [0.3333333333333333, \"#9c179e\"], [0.4444444444444444, \"#bd3786\"], [0.5555555555555556, \"#d8576b\"], [0.6666666666666666, \"#ed7953\"], [0.7777777777777778, \"#fb9f3a\"], [0.8888888888888888, \"#fdca26\"], [1.0, \"#f0f921\"]], \"type\": \"histogram2dcontour\"}], \"mesh3d\": [{\"colorbar\": {\"outlinewidth\": 0, \"ticks\": \"\"}, \"type\": \"mesh3d\"}], \"parcoords\": [{\"line\": {\"colorbar\": {\"outlinewidth\": 0, \"ticks\": \"\"}}, \"type\": \"parcoords\"}], \"scatter\": [{\"marker\": {\"colorbar\": {\"outlinewidth\": 0, \"ticks\": \"\"}}, \"type\": \"scatter\"}], \"scatter3d\": [{\"line\": {\"colorbar\": {\"outlinewidth\": 0, \"ticks\": \"\"}}, \"marker\": {\"colorbar\": {\"outlinewidth\": 0, \"ticks\": \"\"}}, \"type\": \"scatter3d\"}], \"scattercarpet\": [{\"marker\": {\"colorbar\": {\"outlinewidth\": 0, \"ticks\": \"\"}}, \"type\": \"scattercarpet\"}], \"scattergeo\": [{\"marker\": {\"colorbar\": {\"outlinewidth\": 0, \"ticks\": \"\"}}, \"type\": \"scattergeo\"}], \"scattergl\": [{\"marker\": {\"colorbar\": {\"outlinewidth\": 0, \"ticks\": \"\"}}, \"type\": \"scattergl\"}], \"scattermapbox\": [{\"marker\": {\"colorbar\": {\"outlinewidth\": 0, \"ticks\": \"\"}}, \"type\": \"scattermapbox\"}], \"scatterpolar\": [{\"marker\": {\"colorbar\": {\"outlinewidth\": 0, \"ticks\": \"\"}}, \"type\": \"scatterpolar\"}], \"scatterpolargl\": [{\"marker\": {\"colorbar\": {\"outlinewidth\": 0, \"ticks\": \"\"}}, \"type\": \"scatterpolargl\"}], \"scatterternary\": [{\"marker\": {\"colorbar\": {\"outlinewidth\": 0, \"ticks\": \"\"}}, \"type\": \"scatterternary\"}], \"surface\": [{\"colorbar\": {\"outlinewidth\": 0, \"ticks\": \"\"}, \"colorscale\": [[0.0, \"#0d0887\"], [0.1111111111111111, \"#46039f\"], [0.2222222222222222, \"#7201a8\"], [0.3333333333333333, \"#9c179e\"], [0.4444444444444444, \"#bd3786\"], [0.5555555555555556, \"#d8576b\"], [0.6666666666666666, \"#ed7953\"], [0.7777777777777778, \"#fb9f3a\"], [0.8888888888888888, \"#fdca26\"], [1.0, \"#f0f921\"]], \"type\": \"surface\"}], \"table\": [{\"cells\": {\"fill\": {\"color\": \"#EBF0F8\"}, \"line\": {\"color\": \"white\"}}, \"header\": {\"fill\": {\"color\": \"#C8D4E3\"}, \"line\": {\"color\": \"white\"}}, \"type\": \"table\"}]}, \"layout\": {\"annotationdefaults\": {\"arrowcolor\": \"#2a3f5f\", \"arrowhead\": 0, \"arrowwidth\": 1}, \"colorscale\": {\"diverging\": [[0, \"#8e0152\"], [0.1, \"#c51b7d\"], [0.2, \"#de77ae\"], [0.3, \"#f1b6da\"], [0.4, \"#fde0ef\"], [0.5, \"#f7f7f7\"], [0.6, \"#e6f5d0\"], [0.7, \"#b8e186\"], [0.8, \"#7fbc41\"], [0.9, \"#4d9221\"], [1, \"#276419\"]], \"sequential\": [[0.0, \"#0d0887\"], [0.1111111111111111, \"#46039f\"], [0.2222222222222222, \"#7201a8\"], [0.3333333333333333, \"#9c179e\"], [0.4444444444444444, \"#bd3786\"], [0.5555555555555556, \"#d8576b\"], [0.6666666666666666, \"#ed7953\"], [0.7777777777777778, \"#fb9f3a\"], [0.8888888888888888, \"#fdca26\"], [1.0, \"#f0f921\"]], \"sequentialminus\": [[0.0, \"#0d0887\"], [0.1111111111111111, \"#46039f\"], [0.2222222222222222, \"#7201a8\"], [0.3333333333333333, \"#9c179e\"], [0.4444444444444444, \"#bd3786\"], [0.5555555555555556, \"#d8576b\"], [0.6666666666666666, \"#ed7953\"], [0.7777777777777778, \"#fb9f3a\"], [0.8888888888888888, \"#fdca26\"], [1.0, \"#f0f921\"]]}, \"colorway\": [\"#636efa\", \"#EF553B\", \"#00cc96\", \"#ab63fa\", \"#FFA15A\", \"#19d3f3\", \"#FF6692\", \"#B6E880\", \"#FF97FF\", \"#FECB52\"], \"font\": {\"color\": \"#2a3f5f\"}, \"geo\": {\"bgcolor\": \"white\", \"lakecolor\": \"white\", \"landcolor\": \"#E5ECF6\", \"showlakes\": true, \"showland\": true, \"subunitcolor\": \"white\"}, \"hoverlabel\": {\"align\": \"left\"}, \"hovermode\": \"closest\", \"mapbox\": {\"style\": \"light\"}, \"paper_bgcolor\": \"white\", \"plot_bgcolor\": \"#E5ECF6\", \"polar\": {\"angularaxis\": {\"gridcolor\": \"white\", \"linecolor\": \"white\", \"ticks\": \"\"}, \"bgcolor\": \"#E5ECF6\", \"radialaxis\": {\"gridcolor\": \"white\", \"linecolor\": \"white\", \"ticks\": \"\"}}, \"scene\": {\"xaxis\": {\"backgroundcolor\": \"#E5ECF6\", \"gridcolor\": \"white\", \"gridwidth\": 2, \"linecolor\": \"white\", \"showbackground\": true, \"ticks\": \"\", \"zerolinecolor\": \"white\"}, \"yaxis\": {\"backgroundcolor\": \"#E5ECF6\", \"gridcolor\": \"white\", \"gridwidth\": 2, \"linecolor\": \"white\", \"showbackground\": true, \"ticks\": \"\", \"zerolinecolor\": \"white\"}, \"zaxis\": {\"backgroundcolor\": \"#E5ECF6\", \"gridcolor\": \"white\", \"gridwidth\": 2, \"linecolor\": \"white\", \"showbackground\": true, \"ticks\": \"\", \"zerolinecolor\": \"white\"}}, \"shapedefaults\": {\"line\": {\"color\": \"#2a3f5f\"}}, \"ternary\": {\"aaxis\": {\"gridcolor\": \"white\", \"linecolor\": \"white\", \"ticks\": \"\"}, \"baxis\": {\"gridcolor\": \"white\", \"linecolor\": \"white\", \"ticks\": \"\"}, \"bgcolor\": \"#E5ECF6\", \"caxis\": {\"gridcolor\": \"white\", \"linecolor\": \"white\", \"ticks\": \"\"}}, \"title\": {\"x\": 0.05}, \"xaxis\": {\"automargin\": true, \"gridcolor\": \"white\", \"linecolor\": \"white\", \"ticks\": \"\", \"zerolinecolor\": \"white\", \"zerolinewidth\": 2}, \"yaxis\": {\"automargin\": true, \"gridcolor\": \"white\", \"linecolor\": \"white\", \"ticks\": \"\", \"zerolinecolor\": \"white\", \"zerolinewidth\": 2}}}, \"title\": {\"text\": \"2017 Permits Per State<br>Note: Kentucky performs monthly checks on concealed carry permit holders<br>(Hover for breakdown)(Hover for breakdown)\"}},\n",
       "                        {\"responsive\": true}\n",
       "                    ).then(function(){\n",
       "                            \n",
       "var gd = document.getElementById('85ec4e5b-766e-4688-a9b2-0522ffd38521');\n",
       "var x = new MutationObserver(function (mutations, observer) {{\n",
       "        var display = window.getComputedStyle(gd).display;\n",
       "        if (!display || display === 'none') {{\n",
       "            console.log([gd, 'removed!']);\n",
       "            Plotly.purge(gd);\n",
       "            observer.disconnect();\n",
       "        }}\n",
       "}});\n",
       "\n",
       "// Listen for the removal of the full notebook cells\n",
       "var notebookContainer = gd.closest('#notebook-container');\n",
       "if (notebookContainer) {{\n",
       "    x.observe(notebookContainer, {childList: true});\n",
       "}}\n",
       "\n",
       "// Listen for the clearing of the current output cell\n",
       "var outputEl = gd.closest('.output');\n",
       "if (outputEl) {{\n",
       "    x.observe(outputEl, {childList: true});\n",
       "}}\n",
       "\n",
       "                        })\n",
       "                };\n",
       "                });\n",
       "            </script>\n",
       "        </div>"
      ]
     },
     "metadata": {},
     "output_type": "display_data"
    }
   ],
   "source": [
    "for col in df.columns:\n",
    "    df[col] = df[col].astype(str)\n",
    "\n",
    "df['text'] = df['state'] + '<br>' + \\\n",
    "    'Total Permits 2017' + df['permit'] + '<br>' + \\\n",
    "    'Population ' + df['population'] + '<br>' + \\\n",
    "    'Populations Rank ' + df['pop_rank']\n",
    "    \n",
    "plt = go.Figure(data=go.Choropleth(\n",
    "    #state digraph = location code\n",
    "    locations=df['code'],\n",
    "    z=df['permit'].astype(float),\n",
    "    locationmode='USA-states',\n",
    "    colorscale='Reds',\n",
    "    autocolorscale=False,\n",
    "    text=df['text'], # hover text\n",
    "    marker_line_color='black', # line markers between states\n",
    "    colorbar_title=\"Millions\"\n",
    "))\n",
    "\n",
    "plt.update_layout(\n",
    "    title_text='2017 Permits Per State<br>Note: Kentucky performs monthly checks on concealed carry permit holders<br>(Hover for breakdown)(Hover for breakdown)',\n",
    "    geo = dict(\n",
    "        scope='usa',\n",
    "        projection=go.layout.geo.Projection(type = 'albers usa'),\n",
    "        showlakes=True, # lakes\n",
    "        lakecolor='rgb(255, 255, 255)'),\n",
    ")\n",
    "#plt.savefig('output/permits2017.png', bbox_inches=\"tight\")\n",
    "plt.show()"
   ]
  },
  {
   "cell_type": "code",
   "execution_count": 92,
   "metadata": {
    "scrolled": false
   },
   "outputs": [
    {
     "data": {
      "application/vnd.plotly.v1+json": {
       "config": {
        "plotlyServerURL": "https://plot.ly"
       },
       "data": [
        {
         "autocolorscale": false,
         "colorbar": {
          "title": {
           "text": "Millions"
          }
         },
         "colorscale": [
          [
           0,
           "rgb(255,245,240)"
          ],
          [
           0.125,
           "rgb(254,224,210)"
          ],
          [
           0.25,
           "rgb(252,187,161)"
          ],
          [
           0.375,
           "rgb(252,146,114)"
          ],
          [
           0.5,
           "rgb(251,106,74)"
          ],
          [
           0.625,
           "rgb(239,59,44)"
          ],
          [
           0.75,
           "rgb(203,24,29)"
          ],
          [
           0.875,
           "rgb(165,15,21)"
          ],
          [
           1,
           "rgb(103,0,13)"
          ]
         ],
         "locationmode": "USA-states",
         "locations": [
          "AL",
          "AK",
          "AZ",
          "AR",
          "CA",
          "CO",
          "CT",
          "DE",
          "DC",
          "FL",
          "GA",
          "nan",
          "HI",
          "ID",
          "IL",
          "IN",
          "IA",
          "KS",
          "KY",
          "LA",
          "ME",
          "nan",
          "MD",
          "MA",
          "MI",
          "MN",
          "MS",
          "MO",
          "MT",
          "NE",
          "NV",
          "NH",
          "NJ",
          "NM",
          "NY",
          "NC",
          "ND",
          "OH",
          "OK",
          "OR",
          "PA",
          "nan",
          "RI",
          "SC",
          "SD",
          "TN",
          "TX",
          "UT",
          "VT",
          "nan",
          "VA",
          "WA",
          "WV",
          "WI",
          "WY"
         ],
         "marker": {
          "line": {
           "color": "black"
          }
         },
         "text": [
          "Alabama<br>Total Background Checks 2017477345<br>Population 4,874,747<br>Populations Rank 24.0",
          "Alaska<br>Total Background Checks 201780839<br>Population 739,795<br>Populations Rank 48.0",
          "Arizona<br>Total Background Checks 2017384930<br>Population 7,016,270<br>Populations Rank 14.0",
          "Arkansas<br>Total Background Checks 2017237629<br>Population 3,004,279<br>Populations Rank 32.0",
          "California<br>Total Background Checks 20171570110<br>Population 39,536,653<br>Populations Rank 1.0",
          "Colorado<br>Total Background Checks 2017496995<br>Population 5,607,154<br>Populations Rank 21.0",
          "Connecticut<br>Total Background Checks 2017181779<br>Population 3,588,184<br>Populations Rank 29.0",
          "Delaware<br>Total Background Checks 201750639<br>Population 961,939<br>Populations Rank 45.0",
          "District of Columbia<br>Total Background Checks 20171540<br>Population nan<br>Populations Rank nan",
          "Florida<br>Total Background Checks 20171276549<br>Population 20,984,400<br>Populations Rank 3.0",
          "Georgia<br>Total Background Checks 2017541655<br>Population 10,429,379<br>Populations Rank 8.0",
          "Guam<br>Total Background Checks 20171815<br>Population nan<br>Populations Rank nan",
          "Hawaii<br>Total Background Checks 201712742<br>Population 1,427,538<br>Populations Rank 40.0",
          "Idaho<br>Total Background Checks 2017182099<br>Population 1,716,943<br>Populations Rank 39.0",
          "Illinois<br>Total Background Checks 20171601087<br>Population 12,802,023<br>Populations Rank 6.0",
          "Indiana<br>Total Background Checks 2017830357<br>Population 6,666,818<br>Populations Rank 17.0",
          "Iowa<br>Total Background Checks 2017160981<br>Population 3,145,711<br>Populations Rank 30.0",
          "Kansas<br>Total Background Checks 2017191451<br>Population 2,913,123<br>Populations Rank 35.0",
          "Kentucky<br>Total Background Checks 20174641480<br>Population 4,454,189<br>Populations Rank 26.0",
          "Louisiana<br>Total Background Checks 2017329201<br>Population 4,684,333<br>Populations Rank 25.0",
          "Maine<br>Total Background Checks 201796590<br>Population 1,335,907<br>Populations Rank 42.0",
          "Mariana Islands<br>Total Background Checks 2017159<br>Population nan<br>Populations Rank nan",
          "Maryland<br>Total Background Checks 2017158659<br>Population 6,052,177<br>Populations Rank 19.0",
          "Massachusetts<br>Total Background Checks 2017206492<br>Population 6,859,819<br>Populations Rank 15.0",
          "Michigan<br>Total Background Checks 2017513243<br>Population 9,962,311<br>Populations Rank 10.0",
          "Minnesota<br>Total Background Checks 2017683544<br>Population 5,576,606<br>Populations Rank 22.0",
          "Mississippi<br>Total Background Checks 2017251852<br>Population 2,984,100<br>Populations Rank 34.0",
          "Missouri<br>Total Background Checks 2017524973<br>Population 6,113,532<br>Populations Rank 18.0",
          "Montana<br>Total Background Checks 2017123938<br>Population 1,050,493<br>Populations Rank 44.0",
          "Nebraska<br>Total Background Checks 201774318<br>Population 1,920,076<br>Populations Rank 37.0",
          "Nevada<br>Total Background Checks 2017129622<br>Population 2,998,039<br>Populations Rank 33.0",
          "New Hampshire<br>Total Background Checks 2017129090<br>Population 1,342,795<br>Populations Rank 41.0",
          "New Jersey<br>Total Background Checks 2017103739<br>Population 9,005,644<br>Populations Rank 11.0",
          "New Mexico<br>Total Background Checks 2017159779<br>Population 2,088,070<br>Populations Rank 36.0",
          "New York<br>Total Background Checks 2017382495<br>Population 19,849,399<br>Populations Rank 4.0",
          "North Carolina<br>Total Background Checks 2017537813<br>Population 10,273,419<br>Populations Rank 9.0",
          "North Dakota<br>Total Background Checks 201766977<br>Population 755,393<br>Populations Rank 47.0",
          "Ohio<br>Total Background Checks 2017753072<br>Population 11,658,609<br>Populations Rank 7.0",
          "Oklahoma<br>Total Background Checks 2017334351<br>Population 3,930,864<br>Populations Rank 28.0",
          "Oregon<br>Total Background Checks 2017341167<br>Population 4,142,776<br>Populations Rank 27.0",
          "Pennsylvania<br>Total Background Checks 20171062651<br>Population 12,805,537<br>Populations Rank 5.0",
          "Puerto Rico<br>Total Background Checks 201718811<br>Population nan<br>Populations Rank nan",
          "Rhode Island<br>Total Background Checks 201724677<br>Population 1,059,639<br>Populations Rank 43.0",
          "South Carolina<br>Total Background Checks 2017396920<br>Population 5,024,369<br>Populations Rank 23.0",
          "South Dakota<br>Total Background Checks 201798573<br>Population 869,666<br>Populations Rank 46.0",
          "Tennessee<br>Total Background Checks 2017767953<br>Population 6,715,984<br>Populations Rank 16.0",
          "Texas<br>Total Background Checks 20171549434<br>Population 28,304,596<br>Populations Rank 2.0",
          "Utah<br>Total Background Checks 2017270477<br>Population 3,101,833<br>Populations Rank 31.0",
          "Vermont<br>Total Background Checks 201737610<br>Population 623,657<br>Populations Rank 49.0",
          "Virgin Islands<br>Total Background Checks 20171210<br>Population nan<br>Populations Rank nan",
          "Virginia<br>Total Background Checks 2017520827<br>Population 8,470,020<br>Populations Rank 12.0",
          "Washington<br>Total Background Checks 2017579678<br>Population 7,405,743<br>Populations Rank 13.0",
          "West Virginia<br>Total Background Checks 2017222768<br>Population 1,815,857<br>Populations Rank 38.0",
          "Wisconsin<br>Total Background Checks 2017526523<br>Population 5,795,483<br>Populations Rank 20.0",
          "Wyoming<br>Total Background Checks 201754711<br>Population 579,315<br>Populations Rank 50.0"
         ],
         "type": "choropleth",
         "z": [
          477345,
          80839,
          384930,
          237629,
          1570110,
          496995,
          181779,
          50639,
          1540,
          1276549,
          541655,
          1815,
          12742,
          182099,
          1601087,
          830357,
          160981,
          191451,
          4641480,
          329201,
          96590,
          159,
          158659,
          206492,
          513243,
          683544,
          251852,
          524973,
          123938,
          74318,
          129622,
          129090,
          103739,
          159779,
          382495,
          537813,
          66977,
          753072,
          334351,
          341167,
          1062651,
          18811,
          24677,
          396920,
          98573,
          767953,
          1549434,
          270477,
          37610,
          1210,
          520827,
          579678,
          222768,
          526523,
          54711
         ]
        }
       ],
       "layout": {
        "geo": {
         "lakecolor": "rgb(255, 255, 255)",
         "projection": {
          "type": "albers usa"
         },
         "scope": "usa",
         "showlakes": true
        },
        "template": {
         "data": {
          "bar": [
           {
            "error_x": {
             "color": "#2a3f5f"
            },
            "error_y": {
             "color": "#2a3f5f"
            },
            "marker": {
             "line": {
              "color": "#E5ECF6",
              "width": 0.5
             }
            },
            "type": "bar"
           }
          ],
          "barpolar": [
           {
            "marker": {
             "line": {
              "color": "#E5ECF6",
              "width": 0.5
             }
            },
            "type": "barpolar"
           }
          ],
          "carpet": [
           {
            "aaxis": {
             "endlinecolor": "#2a3f5f",
             "gridcolor": "white",
             "linecolor": "white",
             "minorgridcolor": "white",
             "startlinecolor": "#2a3f5f"
            },
            "baxis": {
             "endlinecolor": "#2a3f5f",
             "gridcolor": "white",
             "linecolor": "white",
             "minorgridcolor": "white",
             "startlinecolor": "#2a3f5f"
            },
            "type": "carpet"
           }
          ],
          "choropleth": [
           {
            "colorbar": {
             "outlinewidth": 0,
             "ticks": ""
            },
            "type": "choropleth"
           }
          ],
          "contour": [
           {
            "colorbar": {
             "outlinewidth": 0,
             "ticks": ""
            },
            "colorscale": [
             [
              0,
              "#0d0887"
             ],
             [
              0.1111111111111111,
              "#46039f"
             ],
             [
              0.2222222222222222,
              "#7201a8"
             ],
             [
              0.3333333333333333,
              "#9c179e"
             ],
             [
              0.4444444444444444,
              "#bd3786"
             ],
             [
              0.5555555555555556,
              "#d8576b"
             ],
             [
              0.6666666666666666,
              "#ed7953"
             ],
             [
              0.7777777777777778,
              "#fb9f3a"
             ],
             [
              0.8888888888888888,
              "#fdca26"
             ],
             [
              1,
              "#f0f921"
             ]
            ],
            "type": "contour"
           }
          ],
          "contourcarpet": [
           {
            "colorbar": {
             "outlinewidth": 0,
             "ticks": ""
            },
            "type": "contourcarpet"
           }
          ],
          "heatmap": [
           {
            "colorbar": {
             "outlinewidth": 0,
             "ticks": ""
            },
            "colorscale": [
             [
              0,
              "#0d0887"
             ],
             [
              0.1111111111111111,
              "#46039f"
             ],
             [
              0.2222222222222222,
              "#7201a8"
             ],
             [
              0.3333333333333333,
              "#9c179e"
             ],
             [
              0.4444444444444444,
              "#bd3786"
             ],
             [
              0.5555555555555556,
              "#d8576b"
             ],
             [
              0.6666666666666666,
              "#ed7953"
             ],
             [
              0.7777777777777778,
              "#fb9f3a"
             ],
             [
              0.8888888888888888,
              "#fdca26"
             ],
             [
              1,
              "#f0f921"
             ]
            ],
            "type": "heatmap"
           }
          ],
          "heatmapgl": [
           {
            "colorbar": {
             "outlinewidth": 0,
             "ticks": ""
            },
            "colorscale": [
             [
              0,
              "#0d0887"
             ],
             [
              0.1111111111111111,
              "#46039f"
             ],
             [
              0.2222222222222222,
              "#7201a8"
             ],
             [
              0.3333333333333333,
              "#9c179e"
             ],
             [
              0.4444444444444444,
              "#bd3786"
             ],
             [
              0.5555555555555556,
              "#d8576b"
             ],
             [
              0.6666666666666666,
              "#ed7953"
             ],
             [
              0.7777777777777778,
              "#fb9f3a"
             ],
             [
              0.8888888888888888,
              "#fdca26"
             ],
             [
              1,
              "#f0f921"
             ]
            ],
            "type": "heatmapgl"
           }
          ],
          "histogram": [
           {
            "marker": {
             "colorbar": {
              "outlinewidth": 0,
              "ticks": ""
             }
            },
            "type": "histogram"
           }
          ],
          "histogram2d": [
           {
            "colorbar": {
             "outlinewidth": 0,
             "ticks": ""
            },
            "colorscale": [
             [
              0,
              "#0d0887"
             ],
             [
              0.1111111111111111,
              "#46039f"
             ],
             [
              0.2222222222222222,
              "#7201a8"
             ],
             [
              0.3333333333333333,
              "#9c179e"
             ],
             [
              0.4444444444444444,
              "#bd3786"
             ],
             [
              0.5555555555555556,
              "#d8576b"
             ],
             [
              0.6666666666666666,
              "#ed7953"
             ],
             [
              0.7777777777777778,
              "#fb9f3a"
             ],
             [
              0.8888888888888888,
              "#fdca26"
             ],
             [
              1,
              "#f0f921"
             ]
            ],
            "type": "histogram2d"
           }
          ],
          "histogram2dcontour": [
           {
            "colorbar": {
             "outlinewidth": 0,
             "ticks": ""
            },
            "colorscale": [
             [
              0,
              "#0d0887"
             ],
             [
              0.1111111111111111,
              "#46039f"
             ],
             [
              0.2222222222222222,
              "#7201a8"
             ],
             [
              0.3333333333333333,
              "#9c179e"
             ],
             [
              0.4444444444444444,
              "#bd3786"
             ],
             [
              0.5555555555555556,
              "#d8576b"
             ],
             [
              0.6666666666666666,
              "#ed7953"
             ],
             [
              0.7777777777777778,
              "#fb9f3a"
             ],
             [
              0.8888888888888888,
              "#fdca26"
             ],
             [
              1,
              "#f0f921"
             ]
            ],
            "type": "histogram2dcontour"
           }
          ],
          "mesh3d": [
           {
            "colorbar": {
             "outlinewidth": 0,
             "ticks": ""
            },
            "type": "mesh3d"
           }
          ],
          "parcoords": [
           {
            "line": {
             "colorbar": {
              "outlinewidth": 0,
              "ticks": ""
             }
            },
            "type": "parcoords"
           }
          ],
          "scatter": [
           {
            "marker": {
             "colorbar": {
              "outlinewidth": 0,
              "ticks": ""
             }
            },
            "type": "scatter"
           }
          ],
          "scatter3d": [
           {
            "line": {
             "colorbar": {
              "outlinewidth": 0,
              "ticks": ""
             }
            },
            "marker": {
             "colorbar": {
              "outlinewidth": 0,
              "ticks": ""
             }
            },
            "type": "scatter3d"
           }
          ],
          "scattercarpet": [
           {
            "marker": {
             "colorbar": {
              "outlinewidth": 0,
              "ticks": ""
             }
            },
            "type": "scattercarpet"
           }
          ],
          "scattergeo": [
           {
            "marker": {
             "colorbar": {
              "outlinewidth": 0,
              "ticks": ""
             }
            },
            "type": "scattergeo"
           }
          ],
          "scattergl": [
           {
            "marker": {
             "colorbar": {
              "outlinewidth": 0,
              "ticks": ""
             }
            },
            "type": "scattergl"
           }
          ],
          "scattermapbox": [
           {
            "marker": {
             "colorbar": {
              "outlinewidth": 0,
              "ticks": ""
             }
            },
            "type": "scattermapbox"
           }
          ],
          "scatterpolar": [
           {
            "marker": {
             "colorbar": {
              "outlinewidth": 0,
              "ticks": ""
             }
            },
            "type": "scatterpolar"
           }
          ],
          "scatterpolargl": [
           {
            "marker": {
             "colorbar": {
              "outlinewidth": 0,
              "ticks": ""
             }
            },
            "type": "scatterpolargl"
           }
          ],
          "scatterternary": [
           {
            "marker": {
             "colorbar": {
              "outlinewidth": 0,
              "ticks": ""
             }
            },
            "type": "scatterternary"
           }
          ],
          "surface": [
           {
            "colorbar": {
             "outlinewidth": 0,
             "ticks": ""
            },
            "colorscale": [
             [
              0,
              "#0d0887"
             ],
             [
              0.1111111111111111,
              "#46039f"
             ],
             [
              0.2222222222222222,
              "#7201a8"
             ],
             [
              0.3333333333333333,
              "#9c179e"
             ],
             [
              0.4444444444444444,
              "#bd3786"
             ],
             [
              0.5555555555555556,
              "#d8576b"
             ],
             [
              0.6666666666666666,
              "#ed7953"
             ],
             [
              0.7777777777777778,
              "#fb9f3a"
             ],
             [
              0.8888888888888888,
              "#fdca26"
             ],
             [
              1,
              "#f0f921"
             ]
            ],
            "type": "surface"
           }
          ],
          "table": [
           {
            "cells": {
             "fill": {
              "color": "#EBF0F8"
             },
             "line": {
              "color": "white"
             }
            },
            "header": {
             "fill": {
              "color": "#C8D4E3"
             },
             "line": {
              "color": "white"
             }
            },
            "type": "table"
           }
          ]
         },
         "layout": {
          "annotationdefaults": {
           "arrowcolor": "#2a3f5f",
           "arrowhead": 0,
           "arrowwidth": 1
          },
          "colorscale": {
           "diverging": [
            [
             0,
             "#8e0152"
            ],
            [
             0.1,
             "#c51b7d"
            ],
            [
             0.2,
             "#de77ae"
            ],
            [
             0.3,
             "#f1b6da"
            ],
            [
             0.4,
             "#fde0ef"
            ],
            [
             0.5,
             "#f7f7f7"
            ],
            [
             0.6,
             "#e6f5d0"
            ],
            [
             0.7,
             "#b8e186"
            ],
            [
             0.8,
             "#7fbc41"
            ],
            [
             0.9,
             "#4d9221"
            ],
            [
             1,
             "#276419"
            ]
           ],
           "sequential": [
            [
             0,
             "#0d0887"
            ],
            [
             0.1111111111111111,
             "#46039f"
            ],
            [
             0.2222222222222222,
             "#7201a8"
            ],
            [
             0.3333333333333333,
             "#9c179e"
            ],
            [
             0.4444444444444444,
             "#bd3786"
            ],
            [
             0.5555555555555556,
             "#d8576b"
            ],
            [
             0.6666666666666666,
             "#ed7953"
            ],
            [
             0.7777777777777778,
             "#fb9f3a"
            ],
            [
             0.8888888888888888,
             "#fdca26"
            ],
            [
             1,
             "#f0f921"
            ]
           ],
           "sequentialminus": [
            [
             0,
             "#0d0887"
            ],
            [
             0.1111111111111111,
             "#46039f"
            ],
            [
             0.2222222222222222,
             "#7201a8"
            ],
            [
             0.3333333333333333,
             "#9c179e"
            ],
            [
             0.4444444444444444,
             "#bd3786"
            ],
            [
             0.5555555555555556,
             "#d8576b"
            ],
            [
             0.6666666666666666,
             "#ed7953"
            ],
            [
             0.7777777777777778,
             "#fb9f3a"
            ],
            [
             0.8888888888888888,
             "#fdca26"
            ],
            [
             1,
             "#f0f921"
            ]
           ]
          },
          "colorway": [
           "#636efa",
           "#EF553B",
           "#00cc96",
           "#ab63fa",
           "#FFA15A",
           "#19d3f3",
           "#FF6692",
           "#B6E880",
           "#FF97FF",
           "#FECB52"
          ],
          "font": {
           "color": "#2a3f5f"
          },
          "geo": {
           "bgcolor": "white",
           "lakecolor": "white",
           "landcolor": "#E5ECF6",
           "showlakes": true,
           "showland": true,
           "subunitcolor": "white"
          },
          "hoverlabel": {
           "align": "left"
          },
          "hovermode": "closest",
          "mapbox": {
           "style": "light"
          },
          "paper_bgcolor": "white",
          "plot_bgcolor": "#E5ECF6",
          "polar": {
           "angularaxis": {
            "gridcolor": "white",
            "linecolor": "white",
            "ticks": ""
           },
           "bgcolor": "#E5ECF6",
           "radialaxis": {
            "gridcolor": "white",
            "linecolor": "white",
            "ticks": ""
           }
          },
          "scene": {
           "xaxis": {
            "backgroundcolor": "#E5ECF6",
            "gridcolor": "white",
            "gridwidth": 2,
            "linecolor": "white",
            "showbackground": true,
            "ticks": "",
            "zerolinecolor": "white"
           },
           "yaxis": {
            "backgroundcolor": "#E5ECF6",
            "gridcolor": "white",
            "gridwidth": 2,
            "linecolor": "white",
            "showbackground": true,
            "ticks": "",
            "zerolinecolor": "white"
           },
           "zaxis": {
            "backgroundcolor": "#E5ECF6",
            "gridcolor": "white",
            "gridwidth": 2,
            "linecolor": "white",
            "showbackground": true,
            "ticks": "",
            "zerolinecolor": "white"
           }
          },
          "shapedefaults": {
           "line": {
            "color": "#2a3f5f"
           }
          },
          "ternary": {
           "aaxis": {
            "gridcolor": "white",
            "linecolor": "white",
            "ticks": ""
           },
           "baxis": {
            "gridcolor": "white",
            "linecolor": "white",
            "ticks": ""
           },
           "bgcolor": "#E5ECF6",
           "caxis": {
            "gridcolor": "white",
            "linecolor": "white",
            "ticks": ""
           }
          },
          "title": {
           "x": 0.05
          },
          "xaxis": {
           "automargin": true,
           "gridcolor": "white",
           "linecolor": "white",
           "ticks": "",
           "zerolinecolor": "white",
           "zerolinewidth": 2
          },
          "yaxis": {
           "automargin": true,
           "gridcolor": "white",
           "linecolor": "white",
           "ticks": "",
           "zerolinecolor": "white",
           "zerolinewidth": 2
          }
         }
        },
        "title": {
         "text": "2017 Background Checks Per State<br>Note: Kentucky performs monthly checks on concealed carry permit holders <br>(Hover for breakdown)"
        }
       }
      },
      "text/html": [
       "<div>\n",
       "        \n",
       "        \n",
       "            <div id=\"eea84af5-be89-4456-8699-b8d2179342a4\" class=\"plotly-graph-div\" style=\"height:525px; width:100%;\"></div>\n",
       "            <script type=\"text/javascript\">\n",
       "                require([\"plotly\"], function(Plotly) {\n",
       "                    window.PLOTLYENV=window.PLOTLYENV || {};\n",
       "                    \n",
       "                if (document.getElementById(\"eea84af5-be89-4456-8699-b8d2179342a4\")) {\n",
       "                    Plotly.newPlot(\n",
       "                        'eea84af5-be89-4456-8699-b8d2179342a4',\n",
       "                        [{\"autocolorscale\": false, \"colorbar\": {\"title\": {\"text\": \"Millions\"}}, \"colorscale\": [[0.0, \"rgb(255,245,240)\"], [0.125, \"rgb(254,224,210)\"], [0.25, \"rgb(252,187,161)\"], [0.375, \"rgb(252,146,114)\"], [0.5, \"rgb(251,106,74)\"], [0.625, \"rgb(239,59,44)\"], [0.75, \"rgb(203,24,29)\"], [0.875, \"rgb(165,15,21)\"], [1.0, \"rgb(103,0,13)\"]], \"locationmode\": \"USA-states\", \"locations\": [\"AL\", \"AK\", \"AZ\", \"AR\", \"CA\", \"CO\", \"CT\", \"DE\", \"DC\", \"FL\", \"GA\", \"nan\", \"HI\", \"ID\", \"IL\", \"IN\", \"IA\", \"KS\", \"KY\", \"LA\", \"ME\", \"nan\", \"MD\", \"MA\", \"MI\", \"MN\", \"MS\", \"MO\", \"MT\", \"NE\", \"NV\", \"NH\", \"NJ\", \"NM\", \"NY\", \"NC\", \"ND\", \"OH\", \"OK\", \"OR\", \"PA\", \"nan\", \"RI\", \"SC\", \"SD\", \"TN\", \"TX\", \"UT\", \"VT\", \"nan\", \"VA\", \"WA\", \"WV\", \"WI\", \"WY\"], \"marker\": {\"line\": {\"color\": \"black\"}}, \"text\": [\"Alabama<br>Total Background Checks 2017477345<br>Population 4,874,747<br>Populations Rank 24.0\", \"Alaska<br>Total Background Checks 201780839<br>Population 739,795<br>Populations Rank 48.0\", \"Arizona<br>Total Background Checks 2017384930<br>Population 7,016,270<br>Populations Rank 14.0\", \"Arkansas<br>Total Background Checks 2017237629<br>Population 3,004,279<br>Populations Rank 32.0\", \"California<br>Total Background Checks 20171570110<br>Population 39,536,653<br>Populations Rank 1.0\", \"Colorado<br>Total Background Checks 2017496995<br>Population 5,607,154<br>Populations Rank 21.0\", \"Connecticut<br>Total Background Checks 2017181779<br>Population 3,588,184<br>Populations Rank 29.0\", \"Delaware<br>Total Background Checks 201750639<br>Population 961,939<br>Populations Rank 45.0\", \"District of Columbia<br>Total Background Checks 20171540<br>Population nan<br>Populations Rank nan\", \"Florida<br>Total Background Checks 20171276549<br>Population 20,984,400<br>Populations Rank 3.0\", \"Georgia<br>Total Background Checks 2017541655<br>Population 10,429,379<br>Populations Rank 8.0\", \"Guam<br>Total Background Checks 20171815<br>Population nan<br>Populations Rank nan\", \"Hawaii<br>Total Background Checks 201712742<br>Population 1,427,538<br>Populations Rank 40.0\", \"Idaho<br>Total Background Checks 2017182099<br>Population 1,716,943<br>Populations Rank 39.0\", \"Illinois<br>Total Background Checks 20171601087<br>Population 12,802,023<br>Populations Rank 6.0\", \"Indiana<br>Total Background Checks 2017830357<br>Population 6,666,818<br>Populations Rank 17.0\", \"Iowa<br>Total Background Checks 2017160981<br>Population 3,145,711<br>Populations Rank 30.0\", \"Kansas<br>Total Background Checks 2017191451<br>Population 2,913,123<br>Populations Rank 35.0\", \"Kentucky<br>Total Background Checks 20174641480<br>Population 4,454,189<br>Populations Rank 26.0\", \"Louisiana<br>Total Background Checks 2017329201<br>Population 4,684,333<br>Populations Rank 25.0\", \"Maine<br>Total Background Checks 201796590<br>Population 1,335,907<br>Populations Rank 42.0\", \"Mariana Islands<br>Total Background Checks 2017159<br>Population nan<br>Populations Rank nan\", \"Maryland<br>Total Background Checks 2017158659<br>Population 6,052,177<br>Populations Rank 19.0\", \"Massachusetts<br>Total Background Checks 2017206492<br>Population 6,859,819<br>Populations Rank 15.0\", \"Michigan<br>Total Background Checks 2017513243<br>Population 9,962,311<br>Populations Rank 10.0\", \"Minnesota<br>Total Background Checks 2017683544<br>Population 5,576,606<br>Populations Rank 22.0\", \"Mississippi<br>Total Background Checks 2017251852<br>Population 2,984,100<br>Populations Rank 34.0\", \"Missouri<br>Total Background Checks 2017524973<br>Population 6,113,532<br>Populations Rank 18.0\", \"Montana<br>Total Background Checks 2017123938<br>Population 1,050,493<br>Populations Rank 44.0\", \"Nebraska<br>Total Background Checks 201774318<br>Population 1,920,076<br>Populations Rank 37.0\", \"Nevada<br>Total Background Checks 2017129622<br>Population 2,998,039<br>Populations Rank 33.0\", \"New Hampshire<br>Total Background Checks 2017129090<br>Population 1,342,795<br>Populations Rank 41.0\", \"New Jersey<br>Total Background Checks 2017103739<br>Population 9,005,644<br>Populations Rank 11.0\", \"New Mexico<br>Total Background Checks 2017159779<br>Population 2,088,070<br>Populations Rank 36.0\", \"New York<br>Total Background Checks 2017382495<br>Population 19,849,399<br>Populations Rank 4.0\", \"North Carolina<br>Total Background Checks 2017537813<br>Population 10,273,419<br>Populations Rank 9.0\", \"North Dakota<br>Total Background Checks 201766977<br>Population 755,393<br>Populations Rank 47.0\", \"Ohio<br>Total Background Checks 2017753072<br>Population 11,658,609<br>Populations Rank 7.0\", \"Oklahoma<br>Total Background Checks 2017334351<br>Population 3,930,864<br>Populations Rank 28.0\", \"Oregon<br>Total Background Checks 2017341167<br>Population 4,142,776<br>Populations Rank 27.0\", \"Pennsylvania<br>Total Background Checks 20171062651<br>Population 12,805,537<br>Populations Rank 5.0\", \"Puerto Rico<br>Total Background Checks 201718811<br>Population nan<br>Populations Rank nan\", \"Rhode Island<br>Total Background Checks 201724677<br>Population 1,059,639<br>Populations Rank 43.0\", \"South Carolina<br>Total Background Checks 2017396920<br>Population 5,024,369<br>Populations Rank 23.0\", \"South Dakota<br>Total Background Checks 201798573<br>Population 869,666<br>Populations Rank 46.0\", \"Tennessee<br>Total Background Checks 2017767953<br>Population 6,715,984<br>Populations Rank 16.0\", \"Texas<br>Total Background Checks 20171549434<br>Population 28,304,596<br>Populations Rank 2.0\", \"Utah<br>Total Background Checks 2017270477<br>Population 3,101,833<br>Populations Rank 31.0\", \"Vermont<br>Total Background Checks 201737610<br>Population 623,657<br>Populations Rank 49.0\", \"Virgin Islands<br>Total Background Checks 20171210<br>Population nan<br>Populations Rank nan\", \"Virginia<br>Total Background Checks 2017520827<br>Population 8,470,020<br>Populations Rank 12.0\", \"Washington<br>Total Background Checks 2017579678<br>Population 7,405,743<br>Populations Rank 13.0\", \"West Virginia<br>Total Background Checks 2017222768<br>Population 1,815,857<br>Populations Rank 38.0\", \"Wisconsin<br>Total Background Checks 2017526523<br>Population 5,795,483<br>Populations Rank 20.0\", \"Wyoming<br>Total Background Checks 201754711<br>Population 579,315<br>Populations Rank 50.0\"], \"type\": \"choropleth\", \"z\": [477345.0, 80839.0, 384930.0, 237629.0, 1570110.0, 496995.0, 181779.0, 50639.0, 1540.0, 1276549.0, 541655.0, 1815.0, 12742.0, 182099.0, 1601087.0, 830357.0, 160981.0, 191451.0, 4641480.0, 329201.0, 96590.0, 159.0, 158659.0, 206492.0, 513243.0, 683544.0, 251852.0, 524973.0, 123938.0, 74318.0, 129622.0, 129090.0, 103739.0, 159779.0, 382495.0, 537813.0, 66977.0, 753072.0, 334351.0, 341167.0, 1062651.0, 18811.0, 24677.0, 396920.0, 98573.0, 767953.0, 1549434.0, 270477.0, 37610.0, 1210.0, 520827.0, 579678.0, 222768.0, 526523.0, 54711.0]}],\n",
       "                        {\"geo\": {\"lakecolor\": \"rgb(255, 255, 255)\", \"projection\": {\"type\": \"albers usa\"}, \"scope\": \"usa\", \"showlakes\": true}, \"template\": {\"data\": {\"bar\": [{\"error_x\": {\"color\": \"#2a3f5f\"}, \"error_y\": {\"color\": \"#2a3f5f\"}, \"marker\": {\"line\": {\"color\": \"#E5ECF6\", \"width\": 0.5}}, \"type\": \"bar\"}], \"barpolar\": [{\"marker\": {\"line\": {\"color\": \"#E5ECF6\", \"width\": 0.5}}, \"type\": \"barpolar\"}], \"carpet\": [{\"aaxis\": {\"endlinecolor\": \"#2a3f5f\", \"gridcolor\": \"white\", \"linecolor\": \"white\", \"minorgridcolor\": \"white\", \"startlinecolor\": \"#2a3f5f\"}, \"baxis\": {\"endlinecolor\": \"#2a3f5f\", \"gridcolor\": \"white\", \"linecolor\": \"white\", \"minorgridcolor\": \"white\", \"startlinecolor\": \"#2a3f5f\"}, \"type\": \"carpet\"}], \"choropleth\": [{\"colorbar\": {\"outlinewidth\": 0, \"ticks\": \"\"}, \"type\": \"choropleth\"}], \"contour\": [{\"colorbar\": {\"outlinewidth\": 0, \"ticks\": \"\"}, \"colorscale\": [[0.0, \"#0d0887\"], [0.1111111111111111, \"#46039f\"], [0.2222222222222222, \"#7201a8\"], [0.3333333333333333, \"#9c179e\"], [0.4444444444444444, \"#bd3786\"], [0.5555555555555556, \"#d8576b\"], [0.6666666666666666, \"#ed7953\"], [0.7777777777777778, \"#fb9f3a\"], [0.8888888888888888, \"#fdca26\"], [1.0, \"#f0f921\"]], \"type\": \"contour\"}], \"contourcarpet\": [{\"colorbar\": {\"outlinewidth\": 0, \"ticks\": \"\"}, \"type\": \"contourcarpet\"}], \"heatmap\": [{\"colorbar\": {\"outlinewidth\": 0, \"ticks\": \"\"}, \"colorscale\": [[0.0, \"#0d0887\"], [0.1111111111111111, \"#46039f\"], [0.2222222222222222, \"#7201a8\"], [0.3333333333333333, \"#9c179e\"], [0.4444444444444444, \"#bd3786\"], [0.5555555555555556, \"#d8576b\"], [0.6666666666666666, \"#ed7953\"], [0.7777777777777778, \"#fb9f3a\"], [0.8888888888888888, \"#fdca26\"], [1.0, \"#f0f921\"]], \"type\": \"heatmap\"}], \"heatmapgl\": [{\"colorbar\": {\"outlinewidth\": 0, \"ticks\": \"\"}, \"colorscale\": [[0.0, \"#0d0887\"], [0.1111111111111111, \"#46039f\"], [0.2222222222222222, \"#7201a8\"], [0.3333333333333333, \"#9c179e\"], [0.4444444444444444, \"#bd3786\"], [0.5555555555555556, \"#d8576b\"], [0.6666666666666666, \"#ed7953\"], [0.7777777777777778, \"#fb9f3a\"], [0.8888888888888888, \"#fdca26\"], [1.0, \"#f0f921\"]], \"type\": \"heatmapgl\"}], \"histogram\": [{\"marker\": {\"colorbar\": {\"outlinewidth\": 0, \"ticks\": \"\"}}, \"type\": \"histogram\"}], \"histogram2d\": [{\"colorbar\": {\"outlinewidth\": 0, \"ticks\": \"\"}, \"colorscale\": [[0.0, \"#0d0887\"], [0.1111111111111111, \"#46039f\"], [0.2222222222222222, \"#7201a8\"], [0.3333333333333333, \"#9c179e\"], [0.4444444444444444, \"#bd3786\"], [0.5555555555555556, \"#d8576b\"], [0.6666666666666666, \"#ed7953\"], [0.7777777777777778, \"#fb9f3a\"], [0.8888888888888888, \"#fdca26\"], [1.0, \"#f0f921\"]], \"type\": \"histogram2d\"}], \"histogram2dcontour\": [{\"colorbar\": {\"outlinewidth\": 0, \"ticks\": \"\"}, \"colorscale\": [[0.0, \"#0d0887\"], [0.1111111111111111, \"#46039f\"], [0.2222222222222222, \"#7201a8\"], [0.3333333333333333, \"#9c179e\"], [0.4444444444444444, \"#bd3786\"], [0.5555555555555556, \"#d8576b\"], [0.6666666666666666, \"#ed7953\"], [0.7777777777777778, \"#fb9f3a\"], [0.8888888888888888, \"#fdca26\"], [1.0, \"#f0f921\"]], \"type\": \"histogram2dcontour\"}], \"mesh3d\": [{\"colorbar\": {\"outlinewidth\": 0, \"ticks\": \"\"}, \"type\": \"mesh3d\"}], \"parcoords\": [{\"line\": {\"colorbar\": {\"outlinewidth\": 0, \"ticks\": \"\"}}, \"type\": \"parcoords\"}], \"scatter\": [{\"marker\": {\"colorbar\": {\"outlinewidth\": 0, \"ticks\": \"\"}}, \"type\": \"scatter\"}], \"scatter3d\": [{\"line\": {\"colorbar\": {\"outlinewidth\": 0, \"ticks\": \"\"}}, \"marker\": {\"colorbar\": {\"outlinewidth\": 0, \"ticks\": \"\"}}, \"type\": \"scatter3d\"}], \"scattercarpet\": [{\"marker\": {\"colorbar\": {\"outlinewidth\": 0, \"ticks\": \"\"}}, \"type\": \"scattercarpet\"}], \"scattergeo\": [{\"marker\": {\"colorbar\": {\"outlinewidth\": 0, \"ticks\": \"\"}}, \"type\": \"scattergeo\"}], \"scattergl\": [{\"marker\": {\"colorbar\": {\"outlinewidth\": 0, \"ticks\": \"\"}}, \"type\": \"scattergl\"}], \"scattermapbox\": [{\"marker\": {\"colorbar\": {\"outlinewidth\": 0, \"ticks\": \"\"}}, \"type\": \"scattermapbox\"}], \"scatterpolar\": [{\"marker\": {\"colorbar\": {\"outlinewidth\": 0, \"ticks\": \"\"}}, \"type\": \"scatterpolar\"}], \"scatterpolargl\": [{\"marker\": {\"colorbar\": {\"outlinewidth\": 0, \"ticks\": \"\"}}, \"type\": \"scatterpolargl\"}], \"scatterternary\": [{\"marker\": {\"colorbar\": {\"outlinewidth\": 0, \"ticks\": \"\"}}, \"type\": \"scatterternary\"}], \"surface\": [{\"colorbar\": {\"outlinewidth\": 0, \"ticks\": \"\"}, \"colorscale\": [[0.0, \"#0d0887\"], [0.1111111111111111, \"#46039f\"], [0.2222222222222222, \"#7201a8\"], [0.3333333333333333, \"#9c179e\"], [0.4444444444444444, \"#bd3786\"], [0.5555555555555556, \"#d8576b\"], [0.6666666666666666, \"#ed7953\"], [0.7777777777777778, \"#fb9f3a\"], [0.8888888888888888, \"#fdca26\"], [1.0, \"#f0f921\"]], \"type\": \"surface\"}], \"table\": [{\"cells\": {\"fill\": {\"color\": \"#EBF0F8\"}, \"line\": {\"color\": \"white\"}}, \"header\": {\"fill\": {\"color\": \"#C8D4E3\"}, \"line\": {\"color\": \"white\"}}, \"type\": \"table\"}]}, \"layout\": {\"annotationdefaults\": {\"arrowcolor\": \"#2a3f5f\", \"arrowhead\": 0, \"arrowwidth\": 1}, \"colorscale\": {\"diverging\": [[0, \"#8e0152\"], [0.1, \"#c51b7d\"], [0.2, \"#de77ae\"], [0.3, \"#f1b6da\"], [0.4, \"#fde0ef\"], [0.5, \"#f7f7f7\"], [0.6, \"#e6f5d0\"], [0.7, \"#b8e186\"], [0.8, \"#7fbc41\"], [0.9, \"#4d9221\"], [1, \"#276419\"]], \"sequential\": [[0.0, \"#0d0887\"], [0.1111111111111111, \"#46039f\"], [0.2222222222222222, \"#7201a8\"], [0.3333333333333333, \"#9c179e\"], [0.4444444444444444, \"#bd3786\"], [0.5555555555555556, \"#d8576b\"], [0.6666666666666666, \"#ed7953\"], [0.7777777777777778, \"#fb9f3a\"], [0.8888888888888888, \"#fdca26\"], [1.0, \"#f0f921\"]], \"sequentialminus\": [[0.0, \"#0d0887\"], [0.1111111111111111, \"#46039f\"], [0.2222222222222222, \"#7201a8\"], [0.3333333333333333, \"#9c179e\"], [0.4444444444444444, \"#bd3786\"], [0.5555555555555556, \"#d8576b\"], [0.6666666666666666, \"#ed7953\"], [0.7777777777777778, \"#fb9f3a\"], [0.8888888888888888, \"#fdca26\"], [1.0, \"#f0f921\"]]}, \"colorway\": [\"#636efa\", \"#EF553B\", \"#00cc96\", \"#ab63fa\", \"#FFA15A\", \"#19d3f3\", \"#FF6692\", \"#B6E880\", \"#FF97FF\", \"#FECB52\"], \"font\": {\"color\": \"#2a3f5f\"}, \"geo\": {\"bgcolor\": \"white\", \"lakecolor\": \"white\", \"landcolor\": \"#E5ECF6\", \"showlakes\": true, \"showland\": true, \"subunitcolor\": \"white\"}, \"hoverlabel\": {\"align\": \"left\"}, \"hovermode\": \"closest\", \"mapbox\": {\"style\": \"light\"}, \"paper_bgcolor\": \"white\", \"plot_bgcolor\": \"#E5ECF6\", \"polar\": {\"angularaxis\": {\"gridcolor\": \"white\", \"linecolor\": \"white\", \"ticks\": \"\"}, \"bgcolor\": \"#E5ECF6\", \"radialaxis\": {\"gridcolor\": \"white\", \"linecolor\": \"white\", \"ticks\": \"\"}}, \"scene\": {\"xaxis\": {\"backgroundcolor\": \"#E5ECF6\", \"gridcolor\": \"white\", \"gridwidth\": 2, \"linecolor\": \"white\", \"showbackground\": true, \"ticks\": \"\", \"zerolinecolor\": \"white\"}, \"yaxis\": {\"backgroundcolor\": \"#E5ECF6\", \"gridcolor\": \"white\", \"gridwidth\": 2, \"linecolor\": \"white\", \"showbackground\": true, \"ticks\": \"\", \"zerolinecolor\": \"white\"}, \"zaxis\": {\"backgroundcolor\": \"#E5ECF6\", \"gridcolor\": \"white\", \"gridwidth\": 2, \"linecolor\": \"white\", \"showbackground\": true, \"ticks\": \"\", \"zerolinecolor\": \"white\"}}, \"shapedefaults\": {\"line\": {\"color\": \"#2a3f5f\"}}, \"ternary\": {\"aaxis\": {\"gridcolor\": \"white\", \"linecolor\": \"white\", \"ticks\": \"\"}, \"baxis\": {\"gridcolor\": \"white\", \"linecolor\": \"white\", \"ticks\": \"\"}, \"bgcolor\": \"#E5ECF6\", \"caxis\": {\"gridcolor\": \"white\", \"linecolor\": \"white\", \"ticks\": \"\"}}, \"title\": {\"x\": 0.05}, \"xaxis\": {\"automargin\": true, \"gridcolor\": \"white\", \"linecolor\": \"white\", \"ticks\": \"\", \"zerolinecolor\": \"white\", \"zerolinewidth\": 2}, \"yaxis\": {\"automargin\": true, \"gridcolor\": \"white\", \"linecolor\": \"white\", \"ticks\": \"\", \"zerolinecolor\": \"white\", \"zerolinewidth\": 2}}}, \"title\": {\"text\": \"2017 Background Checks Per State<br>Note: Kentucky performs monthly checks on concealed carry permit holders <br>(Hover for breakdown)\"}},\n",
       "                        {\"responsive\": true}\n",
       "                    ).then(function(){\n",
       "                            \n",
       "var gd = document.getElementById('eea84af5-be89-4456-8699-b8d2179342a4');\n",
       "var x = new MutationObserver(function (mutations, observer) {{\n",
       "        var display = window.getComputedStyle(gd).display;\n",
       "        if (!display || display === 'none') {{\n",
       "            console.log([gd, 'removed!']);\n",
       "            Plotly.purge(gd);\n",
       "            observer.disconnect();\n",
       "        }}\n",
       "}});\n",
       "\n",
       "// Listen for the removal of the full notebook cells\n",
       "var notebookContainer = gd.closest('#notebook-container');\n",
       "if (notebookContainer) {{\n",
       "    x.observe(notebookContainer, {childList: true});\n",
       "}}\n",
       "\n",
       "// Listen for the clearing of the current output cell\n",
       "var outputEl = gd.closest('.output');\n",
       "if (outputEl) {{\n",
       "    x.observe(outputEl, {childList: true});\n",
       "}}\n",
       "\n",
       "                        })\n",
       "                };\n",
       "                });\n",
       "            </script>\n",
       "        </div>"
      ]
     },
     "metadata": {},
     "output_type": "display_data"
    }
   ],
   "source": [
    "for col in df.columns:\n",
    "    df[col] = df[col].astype(str)\n",
    "\n",
    "df['text'] = df['state'] + '<br>' + \\\n",
    "    'Total Background Checks 2017' + df['totals'] + '<br>' + \\\n",
    "    'Population ' + df['population'] + '<br>' + \\\n",
    "    'Populations Rank ' + df['pop_rank']\n",
    "    \n",
    "plt = go.Figure(data=go.Choropleth(\n",
    "    #state digraph = location code\n",
    "    locations=df['code'],\n",
    "    z=df['totals'].astype(float),\n",
    "    locationmode='USA-states',\n",
    "    colorscale='Reds',\n",
    "    autocolorscale=False,\n",
    "    text=df['text'], # hover text\n",
    "    marker_line_color='black', # line markers between states\n",
    "    colorbar_title=\"Millions\"\n",
    "))\n",
    "\n",
    "plt.update_layout(\n",
    "    title_text='2017 Background Checks Per State<br>Note: Kentucky performs monthly checks on concealed carry permit holders <br>(Hover for breakdown)',\n",
    "    #title_text=('Note: Kentucky performs monthly checks on Concealed Permit Holders'),\n",
    "    geo = dict(\n",
    "        scope='usa',\n",
    "        projection=go.layout.geo.Projection(type = 'albers usa'),\n",
    "        showlakes=True, # lakes\n",
    "        lakecolor='rgb(255, 255, 255)'),\n",
    ")\n",
    "#plt.savefig('output/transactions2017.png', bbox_inches=\"tight\")\n",
    "#plt.savefig('output/transactions2017.png')\n",
    "plt.show()"
   ]
  },
  {
   "cell_type": "code",
   "execution_count": null,
   "metadata": {},
   "outputs": [],
   "source": [
    "## get key from os\n",
    "api_key = os.environ.get('crime_data_api_key')\n",
    "#print(api_key)\n",
    "\n",
    "# URL for National Incident Based Reporting System (NIBRS) - Violent Crimes API call\n",
    "url = 'https://api.usa.gov/crime/fbi/sapi/api/data/nibrs/violent-crime/offense/national/count?'\n",
    "\n",
    "query_url = url + 'api_key=' + api_key \n",
    "#print(query_url)"
   ]
  },
  {
   "cell_type": "code",
   "execution_count": null,
   "metadata": {},
   "outputs": [],
   "source": [
    "crime_data = requests.get(query_url).json()"
   ]
  },
  {
   "cell_type": "code",
   "execution_count": null,
   "metadata": {},
   "outputs": [],
   "source": [
    "#print(json.dumps(crime_data, indent=4, sort_keys=True))"
   ]
  },
  {
   "cell_type": "code",
   "execution_count": null,
   "metadata": {},
   "outputs": [],
   "source": [
    "crime_data['results'][0]"
   ]
  },
  {
   "cell_type": "code",
   "execution_count": null,
   "metadata": {},
   "outputs": [],
   "source": [
    "data_dict = crime_data['results']"
   ]
  },
  {
   "cell_type": "code",
   "execution_count": null,
   "metadata": {},
   "outputs": [],
   "source": [
    "df = pd.DataFrame(data_dict)\n",
    "#df = df.drop(columns=['incident_count'])\n",
    "df['data_year'] = df['data_year'].apply(np.int64)\n",
    "df = df.sort_values('data_year')\n",
    "#df.head(8)\n",
    "\n",
    "#df.to_csv('offense_api_data.csv', header=True, index=True, index_label= 'Index')\n",
    "df.head(2)"
   ]
  },
  {
   "cell_type": "code",
   "execution_count": null,
   "metadata": {},
   "outputs": [],
   "source": [
    "# Normalize NIBRS Violent Crime data to same years as Background Checks\n",
    "df_mo = df[(df['data_year'] >= 1998 ) & (df['data_year'] <= 2019)].groupby(['data_year'])['offense_count'].sum()\n",
    "#df_mo.head()"
   ]
  },
  {
   "cell_type": "code",
   "execution_count": null,
   "metadata": {},
   "outputs": [],
   "source": [
    "# Plot the National Incident Based Reporting System (NIBRS) - Violent Crimes Data \n",
    "ax1 = df_mo.plot.bar(x='data_year', y='offense_count')\n",
    "\n",
    "# Adding grid, title, and labels\n",
    "plt.grid(True)\n",
    "plt.title('NIBRS - Violent Crimes')\n",
    "#plt.xlabel('x label text')\n",
    "#plt.ylabel('y label text')\n",
    "\n",
    "plt.axvline(x=14, ymin=0, ymax=1, color=\"r\")\n",
    "plt.axvline(x=18, ymin=0, ymax=1, color=\"r\")\n",
    "\n",
    "plt.savefig('output/NIBRS_Violent_Crimes.png', bbox_inches=\"tight\")"
   ]
  }
 ],
 "metadata": {
  "kernelspec": {
   "display_name": "Python 3",
   "language": "python",
   "name": "python3"
  },
  "language_info": {
   "codemirror_mode": {
    "name": "ipython",
    "version": 3
   },
   "file_extension": ".py",
   "mimetype": "text/x-python",
   "name": "python",
   "nbconvert_exporter": "python",
   "pygments_lexer": "ipython3",
   "version": "3.7.3"
  }
 },
 "nbformat": 4,
 "nbformat_minor": 2
}
