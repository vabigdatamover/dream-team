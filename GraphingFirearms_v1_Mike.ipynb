{
 "cells": [
  {
   "cell_type": "markdown",
   "metadata": {},
   "source": [
    "Graphing Fireams in America"
   ]
  },
  {
   "cell_type": "markdown",
   "metadata": {},
   "source": [
    "Team members Tulgaa, Mike, Enerel and Gene into Github account https://github.com/vabigdatamover/dream-team"
   ]
  },
  {
   "cell_type": "code",
   "execution_count": 1,
   "metadata": {},
   "outputs": [],
   "source": [
    "#Variable, dependables and setup\n",
    "%matplotlib inline\n",
    "# Dependencies and Setup\n",
    "import pandas as pd\n",
    "import numpy as np\n",
    "import requests\n",
    "import json\n",
    "import seaborn as sns\n",
    "import matplotlib.pyplot as plt\n",
    "import time\n",
    "import datetime\n",
    "import sys\n",
    "import csv\n",
    "import os\n",
    "from pprint import pprint\n",
    "from pandas import DataFrame\n",
    "import datetime as dt\n",
    "\n"
   ]
  },
  {
   "cell_type": "code",
   "execution_count": 2,
   "metadata": {},
   "outputs": [],
   "source": [
    "## get key from os\n",
    "#api_key = os.environ.get('weather_api_key')\n",
    "api_key = os.environ.get('crime_data_api_key')\n",
    "#print(api_key)\n",
    "\n",
    "#url = 'https://api.usa.gov/crime/fbi/sapi/api/participation/national?'\n",
    "url = 'https://api.usa.gov/crime/fbi/sapi/api/estimates/national/2015/2019?'\n",
    "query_url = url + 'api_key=' + api_key\n",
    "#print(query_url)"
   ]
  },
  {
   "cell_type": "code",
   "execution_count": 3,
   "metadata": {},
   "outputs": [],
   "source": [
    "#query_url = 'https://api.usa.gov/crime/fbi/sapi/api/participation/national?api_key=ClcjXmdcuteAVdO0KSC6tVc8TARjLgKJ7OPBXdai'\n",
    "#print(query_url)"
   ]
  },
  {
   "cell_type": "code",
   "execution_count": 4,
   "metadata": {},
   "outputs": [],
   "source": [
    "#https://api.usa.gov/crime/fbi/sapi/api/estimates/national/2015-01/2019-01?API_KEY=iiHnOKfno2Mgkt5AynpvPpUQTEyxE77jo1RU8PIv"
   ]
  },
  {
   "cell_type": "code",
   "execution_count": 5,
   "metadata": {},
   "outputs": [],
   "source": [
    "crime_data = requests.get(query_url).json()"
   ]
  },
  {
   "cell_type": "code",
   "execution_count": 6,
   "metadata": {
    "scrolled": false
   },
   "outputs": [
    {
     "data": {
      "text/plain": [
       "{'results': [{'state_id': None,\n",
       "   'state_abbr': '',\n",
       "   'year': 2016,\n",
       "   'population': 323405935,\n",
       "   'violent_crime': 1285606,\n",
       "   'homicide': 17413,\n",
       "   'rape_legacy': 96970,\n",
       "   'rape_revised': 132414,\n",
       "   'robbery': 332797,\n",
       "   'aggravated_assault': 802982,\n",
       "   'property_crime': 7928530,\n",
       "   'burglary': 1516405,\n",
       "   'larceny': 5644835,\n",
       "   'motor_vehicle_theft': 767290,\n",
       "   'arson': 45729},\n",
       "  {'state_id': None,\n",
       "   'state_abbr': '',\n",
       "   'year': 2017,\n",
       "   'population': 325719178,\n",
       "   'violent_crime': 1283220,\n",
       "   'homicide': 17284,\n",
       "   'rape_legacy': 99856,\n",
       "   'rape_revised': 135755,\n",
       "   'robbery': 319356,\n",
       "   'aggravated_assault': 810825,\n",
       "   'property_crime': 7694086,\n",
       "   'burglary': 1401840,\n",
       "   'larceny': 5519107,\n",
       "   'motor_vehicle_theft': 773139,\n",
       "   'arson': 42323},\n",
       "  {'state_id': None,\n",
       "   'state_abbr': '',\n",
       "   'year': 2015,\n",
       "   'population': 320896618,\n",
       "   'violent_crime': 1199310,\n",
       "   'homicide': 15883,\n",
       "   'rape_legacy': 91261,\n",
       "   'rape_revised': 126134,\n",
       "   'robbery': 328109,\n",
       "   'aggravated_assault': 764057,\n",
       "   'property_crime': 8024115,\n",
       "   'burglary': 1587564,\n",
       "   'larceny': 5723488,\n",
       "   'motor_vehicle_theft': 713063,\n",
       "   'arson': 43993}],\n",
       " 'pagination': {'count': 3, 'page': 0, 'pages': 1, 'per_page': 0}}"
      ]
     },
     "execution_count": 6,
     "metadata": {},
     "output_type": "execute_result"
    }
   ],
   "source": [
    "crime_data"
   ]
  },
  {
   "cell_type": "code",
   "execution_count": 7,
   "metadata": {},
   "outputs": [
    {
     "data": {
      "text/plain": [
       "{'results': [{'state_id': None,\n",
       "   'state_abbr': '',\n",
       "   'year': 2016,\n",
       "   'population': 323405935,\n",
       "   'violent_crime': 1285606,\n",
       "   'homicide': 17413,\n",
       "   'rape_legacy': 96970,\n",
       "   'rape_revised': 132414,\n",
       "   'robbery': 332797,\n",
       "   'aggravated_assault': 802982,\n",
       "   'property_crime': 7928530,\n",
       "   'burglary': 1516405,\n",
       "   'larceny': 5644835,\n",
       "   'motor_vehicle_theft': 767290,\n",
       "   'arson': 45729},\n",
       "  {'state_id': None,\n",
       "   'state_abbr': '',\n",
       "   'year': 2017,\n",
       "   'population': 325719178,\n",
       "   'violent_crime': 1283220,\n",
       "   'homicide': 17284,\n",
       "   'rape_legacy': 99856,\n",
       "   'rape_revised': 135755,\n",
       "   'robbery': 319356,\n",
       "   'aggravated_assault': 810825,\n",
       "   'property_crime': 7694086,\n",
       "   'burglary': 1401840,\n",
       "   'larceny': 5519107,\n",
       "   'motor_vehicle_theft': 773139,\n",
       "   'arson': 42323},\n",
       "  {'state_id': None,\n",
       "   'state_abbr': '',\n",
       "   'year': 2015,\n",
       "   'population': 320896618,\n",
       "   'violent_crime': 1199310,\n",
       "   'homicide': 15883,\n",
       "   'rape_legacy': 91261,\n",
       "   'rape_revised': 126134,\n",
       "   'robbery': 328109,\n",
       "   'aggravated_assault': 764057,\n",
       "   'property_crime': 8024115,\n",
       "   'burglary': 1587564,\n",
       "   'larceny': 5723488,\n",
       "   'motor_vehicle_theft': 713063,\n",
       "   'arson': 43993}],\n",
       " 'pagination': {'count': 3, 'page': 0, 'pages': 1, 'per_page': 0}}"
      ]
     },
     "execution_count": 7,
     "metadata": {},
     "output_type": "execute_result"
    }
   ],
   "source": [
    "s_2 = crime_data\n",
    "s_2"
   ]
  },
  {
   "cell_type": "code",
   "execution_count": 8,
   "metadata": {},
   "outputs": [
    {
     "data": {
      "text/plain": [
       "{'results': [{'state_id': None,\n",
       "   'state_abbr': '',\n",
       "   'year': 2016,\n",
       "   'population': 323405935,\n",
       "   'violent_crime': 1285606,\n",
       "   'homicide': 17413,\n",
       "   'rape_legacy': 96970,\n",
       "   'rape_revised': 132414,\n",
       "   'robbery': 332797,\n",
       "   'aggravated_assault': 802982,\n",
       "   'property_crime': 7928530,\n",
       "   'burglary': 1516405,\n",
       "   'larceny': 5644835,\n",
       "   'motor_vehicle_theft': 767290,\n",
       "   'arson': 45729},\n",
       "  {'state_id': None,\n",
       "   'state_abbr': '',\n",
       "   'year': 2017,\n",
       "   'population': 325719178,\n",
       "   'violent_crime': 1283220,\n",
       "   'homicide': 17284,\n",
       "   'rape_legacy': 99856,\n",
       "   'rape_revised': 135755,\n",
       "   'robbery': 319356,\n",
       "   'aggravated_assault': 810825,\n",
       "   'property_crime': 7694086,\n",
       "   'burglary': 1401840,\n",
       "   'larceny': 5519107,\n",
       "   'motor_vehicle_theft': 773139,\n",
       "   'arson': 42323},\n",
       "  {'state_id': None,\n",
       "   'state_abbr': '',\n",
       "   'year': 2015,\n",
       "   'population': 320896618,\n",
       "   'violent_crime': 1199310,\n",
       "   'homicide': 15883,\n",
       "   'rape_legacy': 91261,\n",
       "   'rape_revised': 126134,\n",
       "   'robbery': 328109,\n",
       "   'aggravated_assault': 764057,\n",
       "   'property_crime': 8024115,\n",
       "   'burglary': 1587564,\n",
       "   'larceny': 5723488,\n",
       "   'motor_vehicle_theft': 713063,\n",
       "   'arson': 43993}],\n",
       " 'pagination': {'count': 3, 'page': 0, 'pages': 1, 'per_page': 0},\n",
       " 'state_id': 0}"
      ]
     },
     "execution_count": 8,
     "metadata": {},
     "output_type": "execute_result"
    }
   ],
   "source": [
    "s_2['state_id']= 0\n",
    "s_2"
   ]
  },
  {
   "cell_type": "code",
   "execution_count": 9,
   "metadata": {},
   "outputs": [],
   "source": [
    "#df = pd.DataFrame(s_2)\n",
    "#df.head()\n"
   ]
  },
  {
   "cell_type": "code",
   "execution_count": 10,
   "metadata": {},
   "outputs": [
    {
     "data": {
      "text/plain": [
       "{'state_id': None,\n",
       " 'state_abbr': '',\n",
       " 'year': 2016,\n",
       " 'population': 323405935,\n",
       " 'violent_crime': 1285606,\n",
       " 'homicide': 17413,\n",
       " 'rape_legacy': 96970,\n",
       " 'rape_revised': 132414,\n",
       " 'robbery': 332797,\n",
       " 'aggravated_assault': 802982,\n",
       " 'property_crime': 7928530,\n",
       " 'burglary': 1516405,\n",
       " 'larceny': 5644835,\n",
       " 'motor_vehicle_theft': 767290,\n",
       " 'arson': 45729}"
      ]
     },
     "execution_count": 10,
     "metadata": {},
     "output_type": "execute_result"
    }
   ],
   "source": [
    "s1 = crime_data[\"results\"][0]\n",
    "s1"
   ]
  },
  {
   "cell_type": "code",
   "execution_count": 11,
   "metadata": {},
   "outputs": [
    {
     "data": {
      "text/plain": [
       "{'state_id': [12, 13, 14],\n",
       " 'state_abbr': '',\n",
       " 'year': 2016,\n",
       " 'population': 323405935,\n",
       " 'violent_crime': 1285606,\n",
       " 'homicide': 17413,\n",
       " 'rape_legacy': 96970,\n",
       " 'rape_revised': 132414,\n",
       " 'robbery': 332797,\n",
       " 'aggravated_assault': 802982,\n",
       " 'property_crime': 7928530,\n",
       " 'burglary': 1516405,\n",
       " 'larceny': 5644835,\n",
       " 'motor_vehicle_theft': 767290,\n",
       " 'arson': 45729}"
      ]
     },
     "execution_count": 11,
     "metadata": {},
     "output_type": "execute_result"
    }
   ],
   "source": [
    "s1['state_id']=[12,13,14]\n",
    "s1"
   ]
  },
  {
   "cell_type": "code",
   "execution_count": 12,
   "metadata": {},
   "outputs": [],
   "source": [
    "#data_x =[]\n",
    "#data_x.append(crime_data)\n",
    "#data_x.head()"
   ]
  },
  {
   "cell_type": "code",
   "execution_count": 13,
   "metadata": {},
   "outputs": [
    {
     "data": {
      "text/html": [
       "<div>\n",
       "<style scoped>\n",
       "    .dataframe tbody tr th:only-of-type {\n",
       "        vertical-align: middle;\n",
       "    }\n",
       "\n",
       "    .dataframe tbody tr th {\n",
       "        vertical-align: top;\n",
       "    }\n",
       "\n",
       "    .dataframe thead th {\n",
       "        text-align: right;\n",
       "    }\n",
       "</style>\n",
       "<table border=\"1\" class=\"dataframe\">\n",
       "  <thead>\n",
       "    <tr style=\"text-align: right;\">\n",
       "      <th></th>\n",
       "      <th>state_id</th>\n",
       "      <th>state_abbr</th>\n",
       "      <th>year</th>\n",
       "      <th>population</th>\n",
       "      <th>violent_crime</th>\n",
       "      <th>homicide</th>\n",
       "      <th>rape_legacy</th>\n",
       "      <th>rape_revised</th>\n",
       "      <th>robbery</th>\n",
       "      <th>aggravated_assault</th>\n",
       "      <th>property_crime</th>\n",
       "      <th>burglary</th>\n",
       "      <th>larceny</th>\n",
       "      <th>motor_vehicle_theft</th>\n",
       "      <th>arson</th>\n",
       "    </tr>\n",
       "  </thead>\n",
       "  <tbody>\n",
       "    <tr>\n",
       "      <th>0</th>\n",
       "      <td>12</td>\n",
       "      <td></td>\n",
       "      <td>2016</td>\n",
       "      <td>323405935</td>\n",
       "      <td>1285606</td>\n",
       "      <td>17413</td>\n",
       "      <td>96970</td>\n",
       "      <td>132414</td>\n",
       "      <td>332797</td>\n",
       "      <td>802982</td>\n",
       "      <td>7928530</td>\n",
       "      <td>1516405</td>\n",
       "      <td>5644835</td>\n",
       "      <td>767290</td>\n",
       "      <td>45729</td>\n",
       "    </tr>\n",
       "    <tr>\n",
       "      <th>1</th>\n",
       "      <td>13</td>\n",
       "      <td></td>\n",
       "      <td>2016</td>\n",
       "      <td>323405935</td>\n",
       "      <td>1285606</td>\n",
       "      <td>17413</td>\n",
       "      <td>96970</td>\n",
       "      <td>132414</td>\n",
       "      <td>332797</td>\n",
       "      <td>802982</td>\n",
       "      <td>7928530</td>\n",
       "      <td>1516405</td>\n",
       "      <td>5644835</td>\n",
       "      <td>767290</td>\n",
       "      <td>45729</td>\n",
       "    </tr>\n",
       "    <tr>\n",
       "      <th>2</th>\n",
       "      <td>14</td>\n",
       "      <td></td>\n",
       "      <td>2016</td>\n",
       "      <td>323405935</td>\n",
       "      <td>1285606</td>\n",
       "      <td>17413</td>\n",
       "      <td>96970</td>\n",
       "      <td>132414</td>\n",
       "      <td>332797</td>\n",
       "      <td>802982</td>\n",
       "      <td>7928530</td>\n",
       "      <td>1516405</td>\n",
       "      <td>5644835</td>\n",
       "      <td>767290</td>\n",
       "      <td>45729</td>\n",
       "    </tr>\n",
       "  </tbody>\n",
       "</table>\n",
       "</div>"
      ],
      "text/plain": [
       "   state_id state_abbr  year  population  violent_crime  homicide  \\\n",
       "0        12             2016   323405935        1285606     17413   \n",
       "1        13             2016   323405935        1285606     17413   \n",
       "2        14             2016   323405935        1285606     17413   \n",
       "\n",
       "   rape_legacy  rape_revised  robbery  aggravated_assault  property_crime  \\\n",
       "0        96970        132414   332797              802982         7928530   \n",
       "1        96970        132414   332797              802982         7928530   \n",
       "2        96970        132414   332797              802982         7928530   \n",
       "\n",
       "   burglary  larceny  motor_vehicle_theft  arson  \n",
       "0   1516405  5644835               767290  45729  \n",
       "1   1516405  5644835               767290  45729  \n",
       "2   1516405  5644835               767290  45729  "
      ]
     },
     "execution_count": 13,
     "metadata": {},
     "output_type": "execute_result"
    }
   ],
   "source": [
    "df = pd.DataFrame(s1)\n",
    "df.head()"
   ]
  },
  {
   "cell_type": "code",
   "execution_count": 14,
   "metadata": {},
   "outputs": [],
   "source": [
    "#crime_df = pd.DataFrame(crime_data, columns=['state_id','state_abbr','year','population','violent_crime','homicide',\n",
    "#                                     'rape_legacy','rape_revised','robbery','aggravated_assault','property_crime',\n",
    "#                                     'burglary','larceny','motor_vehicle_theft','arson'])\n",
    "\n",
    "# Writing data to csv file\n",
    "#weather_data.to_csv(output_data_file, header=True, index=True, index_label= 'Index')"
   ]
  },
  {
   "cell_type": "code",
   "execution_count": 15,
   "metadata": {},
   "outputs": [],
   "source": [
    "#crime_df.head()"
   ]
  },
  {
   "cell_type": "code",
   "execution_count": null,
   "metadata": {},
   "outputs": [],
   "source": []
  },
  {
   "cell_type": "code",
   "execution_count": 16,
   "metadata": {},
   "outputs": [
    {
     "name": "stdout",
     "output_type": "stream",
     "text": [
      "{\n",
      "    \"pagination\": {\n",
      "        \"count\": 3,\n",
      "        \"page\": 0,\n",
      "        \"pages\": 1,\n",
      "        \"per_page\": 0\n",
      "    },\n",
      "    \"results\": [\n",
      "        {\n",
      "            \"aggravated_assault\": 802982,\n",
      "            \"arson\": 45729,\n",
      "            \"burglary\": 1516405,\n",
      "            \"homicide\": 17413,\n",
      "            \"larceny\": 5644835,\n",
      "            \"motor_vehicle_theft\": 767290,\n",
      "            \"population\": 323405935,\n",
      "            \"property_crime\": 7928530,\n",
      "            \"rape_legacy\": 96970,\n",
      "            \"rape_revised\": 132414,\n",
      "            \"robbery\": 332797,\n",
      "            \"state_abbr\": \"\",\n",
      "            \"state_id\": [\n",
      "                12,\n",
      "                13,\n",
      "                14\n",
      "            ],\n",
      "            \"violent_crime\": 1285606,\n",
      "            \"year\": 2016\n",
      "        },\n",
      "        {\n",
      "            \"aggravated_assault\": 810825,\n",
      "            \"arson\": 42323,\n",
      "            \"burglary\": 1401840,\n",
      "            \"homicide\": 17284,\n",
      "            \"larceny\": 5519107,\n",
      "            \"motor_vehicle_theft\": 773139,\n",
      "            \"population\": 325719178,\n",
      "            \"property_crime\": 7694086,\n",
      "            \"rape_legacy\": 99856,\n",
      "            \"rape_revised\": 135755,\n",
      "            \"robbery\": 319356,\n",
      "            \"state_abbr\": \"\",\n",
      "            \"state_id\": null,\n",
      "            \"violent_crime\": 1283220,\n",
      "            \"year\": 2017\n",
      "        },\n",
      "        {\n",
      "            \"aggravated_assault\": 764057,\n",
      "            \"arson\": 43993,\n",
      "            \"burglary\": 1587564,\n",
      "            \"homicide\": 15883,\n",
      "            \"larceny\": 5723488,\n",
      "            \"motor_vehicle_theft\": 713063,\n",
      "            \"population\": 320896618,\n",
      "            \"property_crime\": 8024115,\n",
      "            \"rape_legacy\": 91261,\n",
      "            \"rape_revised\": 126134,\n",
      "            \"robbery\": 328109,\n",
      "            \"state_abbr\": \"\",\n",
      "            \"state_id\": null,\n",
      "            \"violent_crime\": 1199310,\n",
      "            \"year\": 2015\n",
      "        }\n",
      "    ],\n",
      "    \"state_id\": 0\n",
      "}\n"
     ]
    }
   ],
   "source": [
    "print(json.dumps(crime_data, indent=4, sort_keys=True))"
   ]
  },
  {
   "cell_type": "code",
   "execution_count": null,
   "metadata": {},
   "outputs": [],
   "source": []
  },
  {
   "cell_type": "code",
   "execution_count": null,
   "metadata": {},
   "outputs": [],
   "source": []
  },
  {
   "cell_type": "code",
   "execution_count": 17,
   "metadata": {
    "scrolled": true
   },
   "outputs": [
    {
     "data": {
      "text/html": [
       "<div>\n",
       "<style scoped>\n",
       "    .dataframe tbody tr th:only-of-type {\n",
       "        vertical-align: middle;\n",
       "    }\n",
       "\n",
       "    .dataframe tbody tr th {\n",
       "        vertical-align: top;\n",
       "    }\n",
       "\n",
       "    .dataframe thead th {\n",
       "        text-align: right;\n",
       "    }\n",
       "</style>\n",
       "<table border=\"1\" class=\"dataframe\">\n",
       "  <thead>\n",
       "    <tr style=\"text-align: right;\">\n",
       "      <th></th>\n",
       "      <th>Pop_Rank</th>\n",
       "      <th>State</th>\n",
       "      <th>Population</th>\n",
       "    </tr>\n",
       "  </thead>\n",
       "  <tbody>\n",
       "    <tr>\n",
       "      <th>0</th>\n",
       "      <td>1</td>\n",
       "      <td>California</td>\n",
       "      <td>39,536,653</td>\n",
       "    </tr>\n",
       "  </tbody>\n",
       "</table>\n",
       "</div>"
      ],
      "text/plain": [
       "   Pop_Rank       State  Population\n",
       "0         1  California  39,536,653"
      ]
     },
     "execution_count": 17,
     "metadata": {},
     "output_type": "execute_result"
    }
   ],
   "source": [
    "# File to Load \n",
    "state_population_to_load = \"input/state_population.csv\"\n",
    "\n",
    "# Read the firearms data\n",
    "population_data = pd.read_csv(state_population_to_load)\n",
    "population_data.head(1)"
   ]
  },
  {
   "cell_type": "code",
   "execution_count": 18,
   "metadata": {},
   "outputs": [
    {
     "data": {
      "text/html": [
       "<div>\n",
       "<style scoped>\n",
       "    .dataframe tbody tr th:only-of-type {\n",
       "        vertical-align: middle;\n",
       "    }\n",
       "\n",
       "    .dataframe tbody tr th {\n",
       "        vertical-align: top;\n",
       "    }\n",
       "\n",
       "    .dataframe thead th {\n",
       "        text-align: right;\n",
       "    }\n",
       "</style>\n",
       "<table border=\"1\" class=\"dataframe\">\n",
       "  <thead>\n",
       "    <tr style=\"text-align: right;\">\n",
       "      <th></th>\n",
       "      <th>month</th>\n",
       "      <th>state</th>\n",
       "      <th>permit</th>\n",
       "      <th>permit_recheck</th>\n",
       "      <th>handgun</th>\n",
       "      <th>long_gun</th>\n",
       "      <th>other</th>\n",
       "      <th>multiple</th>\n",
       "      <th>admin</th>\n",
       "      <th>prepawn_handgun</th>\n",
       "      <th>...</th>\n",
       "      <th>returned_other</th>\n",
       "      <th>rentals_handgun</th>\n",
       "      <th>rentals_long_gun</th>\n",
       "      <th>private_sale_handgun</th>\n",
       "      <th>private_sale_long_gun</th>\n",
       "      <th>private_sale_other</th>\n",
       "      <th>return_to_seller_handgun</th>\n",
       "      <th>return_to_seller_long_gun</th>\n",
       "      <th>return_to_seller_other</th>\n",
       "      <th>totals</th>\n",
       "    </tr>\n",
       "  </thead>\n",
       "  <tbody>\n",
       "    <tr>\n",
       "      <th>0</th>\n",
       "      <td>2019-06</td>\n",
       "      <td>Alabama</td>\n",
       "      <td>28449.0</td>\n",
       "      <td>499.0</td>\n",
       "      <td>6947.0</td>\n",
       "      <td>4521.0</td>\n",
       "      <td>298.0</td>\n",
       "      <td>432</td>\n",
       "      <td>0.0</td>\n",
       "      <td>19.0</td>\n",
       "      <td>...</td>\n",
       "      <td>0.0</td>\n",
       "      <td>0.0</td>\n",
       "      <td>0.0</td>\n",
       "      <td>10.0</td>\n",
       "      <td>11.0</td>\n",
       "      <td>1.0</td>\n",
       "      <td>0.0</td>\n",
       "      <td>0.0</td>\n",
       "      <td>1.0</td>\n",
       "      <td>42898</td>\n",
       "    </tr>\n",
       "  </tbody>\n",
       "</table>\n",
       "<p>1 rows × 27 columns</p>\n",
       "</div>"
      ],
      "text/plain": [
       "     month    state   permit  permit_recheck  handgun  long_gun  other  \\\n",
       "0  2019-06  Alabama  28449.0           499.0   6947.0    4521.0  298.0   \n",
       "\n",
       "   multiple  admin  prepawn_handgun  ...  returned_other  rentals_handgun  \\\n",
       "0       432    0.0             19.0  ...             0.0              0.0   \n",
       "\n",
       "   rentals_long_gun  private_sale_handgun  private_sale_long_gun  \\\n",
       "0               0.0                  10.0                   11.0   \n",
       "\n",
       "   private_sale_other  return_to_seller_handgun  return_to_seller_long_gun  \\\n",
       "0                 1.0                       0.0                        0.0   \n",
       "\n",
       "   return_to_seller_other  totals  \n",
       "0                     1.0   42898  \n",
       "\n",
       "[1 rows x 27 columns]"
      ]
     },
     "execution_count": 18,
     "metadata": {},
     "output_type": "execute_result"
    }
   ],
   "source": [
    "# File to Load \n",
    "fireams_data_to_load = \"input/nics-firearm-background-checks.csv\"\n",
    "\n",
    "# Read the firearms data\n",
    "firearms_data = pd.read_csv(fireams_data_to_load)\n",
    "firearms_data.head(1)"
   ]
  },
  {
   "cell_type": "code",
   "execution_count": 19,
   "metadata": {},
   "outputs": [],
   "source": [
    "#firearms_data.describe()"
   ]
  },
  {
   "cell_type": "code",
   "execution_count": 63,
   "metadata": {
    "scrolled": true
   },
   "outputs": [
    {
     "data": {
      "text/plain": [
       "0        2019-06\n",
       "1        2019-06\n",
       "2        2019-06\n",
       "3        2019-06\n",
       "4        2019-06\n",
       "5        2019-06\n",
       "6        2019-06\n",
       "7        2019-06\n",
       "8        2019-06\n",
       "9        2019-06\n",
       "10       2019-06\n",
       "11       2019-06\n",
       "12       2019-06\n",
       "13       2019-06\n",
       "14       2019-06\n",
       "15       2019-06\n",
       "16       2019-06\n",
       "17       2019-06\n",
       "18       2019-06\n",
       "19       2019-06\n",
       "20       2019-06\n",
       "21       2019-06\n",
       "22       2019-06\n",
       "23       2019-06\n",
       "24       2019-06\n",
       "25       2019-06\n",
       "26       2019-06\n",
       "27       2019-06\n",
       "28       2019-06\n",
       "29       2019-06\n",
       "          ...   \n",
       "13610    1998-11\n",
       "13611    1998-11\n",
       "13612    1998-11\n",
       "13613    1998-11\n",
       "13614    1998-11\n",
       "13615    1998-11\n",
       "13616    1998-11\n",
       "13617    1998-11\n",
       "13618    1998-11\n",
       "13619    1998-11\n",
       "13620    1998-11\n",
       "13621    1998-11\n",
       "13622    1998-11\n",
       "13623    1998-11\n",
       "13624    1998-11\n",
       "13625    1998-11\n",
       "13626    1998-11\n",
       "13627    1998-11\n",
       "13628    1998-11\n",
       "13629    1998-11\n",
       "13630    1998-11\n",
       "13631    1998-11\n",
       "13632    1998-11\n",
       "13633    1998-11\n",
       "13634    1998-11\n",
       "13635    1998-11\n",
       "13636    1998-11\n",
       "13637    1998-11\n",
       "13638    1998-11\n",
       "13639    1998-11\n",
       "Name: month, Length: 13640, dtype: object"
      ]
     },
     "execution_count": 63,
     "metadata": {},
     "output_type": "execute_result"
    }
   ],
   "source": [
    "# Creating a subset DataFrame\n",
    "bkgnd_chk_tot_data = pd.DataFrame(firearms_data,\n",
    "                            columns=['month', 'state', 'totals','handgun'])\n",
    "\n",
    "bct_data=bkgnd_chk_tot_data\n",
    "#bkgnd_chk_tot_data.head()\n",
    "bct_data.head()\n",
    "bct_data['month']"
   ]
  },
  {
   "cell_type": "code",
   "execution_count": 57,
   "metadata": {
    "scrolled": false
   },
   "outputs": [
    {
     "data": {
      "text/plain": [
       "month\n",
       "1998-11     21176\n",
       "1998-12    870722\n",
       "1999-01    585974\n",
       "1999-02    690215\n",
       "1999-03    741687\n",
       "Name: totals, dtype: int64"
      ]
     },
     "execution_count": 57,
     "metadata": {},
     "output_type": "execute_result"
    }
   ],
   "source": [
    "# Grouping the results by month\n",
    "bct_data_by_mo = bkgnd_chk_tot_data.groupby(['month'])\n",
    "\n",
    "bc_per_month=bct_data_by_mo['totals'].sum()\n",
    "\n",
    "bc_per_month.head()"
   ]
  },
  {
   "cell_type": "code",
   "execution_count": null,
   "metadata": {},
   "outputs": [],
   "source": []
  },
  {
   "cell_type": "code",
   "execution_count": 59,
   "metadata": {
    "scrolled": true
   },
   "outputs": [
    {
     "data": {
      "image/png": "[encoded data removed]",
      "text/plain": [
       "<Figure size 432x288 with 1 Axes>"
      ]
     },
     "metadata": {
      "needs_background": "light"
     },
     "output_type": "display_data"
    }
   ],
   "source": [
    "ax1 = bc_per_month.plot.line(x='month', y='totals')\n",
    "\n",
    "# Adding grid, title, and labels\n",
    "plt.grid(True)\n",
    "plt.title('NICS Background Check Totals')\n",
    "#plt.xlabel('x label text')\n",
    "#plt.ylabel('y label text')\n",
    "#plt.axvline(pd.Timestamp('2013-09'),color='r')\n",
    "\n",
    "plt.savefig('output/t_chk_per_month.png', bbox_inches=\"tight\")\n"
   ]
  },
  {
   "cell_type": "code",
   "execution_count": 23,
   "metadata": {
    "scrolled": true
   },
   "outputs": [
    {
     "data": {
      "text/plain": [
       "month\n",
       "2019-02    2028667\n",
       "2019-03    2604927\n",
       "2019-04    2305136\n",
       "2019-05    2320918\n",
       "2019-06    2291066\n",
       "Name: totals, dtype: int64"
      ]
     },
     "execution_count": 23,
     "metadata": {},
     "output_type": "execute_result"
    }
   ],
   "source": [
    "bct_2019 = bct_data[bct_data['month'] >'2019-01'].groupby(['month'])['totals'].sum()\n",
    "bct_2019.head()"
   ]
  },
  {
   "cell_type": "code",
   "execution_count": 24,
   "metadata": {},
   "outputs": [
    {
     "data": {
      "image/png": "[encoded data removed]",
      "text/plain": [
       "<Figure size 432x288 with 1 Axes>"
      ]
     },
     "metadata": {
      "needs_background": "light"
     },
     "output_type": "display_data"
    }
   ],
   "source": [
    "ax1 = bct_2019.plot.line(x='month', y='totals')\n",
    "\n",
    "# Adding grid, title, and labels\n",
    "plt.grid(True)"
   ]
  },
  {
   "cell_type": "code",
   "execution_count": 79,
   "metadata": {},
   "outputs": [
    {
     "data": {
      "text/plain": [
       "month\n",
       "2011-01    1312544\n",
       "2011-02    1463138\n",
       "2011-03    1437709\n",
       "2011-04    1339673\n",
       "2011-05    1219872\n",
       "Name: totals, dtype: int64"
      ]
     },
     "execution_count": 79,
     "metadata": {},
     "output_type": "execute_result"
    }
   ],
   "source": [
    "bct_range = bct_data[(bct_data['month'] >='2011-01') & (bct_data['month'] <= '2015-12') ].groupby(['month'])['totals'].sum()\n",
    "bct_range.head()"
   ]
  },
  {
   "cell_type": "code",
   "execution_count": 80,
   "metadata": {
    "scrolled": true
   },
   "outputs": [
    {
     "data": {
      "image/png": "[encoded data removed]",
      "text/plain": [
       "<Figure size 432x288 with 1 Axes>"
      ]
     },
     "metadata": {
      "needs_background": "light"
     },
     "output_type": "display_data"
    }
   ],
   "source": [
    "ax1 = bct_range.plot.line(x='month', y='totals')\n",
    "\n",
    "# Adding grid, title, and labels\n",
    "plt.grid(True)\n",
    "#plt.savefig('output/2015_2019_bct.png', bbox_inches=\"tight\")\n",
    "#plt.axvline(x='2016-11', ymin=0, ymax=1, color=\"r\")\n",
    "#plt.axvline(dt.datetime(2016, 11, 8 ))"
   ]
  },
  {
   "cell_type": "code",
   "execution_count": 82,
   "metadata": {},
   "outputs": [
    {
     "name": "stdout",
     "output_type": "stream",
     "text": [
      "[ 0  1  2  3  4  5  6  7  8  9 10 11 12 13 14 15 16 17 18 19 20 21 22 23\n",
      " 24 25 26 27 28 29 30 31 32 33 34 35 36 37 38 39 40 41 42 43 44 45 46 47\n",
      " 48 49 50 51 52 53 54 55 56 57 58 59]\n",
      "[1312544 1463138 1437709 1339673 1219872 1157714 1147355 1300433 1244604\n",
      " 1331836 1527454 1854400 1368816 1734646 1715125 1416074 1305392 1290210\n",
      " 1289585 1514696 1450737 1604743 1997703 2776105 2483230 2298561 2197116\n",
      " 1702455 1424450 1270817 1271571 1408468 1392423 1679099 1805759 2032755\n",
      " 1650565 2073978 2476610 1733651 1476318 1375135 1393705 1538347 1447485\n",
      " 1595898 1797163 2301386 1763233 1848308 2001245 1697737 1570893 1518852\n",
      " 1589462 1735911 1786743 1969248 2236457 3308199]\n"
     ]
    },
    {
     "data": {
      "text/plain": [
       "<matplotlib.lines.Line2D at 0x1c135ff9dd8>"
      ]
     },
     "execution_count": 82,
     "metadata": {},
     "output_type": "execute_result"
    },
    {
     "data": {
      "image/png": "[encoded data removed]",
      "text/plain": [
       "<Figure size 432x288 with 1 Axes>"
      ]
     },
     "metadata": {
      "needs_background": "light"
     },
     "output_type": "display_data"
    }
   ],
   "source": [
    "ax1 = bct_range.plot.line(x='month', y='totals')\n",
    "\n",
    "ax = plt.gca() # get axis handle\n",
    "line = ax.lines[0] # get the first line, there might be more\n",
    "ff=line.get_xdata()\n",
    "yy=line.get_ydata()\n",
    "print(ff)\n",
    "print(yy)\n",
    "\n",
    "# Adding grid, title, and labels\n",
    "plt.grid(True)\n",
    "#plt.savefig('output/2015_2019_bct.png', bbox_inches=\"tight\")\n",
    "plt.axvline(x=21, ymin=0, ymax=1, color=\"r\")\n",
    "#plt.axvline(dt.datetime(2016, 11, 8 ))"
   ]
  },
  {
   "cell_type": "code",
   "execution_count": null,
   "metadata": {},
   "outputs": [],
   "source": []
  },
  {
   "cell_type": "code",
   "execution_count": 27,
   "metadata": {
    "scrolled": true
   },
   "outputs": [
    {
     "data": {
      "text/plain": [
       "month\n",
       "2019-01    2150322\n",
       "2019-02    2028667\n",
       "2019-03    2604927\n",
       "2019-04    2305136\n",
       "2019-05    2320918\n",
       "Name: totals, dtype: int64"
      ]
     },
     "execution_count": 27,
     "metadata": {},
     "output_type": "execute_result"
    }
   ],
   "source": [
    "bct_2019 = bct_data[bct_data['month'].str.contains('2019')].groupby(['month'])['totals'].sum()\n",
    "bct_2019.head()"
   ]
  },
  {
   "cell_type": "code",
   "execution_count": 28,
   "metadata": {},
   "outputs": [],
   "source": [
    "# Plot the world average as a line chart\n",
    "#totals_by_month = plt.plot(bc_per_month, color=\"blue\", label=\"NICS Background Check Totals\" )\n"
   ]
  },
  {
   "cell_type": "code",
   "execution_count": 29,
   "metadata": {},
   "outputs": [],
   "source": [
    "## Set the 'Country Code' to be our index for easy referencing of rows\n",
    "\n",
    "#combined_unemployed_data = combined_unemployed_data.set_index(\"Country Code\")\n",
    "\n",
    "## Collect the mean unemployment rates for the world\n",
    "#average_unemployment = combined_unemployed_data.mean()\n",
    "\n",
    "## Collect the years where data was collected\n",
    "#years = average_unemployment.keys()\n",
    "\n",
    "## Plot the world average as a line chart\n",
    "#world_avg, = plt.plot(years, average_unemployment, color=\"blue\", label=\"World Average\" )\n"
   ]
  },
  {
   "cell_type": "code",
   "execution_count": null,
   "metadata": {},
   "outputs": [],
   "source": []
  },
  {
   "cell_type": "code",
   "execution_count": null,
   "metadata": {},
   "outputs": [],
   "source": []
  },
  {
   "cell_type": "code",
   "execution_count": null,
   "metadata": {},
   "outputs": [],
   "source": []
  },
  {
   "cell_type": "code",
   "execution_count": 30,
   "metadata": {},
   "outputs": [],
   "source": [
    "#firearms_2017 = firearms_data[firearms_data['month'].str.contains('2017')]\n",
    "#firearms_2017.head()"
   ]
  },
  {
   "cell_type": "code",
   "execution_count": 32,
   "metadata": {},
   "outputs": [],
   "source": [
    "#state_firearms_sum = firearms_data.groupby(['state'])['totals'].sum()\n",
    "#state_handguns_sum = firearms_2017.groupby(['state'])['handgun'].sum()\n",
    "#state_handguns_sum.head()"
   ]
  },
  {
   "cell_type": "code",
   "execution_count": null,
   "metadata": {},
   "outputs": [],
   "source": []
  },
  {
   "cell_type": "code",
   "execution_count": null,
   "metadata": {},
   "outputs": [],
   "source": []
  },
  {
   "cell_type": "markdown",
   "metadata": {},
   "source": [
    "# Build a scatter plot for each data type\n",
    "plt.scatter(weather_data[\"Lat\"], weather_data[\"Humidity\"], marker=\"o\", s=10)\n",
    "\n",
    "# Incorporate the other graph properties\n",
    "plt.title(\"City Latitude vs. Humidity (07/20/2019)\")\n",
    "plt.ylabel(\"Humidity (%)\")\n",
    "plt.xlabel(\"Latitude\")\n",
    "plt.grid(True)\n",
    "\n",
    "# Save the figure\n",
    "plt.savefig(\"Humidity_vs_Latitude.png\")\n",
    "\n",
    "# Show plot\n",
    "plt.show()"
   ]
  },
  {
   "cell_type": "markdown",
   "metadata": {},
   "source": [
    "Perform ####### (Tulgaa) API Calls"
   ]
  },
  {
   "cell_type": "markdown",
   "metadata": {},
   "source": [
    "Perform ####### (Mike) API Calls\n"
   ]
  }
 ],
 "metadata": {
  "kernelspec": {
   "display_name": "Python 3",
   "language": "python",
   "name": "python3"
  },
  "language_info": {
   "codemirror_mode": {
    "name": "ipython",
    "version": 3
   },
   "file_extension": ".py",
   "mimetype": "text/x-python",
   "name": "python",
   "nbconvert_exporter": "python",
   "pygments_lexer": "ipython3",
   "version": "3.7.3"
  }
 },
 "nbformat": 4,
 "nbformat_minor": 2
}
