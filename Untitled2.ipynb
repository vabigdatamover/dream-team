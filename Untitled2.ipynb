{
 "cells": [
  {
   "cell_type": "code",
   "execution_count": 4,
   "metadata": {},
   "outputs": [
    {
     "name": "stdout",
     "output_type": "stream",
     "text": [
      "Requirement already satisfied: plotly in c:\\users\\easye\\anaconda3\\lib\\site-packages (4.0.0)\n",
      "Requirement already satisfied: six in c:\\users\\easye\\anaconda3\\lib\\site-packages (from plotly) (1.12.0)\n",
      "Requirement already satisfied: retrying>=1.3.3 in c:\\users\\easye\\anaconda3\\lib\\site-packages (from plotly) (1.3.3)\n",
      "Collecting plotly-orca\n"
     ]
    },
    {
     "name": "stderr",
     "output_type": "stream",
     "text": [
      "  Could not find a version that satisfies the requirement plotly-orca (from versions: )\n",
      "No matching distribution found for plotly-orca\n"
     ]
    }
   ],
   "source": [
    "! pip install plotly \n",
    "! pip install plotly-orca \n",
    "# !psutil \n",
    "# !requests"
   ]
  },
  {
   "cell_type": "code",
   "execution_count": null,
   "metadata": {},
   "outputs": [],
   "source": []
  }
 ],
 "metadata": {
  "kernelspec": {
   "display_name": "Python 3",
   "language": "python",
   "name": "python3"
  },
  "language_info": {
   "codemirror_mode": {
    "name": "ipython",
    "version": 3
   },
   "file_extension": ".py",
   "mimetype": "text/x-python",
   "name": "python",
   "nbconvert_exporter": "python",
   "pygments_lexer": "ipython3",
   "version": "3.7.3"
  }
 },
 "nbformat": 4,
 "nbformat_minor": 2
}
