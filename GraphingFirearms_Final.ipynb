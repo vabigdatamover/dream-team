{
 "cells": [
  {
   "cell_type": "code",
   "execution_count": 1,
   "metadata": {},
   "outputs": [],
   "source": [
    "#conda install -c plotly plotly=4.0"
   ]
  },
  {
   "cell_type": "code",
   "execution_count": 2,
   "metadata": {},
   "outputs": [
    {
     "ename": "ModuleNotFoundError",
     "evalue": "No module named 'plotly'",
     "output_type": "error",
     "traceback": [
      "\u001b[1;31m---------------------------------------------------------------------------\u001b[0m",
      "\u001b[1;31mModuleNotFoundError\u001b[0m                       Traceback (most recent call last)",
      "\u001b[1;32m<ipython-input-2-40a27a80a6a2>\u001b[0m in \u001b[0;36m<module>\u001b[1;34m\u001b[0m\n\u001b[1;32m----> 1\u001b[1;33m \u001b[1;32mimport\u001b[0m \u001b[0mplotly\u001b[0m\u001b[1;33m.\u001b[0m\u001b[0mgraph_objects\u001b[0m \u001b[1;32mas\u001b[0m \u001b[0mgo\u001b[0m\u001b[1;33m\u001b[0m\u001b[1;33m\u001b[0m\u001b[0m\n\u001b[0m\u001b[0;32m      2\u001b[0m \u001b[1;32mimport\u001b[0m \u001b[0mplotly\u001b[0m\u001b[1;33m\u001b[0m\u001b[1;33m\u001b[0m\u001b[0m\n\u001b[0;32m      3\u001b[0m \u001b[1;32mimport\u001b[0m \u001b[0mpandas\u001b[0m \u001b[1;32mas\u001b[0m \u001b[0mpd\u001b[0m\u001b[1;33m\u001b[0m\u001b[1;33m\u001b[0m\u001b[0m\n\u001b[0;32m      4\u001b[0m \u001b[1;32mimport\u001b[0m \u001b[0mmatplotlib\u001b[0m\u001b[1;33m.\u001b[0m\u001b[0mpyplot\u001b[0m \u001b[1;32mas\u001b[0m \u001b[0mplt\u001b[0m\u001b[1;33m\u001b[0m\u001b[1;33m\u001b[0m\u001b[0m\n",
      "\u001b[1;31mModuleNotFoundError\u001b[0m: No module named 'plotly'"
     ]
    }
   ],
   "source": [
    "import plotly.graph_objects as go\n",
    "import plotly\n",
    "import pandas as pd\n",
    "import matplotlib.pyplot as plt\n"
   ]
  },
  {
   "cell_type": "code",
   "execution_count": null,
   "metadata": {},
   "outputs": [],
   "source": [
    "#State Coords\n",
    "# File to Load \n",
    "state_coords_to_load = \"input/state_cords.csv\"\n",
    "\n",
    "# Read the firearms data\n",
    "coord_data = pd.read_csv(state_coords_to_load)\n",
    "coord_data.head()"
   ]
  },
  {
   "cell_type": "code",
   "execution_count": null,
   "metadata": {},
   "outputs": [],
   "source": [
    "# File to Load \n",
    "fireams_data_to_load = \"input/nics-firearm-background-checks.csv\"\n",
    "\n",
    "# Read the firearms data\n",
    "firearms_data = pd.read_csv(fireams_data_to_load)\n",
    "firearms_data.head()"
   ]
  },
  {
   "cell_type": "code",
   "execution_count": null,
   "metadata": {
    "scrolled": true
   },
   "outputs": [],
   "source": [
    "#Sort 2017\n",
    "firearms_2017 = firearms_data[firearms_data['month'].str.contains('2017')]\n",
    "\n",
    "#Registration sum 2017 & Set Index\n",
    "registration_sum = firearms_2017.groupby(['state'])['totals'].sum()\n",
    "registration_sum = registration_sum.reset_index()\n",
    "\n",
    "#Hand Gun sum 2017 & Set Index\n",
    "state_handguns_sum = firearms_2017.groupby(['state'])['handgun'].sum()\n",
    "state_handguns_sum = state_handguns_sum.reset_index()\n",
    "\n",
    "#Long Gun sum 2017 & Set Index\n",
    "state_longguns_sum = firearms_2017.groupby(['state'])['long_gun'].sum()\n",
    "state_longguns_sum = state_longguns_sum.reset_index()\n",
    "\n",
    "#Permit sum 2017 & Set Index\n",
    "permit_sum = firearms_2017.groupby(['state'])['permit'].sum()\n",
    "permit_sum = permit_sum.reset_index()\n",
    "\n",
    "data_pair = pd.merge(registration_sum, state_handguns_sum, how=\"left\", on=[\"state\", \"state\"])\n",
    "other_pair = pd.merge(permit_sum, state_longguns_sum, how=\"left\", on=[\"state\", \"state\"])\n",
    "totals_df = pd.merge(data_pair, other_pair, how=\"left\", on=[\"state\", \"state\"])\n",
    "\n",
    "#data_pair = pd.merge(registration_sum, state_handguns_sum, how=\"left\", on=[\"state\", \"state\"])\n",
    "#totals_df = pd.merge(data_pair, state_longguns_sum, how=\"left\", on=[\"state\", \"state\"])\n",
    "\n",
    "totals_df.head()"
   ]
  },
  {
   "cell_type": "code",
   "execution_count": null,
   "metadata": {},
   "outputs": [],
   "source": [
    "#World Atlas.COM\n",
    "# File to Load \n",
    "state_population_to_load = \"input/state_populations.csv\"\n",
    "\n",
    "# Read the firearms data\n",
    "population_data = pd.read_csv(state_population_to_load)\n",
    "population_data.head()"
   ]
  },
  {
   "cell_type": "code",
   "execution_count": null,
   "metadata": {},
   "outputs": [],
   "source": [
    "# Combine the data into a single dataset with a left merge on \"state\"\n",
    "data_pair = pd.merge(totals_df, population_data, how=\"left\", on=[\"state\", \"state\"])\n",
    "df = pd.merge(data_pair, coord_data, how=\"left\", on=[\"state\", \"state\"])\n",
    "df.head()"
   ]
  },
  {
   "cell_type": "code",
   "execution_count": null,
   "metadata": {},
   "outputs": [],
   "source": [
    "for col in df.columns:\n",
    "    df[col] = df[col].astype(str)\n",
    "\n",
    "df['text'] = df['state'] + '<br>' + \\\n",
    "    'Total Handgun Registrations ' + df['handgun'] + '<br>' + \\\n",
    "    'Population ' + df['population'] + '<br>' + \\\n",
    "    'Populations Rank ' + df['pop_rank']\n",
    "    \n",
    "plt = go.Figure(data=go.Choropleth(\n",
    "    #state digraph = location code\n",
    "    locations=df['code'],\n",
    "    z=df['handgun'].astype(float),\n",
    "    locationmode='USA-states',\n",
    "    colorscale='Reds',\n",
    "    autocolorscale=False,\n",
    "    text=df['text'], # hover text\n",
    "    marker_line_color='black', # line markers between states\n",
    "    colorbar_title=\"Hundreds of Thousands\"\n",
    "))\n",
    "\n",
    "plt.update_layout(\n",
    "    title_text='2017 Handgun Registrations Per State<br>(Hover for breakdown)',\n",
    "    geo = dict(\n",
    "        scope='usa',\n",
    "        projection=go.layout.geo.Projection(type = 'albers usa'),\n",
    "        showlakes=True, # lakes\n",
    "        lakecolor='rgb(255, 255, 255)'),\n",
    ")\n",
    "#plt.savefig('output/handguns2017.png', bbox_inches=\"tight\")\n",
    "plt.show()"
   ]
  },
  {
   "cell_type": "code",
   "execution_count": null,
   "metadata": {},
   "outputs": [],
   "source": [
    "for col in df.columns:\n",
    "    df[col] = df[col].astype(str)\n",
    "\n",
    "df['text'] = df['state'] + '<br>' + \\\n",
    "    'Total Long Gun Registrations ' + df['long_gun'] + '<br>' + \\\n",
    "    'Population ' + df['population'] + '<br>' + \\\n",
    "    'Populations Rank ' + df['pop_rank']\n",
    "    \n",
    "plt = go.Figure(data=go.Choropleth(\n",
    "    #state digraph = location code\n",
    "    locations=df['code'],\n",
    "    z=df['long_gun'].astype(float),\n",
    "    locationmode='USA-states',\n",
    "    colorscale='Reds',\n",
    "    autocolorscale=False,\n",
    "    text=df['text'], # hover text\n",
    "    marker_line_color='black', # line markers between states\n",
    "    colorbar_title=\"Hundreds of Thousands\"\n",
    "))\n",
    "\n",
    "plt.update_layout(\n",
    "    title_text='2017 Long Gun Registrations Per State<br>(Hover for breakdown)',\n",
    "    geo = dict(\n",
    "        scope='usa',\n",
    "        projection=go.layout.geo.Projection(type = 'albers usa'),\n",
    "        showlakes=True, # lakes\n",
    "        lakecolor='rgb(255, 255, 255)'),\n",
    ")\n",
    "#plt.savefig('output/longguns2017.png', bbox_inches=\"tight\")\n",
    "#plt.write_image('output/longguns2017.png')\n",
    "plt.show()"
   ]
  },
  {
   "cell_type": "code",
   "execution_count": null,
   "metadata": {
    "scrolled": true
   },
   "outputs": [],
   "source": [
    "for col in df.columns:\n",
    "    df[col] = df[col].astype(str)\n",
    "\n",
    "df['text'] = df['state'] + '<br>' + \\\n",
    "    'Total Permits ' + df['permit'] + '<br>' + \\\n",
    "    'Population ' + df['population'] + '<br>' + \\\n",
    "    'Populations Rank ' + df['pop_rank']\n",
    "    \n",
    "plt = go.Figure(data=go.Choropleth(\n",
    "    #state digraph = location code\n",
    "    locations=df['code'],\n",
    "    z=df['permit'].astype(float),\n",
    "    locationmode='USA-states',\n",
    "    colorscale='Reds',\n",
    "    autocolorscale=False,\n",
    "    text=df['text'], # hover text\n",
    "    marker_line_color='black', # line markers between states\n",
    "    colorbar_title=\"Millions\"\n",
    "))\n",
    "\n",
    "plt.update_layout(\n",
    "    title_text='2017 Permits Per State<br>Note: Kentucky performs monthly checks on concealed carry permit holders<br>(Hover for breakdown)(Hover for breakdown)',\n",
    "    geo = dict(\n",
    "        scope='usa',\n",
    "        projection=go.layout.geo.Projection(type = 'albers usa'),\n",
    "        showlakes=True, # lakes\n",
    "        lakecolor='rgb(255, 255, 255)'),\n",
    ")\n",
    "#plt.savefig('output/permits2017.png', bbox_inches=\"tight\")\n",
    "plt.show()"
   ]
  },
  {
   "cell_type": "code",
   "execution_count": null,
   "metadata": {
    "scrolled": false
   },
   "outputs": [],
   "source": [
    "for col in df.columns:\n",
    "    df[col] = df[col].astype(str)\n",
    "\n",
    "df['text'] = df['state'] + '<br>' + \\\n",
    "    'Total Firearms Transaction' + df['totals'] + '<br>' + \\\n",
    "    'Population ' + df['population'] + '<br>' + \\\n",
    "    'Populations Rank ' + df['pop_rank']\n",
    "    \n",
    "plt = go.Figure(data=go.Choropleth(\n",
    "    #state digraph = location code\n",
    "    locations=df['code'],\n",
    "    z=df['totals'].astype(float),\n",
    "    locationmode='USA-states',\n",
    "    colorscale='Reds',\n",
    "    autocolorscale=False,\n",
    "    text=df['text'], # hover text\n",
    "    marker_line_color='black', # line markers between states\n",
    "    colorbar_title=\"Millions\"\n",
    "))\n",
    "\n",
    "plt.update_layout(\n",
    "    title_text='2017 Firearm Transactions Per State<br>Note: Kentucky performs monthly checks on concealed carry permit holders <br>(Hover for breakdown)',\n",
    "    #title_text=('Note: Kentucky performs monthly checks on Concealed Permit Holders'),\n",
    "    geo = dict(\n",
    "        scope='usa',\n",
    "        projection=go.layout.geo.Projection(type = 'albers usa'),\n",
    "        showlakes=True, # lakes\n",
    "        lakecolor='rgb(255, 255, 255)'),\n",
    ")\n",
    "#plt.savefig('output/transactions2017.png', bbox_inches=\"tight\")\n",
    "#plt.savefig('output/transactions2017.png')\n",
    "plt.show()"
   ]
  },
  {
   "cell_type": "code",
   "execution_count": null,
   "metadata": {},
   "outputs": [],
   "source": []
  }
 ],
 "metadata": {
  "kernelspec": {
   "display_name": "Python 3",
   "language": "python",
   "name": "python3"
  },
  "language_info": {
   "codemirror_mode": {
    "name": "ipython",
    "version": 3
   },
   "file_extension": ".py",
   "mimetype": "text/x-python",
   "name": "python",
   "nbconvert_exporter": "python",
   "pygments_lexer": "ipython3",
   "version": "3.7.3"
  }
 },
 "nbformat": 4,
 "nbformat_minor": 2
}
