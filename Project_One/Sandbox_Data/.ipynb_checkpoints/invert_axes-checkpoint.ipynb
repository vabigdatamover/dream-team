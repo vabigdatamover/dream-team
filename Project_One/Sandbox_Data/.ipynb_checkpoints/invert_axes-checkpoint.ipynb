{
 "cells": [
  {
   "cell_type": "code",
   "execution_count": null,
   "metadata": {},
   "outputs": [],
   "source": [
    "%matplotlib inline"
   ]
  },
  {
   "cell_type": "markdown",
   "metadata": {},
   "source": [
    "\n",
    "# Invert Axes\n",
    "\n",
    "\n",
    "You can use decreasing axes by flipping the normal order of the axis\n",
    "limits\n",
    "\n"
   ]
  },
  {
   "cell_type": "code",
   "execution_count": null,
   "metadata": {},
   "outputs": [],
   "source": [
    "import matplotlib.pyplot as plt\n",
    "import numpy as np\n",
    "\n",
    "t = np.arange(0.01, 5.0, 0.01)\n",
    "s = np.exp(-t)\n",
    "plt.plot(t, s)\n",
    "\n",
    "plt.xlim(5, 0)  # decreasing time\n",
    "\n",
    "plt.xlabel('decreasing time (s)')\n",
    "plt.ylabel('voltage (mV)')\n",
    "plt.title('Should be growing...')\n",
    "plt.grid(True)\n",
    "\n",
    "plt.show()"
   ]
  }
 ],
 "metadata": {
  "kernelspec": {
   "display_name": "Python 3",
   "language": "python",
   "name": "python3"
  },
  "language_info": {
   "codemirror_mode": {
    "name": "ipython",
    "version": 3
   },
   "file_extension": ".py",
   "mimetype": "text/x-python",
   "name": "python",
   "nbconvert_exporter": "python",
   "pygments_lexer": "ipython3",
   "version": "3.7.3"
  }
 },
 "nbformat": 4,
 "nbformat_minor": 1
}
