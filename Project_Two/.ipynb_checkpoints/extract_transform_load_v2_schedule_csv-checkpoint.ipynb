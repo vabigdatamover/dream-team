{
 "cells": [
  {
   "cell_type": "code",
   "execution_count": 1,
   "metadata": {},
   "outputs": [],
   "source": [
    "#pip install schedule"
   ]
  },
  {
   "cell_type": "code",
   "execution_count": 1,
   "metadata": {},
   "outputs": [],
   "source": [
    "import pandas as pd\n",
    "import shutil, os, glob\n",
    "import pymongo\n",
    "from pymongo import MongoClient\n",
    "import json\n",
    "import schedule\n",
    "import time"
   ]
  },
  {
   "cell_type": "markdown",
   "metadata": {},
   "source": [
    "## Extract"
   ]
  },
  {
   "cell_type": "markdown",
   "metadata": {},
   "source": [
    "for f in glob('input' + '\\*.csv'):\n",
    "    df = pd.read_csv(f)"
   ]
  },
  {
   "cell_type": "code",
   "execution_count": 3,
   "metadata": {},
   "outputs": [],
   "source": [
    "df = pd.concat(map(pd.read_csv, glob.glob('input' + '\\*.csv')))\n",
    "#Extract All source code\n",
    "#https://stackoverflow.com/questions/20906474/import-multiple-csv-files-into-pandas-and-concatenate-into-one-dataframe"
   ]
  },
  {
   "cell_type": "code",
   "execution_count": 13,
   "metadata": {
    "scrolled": false
   },
   "outputs": [
    {
     "data": {
      "text/html": [
       "<div>\n",
       "<style scoped>\n",
       "    .dataframe tbody tr th:only-of-type {\n",
       "        vertical-align: middle;\n",
       "    }\n",
       "\n",
       "    .dataframe tbody tr th {\n",
       "        vertical-align: top;\n",
       "    }\n",
       "\n",
       "    .dataframe thead th {\n",
       "        text-align: right;\n",
       "    }\n",
       "</style>\n",
       "<table border=\"1\" class=\"dataframe\">\n",
       "  <thead>\n",
       "    <tr style=\"text-align: right;\">\n",
       "      <th></th>\n",
       "      <th>City</th>\n",
       "      <th>City_ID</th>\n",
       "      <th>Cloudiness</th>\n",
       "      <th>Country</th>\n",
       "      <th>Date</th>\n",
       "      <th>Humidity</th>\n",
       "      <th>Lat</th>\n",
       "      <th>Lng</th>\n",
       "      <th>Max Temp</th>\n",
       "      <th>Pop_Rank</th>\n",
       "      <th>...</th>\n",
       "      <th>rentals_handgun</th>\n",
       "      <th>rentals_long_gun</th>\n",
       "      <th>return_to_seller_handgun</th>\n",
       "      <th>return_to_seller_long_gun</th>\n",
       "      <th>return_to_seller_other</th>\n",
       "      <th>returned_handgun</th>\n",
       "      <th>returned_long_gun</th>\n",
       "      <th>returned_other</th>\n",
       "      <th>state</th>\n",
       "      <th>totals</th>\n",
       "    </tr>\n",
       "  </thead>\n",
       "  <tbody>\n",
       "    <tr>\n",
       "      <th>0</th>\n",
       "      <td>jacareacanga</td>\n",
       "      <td>0.0</td>\n",
       "      <td>0.0</td>\n",
       "      <td>BR</td>\n",
       "      <td>1.528902e+09</td>\n",
       "      <td>62.0</td>\n",
       "      <td>-6.22</td>\n",
       "      <td>-57.76</td>\n",
       "      <td>89.60</td>\n",
       "      <td>NaN</td>\n",
       "      <td>...</td>\n",
       "      <td>NaN</td>\n",
       "      <td>NaN</td>\n",
       "      <td>NaN</td>\n",
       "      <td>NaN</td>\n",
       "      <td>NaN</td>\n",
       "      <td>NaN</td>\n",
       "      <td>NaN</td>\n",
       "      <td>NaN</td>\n",
       "      <td>NaN</td>\n",
       "      <td>NaN</td>\n",
       "    </tr>\n",
       "    <tr>\n",
       "      <th>1</th>\n",
       "      <td>kaitangata</td>\n",
       "      <td>1.0</td>\n",
       "      <td>100.0</td>\n",
       "      <td>NZ</td>\n",
       "      <td>1.528905e+09</td>\n",
       "      <td>94.0</td>\n",
       "      <td>-46.28</td>\n",
       "      <td>169.85</td>\n",
       "      <td>42.61</td>\n",
       "      <td>NaN</td>\n",
       "      <td>...</td>\n",
       "      <td>NaN</td>\n",
       "      <td>NaN</td>\n",
       "      <td>NaN</td>\n",
       "      <td>NaN</td>\n",
       "      <td>NaN</td>\n",
       "      <td>NaN</td>\n",
       "      <td>NaN</td>\n",
       "      <td>NaN</td>\n",
       "      <td>NaN</td>\n",
       "      <td>NaN</td>\n",
       "    </tr>\n",
       "    <tr>\n",
       "      <th>2</th>\n",
       "      <td>goulburn</td>\n",
       "      <td>2.0</td>\n",
       "      <td>20.0</td>\n",
       "      <td>AU</td>\n",
       "      <td>1.528905e+09</td>\n",
       "      <td>91.0</td>\n",
       "      <td>-34.75</td>\n",
       "      <td>149.72</td>\n",
       "      <td>44.32</td>\n",
       "      <td>NaN</td>\n",
       "      <td>...</td>\n",
       "      <td>NaN</td>\n",
       "      <td>NaN</td>\n",
       "      <td>NaN</td>\n",
       "      <td>NaN</td>\n",
       "      <td>NaN</td>\n",
       "      <td>NaN</td>\n",
       "      <td>NaN</td>\n",
       "      <td>NaN</td>\n",
       "      <td>NaN</td>\n",
       "      <td>NaN</td>\n",
       "    </tr>\n",
       "    <tr>\n",
       "      <th>3</th>\n",
       "      <td>lata</td>\n",
       "      <td>3.0</td>\n",
       "      <td>76.0</td>\n",
       "      <td>IN</td>\n",
       "      <td>1.528905e+09</td>\n",
       "      <td>89.0</td>\n",
       "      <td>30.78</td>\n",
       "      <td>78.62</td>\n",
       "      <td>59.89</td>\n",
       "      <td>NaN</td>\n",
       "      <td>...</td>\n",
       "      <td>NaN</td>\n",
       "      <td>NaN</td>\n",
       "      <td>NaN</td>\n",
       "      <td>NaN</td>\n",
       "      <td>NaN</td>\n",
       "      <td>NaN</td>\n",
       "      <td>NaN</td>\n",
       "      <td>NaN</td>\n",
       "      <td>NaN</td>\n",
       "      <td>NaN</td>\n",
       "    </tr>\n",
       "    <tr>\n",
       "      <th>4</th>\n",
       "      <td>chokurdakh</td>\n",
       "      <td>4.0</td>\n",
       "      <td>0.0</td>\n",
       "      <td>RU</td>\n",
       "      <td>1.528905e+09</td>\n",
       "      <td>88.0</td>\n",
       "      <td>70.62</td>\n",
       "      <td>147.90</td>\n",
       "      <td>32.17</td>\n",
       "      <td>NaN</td>\n",
       "      <td>...</td>\n",
       "      <td>NaN</td>\n",
       "      <td>NaN</td>\n",
       "      <td>NaN</td>\n",
       "      <td>NaN</td>\n",
       "      <td>NaN</td>\n",
       "      <td>NaN</td>\n",
       "      <td>NaN</td>\n",
       "      <td>NaN</td>\n",
       "      <td>NaN</td>\n",
       "      <td>NaN</td>\n",
       "    </tr>\n",
       "  </tbody>\n",
       "</table>\n",
       "<p>5 rows × 40 columns</p>\n",
       "</div>"
      ],
      "text/plain": [
       "           City  City_ID  Cloudiness Country          Date  Humidity    Lat  \\\n",
       "0  jacareacanga      0.0         0.0      BR  1.528902e+09      62.0  -6.22   \n",
       "1    kaitangata      1.0       100.0      NZ  1.528905e+09      94.0 -46.28   \n",
       "2      goulburn      2.0        20.0      AU  1.528905e+09      91.0 -34.75   \n",
       "3          lata      3.0        76.0      IN  1.528905e+09      89.0  30.78   \n",
       "4    chokurdakh      4.0         0.0      RU  1.528905e+09      88.0  70.62   \n",
       "\n",
       "      Lng  Max Temp  Pop_Rank  ... rentals_handgun rentals_long_gun  \\\n",
       "0  -57.76     89.60       NaN  ...             NaN              NaN   \n",
       "1  169.85     42.61       NaN  ...             NaN              NaN   \n",
       "2  149.72     44.32       NaN  ...             NaN              NaN   \n",
       "3   78.62     59.89       NaN  ...             NaN              NaN   \n",
       "4  147.90     32.17       NaN  ...             NaN              NaN   \n",
       "\n",
       "   return_to_seller_handgun  return_to_seller_long_gun  \\\n",
       "0                       NaN                        NaN   \n",
       "1                       NaN                        NaN   \n",
       "2                       NaN                        NaN   \n",
       "3                       NaN                        NaN   \n",
       "4                       NaN                        NaN   \n",
       "\n",
       "   return_to_seller_other  returned_handgun returned_long_gun  returned_other  \\\n",
       "0                     NaN               NaN               NaN             NaN   \n",
       "1                     NaN               NaN               NaN             NaN   \n",
       "2                     NaN               NaN               NaN             NaN   \n",
       "3                     NaN               NaN               NaN             NaN   \n",
       "4                     NaN               NaN               NaN             NaN   \n",
       "\n",
       "   state  totals  \n",
       "0    NaN     NaN  \n",
       "1    NaN     NaN  \n",
       "2    NaN     NaN  \n",
       "3    NaN     NaN  \n",
       "4    NaN     NaN  \n",
       "\n",
       "[5 rows x 40 columns]"
      ]
     },
     "execution_count": 13,
     "metadata": {},
     "output_type": "execute_result"
    }
   ],
   "source": [
    "df.head()"
   ]
  },
  {
   "cell_type": "code",
   "execution_count": 5,
   "metadata": {},
   "outputs": [
    {
     "data": {
      "text/plain": [
       "250"
      ]
     },
     "execution_count": 5,
     "metadata": {},
     "output_type": "execute_result"
    }
   ],
   "source": [
    "len(df)"
   ]
  },
  {
   "cell_type": "markdown",
   "metadata": {},
   "source": [
    "## Transform Hash"
   ]
  },
  {
   "cell_type": "code",
   "execution_count": 6,
   "metadata": {},
   "outputs": [
    {
     "data": {
      "text/html": [
       "<div>\n",
       "<style scoped>\n",
       "    .dataframe tbody tr th:only-of-type {\n",
       "        vertical-align: middle;\n",
       "    }\n",
       "\n",
       "    .dataframe tbody tr th {\n",
       "        vertical-align: top;\n",
       "    }\n",
       "\n",
       "    .dataframe thead th {\n",
       "        text-align: right;\n",
       "    }\n",
       "</style>\n",
       "<table border=\"1\" class=\"dataframe\">\n",
       "  <thead>\n",
       "    <tr style=\"text-align: right;\">\n",
       "      <th></th>\n",
       "      <th>YEAR</th>\n",
       "      <th>STATE</th>\n",
       "      <th>RATE</th>\n",
       "      <th>DEATHS</th>\n",
       "      <th>URL</th>\n",
       "      <th>hash</th>\n",
       "    </tr>\n",
       "  </thead>\n",
       "  <tbody>\n",
       "    <tr>\n",
       "      <th>0</th>\n",
       "      <td>2017</td>\n",
       "      <td>Alabama</td>\n",
       "      <td>22.9</td>\n",
       "      <td>1,124</td>\n",
       "      <td>/nchs/pressroom/states/alabama/alabama.htm</td>\n",
       "      <td>-617692814812755799</td>\n",
       "    </tr>\n",
       "    <tr>\n",
       "      <th>1</th>\n",
       "      <td>2017</td>\n",
       "      <td>Alaska</td>\n",
       "      <td>24.5</td>\n",
       "      <td>180</td>\n",
       "      <td>/nchs/pressroom/states/alaska/alaska.htm</td>\n",
       "      <td>-9045459844361817229</td>\n",
       "    </tr>\n",
       "    <tr>\n",
       "      <th>2</th>\n",
       "      <td>2017</td>\n",
       "      <td>Arizona</td>\n",
       "      <td>15.8</td>\n",
       "      <td>1,134</td>\n",
       "      <td>/nchs/pressroom/states/arizona/arizona.htm</td>\n",
       "      <td>4715725535199337868</td>\n",
       "    </tr>\n",
       "    <tr>\n",
       "      <th>3</th>\n",
       "      <td>2017</td>\n",
       "      <td>Arkansas</td>\n",
       "      <td>20.3</td>\n",
       "      <td>613</td>\n",
       "      <td>/nchs/pressroom/states/arkansas/arkansas.htm</td>\n",
       "      <td>3048597109707358623</td>\n",
       "    </tr>\n",
       "    <tr>\n",
       "      <th>4</th>\n",
       "      <td>2017</td>\n",
       "      <td>California</td>\n",
       "      <td>7.9</td>\n",
       "      <td>3,184</td>\n",
       "      <td>/nchs/pressroom/states/california/california.htm</td>\n",
       "      <td>3652844115538918373</td>\n",
       "    </tr>\n",
       "  </tbody>\n",
       "</table>\n",
       "</div>"
      ],
      "text/plain": [
       "   YEAR        STATE  RATE DEATHS  \\\n",
       "0  2017     Alabama   22.9  1,124   \n",
       "1  2017      Alaska   24.5    180   \n",
       "2  2017      Arizona  15.8  1,134   \n",
       "3  2017     Arkansas  20.3    613   \n",
       "4  2017  California    7.9  3,184   \n",
       "\n",
       "                                                URL                 hash  \n",
       "0        /nchs/pressroom/states/alabama/alabama.htm  -617692814812755799  \n",
       "1          /nchs/pressroom/states/alaska/alaska.htm -9045459844361817229  \n",
       "2        /nchs/pressroom/states/arizona/arizona.htm  4715725535199337868  \n",
       "3      /nchs/pressroom/states/arkansas/arkansas.htm  3048597109707358623  \n",
       "4  /nchs/pressroom/states/california/california.htm  3652844115538918373  "
      ]
     },
     "execution_count": 6,
     "metadata": {},
     "output_type": "execute_result"
    }
   ],
   "source": [
    "df['hash'] = pd.Series((hash(tuple(row)) for _, row in df.iterrows()))\n",
    "#Hash Code\n",
    "#https://stackoverflow.com/questions/25757042/create-hash-value-for-each-row-of-data-with-selected-columns-in-dataframe-in-pyt\n",
    "df.head()"
   ]
  },
  {
   "cell_type": "code",
   "execution_count": 7,
   "metadata": {},
   "outputs": [
    {
     "data": {
      "text/plain": [
       "250"
      ]
     },
     "execution_count": 7,
     "metadata": {},
     "output_type": "execute_result"
    }
   ],
   "source": [
    "len(df)"
   ]
  },
  {
   "cell_type": "markdown",
   "metadata": {},
   "source": [
    "## Transform Dedupe"
   ]
  },
  {
   "cell_type": "code",
   "execution_count": 8,
   "metadata": {},
   "outputs": [],
   "source": [
    "df_nodupe = df[~df.duplicated()]\n",
    "#Dedupe code source\n",
    "#https://stackoverflow.com/questions/40438237/assign-hash-to-row-of-categorical-data-in-pandas"
   ]
  },
  {
   "cell_type": "code",
   "execution_count": 9,
   "metadata": {
    "scrolled": true
   },
   "outputs": [
    {
     "data": {
      "text/html": [
       "<div>\n",
       "<style scoped>\n",
       "    .dataframe tbody tr th:only-of-type {\n",
       "        vertical-align: middle;\n",
       "    }\n",
       "\n",
       "    .dataframe tbody tr th {\n",
       "        vertical-align: top;\n",
       "    }\n",
       "\n",
       "    .dataframe thead th {\n",
       "        text-align: right;\n",
       "    }\n",
       "</style>\n",
       "<table border=\"1\" class=\"dataframe\">\n",
       "  <thead>\n",
       "    <tr style=\"text-align: right;\">\n",
       "      <th></th>\n",
       "      <th>YEAR</th>\n",
       "      <th>STATE</th>\n",
       "      <th>RATE</th>\n",
       "      <th>DEATHS</th>\n",
       "      <th>URL</th>\n",
       "      <th>hash</th>\n",
       "    </tr>\n",
       "  </thead>\n",
       "  <tbody>\n",
       "    <tr>\n",
       "      <th>0</th>\n",
       "      <td>2017</td>\n",
       "      <td>Alabama</td>\n",
       "      <td>22.9</td>\n",
       "      <td>1,124</td>\n",
       "      <td>/nchs/pressroom/states/alabama/alabama.htm</td>\n",
       "      <td>-617692814812755799</td>\n",
       "    </tr>\n",
       "    <tr>\n",
       "      <th>1</th>\n",
       "      <td>2017</td>\n",
       "      <td>Alaska</td>\n",
       "      <td>24.5</td>\n",
       "      <td>180</td>\n",
       "      <td>/nchs/pressroom/states/alaska/alaska.htm</td>\n",
       "      <td>-9045459844361817229</td>\n",
       "    </tr>\n",
       "    <tr>\n",
       "      <th>2</th>\n",
       "      <td>2017</td>\n",
       "      <td>Arizona</td>\n",
       "      <td>15.8</td>\n",
       "      <td>1,134</td>\n",
       "      <td>/nchs/pressroom/states/arizona/arizona.htm</td>\n",
       "      <td>4715725535199337868</td>\n",
       "    </tr>\n",
       "    <tr>\n",
       "      <th>3</th>\n",
       "      <td>2017</td>\n",
       "      <td>Arkansas</td>\n",
       "      <td>20.3</td>\n",
       "      <td>613</td>\n",
       "      <td>/nchs/pressroom/states/arkansas/arkansas.htm</td>\n",
       "      <td>3048597109707358623</td>\n",
       "    </tr>\n",
       "    <tr>\n",
       "      <th>4</th>\n",
       "      <td>2017</td>\n",
       "      <td>California</td>\n",
       "      <td>7.9</td>\n",
       "      <td>3,184</td>\n",
       "      <td>/nchs/pressroom/states/california/california.htm</td>\n",
       "      <td>3652844115538918373</td>\n",
       "    </tr>\n",
       "  </tbody>\n",
       "</table>\n",
       "</div>"
      ],
      "text/plain": [
       "   YEAR        STATE  RATE DEATHS  \\\n",
       "0  2017     Alabama   22.9  1,124   \n",
       "1  2017      Alaska   24.5    180   \n",
       "2  2017      Arizona  15.8  1,134   \n",
       "3  2017     Arkansas  20.3    613   \n",
       "4  2017  California    7.9  3,184   \n",
       "\n",
       "                                                URL                 hash  \n",
       "0        /nchs/pressroom/states/alabama/alabama.htm  -617692814812755799  \n",
       "1          /nchs/pressroom/states/alaska/alaska.htm -9045459844361817229  \n",
       "2        /nchs/pressroom/states/arizona/arizona.htm  4715725535199337868  \n",
       "3      /nchs/pressroom/states/arkansas/arkansas.htm  3048597109707358623  \n",
       "4  /nchs/pressroom/states/california/california.htm  3652844115538918373  "
      ]
     },
     "execution_count": 9,
     "metadata": {},
     "output_type": "execute_result"
    }
   ],
   "source": [
    "df_nodupe.head()"
   ]
  },
  {
   "cell_type": "code",
   "execution_count": 10,
   "metadata": {},
   "outputs": [
    {
     "data": {
      "text/plain": [
       "250"
      ]
     },
     "execution_count": 10,
     "metadata": {},
     "output_type": "execute_result"
    }
   ],
   "source": [
    "len(df_nodupe)"
   ]
  },
  {
   "cell_type": "markdown",
   "metadata": {},
   "source": [
    "## Load"
   ]
  },
  {
   "cell_type": "markdown",
   "metadata": {},
   "source": [
    "#### > Convert DataFrame to json formatted file"
   ]
  },
  {
   "cell_type": "code",
   "execution_count": 11,
   "metadata": {},
   "outputs": [],
   "source": [
    "import json"
   ]
  },
  {
   "cell_type": "code",
   "execution_count": 12,
   "metadata": {},
   "outputs": [],
   "source": [
    "df_nodupe.to_json('ETL_json_file', orient='index')\n",
    "# Converting dataframe data to json format\n",
    "# https://pandas.pydata.org/pandas-docs/stable/reference/api/pandas.DataFrame.to_json.html"
   ]
  },
  {
   "cell_type": "code",
   "execution_count": 13,
   "metadata": {},
   "outputs": [],
   "source": [
    "json_data = df_nodupe.to_json(orient='index')\n",
    "parsed = json.loads(json_data)\n",
    "# print(json.dumps(parsed, indent=4, sort_keys=True))\n",
    "# Un-comment print to pretty print json formated data"
   ]
  },
  {
   "cell_type": "markdown",
   "metadata": {},
   "source": [
    "#### > Create MongoDB named 'etl_db' with a collection 'etl_data'"
   ]
  },
  {
   "cell_type": "code",
   "execution_count": 14,
   "metadata": {},
   "outputs": [
    {
     "name": "stdout",
     "output_type": "stream",
     "text": [
      "Mongo version 3.9.0\n"
     ]
    }
   ],
   "source": [
    "import pymongo\n",
    "from pymongo import MongoClient\n",
    "client = MongoClient()\n",
    "client = MongoClient('localhost', 27017)\n",
    "client = MongoClient('mongodb://localhost:27017/')\n",
    "print('Mongo version', pymongo.__version__)"
   ]
  },
  {
   "cell_type": "code",
   "execution_count": 15,
   "metadata": {},
   "outputs": [],
   "source": [
    "# Uncomment code to drop existing database before creating new one\n",
    "# client.drop_database('etl_db')"
   ]
  },
  {
   "cell_type": "code",
   "execution_count": 16,
   "metadata": {},
   "outputs": [],
   "source": [
    "db = client['etl_db']\n",
    "# Create database named 'etl_db'\n",
    "\n",
    "db.etl_data.drop() # Drop collection if it already exist\n",
    "\n",
    "collection = db['etl_data']\n",
    "# Create collection called 'etl_data'"
   ]
  },
  {
   "cell_type": "markdown",
   "metadata": {},
   "source": [
    "#### > Load ETL_json_file data"
   ]
  },
  {
   "cell_type": "code",
   "execution_count": 17,
   "metadata": {},
   "outputs": [],
   "source": [
    "with open('ETL_json_file') as f:\n",
    "    file_data = json.load(f)\n",
    "    collection.insert_one(file_data) \n",
    "client.close()\n",
    "# Read json file into mongoDB\n",
    "# https://stackoverflow.com/questions/49510049/how-to-import-json-file-to-mongodb-using-python"
   ]
  },
  {
   "cell_type": "code",
   "execution_count": 18,
   "metadata": {},
   "outputs": [
    {
     "data": {
      "text/plain": [
       "['etl_data']"
      ]
     },
     "execution_count": 18,
     "metadata": {},
     "output_type": "execute_result"
    }
   ],
   "source": [
    "db.list_collection_names()\n",
    "# List collections in database"
   ]
  },
  {
   "cell_type": "code",
   "execution_count": 19,
   "metadata": {},
   "outputs": [
    {
     "data": {
      "text/plain": [
       "<pymongo.cursor.Cursor at 0x1f9b0976f98>"
      ]
     },
     "execution_count": 19,
     "metadata": {},
     "output_type": "execute_result"
    }
   ],
   "source": [
    "db.etl_data.find( { 0: {} } )\n"
   ]
  },
  {
   "cell_type": "code",
   "execution_count": 20,
   "metadata": {
    "scrolled": false
   },
   "outputs": [],
   "source": [
    "# cursor = db.etl_data # selecting the etl_data collection\n",
    "# for document in cursor.find():\n",
    "#    print (document)\n",
    "# Printing the content of the collection LARGE PRINTOUT"
   ]
  },
  {
   "cell_type": "markdown",
   "metadata": {},
   "source": [
    "#### > Reading content of database and loading it into a dataframe"
   ]
  },
  {
   "cell_type": "code",
   "execution_count": 21,
   "metadata": {},
   "outputs": [],
   "source": [
    "extracted_etl_data = db.etl_data\n",
    "df = pd.DataFrame(list(extracted_etl_data.find()))\n",
    "# https://stackoverflow.com/questions/16249736/how-to-import-data-from-mongodb-to-pandas"
   ]
  },
  {
   "cell_type": "code",
   "execution_count": 22,
   "metadata": {},
   "outputs": [
    {
     "data": {
      "text/html": [
       "<div>\n",
       "<style scoped>\n",
       "    .dataframe tbody tr th:only-of-type {\n",
       "        vertical-align: middle;\n",
       "    }\n",
       "\n",
       "    .dataframe tbody tr th {\n",
       "        vertical-align: top;\n",
       "    }\n",
       "\n",
       "    .dataframe thead th {\n",
       "        text-align: right;\n",
       "    }\n",
       "</style>\n",
       "<table border=\"1\" class=\"dataframe\">\n",
       "  <thead>\n",
       "    <tr style=\"text-align: right;\">\n",
       "      <th></th>\n",
       "      <th>0</th>\n",
       "      <th>1</th>\n",
       "      <th>10</th>\n",
       "      <th>100</th>\n",
       "      <th>101</th>\n",
       "      <th>102</th>\n",
       "      <th>103</th>\n",
       "      <th>104</th>\n",
       "      <th>105</th>\n",
       "      <th>106</th>\n",
       "      <th>...</th>\n",
       "      <th>91</th>\n",
       "      <th>92</th>\n",
       "      <th>93</th>\n",
       "      <th>94</th>\n",
       "      <th>95</th>\n",
       "      <th>96</th>\n",
       "      <th>97</th>\n",
       "      <th>98</th>\n",
       "      <th>99</th>\n",
       "      <th>_id</th>\n",
       "    </tr>\n",
       "  </thead>\n",
       "  <tbody>\n",
       "    <tr>\n",
       "      <th>0</th>\n",
       "      <td>{'YEAR': 2017, 'STATE': 'Alabama ', 'RATE': 22...</td>\n",
       "      <td>{'YEAR': 2017, 'STATE': 'Alaska ', 'RATE': 24....</td>\n",
       "      <td>{'YEAR': 2017, 'STATE': 'Hawaii', 'RATE': 2.5,...</td>\n",
       "      <td>{'YEAR': 2015, 'STATE': 'AL', 'RATE': 19.6, 'D...</td>\n",
       "      <td>{'YEAR': 2015, 'STATE': 'AK', 'RATE': 23.4, 'D...</td>\n",
       "      <td>{'YEAR': 2015, 'STATE': 'AZ', 'RATE': 13.8, 'D...</td>\n",
       "      <td>{'YEAR': 2015, 'STATE': 'AR', 'RATE': 16.9, 'D...</td>\n",
       "      <td>{'YEAR': 2015, 'STATE': 'CA', 'RATE': 7.7, 'DE...</td>\n",
       "      <td>{'YEAR': 2015, 'STATE': 'CO', 'RATE': 12.6, 'D...</td>\n",
       "      <td>{'YEAR': 2015, 'STATE': 'CT', 'RATE': 5.3, 'DE...</td>\n",
       "      <td>...</td>\n",
       "      <td>{'YEAR': 2016, 'STATE': 'TN', 'RATE': 17.1, 'D...</td>\n",
       "      <td>{'YEAR': 2016, 'STATE': 'TX', 'RATE': 12.1, 'D...</td>\n",
       "      <td>{'YEAR': 2016, 'STATE': 'UT', 'RATE': 12.9, 'D...</td>\n",
       "      <td>{'YEAR': 2016, 'STATE': 'VT', 'RATE': 11.1, 'D...</td>\n",
       "      <td>{'YEAR': 2016, 'STATE': 'VA', 'RATE': 12.1, 'D...</td>\n",
       "      <td>{'YEAR': 2016, 'STATE': 'WA', 'RATE': 9.0, 'DE...</td>\n",
       "      <td>{'YEAR': 2016, 'STATE': 'WV', 'RATE': 17.5, 'D...</td>\n",
       "      <td>{'YEAR': 2016, 'STATE': 'WI', 'RATE': 11.4, 'D...</td>\n",
       "      <td>{'YEAR': 2016, 'STATE': 'WY', 'RATE': 17.4, 'D...</td>\n",
       "      <td>5d6f1020e37baffe9d890289</td>\n",
       "    </tr>\n",
       "  </tbody>\n",
       "</table>\n",
       "<p>1 rows × 251 columns</p>\n",
       "</div>"
      ],
      "text/plain": [
       "                                                   0  \\\n",
       "0  {'YEAR': 2017, 'STATE': 'Alabama ', 'RATE': 22...   \n",
       "\n",
       "                                                   1  \\\n",
       "0  {'YEAR': 2017, 'STATE': 'Alaska ', 'RATE': 24....   \n",
       "\n",
       "                                                  10  \\\n",
       "0  {'YEAR': 2017, 'STATE': 'Hawaii', 'RATE': 2.5,...   \n",
       "\n",
       "                                                 100  \\\n",
       "0  {'YEAR': 2015, 'STATE': 'AL', 'RATE': 19.6, 'D...   \n",
       "\n",
       "                                                 101  \\\n",
       "0  {'YEAR': 2015, 'STATE': 'AK', 'RATE': 23.4, 'D...   \n",
       "\n",
       "                                                 102  \\\n",
       "0  {'YEAR': 2015, 'STATE': 'AZ', 'RATE': 13.8, 'D...   \n",
       "\n",
       "                                                 103  \\\n",
       "0  {'YEAR': 2015, 'STATE': 'AR', 'RATE': 16.9, 'D...   \n",
       "\n",
       "                                                 104  \\\n",
       "0  {'YEAR': 2015, 'STATE': 'CA', 'RATE': 7.7, 'DE...   \n",
       "\n",
       "                                                 105  \\\n",
       "0  {'YEAR': 2015, 'STATE': 'CO', 'RATE': 12.6, 'D...   \n",
       "\n",
       "                                                 106  ...  \\\n",
       "0  {'YEAR': 2015, 'STATE': 'CT', 'RATE': 5.3, 'DE...  ...   \n",
       "\n",
       "                                                  91  \\\n",
       "0  {'YEAR': 2016, 'STATE': 'TN', 'RATE': 17.1, 'D...   \n",
       "\n",
       "                                                  92  \\\n",
       "0  {'YEAR': 2016, 'STATE': 'TX', 'RATE': 12.1, 'D...   \n",
       "\n",
       "                                                  93  \\\n",
       "0  {'YEAR': 2016, 'STATE': 'UT', 'RATE': 12.9, 'D...   \n",
       "\n",
       "                                                  94  \\\n",
       "0  {'YEAR': 2016, 'STATE': 'VT', 'RATE': 11.1, 'D...   \n",
       "\n",
       "                                                  95  \\\n",
       "0  {'YEAR': 2016, 'STATE': 'VA', 'RATE': 12.1, 'D...   \n",
       "\n",
       "                                                  96  \\\n",
       "0  {'YEAR': 2016, 'STATE': 'WA', 'RATE': 9.0, 'DE...   \n",
       "\n",
       "                                                  97  \\\n",
       "0  {'YEAR': 2016, 'STATE': 'WV', 'RATE': 17.5, 'D...   \n",
       "\n",
       "                                                  98  \\\n",
       "0  {'YEAR': 2016, 'STATE': 'WI', 'RATE': 11.4, 'D...   \n",
       "\n",
       "                                                  99                       _id  \n",
       "0  {'YEAR': 2016, 'STATE': 'WY', 'RATE': 17.4, 'D...  5d6f1020e37baffe9d890289  \n",
       "\n",
       "[1 rows x 251 columns]"
      ]
     },
     "execution_count": 22,
     "metadata": {},
     "output_type": "execute_result"
    }
   ],
   "source": [
    "df"
   ]
  },
  {
   "cell_type": "code",
   "execution_count": 23,
   "metadata": {},
   "outputs": [],
   "source": [
    "df = df.melt()"
   ]
  },
  {
   "cell_type": "code",
   "execution_count": 24,
   "metadata": {},
   "outputs": [
    {
     "data": {
      "text/html": [
       "<div>\n",
       "<style scoped>\n",
       "    .dataframe tbody tr th:only-of-type {\n",
       "        vertical-align: middle;\n",
       "    }\n",
       "\n",
       "    .dataframe tbody tr th {\n",
       "        vertical-align: top;\n",
       "    }\n",
       "\n",
       "    .dataframe thead th {\n",
       "        text-align: right;\n",
       "    }\n",
       "</style>\n",
       "<table border=\"1\" class=\"dataframe\">\n",
       "  <thead>\n",
       "    <tr style=\"text-align: right;\">\n",
       "      <th></th>\n",
       "      <th>variable</th>\n",
       "      <th>value</th>\n",
       "    </tr>\n",
       "  </thead>\n",
       "  <tbody>\n",
       "    <tr>\n",
       "      <th>0</th>\n",
       "      <td>0</td>\n",
       "      <td>{'YEAR': 2017, 'STATE': 'Alabama ', 'RATE': 22...</td>\n",
       "    </tr>\n",
       "    <tr>\n",
       "      <th>1</th>\n",
       "      <td>1</td>\n",
       "      <td>{'YEAR': 2017, 'STATE': 'Alaska ', 'RATE': 24....</td>\n",
       "    </tr>\n",
       "    <tr>\n",
       "      <th>2</th>\n",
       "      <td>10</td>\n",
       "      <td>{'YEAR': 2017, 'STATE': 'Hawaii', 'RATE': 2.5,...</td>\n",
       "    </tr>\n",
       "    <tr>\n",
       "      <th>3</th>\n",
       "      <td>100</td>\n",
       "      <td>{'YEAR': 2015, 'STATE': 'AL', 'RATE': 19.6, 'D...</td>\n",
       "    </tr>\n",
       "    <tr>\n",
       "      <th>4</th>\n",
       "      <td>101</td>\n",
       "      <td>{'YEAR': 2015, 'STATE': 'AK', 'RATE': 23.4, 'D...</td>\n",
       "    </tr>\n",
       "  </tbody>\n",
       "</table>\n",
       "</div>"
      ],
      "text/plain": [
       "  variable                                              value\n",
       "0        0  {'YEAR': 2017, 'STATE': 'Alabama ', 'RATE': 22...\n",
       "1        1  {'YEAR': 2017, 'STATE': 'Alaska ', 'RATE': 24....\n",
       "2       10  {'YEAR': 2017, 'STATE': 'Hawaii', 'RATE': 2.5,...\n",
       "3      100  {'YEAR': 2015, 'STATE': 'AL', 'RATE': 19.6, 'D...\n",
       "4      101  {'YEAR': 2015, 'STATE': 'AK', 'RATE': 23.4, 'D..."
      ]
     },
     "execution_count": 24,
     "metadata": {},
     "output_type": "execute_result"
    }
   ],
   "source": [
    "df.head()"
   ]
  },
  {
   "cell_type": "code",
   "execution_count": 25,
   "metadata": {},
   "outputs": [
    {
     "data": {
      "text/plain": [
       "251"
      ]
     },
     "execution_count": 25,
     "metadata": {},
     "output_type": "execute_result"
    }
   ],
   "source": [
    "len(df)"
   ]
  },
  {
   "cell_type": "code",
   "execution_count": 26,
   "metadata": {
    "scrolled": false
   },
   "outputs": [
    {
     "data": {
      "text/plain": [
       "{'YEAR': 2017,\n",
       " 'STATE': 'Alabama ',\n",
       " 'RATE': 22.9,\n",
       " 'DEATHS': '1,124',\n",
       " 'URL': '/nchs/pressroom/states/alabama/alabama.htm',\n",
       " 'hash': -617692814812755799}"
      ]
     },
     "execution_count": 26,
     "metadata": {},
     "output_type": "execute_result"
    }
   ],
   "source": [
    "df.iloc[0][1]\n",
    "# Showing content of first row 'value'"
   ]
  },
  {
   "cell_type": "markdown",
   "metadata": {},
   "source": [
    "#### > CSV Move script - moves .csv files after being ETL processed"
   ]
  },
  {
   "cell_type": "code",
   "execution_count": 27,
   "metadata": {},
   "outputs": [],
   "source": [
    "import shutil, os, glob"
   ]
  },
  {
   "cell_type": "code",
   "execution_count": 28,
   "metadata": {},
   "outputs": [],
   "source": [
    "#For Loop moving all .csv files from the test_input folder \n",
    "for filePath in glob.glob('input' + '\\*.csv'):\n",
    "            #Move each file to the destination directory\n",
    "        shutil.move(filePath, 'processed');\n",
    "# Move all files that have been ETL'ed into a processed folder\n",
    "#Source Code           \n",
    "#https://thispointer.com/python-how-to-move-files-and-directories/"
   ]
  },
  {
   "cell_type": "markdown",
   "metadata": {},
   "source": [
    "##Schedule ETL Jobs"
   ]
  },
  {
   "cell_type": "code",
   "execution_count": 29,
   "metadata": {},
   "outputs": [],
   "source": [
    "#pip install schedule"
   ]
  },
  {
   "cell_type": "markdown",
   "metadata": {},
   "source": [
    "#Source Code\n",
    "#https://github.com/dbader/schedule\n",
    "import schedule\n",
    "import time\n",
    "\n",
    "def job():\n",
    "    print(\"Performing an ETL process...\")\n",
    "\n",
    "schedule.every(1).minutes.do(job)\n",
    "\n",
    "while 1:\n",
    "    schedule.run_pending()\n",
    "    time.sleep(1)"
   ]
  },
  {
   "cell_type": "code",
   "execution_count": null,
   "metadata": {},
   "outputs": [],
   "source": []
  },
  {
   "cell_type": "code",
   "execution_count": null,
   "metadata": {},
   "outputs": [],
   "source": []
  }
 ],
 "metadata": {
  "kernelspec": {
   "display_name": "Python 3",
   "language": "python",
   "name": "python3"
  },
  "language_info": {
   "codemirror_mode": {
    "name": "ipython",
    "version": 3
   },
   "file_extension": ".py",
   "mimetype": "text/x-python",
   "name": "python",
   "nbconvert_exporter": "python",
   "pygments_lexer": "ipython3",
   "version": "3.7.3"
  }
 },
 "nbformat": 4,
 "nbformat_minor": 2
}
