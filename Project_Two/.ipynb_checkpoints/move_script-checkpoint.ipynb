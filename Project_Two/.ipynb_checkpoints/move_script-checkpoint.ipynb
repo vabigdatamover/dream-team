{
 "cells": [
  {
   "cell_type": "markdown",
   "metadata": {},
   "source": [
    "Move Script that is placed at the end of the script to move all files that have been ETL'ed into a processed folder"
   ]
  },
  {
   "cell_type": "code",
   "execution_count": 28,
   "metadata": {},
   "outputs": [],
   "source": [
    "import shutil, os, glob"
   ]
  },
  {
   "cell_type": "code",
   "execution_count": 29,
   "metadata": {},
   "outputs": [],
   "source": [
    "#For Loop moving all .csv files from the test_input folder \n",
    "for filePath in glob.glob('test_input' + '\\*.csv'):\n",
    "            #Move each file to the destination directory\n",
    "        shutil.move(filePath, 'test_processed');\n",
    "#Source Code           \n",
    "#https://thispointer.com/python-how-to-move-files-and-directories/"
   ]
  },
  {
   "cell_type": "code",
   "execution_count": null,
   "metadata": {},
   "outputs": [],
   "source": []
  }
 ],
 "metadata": {
  "kernelspec": {
   "display_name": "Python 3",
   "language": "python",
   "name": "python3"
  },
  "language_info": {
   "codemirror_mode": {
    "name": "ipython",
    "version": 3
   },
   "file_extension": ".py",
   "mimetype": "text/x-python",
   "name": "python",
   "nbconvert_exporter": "python",
   "pygments_lexer": "ipython3",
   "version": "3.7.3"
  }
 },
 "nbformat": 4,
 "nbformat_minor": 2
}
