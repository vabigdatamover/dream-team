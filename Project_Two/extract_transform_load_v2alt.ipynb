{
 "cells": [
  {
   "cell_type": "code",
   "execution_count": 1,
   "metadata": {},
   "outputs": [],
   "source": [
    "import pandas as pd\n",
    "import glob"
   ]
  },
  {
   "cell_type": "markdown",
   "metadata": {},
   "source": [
    "## Extract"
   ]
  },
  {
   "cell_type": "code",
   "execution_count": 2,
   "metadata": {},
   "outputs": [],
   "source": [
    "df = pd.concat(map(pd.read_csv, glob.glob('test_input' + '\\*.csv')))\n",
    "#Extract All source code\n",
    "#https://stackoverflow.com/questions/20906474/import-multiple-csv-files-into-pandas-and-concatenate-into-one-dataframe"
   ]
  },
  {
   "cell_type": "code",
   "execution_count": 3,
   "metadata": {
    "scrolled": true
   },
   "outputs": [
    {
     "data": {
      "text/html": [
       "<div>\n",
       "<style scoped>\n",
       "    .dataframe tbody tr th:only-of-type {\n",
       "        vertical-align: middle;\n",
       "    }\n",
       "\n",
       "    .dataframe tbody tr th {\n",
       "        vertical-align: top;\n",
       "    }\n",
       "\n",
       "    .dataframe thead th {\n",
       "        text-align: right;\n",
       "    }\n",
       "</style>\n",
       "<table border=\"1\" class=\"dataframe\">\n",
       "  <thead>\n",
       "    <tr style=\"text-align: right;\">\n",
       "      <th></th>\n",
       "      <th>City_ID</th>\n",
       "      <th>City</th>\n",
       "      <th>Cloudiness</th>\n",
       "      <th>Country</th>\n",
       "      <th>Date</th>\n",
       "      <th>Humidity</th>\n",
       "      <th>Lat</th>\n",
       "      <th>Lng</th>\n",
       "      <th>Max Temp</th>\n",
       "      <th>Wind Speed</th>\n",
       "    </tr>\n",
       "  </thead>\n",
       "  <tbody>\n",
       "    <tr>\n",
       "      <th>0</th>\n",
       "      <td>0</td>\n",
       "      <td>jacareacanga</td>\n",
       "      <td>0</td>\n",
       "      <td>BR</td>\n",
       "      <td>1528902000</td>\n",
       "      <td>62</td>\n",
       "      <td>-6.22</td>\n",
       "      <td>-57.76</td>\n",
       "      <td>89.60</td>\n",
       "      <td>6.93</td>\n",
       "    </tr>\n",
       "    <tr>\n",
       "      <th>1</th>\n",
       "      <td>1</td>\n",
       "      <td>kaitangata</td>\n",
       "      <td>100</td>\n",
       "      <td>NZ</td>\n",
       "      <td>1528905304</td>\n",
       "      <td>94</td>\n",
       "      <td>-46.28</td>\n",
       "      <td>169.85</td>\n",
       "      <td>42.61</td>\n",
       "      <td>5.64</td>\n",
       "    </tr>\n",
       "    <tr>\n",
       "      <th>2</th>\n",
       "      <td>2</td>\n",
       "      <td>goulburn</td>\n",
       "      <td>20</td>\n",
       "      <td>AU</td>\n",
       "      <td>1528905078</td>\n",
       "      <td>91</td>\n",
       "      <td>-34.75</td>\n",
       "      <td>149.72</td>\n",
       "      <td>44.32</td>\n",
       "      <td>10.11</td>\n",
       "    </tr>\n",
       "    <tr>\n",
       "      <th>3</th>\n",
       "      <td>3</td>\n",
       "      <td>lata</td>\n",
       "      <td>76</td>\n",
       "      <td>IN</td>\n",
       "      <td>1528905305</td>\n",
       "      <td>89</td>\n",
       "      <td>30.78</td>\n",
       "      <td>78.62</td>\n",
       "      <td>59.89</td>\n",
       "      <td>0.94</td>\n",
       "    </tr>\n",
       "    <tr>\n",
       "      <th>4</th>\n",
       "      <td>4</td>\n",
       "      <td>chokurdakh</td>\n",
       "      <td>0</td>\n",
       "      <td>RU</td>\n",
       "      <td>1528905306</td>\n",
       "      <td>88</td>\n",
       "      <td>70.62</td>\n",
       "      <td>147.90</td>\n",
       "      <td>32.17</td>\n",
       "      <td>2.95</td>\n",
       "    </tr>\n",
       "  </tbody>\n",
       "</table>\n",
       "</div>"
      ],
      "text/plain": [
       "   City_ID          City  Cloudiness Country        Date  Humidity    Lat  \\\n",
       "0        0  jacareacanga           0      BR  1528902000        62  -6.22   \n",
       "1        1    kaitangata         100      NZ  1528905304        94 -46.28   \n",
       "2        2      goulburn          20      AU  1528905078        91 -34.75   \n",
       "3        3          lata          76      IN  1528905305        89  30.78   \n",
       "4        4    chokurdakh           0      RU  1528905306        88  70.62   \n",
       "\n",
       "      Lng  Max Temp  Wind Speed  \n",
       "0  -57.76     89.60        6.93  \n",
       "1  169.85     42.61        5.64  \n",
       "2  149.72     44.32       10.11  \n",
       "3   78.62     59.89        0.94  \n",
       "4  147.90     32.17        2.95  "
      ]
     },
     "execution_count": 3,
     "metadata": {},
     "output_type": "execute_result"
    }
   ],
   "source": [
    "df.head()"
   ]
  },
  {
   "cell_type": "code",
   "execution_count": 4,
   "metadata": {},
   "outputs": [
    {
     "data": {
      "text/plain": [
       "1095"
      ]
     },
     "execution_count": 4,
     "metadata": {},
     "output_type": "execute_result"
    }
   ],
   "source": [
    "len(df)"
   ]
  },
  {
   "cell_type": "markdown",
   "metadata": {},
   "source": [
    "## Transform"
   ]
  },
  {
   "cell_type": "code",
   "execution_count": 5,
   "metadata": {},
   "outputs": [
    {
     "data": {
      "text/html": [
       "<div>\n",
       "<style scoped>\n",
       "    .dataframe tbody tr th:only-of-type {\n",
       "        vertical-align: middle;\n",
       "    }\n",
       "\n",
       "    .dataframe tbody tr th {\n",
       "        vertical-align: top;\n",
       "    }\n",
       "\n",
       "    .dataframe thead th {\n",
       "        text-align: right;\n",
       "    }\n",
       "</style>\n",
       "<table border=\"1\" class=\"dataframe\">\n",
       "  <thead>\n",
       "    <tr style=\"text-align: right;\">\n",
       "      <th></th>\n",
       "      <th>City_ID</th>\n",
       "      <th>City</th>\n",
       "      <th>Cloudiness</th>\n",
       "      <th>Country</th>\n",
       "      <th>Date</th>\n",
       "      <th>Humidity</th>\n",
       "      <th>Lat</th>\n",
       "      <th>Lng</th>\n",
       "      <th>Max Temp</th>\n",
       "      <th>Wind Speed</th>\n",
       "      <th>hash</th>\n",
       "    </tr>\n",
       "  </thead>\n",
       "  <tbody>\n",
       "    <tr>\n",
       "      <th>0</th>\n",
       "      <td>0</td>\n",
       "      <td>jacareacanga</td>\n",
       "      <td>0</td>\n",
       "      <td>BR</td>\n",
       "      <td>1528902000</td>\n",
       "      <td>62</td>\n",
       "      <td>-6.22</td>\n",
       "      <td>-57.76</td>\n",
       "      <td>89.60</td>\n",
       "      <td>6.93</td>\n",
       "      <td>-5869130011512737210</td>\n",
       "    </tr>\n",
       "    <tr>\n",
       "      <th>1</th>\n",
       "      <td>1</td>\n",
       "      <td>kaitangata</td>\n",
       "      <td>100</td>\n",
       "      <td>NZ</td>\n",
       "      <td>1528905304</td>\n",
       "      <td>94</td>\n",
       "      <td>-46.28</td>\n",
       "      <td>169.85</td>\n",
       "      <td>42.61</td>\n",
       "      <td>5.64</td>\n",
       "      <td>4031718688983238032</td>\n",
       "    </tr>\n",
       "    <tr>\n",
       "      <th>2</th>\n",
       "      <td>2</td>\n",
       "      <td>goulburn</td>\n",
       "      <td>20</td>\n",
       "      <td>AU</td>\n",
       "      <td>1528905078</td>\n",
       "      <td>91</td>\n",
       "      <td>-34.75</td>\n",
       "      <td>149.72</td>\n",
       "      <td>44.32</td>\n",
       "      <td>10.11</td>\n",
       "      <td>5021336569365925692</td>\n",
       "    </tr>\n",
       "    <tr>\n",
       "      <th>3</th>\n",
       "      <td>3</td>\n",
       "      <td>lata</td>\n",
       "      <td>76</td>\n",
       "      <td>IN</td>\n",
       "      <td>1528905305</td>\n",
       "      <td>89</td>\n",
       "      <td>30.78</td>\n",
       "      <td>78.62</td>\n",
       "      <td>59.89</td>\n",
       "      <td>0.94</td>\n",
       "      <td>1111483303566836649</td>\n",
       "    </tr>\n",
       "    <tr>\n",
       "      <th>4</th>\n",
       "      <td>4</td>\n",
       "      <td>chokurdakh</td>\n",
       "      <td>0</td>\n",
       "      <td>RU</td>\n",
       "      <td>1528905306</td>\n",
       "      <td>88</td>\n",
       "      <td>70.62</td>\n",
       "      <td>147.90</td>\n",
       "      <td>32.17</td>\n",
       "      <td>2.95</td>\n",
       "      <td>7518760468629069472</td>\n",
       "    </tr>\n",
       "  </tbody>\n",
       "</table>\n",
       "</div>"
      ],
      "text/plain": [
       "   City_ID          City  Cloudiness Country        Date  Humidity    Lat  \\\n",
       "0        0  jacareacanga           0      BR  1528902000        62  -6.22   \n",
       "1        1    kaitangata         100      NZ  1528905304        94 -46.28   \n",
       "2        2      goulburn          20      AU  1528905078        91 -34.75   \n",
       "3        3          lata          76      IN  1528905305        89  30.78   \n",
       "4        4    chokurdakh           0      RU  1528905306        88  70.62   \n",
       "\n",
       "      Lng  Max Temp  Wind Speed                 hash  \n",
       "0  -57.76     89.60        6.93 -5869130011512737210  \n",
       "1  169.85     42.61        5.64  4031718688983238032  \n",
       "2  149.72     44.32       10.11  5021336569365925692  \n",
       "3   78.62     59.89        0.94  1111483303566836649  \n",
       "4  147.90     32.17        2.95  7518760468629069472  "
      ]
     },
     "execution_count": 5,
     "metadata": {},
     "output_type": "execute_result"
    }
   ],
   "source": [
    "df['hash'] = pd.Series((hash(tuple(row)) for _, row in df.iterrows()))\n",
    "#Hash Code\n",
    "#https://stackoverflow.com/questions/25757042/create-hash-value-for-each-row-of-data-with-selected-columns-in-dataframe-in-pyt\n",
    "df.head()"
   ]
  },
  {
   "cell_type": "code",
   "execution_count": 6,
   "metadata": {},
   "outputs": [
    {
     "data": {
      "text/plain": [
       "1095"
      ]
     },
     "execution_count": 6,
     "metadata": {},
     "output_type": "execute_result"
    }
   ],
   "source": [
    "len(df)"
   ]
  },
  {
   "cell_type": "code",
   "execution_count": 7,
   "metadata": {},
   "outputs": [],
   "source": [
    "df_nodupe = df[~df.duplicated()]\n",
    "#Dedupe code source\n",
    "#https://stackoverflow.com/questions/40438237/assign-hash-to-row-of-categorical-data-in-pandas"
   ]
  },
  {
   "cell_type": "code",
   "execution_count": 8,
   "metadata": {
    "scrolled": true
   },
   "outputs": [
    {
     "data": {
      "text/html": [
       "<div>\n",
       "<style scoped>\n",
       "    .dataframe tbody tr th:only-of-type {\n",
       "        vertical-align: middle;\n",
       "    }\n",
       "\n",
       "    .dataframe tbody tr th {\n",
       "        vertical-align: top;\n",
       "    }\n",
       "\n",
       "    .dataframe thead th {\n",
       "        text-align: right;\n",
       "    }\n",
       "</style>\n",
       "<table border=\"1\" class=\"dataframe\">\n",
       "  <thead>\n",
       "    <tr style=\"text-align: right;\">\n",
       "      <th></th>\n",
       "      <th>City_ID</th>\n",
       "      <th>City</th>\n",
       "      <th>Cloudiness</th>\n",
       "      <th>Country</th>\n",
       "      <th>Date</th>\n",
       "      <th>Humidity</th>\n",
       "      <th>Lat</th>\n",
       "      <th>Lng</th>\n",
       "      <th>Max Temp</th>\n",
       "      <th>Wind Speed</th>\n",
       "      <th>hash</th>\n",
       "    </tr>\n",
       "  </thead>\n",
       "  <tbody>\n",
       "    <tr>\n",
       "      <th>0</th>\n",
       "      <td>0</td>\n",
       "      <td>jacareacanga</td>\n",
       "      <td>0</td>\n",
       "      <td>BR</td>\n",
       "      <td>1528902000</td>\n",
       "      <td>62</td>\n",
       "      <td>-6.22</td>\n",
       "      <td>-57.76</td>\n",
       "      <td>89.60</td>\n",
       "      <td>6.93</td>\n",
       "      <td>-5869130011512737210</td>\n",
       "    </tr>\n",
       "    <tr>\n",
       "      <th>1</th>\n",
       "      <td>1</td>\n",
       "      <td>kaitangata</td>\n",
       "      <td>100</td>\n",
       "      <td>NZ</td>\n",
       "      <td>1528905304</td>\n",
       "      <td>94</td>\n",
       "      <td>-46.28</td>\n",
       "      <td>169.85</td>\n",
       "      <td>42.61</td>\n",
       "      <td>5.64</td>\n",
       "      <td>4031718688983238032</td>\n",
       "    </tr>\n",
       "    <tr>\n",
       "      <th>2</th>\n",
       "      <td>2</td>\n",
       "      <td>goulburn</td>\n",
       "      <td>20</td>\n",
       "      <td>AU</td>\n",
       "      <td>1528905078</td>\n",
       "      <td>91</td>\n",
       "      <td>-34.75</td>\n",
       "      <td>149.72</td>\n",
       "      <td>44.32</td>\n",
       "      <td>10.11</td>\n",
       "      <td>5021336569365925692</td>\n",
       "    </tr>\n",
       "    <tr>\n",
       "      <th>3</th>\n",
       "      <td>3</td>\n",
       "      <td>lata</td>\n",
       "      <td>76</td>\n",
       "      <td>IN</td>\n",
       "      <td>1528905305</td>\n",
       "      <td>89</td>\n",
       "      <td>30.78</td>\n",
       "      <td>78.62</td>\n",
       "      <td>59.89</td>\n",
       "      <td>0.94</td>\n",
       "      <td>1111483303566836649</td>\n",
       "    </tr>\n",
       "    <tr>\n",
       "      <th>4</th>\n",
       "      <td>4</td>\n",
       "      <td>chokurdakh</td>\n",
       "      <td>0</td>\n",
       "      <td>RU</td>\n",
       "      <td>1528905306</td>\n",
       "      <td>88</td>\n",
       "      <td>70.62</td>\n",
       "      <td>147.90</td>\n",
       "      <td>32.17</td>\n",
       "      <td>2.95</td>\n",
       "      <td>7518760468629069472</td>\n",
       "    </tr>\n",
       "  </tbody>\n",
       "</table>\n",
       "</div>"
      ],
      "text/plain": [
       "   City_ID          City  Cloudiness Country        Date  Humidity    Lat  \\\n",
       "0        0  jacareacanga           0      BR  1528902000        62  -6.22   \n",
       "1        1    kaitangata         100      NZ  1528905304        94 -46.28   \n",
       "2        2      goulburn          20      AU  1528905078        91 -34.75   \n",
       "3        3          lata          76      IN  1528905305        89  30.78   \n",
       "4        4    chokurdakh           0      RU  1528905306        88  70.62   \n",
       "\n",
       "      Lng  Max Temp  Wind Speed                 hash  \n",
       "0  -57.76     89.60        6.93 -5869130011512737210  \n",
       "1  169.85     42.61        5.64  4031718688983238032  \n",
       "2  149.72     44.32       10.11  5021336569365925692  \n",
       "3   78.62     59.89        0.94  1111483303566836649  \n",
       "4  147.90     32.17        2.95  7518760468629069472  "
      ]
     },
     "execution_count": 8,
     "metadata": {},
     "output_type": "execute_result"
    }
   ],
   "source": [
    "df_nodupe.head()"
   ]
  },
  {
   "cell_type": "code",
   "execution_count": 9,
   "metadata": {},
   "outputs": [
    {
     "data": {
      "text/plain": [
       "548"
      ]
     },
     "execution_count": 9,
     "metadata": {},
     "output_type": "execute_result"
    }
   ],
   "source": [
    "len(df_nodupe)"
   ]
  },
  {
   "cell_type": "markdown",
   "metadata": {},
   "source": [
    "## Load"
   ]
  },
  {
   "cell_type": "markdown",
   "metadata": {},
   "source": [
    "#### > Convert DataFrame to json formatted file"
   ]
  },
  {
   "cell_type": "code",
   "execution_count": 10,
   "metadata": {},
   "outputs": [],
   "source": [
    "import json"
   ]
  },
  {
   "cell_type": "code",
   "execution_count": 11,
   "metadata": {},
   "outputs": [
    {
     "data": {
      "text/plain": [
       "'{\"0\":{\"City_ID\":0,\"City\":\"jacareacanga\",\"Cloudiness\":0,\"Country\":\"BR\",\"Date\":1528902000,\"Humidity\":62,\"Lat\":-6.22,\"Lng\":-57.76,\"Max Temp\":89.6,\"Wind Speed\":6.93,\"hash\":-5869130011512737210},\"1\":{\"City_ID\":1,\"City\":\"kaitangata\",\"Cloudiness\":100,\"Country\":\"NZ\",\"Date\":1528905304,\"Humidity\":94,\"Lat\":-46.28,\"Lng\":169.85,\"Max Temp\":42.61,\"Wind Speed\":5.64,\"hash\":4031718688983238032},\"2\":{\"City_ID\":2,\"City\":\"goulburn\",\"Cloudiness\":20,\"Country\":\"AU\",\"Date\":1528905078,\"Humidity\":91,\"Lat\":-34.75,\"Lng\":149.72,\"Max Temp\":44.32,\"Wind Speed\":10.11,\"hash\":5021336569365925692},\"3\":{\"City_ID\":3,\"City\":\"lata\",\"Cloudiness\":76,\"Country\":\"IN\",\"Date\":1528905305,\"Humidity\":89,\"Lat\":30.78,\"Lng\":78.62,\"Max Temp\":59.89,\"Wind Speed\":0.94,\"hash\":1111483303566836649},\"4\":{\"City_ID\":4,\"City\":\"chokurdakh\",\"Cloudiness\":0,\"Country\":\"RU\",\"Date\":1528905306,\"Humidity\":88,\"Lat\":70.62,\"Lng\":147.9,\"Max Temp\":32.17,\"Wind Speed\":2.95,\"hash\":7518760468629069472},\"5\":{\"City_ID\":5,\"City\":\"martyush\",\"Cloudiness\":92,\"Country\":\"RU\",\"Date\":1528905306,\"Humidity\":94,\"Lat\":56.4,\"Lng\":61.89,\"Max Temp\":55.03,\"Wind Speed\":9.33,\"hash\":-2943075179686061372},\"6\":{\"City_ID\":6,\"City\":\"hobart\",\"Cloudiness\":20,\"Country\":\"AU\",\"Date\":1528902000,\"Humidity\":87,\"Lat\":-42.88,\"Lng\":147.33,\"Max Temp\":44.6,\"Wind Speed\":8.05,\"hash\":-3637374824426914006},\"7\":{\"City_ID\":7,\"City\":\"broken hill\",\"Cloudiness\":0,\"Country\":\"AU\",\"Date\":1528905311,\"Humidity\":88,\"Lat\":-31.97,\"Lng\":141.45,\"Max Temp\":44.5,\"Wind Speed\":7.31,\"hash\":-8158617949064598881},\"8\":{\"City_ID\":8,\"City\":\"harnosand\",\"Cloudiness\":0,\"Country\":\"SE\",\"Date\":1528903200,\"Humidity\":44,\"Lat\":62.63,\"Lng\":17.94,\"Max Temp\":60.8,\"Wind Speed\":13.87,\"hash\":-6563730719202396128},\"9\":{\"City_ID\":9,\"City\":\"tuatapere\",\"Cloudiness\":0,\"Country\":\"NZ\",\"Date\":1528905312,\"Humidity\":100,\"Lat\":-46.13,\"Lng\":167.69,\"Max Temp\":38.92,\"Wind Speed\":3.4,\"hash\":-2618029175227710857},\"10\":{\"City_ID\":10,\"City\":\"puerto ayora\",\"Cloudiness\":90,\"Country\":\"EC\",\"Date\":1528902000,\"Humidity\":69,\"Lat\":-0.74,\"Lng\":-90.35,\"Max Temp\":77.0,\"Wind Speed\":13.87,\"hash\":8522647606378581051},\"11\":{\"City_ID\":11,\"City\":\"havre-saint-pierre\",\"Cloudiness\":75,\"Country\":\"CA\",\"Date\":1528902000,\"Humidity\":58,\"Lat\":50.23,\"Lng\":-63.6,\"Max Temp\":53.6,\"Wind Speed\":19.46,\"hash\":6626915435833760323},\"12\":{\"City_ID\":12,\"City\":\"punta arenas\",\"Cloudiness\":0,\"Country\":\"CL\",\"Date\":1528902000,\"Humidity\":100,\"Lat\":-53.16,\"Lng\":-70.91,\"Max Temp\":35.6,\"Wind Speed\":9.17,\"hash\":8287947995470597829},\"13\":{\"City_ID\":13,\"City\":\"tasiilaq\",\"Cloudiness\":75,\"Country\":\"GL\",\"Date\":1528901400,\"Humidity\":60,\"Lat\":65.61,\"Lng\":-37.64,\"Max Temp\":39.2,\"Wind Speed\":2.24,\"hash\":6868899611082018894},\"14\":{\"City_ID\":14,\"City\":\"chapais\",\"Cloudiness\":40,\"Country\":\"CA\",\"Date\":1528902000,\"Humidity\":38,\"Lat\":49.78,\"Lng\":-74.86,\"Max Temp\":59.0,\"Wind Speed\":10.29,\"hash\":-4328775790287436027},\"15\":{\"City_ID\":15,\"City\":\"avarua\",\"Cloudiness\":40,\"Country\":\"CK\",\"Date\":1528902000,\"Humidity\":56,\"Lat\":-21.21,\"Lng\":-159.78,\"Max Temp\":73.4,\"Wind Speed\":10.29,\"hash\":-2926566193449578731},\"16\":{\"City_ID\":16,\"City\":\"hofn\",\"Cloudiness\":75,\"Country\":\"IS\",\"Date\":1528902000,\"Humidity\":87,\"Lat\":64.25,\"Lng\":-15.21,\"Max Temp\":51.8,\"Wind Speed\":8.05,\"hash\":7671402875169046846},\"17\":{\"City_ID\":17,\"City\":\"yukamenskoye\",\"Cloudiness\":92,\"Country\":\"RU\",\"Date\":1528905315,\"Humidity\":98,\"Lat\":57.89,\"Lng\":52.24,\"Max Temp\":56.65,\"Wind Speed\":10.22,\"hash\":-2405604568988408005},\"18\":{\"City_ID\":18,\"City\":\"khandbari\",\"Cloudiness\":80,\"Country\":\"NP\",\"Date\":1528905315,\"Humidity\":67,\"Lat\":27.38,\"Lng\":87.21,\"Max Temp\":44.59,\"Wind Speed\":1.39,\"hash\":6610011845968877653},\"19\":{\"City_ID\":19,\"City\":\"bethel\",\"Cloudiness\":1,\"Country\":\"US\",\"Date\":1528901580,\"Humidity\":93,\"Lat\":60.79,\"Lng\":-161.76,\"Max Temp\":44.6,\"Wind Speed\":8.05,\"hash\":-7466604153179546463},\"20\":{\"City_ID\":20,\"City\":\"ushuaia\",\"Cloudiness\":75,\"Country\":\"AR\",\"Date\":1528902000,\"Humidity\":64,\"Lat\":-54.81,\"Lng\":-68.31,\"Max Temp\":41.0,\"Wind Speed\":3.36,\"hash\":7171796241645257151},\"21\":{\"City_ID\":21,\"City\":\"east london\",\"Cloudiness\":0,\"Country\":\"ZA\",\"Date\":1528902000,\"Humidity\":37,\"Lat\":-33.02,\"Lng\":27.91,\"Max Temp\":69.8,\"Wind Speed\":5.82,\"hash\":9077922975371174846},\"22\":{\"City_ID\":22,\"City\":\"bluff\",\"Cloudiness\":76,\"Country\":\"AU\",\"Date\":1528905321,\"Humidity\":76,\"Lat\":-23.58,\"Lng\":149.07,\"Max Temp\":61.96,\"Wind Speed\":4.74,\"hash\":-5448147099046247950},\"23\":{\"City_ID\":23,\"City\":\"mount isa\",\"Cloudiness\":75,\"Country\":\"AU\",\"Date\":1528902000,\"Humidity\":100,\"Lat\":-20.73,\"Lng\":139.49,\"Max Temp\":64.4,\"Wind Speed\":3.29,\"hash\":-8448357351456166125},\"24\":{\"City_ID\":24,\"City\":\"pevek\",\"Cloudiness\":0,\"Country\":\"RU\",\"Date\":1528905321,\"Humidity\":71,\"Lat\":69.7,\"Lng\":170.27,\"Max Temp\":36.94,\"Wind Speed\":6.98,\"hash\":-3790745958218906598},\"25\":{\"City_ID\":25,\"City\":\"gao\",\"Cloudiness\":24,\"Country\":\"ML\",\"Date\":1528905321,\"Humidity\":16,\"Lat\":16.28,\"Lng\":-0.04,\"Max Temp\":110.02,\"Wind Speed\":4.97,\"hash\":-7388347001702798669},\"26\":{\"City_ID\":26,\"City\":\"cabo san lucas\",\"Cloudiness\":75,\"Country\":\"MX\",\"Date\":1528901160,\"Humidity\":74,\"Lat\":22.89,\"Lng\":-109.91,\"Max Temp\":84.2,\"Wind Speed\":10.29,\"hash\":-4764054658385250871},\"27\":{\"City_ID\":27,\"City\":\"sao filipe\",\"Cloudiness\":0,\"Country\":\"CV\",\"Date\":1528905323,\"Humidity\":88,\"Lat\":14.9,\"Lng\":-24.5,\"Max Temp\":75.73,\"Wind Speed\":13.02,\"hash\":-9144107582822913144},\"28\":{\"City_ID\":28,\"City\":\"tiksi\",\"Cloudiness\":44,\"Country\":\"RU\",\"Date\":1528905298,\"Humidity\":58,\"Lat\":71.64,\"Lng\":128.87,\"Max Temp\":57.73,\"Wind Speed\":10.11,\"hash\":8546490321092447079},\"29\":{\"City_ID\":29,\"City\":\"busselton\",\"Cloudiness\":92,\"Country\":\"AU\",\"Date\":1528905323,\"Humidity\":100,\"Lat\":-33.64,\"Lng\":115.35,\"Max Temp\":60.43,\"Wind Speed\":10.56,\"hash\":-1166101127723090040},\"30\":{\"City_ID\":30,\"City\":\"alofi\",\"Cloudiness\":76,\"Country\":\"NU\",\"Date\":1528902000,\"Humidity\":88,\"Lat\":-19.06,\"Lng\":-169.92,\"Max Temp\":71.6,\"Wind Speed\":3.36,\"hash\":2761827840021060414},\"31\":{\"City_ID\":31,\"City\":\"ola\",\"Cloudiness\":75,\"Country\":\"RU\",\"Date\":1528902000,\"Humidity\":100,\"Lat\":59.58,\"Lng\":151.3,\"Max Temp\":42.8,\"Wind Speed\":7.76,\"hash\":8287828242771623039},\"32\":{\"City_ID\":32,\"City\":\"atar\",\"Cloudiness\":20,\"Country\":\"MR\",\"Date\":1528902000,\"Humidity\":19,\"Lat\":20.52,\"Lng\":-13.05,\"Max Temp\":91.4,\"Wind Speed\":9.17,\"hash\":1529939104227459717},\"33\":{\"City_ID\":33,\"City\":\"rikitea\",\"Cloudiness\":0,\"Country\":\"PF\",\"Date\":1528905325,\"Humidity\":100,\"Lat\":-23.12,\"Lng\":-134.97,\"Max Temp\":73.57,\"Wind Speed\":8.66,\"hash\":1235698509824241728},\"34\":{\"City_ID\":34,\"City\":\"hermanus\",\"Cloudiness\":0,\"Country\":\"ZA\",\"Date\":1528905325,\"Humidity\":24,\"Lat\":-34.42,\"Lng\":19.24,\"Max Temp\":77.17,\"Wind Speed\":8.66,\"hash\":6374215801171056932},\"35\":{\"City_ID\":35,\"City\":\"ponta delgada\",\"Cloudiness\":75,\"Country\":\"PT\",\"Date\":1528903800,\"Humidity\":88,\"Lat\":37.73,\"Lng\":-25.67,\"Max Temp\":71.6,\"Wind Speed\":12.75,\"hash\":7455577718757066362},\"36\":{\"City_ID\":36,\"City\":\"bambari\",\"Cloudiness\":24,\"Country\":\"CF\",\"Date\":1528905326,\"Humidity\":84,\"Lat\":5.77,\"Lng\":20.68,\"Max Temp\":81.85,\"Wind Speed\":7.65,\"hash\":-30378355113716540},\"37\":{\"City_ID\":37,\"City\":\"cap malheureux\",\"Cloudiness\":75,\"Country\":\"MU\",\"Date\":1528902000,\"Humidity\":69,\"Lat\":-19.98,\"Lng\":57.61,\"Max Temp\":75.2,\"Wind Speed\":14.99,\"hash\":-1190018087101132139},\"38\":{\"City_ID\":38,\"City\":\"puerto escondido\",\"Cloudiness\":75,\"Country\":\"MX\",\"Date\":1528901100,\"Humidity\":65,\"Lat\":15.86,\"Lng\":-97.07,\"Max Temp\":80.6,\"Wind Speed\":3.36,\"hash\":-5173270020465349179},\"39\":{\"City_ID\":39,\"City\":\"qaanaaq\",\"Cloudiness\":32,\"Country\":\"GL\",\"Date\":1528905330,\"Humidity\":100,\"Lat\":77.48,\"Lng\":-69.36,\"Max Temp\":31.45,\"Wind Speed\":6.31,\"hash\":-5600837894671014212},\"40\":{\"City_ID\":40,\"City\":\"new norfolk\",\"Cloudiness\":20,\"Country\":\"AU\",\"Date\":1528902000,\"Humidity\":87,\"Lat\":-42.78,\"Lng\":147.06,\"Max Temp\":44.6,\"Wind Speed\":8.05,\"hash\":2731031331579895433},\"41\":{\"City_ID\":41,\"City\":\"najran\",\"Cloudiness\":40,\"Country\":\"SA\",\"Date\":1528902000,\"Humidity\":13,\"Lat\":17.54,\"Lng\":44.22,\"Max Temp\":98.6,\"Wind Speed\":11.41,\"hash\":4992620200800814548},\"42\":{\"City_ID\":42,\"City\":\"isla mujeres\",\"Cloudiness\":90,\"Country\":\"MX\",\"Date\":1528904340,\"Humidity\":100,\"Lat\":21.23,\"Lng\":-86.73,\"Max Temp\":75.2,\"Wind Speed\":16.11,\"hash\":-3833109626870938729},\"43\":{\"City_ID\":43,\"City\":\"mar del plata\",\"Cloudiness\":0,\"Country\":\"AR\",\"Date\":1528905297,\"Humidity\":100,\"Lat\":-46.43,\"Lng\":-67.52,\"Max Temp\":32.53,\"Wind Speed\":7.31,\"hash\":8836824488058921437},\"44\":{\"City_ID\":44,\"City\":\"provideniya\",\"Cloudiness\":0,\"Country\":\"RU\",\"Date\":1528905332,\"Humidity\":91,\"Lat\":64.42,\"Lng\":-173.23,\"Max Temp\":40.63,\"Wind Speed\":10.78,\"hash\":8711049008108918731},\"45\":{\"City_ID\":45,\"City\":\"jamestown\",\"Cloudiness\":12,\"Country\":\"AU\",\"Date\":1528905333,\"Humidity\":88,\"Lat\":-33.21,\"Lng\":138.6,\"Max Temp\":43.15,\"Wind Speed\":10.89,\"hash\":1495628453345203818},\"46\":{\"City_ID\":46,\"City\":\"medicine hat\",\"Cloudiness\":20,\"Country\":\"CA\",\"Date\":1528902000,\"Humidity\":34,\"Lat\":50.04,\"Lng\":-110.68,\"Max Temp\":66.2,\"Wind Speed\":14.99,\"hash\":6001296507398121025},\"47\":{\"City_ID\":47,\"City\":\"katsuura\",\"Cloudiness\":8,\"Country\":\"JP\",\"Date\":1528905334,\"Humidity\":88,\"Lat\":33.93,\"Lng\":134.5,\"Max Temp\":62.05,\"Wind Speed\":7.54,\"hash\":2437183256817055237},\"48\":{\"City_ID\":48,\"City\":\"aklavik\",\"Cloudiness\":20,\"Country\":\"CA\",\"Date\":1528902000,\"Humidity\":53,\"Lat\":68.22,\"Lng\":-135.01,\"Max Temp\":51.8,\"Wind Speed\":11.41,\"hash\":6552974567914457784},\"49\":{\"City_ID\":49,\"City\":\"tuktoyaktuk\",\"Cloudiness\":20,\"Country\":\"CA\",\"Date\":1528902000,\"Humidity\":61,\"Lat\":69.44,\"Lng\":-133.03,\"Max Temp\":46.4,\"Wind Speed\":6.93,\"hash\":2837225916419746319},\"50\":{\"City_ID\":50,\"City\":\"kapaa\",\"Cloudiness\":90,\"Country\":\"US\",\"Date\":1528901760,\"Humidity\":88,\"Lat\":22.08,\"Lng\":-159.32,\"Max Temp\":75.2,\"Wind Speed\":14.99,\"hash\":-8946048001297943830},\"51\":{\"City_ID\":51,\"City\":\"mildura\",\"Cloudiness\":0,\"Country\":\"AU\",\"Date\":1528905300,\"Humidity\":92,\"Lat\":-34.18,\"Lng\":142.16,\"Max Temp\":45.67,\"Wind Speed\":9.66,\"hash\":4698449569778106856},\"52\":{\"City_ID\":52,\"City\":\"souillac\",\"Cloudiness\":75,\"Country\":\"FR\",\"Date\":1528903800,\"Humidity\":49,\"Lat\":45.6,\"Lng\":-0.6,\"Max Temp\":73.4,\"Wind Speed\":10.29,\"hash\":6659884623366162299},\"53\":{\"City_ID\":53,\"City\":\"lorengau\",\"Cloudiness\":100,\"Country\":\"PG\",\"Date\":1528905336,\"Humidity\":100,\"Lat\":-2.02,\"Lng\":147.27,\"Max Temp\":80.59,\"Wind Speed\":3.85,\"hash\":3839239027421181396},\"54\":{\"City_ID\":54,\"City\":\"praia\",\"Cloudiness\":20,\"Country\":\"BR\",\"Date\":1528902000,\"Humidity\":47,\"Lat\":-20.25,\"Lng\":-43.81,\"Max Temp\":82.4,\"Wind Speed\":3.36,\"hash\":-5260947571041736235},\"55\":{\"City_ID\":55,\"City\":\"port alfred\",\"Cloudiness\":0,\"Country\":\"ZA\",\"Date\":1528905338,\"Humidity\":50,\"Lat\":-33.59,\"Lng\":26.89,\"Max Temp\":76.54,\"Wind Speed\":7.2,\"hash\":7539673966626745156},\"56\":{\"City_ID\":56,\"City\":\"barranca\",\"Cloudiness\":0,\"Country\":\"PE\",\"Date\":1528905339,\"Humidity\":98,\"Lat\":-10.75,\"Lng\":-77.76,\"Max Temp\":61.87,\"Wind Speed\":9.89,\"hash\":8014889274421216431},\"57\":{\"City_ID\":57,\"City\":\"nome\",\"Cloudiness\":40,\"Country\":\"US\",\"Date\":1528902900,\"Humidity\":70,\"Lat\":30.04,\"Lng\":-94.42,\"Max Temp\":87.8,\"Wind Speed\":3.36,\"hash\":-2606264785774125772},\"58\":{\"City_ID\":58,\"City\":\"matay\",\"Cloudiness\":0,\"Country\":\"EG\",\"Date\":1528905339,\"Humidity\":23,\"Lat\":28.42,\"Lng\":30.79,\"Max Temp\":97.69,\"Wind Speed\":6.98,\"hash\":-5561820662538752989},\"59\":{\"City_ID\":59,\"City\":\"saskylakh\",\"Cloudiness\":48,\"Country\":\"RU\",\"Date\":1528905339,\"Humidity\":55,\"Lat\":71.97,\"Lng\":114.09,\"Max Temp\":59.53,\"Wind Speed\":5.86,\"hash\":1731007828646001948},\"60\":{\"City_ID\":60,\"City\":\"itarema\",\"Cloudiness\":0,\"Country\":\"BR\",\"Date\":1528905340,\"Humidity\":61,\"Lat\":-2.92,\"Lng\":-39.92,\"Max Temp\":88.33,\"Wind Speed\":12.57,\"hash\":-8620963235760111428},\"61\":{\"City_ID\":61,\"City\":\"butaritari\",\"Cloudiness\":56,\"Country\":\"KI\",\"Date\":1528905340,\"Humidity\":100,\"Lat\":3.07,\"Lng\":172.79,\"Max Temp\":81.13,\"Wind Speed\":7.31,\"hash\":-5871344271403804380},\"62\":{\"City_ID\":62,\"City\":\"peniche\",\"Cloudiness\":20,\"Country\":\"PT\",\"Date\":1528903800,\"Humidity\":64,\"Lat\":39.36,\"Lng\":-9.38,\"Max Temp\":75.2,\"Wind Speed\":12.75,\"hash\":-2718391396087712212},\"63\":{\"City_ID\":63,\"City\":\"beloha\",\"Cloudiness\":0,\"Country\":\"MG\",\"Date\":1528905340,\"Humidity\":57,\"Lat\":-25.17,\"Lng\":45.06,\"Max Temp\":71.95,\"Wind Speed\":16.37,\"hash\":3511358451691923008},\"64\":{\"City_ID\":64,\"City\":\"anadyr\",\"Cloudiness\":0,\"Country\":\"RU\",\"Date\":1528902000,\"Humidity\":57,\"Lat\":64.73,\"Lng\":177.51,\"Max Temp\":48.2,\"Wind Speed\":4.47,\"hash\":3368017445602940360},\"65\":{\"City_ID\":65,\"City\":\"luderitz\",\"Cloudiness\":12,\"Country\":null,\"Date\":1528905342,\"Humidity\":64,\"Lat\":-26.65,\"Lng\":15.16,\"Max Temp\":64.03,\"Wind Speed\":17.38,\"hash\":-1734393680598619254},\"66\":{\"City_ID\":66,\"City\":\"rochester\",\"Cloudiness\":1,\"Country\":\"US\",\"Date\":1528902960,\"Humidity\":37,\"Lat\":44.02,\"Lng\":-92.46,\"Max Temp\":73.4,\"Wind Speed\":6.93,\"hash\":-7330461453180098784},\"67\":{\"City_ID\":67,\"City\":\"bosaso\",\"Cloudiness\":0,\"Country\":\"SO\",\"Date\":1528905347,\"Humidity\":86,\"Lat\":11.28,\"Lng\":49.18,\"Max Temp\":89.77,\"Wind Speed\":3.96,\"hash\":-258251170871889588},\"68\":{\"City_ID\":68,\"City\":\"faanui\",\"Cloudiness\":0,\"Country\":\"PF\",\"Date\":1528905347,\"Humidity\":100,\"Lat\":-16.48,\"Lng\":-151.75,\"Max Temp\":79.96,\"Wind Speed\":11.79,\"hash\":-2091070283024357759},\"69\":{\"City_ID\":69,\"City\":\"grindavik\",\"Cloudiness\":75,\"Country\":\"IS\",\"Date\":1528902000,\"Humidity\":70,\"Lat\":63.84,\"Lng\":-22.43,\"Max Temp\":48.2,\"Wind Speed\":5.82,\"hash\":6662825731901533530},\"70\":{\"City_ID\":70,\"City\":\"margate\",\"Cloudiness\":20,\"Country\":\"AU\",\"Date\":1528902000,\"Humidity\":87,\"Lat\":-43.03,\"Lng\":147.26,\"Max Temp\":44.6,\"Wind Speed\":8.05,\"hash\":6405414104522719458},\"71\":{\"City_ID\":71,\"City\":\"marsh harbour\",\"Cloudiness\":88,\"Country\":\"BS\",\"Date\":1528905349,\"Humidity\":95,\"Lat\":26.54,\"Lng\":-77.06,\"Max Temp\":82.39,\"Wind Speed\":10.0,\"hash\":-3018266320733395631},\"72\":{\"City_ID\":72,\"City\":\"comodoro rivadavia\",\"Cloudiness\":40,\"Country\":\"AR\",\"Date\":1528902000,\"Humidity\":60,\"Lat\":-45.87,\"Lng\":-67.48,\"Max Temp\":42.8,\"Wind Speed\":9.17,\"hash\":8454368364089356500},\"73\":{\"City_ID\":73,\"City\":\"upernavik\",\"Cloudiness\":92,\"Country\":\"GL\",\"Date\":1528905350,\"Humidity\":100,\"Lat\":72.79,\"Lng\":-56.15,\"Max Temp\":29.29,\"Wind Speed\":3.74,\"hash\":-1621693372593643296},\"74\":{\"City_ID\":74,\"City\":\"uige\",\"Cloudiness\":0,\"Country\":\"AO\",\"Date\":1528905350,\"Humidity\":29,\"Lat\":-7.61,\"Lng\":15.06,\"Max Temp\":86.8,\"Wind Speed\":3.18,\"hash\":8881130765500422666},\"75\":{\"City_ID\":75,\"City\":\"bredasdorp\",\"Cloudiness\":0,\"Country\":\"ZA\",\"Date\":1528902000,\"Humidity\":23,\"Lat\":-34.53,\"Lng\":20.04,\"Max Temp\":82.4,\"Wind Speed\":5.82,\"hash\":1499896769871047746},\"76\":{\"City_ID\":76,\"City\":\"bodden town\",\"Cloudiness\":40,\"Country\":\"KY\",\"Date\":1528902000,\"Humidity\":78,\"Lat\":19.28,\"Lng\":-81.25,\"Max Temp\":80.6,\"Wind Speed\":16.11,\"hash\":9017876109167478569},\"77\":{\"City_ID\":77,\"City\":\"guerrero negro\",\"Cloudiness\":44,\"Country\":\"MX\",\"Date\":1528905350,\"Humidity\":88,\"Lat\":27.97,\"Lng\":-114.04,\"Max Temp\":63.85,\"Wind Speed\":3.74,\"hash\":-8146224425163235671},\"78\":{\"City_ID\":78,\"City\":\"bilma\",\"Cloudiness\":0,\"Country\":\"NE\",\"Date\":1528905351,\"Humidity\":12,\"Lat\":18.69,\"Lng\":12.92,\"Max Temp\":110.47,\"Wind Speed\":4.63,\"hash\":-59314333876206576},\"79\":{\"City_ID\":79,\"City\":\"carnarvon\",\"Cloudiness\":0,\"Country\":\"ZA\",\"Date\":1528905351,\"Humidity\":30,\"Lat\":-30.97,\"Lng\":22.13,\"Max Temp\":60.43,\"Wind Speed\":14.25,\"hash\":3861472095448751426},\"80\":{\"City_ID\":80,\"City\":\"ponta do sol\",\"Cloudiness\":12,\"Country\":\"BR\",\"Date\":1528905352,\"Humidity\":72,\"Lat\":-20.63,\"Lng\":-46.0,\"Max Temp\":78.25,\"Wind Speed\":3.96,\"hash\":7453848996075046789},\"81\":{\"City_ID\":81,\"City\":\"vila franca do campo\",\"Cloudiness\":75,\"Country\":\"PT\",\"Date\":1528903800,\"Humidity\":88,\"Lat\":37.72,\"Lng\":-25.43,\"Max Temp\":71.6,\"Wind Speed\":12.75,\"hash\":8710534990646706288},\"82\":{\"City_ID\":82,\"City\":\"puerto del rosario\",\"Cloudiness\":20,\"Country\":\"ES\",\"Date\":1528903800,\"Humidity\":60,\"Lat\":28.5,\"Lng\":-13.86,\"Max Temp\":73.4,\"Wind Speed\":17.22,\"hash\":4439158013516738496},\"83\":{\"City_ID\":83,\"City\":\"sitka\",\"Cloudiness\":20,\"Country\":\"US\",\"Date\":1528905353,\"Humidity\":92,\"Lat\":37.17,\"Lng\":-99.65,\"Max Temp\":74.02,\"Wind Speed\":5.97,\"hash\":3349961949468335997},\"84\":{\"City_ID\":84,\"City\":\"camacha\",\"Cloudiness\":75,\"Country\":\"PT\",\"Date\":1528903800,\"Humidity\":72,\"Lat\":33.08,\"Lng\":-16.33,\"Max Temp\":68.0,\"Wind Speed\":16.11,\"hash\":-4529227945811816954},\"85\":{\"City_ID\":85,\"City\":\"saint-philippe\",\"Cloudiness\":1,\"Country\":\"CA\",\"Date\":1528902900,\"Humidity\":54,\"Lat\":45.36,\"Lng\":-73.48,\"Max Temp\":78.8,\"Wind Speed\":11.41,\"hash\":-510074428174983020},\"86\":{\"City_ID\":86,\"City\":\"port blair\",\"Cloudiness\":92,\"Country\":\"IN\",\"Date\":1528905357,\"Humidity\":97,\"Lat\":11.67,\"Lng\":92.75,\"Max Temp\":84.37,\"Wind Speed\":25.1,\"hash\":-7196558865148714919},\"87\":{\"City_ID\":87,\"City\":\"albany\",\"Cloudiness\":90,\"Country\":\"US\",\"Date\":1528903860,\"Humidity\":68,\"Lat\":42.65,\"Lng\":-73.75,\"Max Temp\":69.8,\"Wind Speed\":3.36,\"hash\":961895913671140813},\"88\":{\"City_ID\":88,\"City\":\"barrow\",\"Cloudiness\":88,\"Country\":\"AR\",\"Date\":1528905182,\"Humidity\":72,\"Lat\":-38.31,\"Lng\":-60.23,\"Max Temp\":50.26,\"Wind Speed\":8.21,\"hash\":8442633239308257753},\"89\":{\"City_ID\":89,\"City\":\"qorveh\",\"Cloudiness\":92,\"Country\":\"IR\",\"Date\":1528905357,\"Humidity\":22,\"Lat\":35.17,\"Lng\":47.8,\"Max Temp\":76.72,\"Wind Speed\":3.18,\"hash\":44012885202830484},\"90\":{\"City_ID\":90,\"City\":\"san jeronimo\",\"Cloudiness\":90,\"Country\":\"PE\",\"Date\":1528902000,\"Humidity\":81,\"Lat\":-13.65,\"Lng\":-73.37,\"Max Temp\":46.4,\"Wind Speed\":2.39,\"hash\":-2140238269903298772},\"91\":{\"City_ID\":91,\"City\":\"mataura\",\"Cloudiness\":24,\"Country\":\"NZ\",\"Date\":1528905299,\"Humidity\":79,\"Lat\":-46.19,\"Lng\":168.86,\"Max Temp\":25.69,\"Wind Speed\":3.18,\"hash\":-3671879417745455426},\"92\":{\"City_ID\":92,\"City\":\"buala\",\"Cloudiness\":64,\"Country\":\"SB\",\"Date\":1528905359,\"Humidity\":100,\"Lat\":-8.15,\"Lng\":159.59,\"Max Temp\":78.7,\"Wind Speed\":4.18,\"hash\":1285329740290559530},\"93\":{\"City_ID\":93,\"City\":\"eyl\",\"Cloudiness\":20,\"Country\":\"SO\",\"Date\":1528905359,\"Humidity\":57,\"Lat\":7.98,\"Lng\":49.82,\"Max Temp\":86.62,\"Wind Speed\":22.41,\"hash\":-2462719328372724197},\"94\":{\"City_ID\":94,\"City\":\"abu dhabi\",\"Cloudiness\":0,\"Country\":\"AE\",\"Date\":1528902000,\"Humidity\":29,\"Lat\":24.47,\"Lng\":54.37,\"Max Temp\":98.6,\"Wind Speed\":16.11,\"hash\":1744488520144012559},\"95\":{\"City_ID\":95,\"City\":\"tahe\",\"Cloudiness\":92,\"Country\":\"CN\",\"Date\":1528905359,\"Humidity\":98,\"Lat\":52.34,\"Lng\":124.71,\"Max Temp\":51.43,\"Wind Speed\":2.17,\"hash\":7286541227643949280},\"96\":{\"City_ID\":96,\"City\":\"chuy\",\"Cloudiness\":80,\"Country\":\"UY\",\"Date\":1528905099,\"Humidity\":93,\"Lat\":-33.69,\"Lng\":-53.46,\"Max Temp\":52.87,\"Wind Speed\":28.9,\"hash\":-2736244081899088360},\"97\":{\"City_ID\":97,\"City\":\"dzerzhinskoye\",\"Cloudiness\":8,\"Country\":\"RU\",\"Date\":1528905360,\"Humidity\":69,\"Lat\":56.84,\"Lng\":95.22,\"Max Temp\":65.11,\"Wind Speed\":3.85,\"hash\":4369894222154549590},\"98\":{\"City_ID\":98,\"City\":\"vanavara\",\"Cloudiness\":0,\"Country\":\"RU\",\"Date\":1528905360,\"Humidity\":50,\"Lat\":60.35,\"Lng\":102.28,\"Max Temp\":64.21,\"Wind Speed\":5.64,\"hash\":-8478004376060468342},\"99\":{\"City_ID\":99,\"City\":\"muros\",\"Cloudiness\":40,\"Country\":\"ES\",\"Date\":1528903800,\"Humidity\":72,\"Lat\":42.77,\"Lng\":-9.06,\"Max Temp\":66.2,\"Wind Speed\":10.29,\"hash\":-6177883230086958302},\"100\":{\"City_ID\":100,\"City\":\"auchel\",\"Cloudiness\":0,\"Country\":\"FR\",\"Date\":1528903800,\"Humidity\":49,\"Lat\":50.51,\"Lng\":2.47,\"Max Temp\":68.0,\"Wind Speed\":3.36,\"hash\":3310869213692729162},\"101\":{\"City_ID\":101,\"City\":\"bubaque\",\"Cloudiness\":40,\"Country\":\"GW\",\"Date\":1528902000,\"Humidity\":55,\"Lat\":11.28,\"Lng\":-15.83,\"Max Temp\":91.4,\"Wind Speed\":11.41,\"hash\":-653020155296943129},\"102\":{\"City_ID\":102,\"City\":\"khatanga\",\"Cloudiness\":8,\"Country\":\"RU\",\"Date\":1528905361,\"Humidity\":65,\"Lat\":71.98,\"Lng\":102.47,\"Max Temp\":60.97,\"Wind Speed\":4.63,\"hash\":1322363776750502246},\"103\":{\"City_ID\":103,\"City\":\"los banos\",\"Cloudiness\":1,\"Country\":\"US\",\"Date\":1528904100,\"Humidity\":67,\"Lat\":37.06,\"Lng\":-120.85,\"Max Temp\":75.2,\"Wind Speed\":4.74,\"hash\":5757974038548274495},\"104\":{\"City_ID\":104,\"City\":\"labuhan\",\"Cloudiness\":12,\"Country\":\"ID\",\"Date\":1528905361,\"Humidity\":95,\"Lat\":-2.54,\"Lng\":115.51,\"Max Temp\":72.94,\"Wind Speed\":1.83,\"hash\":-4116846988020024306},\"105\":{\"City_ID\":105,\"City\":\"saint-paul\",\"Cloudiness\":75,\"Country\":\"FR\",\"Date\":1528903800,\"Humidity\":56,\"Lat\":45.22,\"Lng\":1.9,\"Max Temp\":68.0,\"Wind Speed\":14.99,\"hash\":6216647479436096568},\"106\":{\"City_ID\":106,\"City\":\"petatlan\",\"Cloudiness\":90,\"Country\":\"MX\",\"Date\":1528901220,\"Humidity\":74,\"Lat\":17.52,\"Lng\":-101.27,\"Max Temp\":84.2,\"Wind Speed\":1.83,\"hash\":-7865672104607529120},\"107\":{\"City_ID\":107,\"City\":\"baykit\",\"Cloudiness\":36,\"Country\":\"RU\",\"Date\":1528905366,\"Humidity\":68,\"Lat\":61.68,\"Lng\":96.39,\"Max Temp\":63.94,\"Wind Speed\":4.29,\"hash\":-7341590503109997730},\"108\":{\"City_ID\":108,\"City\":\"dalby\",\"Cloudiness\":75,\"Country\":\"AU\",\"Date\":1528902000,\"Humidity\":93,\"Lat\":-27.18,\"Lng\":151.26,\"Max Temp\":53.6,\"Wind Speed\":2.24,\"hash\":8179274816127664119},\"109\":{\"City_ID\":109,\"City\":\"yellowknife\",\"Cloudiness\":90,\"Country\":\"CA\",\"Date\":1528902540,\"Humidity\":93,\"Lat\":62.45,\"Lng\":-114.38,\"Max Temp\":46.4,\"Wind Speed\":8.05,\"hash\":-3338147846519792947},\"110\":{\"City_ID\":110,\"City\":\"hilo\",\"Cloudiness\":75,\"Country\":\"US\",\"Date\":1528901580,\"Humidity\":88,\"Lat\":19.71,\"Lng\":-155.08,\"Max Temp\":66.2,\"Wind Speed\":5.82,\"hash\":20038204090026572},\"111\":{\"City_ID\":111,\"City\":\"turukhansk\",\"Cloudiness\":36,\"Country\":\"RU\",\"Date\":1528905297,\"Humidity\":76,\"Lat\":65.8,\"Lng\":87.96,\"Max Temp\":66.37,\"Wind Speed\":6.42,\"hash\":8296954633367278758},\"112\":{\"City_ID\":112,\"City\":\"dingle\",\"Cloudiness\":68,\"Country\":\"PH\",\"Date\":1528905368,\"Humidity\":82,\"Lat\":11.0,\"Lng\":122.67,\"Max Temp\":79.96,\"Wind Speed\":8.21,\"hash\":-8500507209849936286},\"113\":{\"City_ID\":113,\"City\":\"dillon\",\"Cloudiness\":1,\"Country\":\"US\",\"Date\":1528901580,\"Humidity\":44,\"Lat\":45.22,\"Lng\":-112.64,\"Max Temp\":57.2,\"Wind Speed\":5.82,\"hash\":-8652968138985980538},\"114\":{\"City_ID\":114,\"City\":\"labytnangi\",\"Cloudiness\":64,\"Country\":\"RU\",\"Date\":1528905370,\"Humidity\":75,\"Lat\":66.66,\"Lng\":66.39,\"Max Temp\":47.11,\"Wind Speed\":17.49,\"hash\":-7659355313297529510},\"115\":{\"City_ID\":115,\"City\":\"gigmoto\",\"Cloudiness\":36,\"Country\":\"PH\",\"Date\":1528905370,\"Humidity\":98,\"Lat\":13.78,\"Lng\":124.39,\"Max Temp\":83.56,\"Wind Speed\":17.6,\"hash\":-3209726713593593031},\"116\":{\"City_ID\":116,\"City\":\"nouakchott\",\"Cloudiness\":68,\"Country\":\"MR\",\"Date\":1528905371,\"Humidity\":76,\"Lat\":18.08,\"Lng\":-15.98,\"Max Temp\":76.72,\"Wind Speed\":1.39,\"hash\":6588151004293890191},\"117\":{\"City_ID\":117,\"City\":\"rumoi\",\"Cloudiness\":92,\"Country\":\"JP\",\"Date\":1528905371,\"Humidity\":100,\"Lat\":43.93,\"Lng\":141.67,\"Max Temp\":44.41,\"Wind Speed\":8.1,\"hash\":-2024004945715489644},\"118\":{\"City_ID\":118,\"City\":\"dikson\",\"Cloudiness\":32,\"Country\":\"RU\",\"Date\":1528905373,\"Humidity\":100,\"Lat\":73.51,\"Lng\":80.55,\"Max Temp\":31.09,\"Wind Speed\":13.13,\"hash\":2379506153652763387},\"119\":{\"City_ID\":119,\"City\":\"chinsali\",\"Cloudiness\":0,\"Country\":\"ZM\",\"Date\":1528905377,\"Humidity\":36,\"Lat\":-10.55,\"Lng\":32.07,\"Max Temp\":73.39,\"Wind Speed\":9.22,\"hash\":8369061131038447625},\"120\":{\"City_ID\":120,\"City\":\"georgetown\",\"Cloudiness\":75,\"Country\":\"GY\",\"Date\":1528902000,\"Humidity\":78,\"Lat\":6.8,\"Lng\":-58.16,\"Max Temp\":82.4,\"Wind Speed\":9.17,\"hash\":2649445785686123493},\"121\":{\"City_ID\":121,\"City\":\"tooele\",\"Cloudiness\":1,\"Country\":\"US\",\"Date\":1528902900,\"Humidity\":35,\"Lat\":40.53,\"Lng\":-112.3,\"Max Temp\":73.4,\"Wind Speed\":9.17,\"hash\":5545566552451422152},\"122\":{\"City_ID\":122,\"City\":\"nikolskoye\",\"Cloudiness\":40,\"Country\":\"RU\",\"Date\":1528902000,\"Humidity\":41,\"Lat\":59.7,\"Lng\":30.79,\"Max Temp\":60.8,\"Wind Speed\":4.47,\"hash\":7107145299157999883},\"123\":{\"City_ID\":123,\"City\":\"bodo\",\"Cloudiness\":80,\"Country\":\"CI\",\"Date\":1528905379,\"Humidity\":66,\"Lat\":5.91,\"Lng\":-4.68,\"Max Temp\":87.7,\"Wind Speed\":8.21,\"hash\":1500940177742567398},\"124\":{\"City_ID\":124,\"City\":\"minador do negrao\",\"Cloudiness\":32,\"Country\":\"BR\",\"Date\":1528905379,\"Humidity\":80,\"Lat\":-9.31,\"Lng\":-36.86,\"Max Temp\":76.81,\"Wind Speed\":13.24,\"hash\":-2613900040452950511},\"125\":{\"City_ID\":125,\"City\":\"sambava\",\"Cloudiness\":88,\"Country\":\"MG\",\"Date\":1528905379,\"Humidity\":100,\"Lat\":-14.27,\"Lng\":50.17,\"Max Temp\":77.35,\"Wind Speed\":19.73,\"hash\":-227311659165534767},\"126\":{\"City_ID\":126,\"City\":\"yerbogachen\",\"Cloudiness\":0,\"Country\":\"RU\",\"Date\":1528905380,\"Humidity\":44,\"Lat\":61.28,\"Lng\":108.01,\"Max Temp\":64.93,\"Wind Speed\":7.43,\"hash\":-2464388695187598507},\"127\":{\"City_ID\":127,\"City\":\"kahului\",\"Cloudiness\":1,\"Country\":\"US\",\"Date\":1528901760,\"Humidity\":93,\"Lat\":20.89,\"Lng\":-156.47,\"Max Temp\":66.2,\"Wind Speed\":3.36,\"hash\":-5970522734846216926},\"128\":{\"City_ID\":128,\"City\":\"clyde river\",\"Cloudiness\":75,\"Country\":\"CA\",\"Date\":1528902660,\"Humidity\":100,\"Lat\":70.47,\"Lng\":-68.59,\"Max Temp\":35.6,\"Wind Speed\":21.92,\"hash\":-3462420977338790079},\"129\":{\"City_ID\":129,\"City\":\"ancud\",\"Cloudiness\":20,\"Country\":\"CL\",\"Date\":1528905381,\"Humidity\":90,\"Lat\":-41.87,\"Lng\":-73.83,\"Max Temp\":39.1,\"Wind Speed\":2.73,\"hash\":-2819067470572876909},\"130\":{\"City_ID\":130,\"City\":\"beringovskiy\",\"Cloudiness\":0,\"Country\":\"RU\",\"Date\":1528905381,\"Humidity\":88,\"Lat\":63.05,\"Lng\":179.32,\"Max Temp\":39.37,\"Wind Speed\":3.4,\"hash\":1155415439858792766},\"131\":{\"City_ID\":131,\"City\":\"majene\",\"Cloudiness\":32,\"Country\":\"ID\",\"Date\":1528905382,\"Humidity\":100,\"Lat\":-3.54,\"Lng\":118.97,\"Max Temp\":81.85,\"Wind Speed\":11.01,\"hash\":2647153772273693199},\"132\":{\"City_ID\":132,\"City\":\"ahar\",\"Cloudiness\":36,\"Country\":\"IR\",\"Date\":1528905382,\"Humidity\":62,\"Lat\":38.48,\"Lng\":47.07,\"Max Temp\":62.77,\"Wind Speed\":3.74,\"hash\":8756641922883546034},\"133\":{\"City_ID\":133,\"City\":\"ilhabela\",\"Cloudiness\":80,\"Country\":\"BR\",\"Date\":1528905382,\"Humidity\":98,\"Lat\":-23.78,\"Lng\":-45.36,\"Max Temp\":72.85,\"Wind Speed\":2.28,\"hash\":-967567104172514889},\"134\":{\"City_ID\":134,\"City\":\"listvyagi\",\"Cloudiness\":0,\"Country\":\"RU\",\"Date\":1528905382,\"Humidity\":78,\"Lat\":53.68,\"Lng\":86.95,\"Max Temp\":65.11,\"Wind Speed\":2.06,\"hash\":-4757544006005574381},\"135\":{\"City_ID\":135,\"City\":\"skjervoy\",\"Cloudiness\":40,\"Country\":\"NO\",\"Date\":1528903200,\"Humidity\":65,\"Lat\":70.03,\"Lng\":20.97,\"Max Temp\":44.6,\"Wind Speed\":10.29,\"hash\":-8011564519242040782},\"136\":{\"City_ID\":136,\"City\":\"cape town\",\"Cloudiness\":0,\"Country\":\"ZA\",\"Date\":1528902000,\"Humidity\":35,\"Lat\":-33.93,\"Lng\":18.42,\"Max Temp\":73.4,\"Wind Speed\":9.17,\"hash\":-2365297203083871138},\"137\":{\"City_ID\":137,\"City\":\"iqaluit\",\"Cloudiness\":90,\"Country\":\"CA\",\"Date\":1528902000,\"Humidity\":96,\"Lat\":63.75,\"Lng\":-68.52,\"Max Temp\":35.6,\"Wind Speed\":20.8,\"hash\":937190621572707825},\"138\":{\"City_ID\":138,\"City\":\"fort-shevchenko\",\"Cloudiness\":0,\"Country\":\"KZ\",\"Date\":1528905387,\"Humidity\":59,\"Lat\":44.51,\"Lng\":50.26,\"Max Temp\":74.2,\"Wind Speed\":3.62,\"hash\":-3069244657291078075},\"139\":{\"City_ID\":139,\"City\":\"severo-kurilsk\",\"Cloudiness\":92,\"Country\":\"RU\",\"Date\":1528905387,\"Humidity\":100,\"Lat\":50.68,\"Lng\":156.12,\"Max Temp\":38.02,\"Wind Speed\":16.26,\"hash\":733922485966108513},\"140\":{\"City_ID\":140,\"City\":\"arraial do cabo\",\"Cloudiness\":0,\"Country\":\"BR\",\"Date\":1528905600,\"Humidity\":65,\"Lat\":-22.97,\"Lng\":-42.02,\"Max Temp\":80.6,\"Wind Speed\":4.7,\"hash\":-3188765979076773366},\"141\":{\"City_ID\":141,\"City\":\"torbay\",\"Cloudiness\":90,\"Country\":\"CA\",\"Date\":1528903560,\"Humidity\":93,\"Lat\":47.66,\"Lng\":-52.73,\"Max Temp\":50.0,\"Wind Speed\":19.46,\"hash\":466748809682037497},\"142\":{\"City_ID\":142,\"City\":\"ahipara\",\"Cloudiness\":88,\"Country\":\"NZ\",\"Date\":1528905388,\"Humidity\":91,\"Lat\":-35.17,\"Lng\":173.16,\"Max Temp\":56.65,\"Wind Speed\":9.66,\"hash\":-7522250999588465178},\"143\":{\"City_ID\":143,\"City\":\"bandarbeyla\",\"Cloudiness\":0,\"Country\":\"SO\",\"Date\":1528905389,\"Humidity\":79,\"Lat\":9.49,\"Lng\":50.81,\"Max Temp\":79.15,\"Wind Speed\":32.93,\"hash\":-589877111204821737},\"144\":{\"City_ID\":144,\"City\":\"vuktyl\",\"Cloudiness\":92,\"Country\":\"RU\",\"Date\":1528905389,\"Humidity\":96,\"Lat\":63.86,\"Lng\":57.31,\"Max Temp\":52.6,\"Wind Speed\":7.43,\"hash\":3417937192868326712},\"145\":{\"City_ID\":145,\"City\":\"caravelas\",\"Cloudiness\":0,\"Country\":\"BR\",\"Date\":1528905390,\"Humidity\":98,\"Lat\":-17.73,\"Lng\":-39.27,\"Max Temp\":77.62,\"Wind Speed\":10.45,\"hash\":4953584680348320340},\"146\":{\"City_ID\":146,\"City\":\"waipawa\",\"Cloudiness\":92,\"Country\":\"NZ\",\"Date\":1528905390,\"Humidity\":94,\"Lat\":-39.94,\"Lng\":176.59,\"Max Temp\":50.89,\"Wind Speed\":9.44,\"hash\":6037170811458512777},\"147\":{\"City_ID\":147,\"City\":\"khomutovo\",\"Cloudiness\":0,\"Country\":\"RU\",\"Date\":1528905390,\"Humidity\":65,\"Lat\":52.85,\"Lng\":37.45,\"Max Temp\":72.31,\"Wind Speed\":5.97,\"hash\":636443190062680002},\"148\":{\"City_ID\":148,\"City\":\"acajutla\",\"Cloudiness\":40,\"Country\":\"SV\",\"Date\":1528901400,\"Humidity\":79,\"Lat\":13.59,\"Lng\":-89.83,\"Max Temp\":84.2,\"Wind Speed\":1.12,\"hash\":-7338629387532321475},\"149\":{\"City_ID\":149,\"City\":\"buritis\",\"Cloudiness\":0,\"Country\":\"BR\",\"Date\":1528905391,\"Humidity\":53,\"Lat\":-15.62,\"Lng\":-46.42,\"Max Temp\":83.74,\"Wind Speed\":6.87,\"hash\":6587345990355386817},\"150\":{\"City_ID\":150,\"City\":\"meulaboh\",\"Cloudiness\":48,\"Country\":\"ID\",\"Date\":1528905392,\"Humidity\":100,\"Lat\":4.14,\"Lng\":96.13,\"Max Temp\":82.03,\"Wind Speed\":3.4,\"hash\":-4936447062654525477},\"151\":{\"City_ID\":151,\"City\":\"vaini\",\"Cloudiness\":100,\"Country\":\"IN\",\"Date\":1528905392,\"Humidity\":98,\"Lat\":15.34,\"Lng\":74.49,\"Max Temp\":70.42,\"Wind Speed\":4.29,\"hash\":29809428824838119},\"152\":{\"City_ID\":152,\"City\":\"teya\",\"Cloudiness\":75,\"Country\":\"MX\",\"Date\":1528901400,\"Humidity\":66,\"Lat\":21.05,\"Lng\":-89.07,\"Max Temp\":86.0,\"Wind Speed\":13.87,\"hash\":-7364126554624027429},\"153\":{\"City_ID\":153,\"City\":\"bambous virieux\",\"Cloudiness\":75,\"Country\":\"MU\",\"Date\":1528902000,\"Humidity\":69,\"Lat\":-20.34,\"Lng\":57.76,\"Max Temp\":75.2,\"Wind Speed\":14.99,\"hash\":3018490153428125184},\"154\":{\"City_ID\":154,\"City\":\"zaragoza\",\"Cloudiness\":20,\"Country\":\"ES\",\"Date\":1528903800,\"Humidity\":49,\"Lat\":41.65,\"Lng\":-0.88,\"Max Temp\":77.0,\"Wind Speed\":28.86,\"hash\":6894591000733302747},\"155\":{\"City_ID\":155,\"City\":\"thompson\",\"Cloudiness\":75,\"Country\":\"CA\",\"Date\":1528902600,\"Humidity\":76,\"Lat\":55.74,\"Lng\":-97.86,\"Max Temp\":57.2,\"Wind Speed\":3.36,\"hash\":-3360117617743710994},\"156\":{\"City_ID\":156,\"City\":\"kodiak\",\"Cloudiness\":1,\"Country\":\"US\",\"Date\":1528901580,\"Humidity\":50,\"Lat\":39.95,\"Lng\":-94.76,\"Max Temp\":75.2,\"Wind Speed\":13.87,\"hash\":885754737515359688},\"157\":{\"City_ID\":157,\"City\":\"nsanje\",\"Cloudiness\":92,\"Country\":\"MZ\",\"Date\":1528905397,\"Humidity\":84,\"Lat\":-16.92,\"Lng\":35.26,\"Max Temp\":70.33,\"Wind Speed\":4.18,\"hash\":7898630975087655939},\"158\":{\"City_ID\":158,\"City\":\"the pas\",\"Cloudiness\":1,\"Country\":\"CA\",\"Date\":1528902000,\"Humidity\":63,\"Lat\":53.82,\"Lng\":-101.24,\"Max Temp\":60.8,\"Wind Speed\":10.29,\"hash\":7986717018337109488},\"159\":{\"City_ID\":159,\"City\":\"masalli\",\"Cloudiness\":12,\"Country\":\"KR\",\"Date\":1528902000,\"Humidity\":77,\"Lat\":34.8,\"Lng\":126.66,\"Max Temp\":68.0,\"Wind Speed\":9.17,\"hash\":8779843539985465010},\"160\":{\"City_ID\":160,\"City\":\"talnakh\",\"Cloudiness\":20,\"Country\":\"RU\",\"Date\":1528905398,\"Humidity\":100,\"Lat\":69.49,\"Lng\":88.39,\"Max Temp\":42.79,\"Wind Speed\":3.18,\"hash\":1611424047456710616},\"161\":{\"City_ID\":161,\"City\":\"ilulissat\",\"Cloudiness\":90,\"Country\":\"GL\",\"Date\":1528901400,\"Humidity\":97,\"Lat\":69.22,\"Lng\":-51.1,\"Max Temp\":32.0,\"Wind Speed\":4.7,\"hash\":3309927629740665175},\"162\":{\"City_ID\":162,\"City\":\"vallenar\",\"Cloudiness\":0,\"Country\":\"CL\",\"Date\":1528905399,\"Humidity\":56,\"Lat\":-28.58,\"Lng\":-70.76,\"Max Temp\":54.4,\"Wind Speed\":1.28,\"hash\":6018072759382933495},\"163\":{\"City_ID\":163,\"City\":\"cap-aux-meules\",\"Cloudiness\":40,\"Country\":\"CA\",\"Date\":1528902000,\"Humidity\":62,\"Lat\":47.38,\"Lng\":-61.86,\"Max Temp\":51.8,\"Wind Speed\":20.8,\"hash\":2585491569625008904},\"164\":{\"City_ID\":164,\"City\":\"san quintin\",\"Cloudiness\":90,\"Country\":\"PH\",\"Date\":1528902000,\"Humidity\":100,\"Lat\":17.54,\"Lng\":120.52,\"Max Temp\":77.0,\"Wind Speed\":13.87,\"hash\":5700385144423542949},\"165\":{\"City_ID\":165,\"City\":\"victoria\",\"Cloudiness\":75,\"Country\":\"BN\",\"Date\":1528902000,\"Humidity\":94,\"Lat\":5.28,\"Lng\":115.24,\"Max Temp\":80.6,\"Wind Speed\":1.12,\"hash\":-4964732353039325518},\"166\":{\"City_ID\":166,\"City\":\"okhotsk\",\"Cloudiness\":12,\"Country\":\"RU\",\"Date\":1528905400,\"Humidity\":100,\"Lat\":59.36,\"Lng\":143.24,\"Max Temp\":38.02,\"Wind Speed\":2.17,\"hash\":-3716321931103783395},\"167\":{\"City_ID\":167,\"City\":\"bonavista\",\"Cloudiness\":92,\"Country\":\"CA\",\"Date\":1528905401,\"Humidity\":82,\"Lat\":48.65,\"Lng\":-53.11,\"Max Temp\":46.57,\"Wind Speed\":22.97,\"hash\":-5844850365427113786},\"168\":{\"City_ID\":168,\"City\":\"manokwari\",\"Cloudiness\":80,\"Country\":\"ID\",\"Date\":1528905401,\"Humidity\":100,\"Lat\":-0.87,\"Lng\":134.08,\"Max Temp\":78.07,\"Wind Speed\":8.1,\"hash\":-5412438034180526551},\"169\":{\"City_ID\":169,\"City\":\"lebu\",\"Cloudiness\":92,\"Country\":\"ET\",\"Date\":1528905404,\"Humidity\":100,\"Lat\":8.96,\"Lng\":38.73,\"Max Temp\":55.3,\"Wind Speed\":0.72,\"hash\":-7239552819183076560},\"170\":{\"City_ID\":170,\"City\":\"qostanay\",\"Cloudiness\":75,\"Country\":\"KZ\",\"Date\":1528902000,\"Humidity\":54,\"Lat\":53.17,\"Lng\":63.58,\"Max Temp\":59.0,\"Wind Speed\":6.71,\"hash\":-1693050109807016335},\"171\":{\"City_ID\":171,\"City\":\"victor harbor\",\"Cloudiness\":75,\"Country\":\"AU\",\"Date\":1528902000,\"Humidity\":82,\"Lat\":-35.55,\"Lng\":138.62,\"Max Temp\":55.4,\"Wind Speed\":17.22,\"hash\":2116031729658791008},\"172\":{\"City_ID\":172,\"City\":\"kamenka\",\"Cloudiness\":12,\"Country\":\"RU\",\"Date\":1528905405,\"Humidity\":98,\"Lat\":53.19,\"Lng\":44.05,\"Max Temp\":61.6,\"Wind Speed\":9.44,\"hash\":1148930763937389191},\"173\":{\"City_ID\":173,\"City\":\"cherskiy\",\"Cloudiness\":8,\"Country\":\"RU\",\"Date\":1528905405,\"Humidity\":48,\"Lat\":68.75,\"Lng\":161.3,\"Max Temp\":55.21,\"Wind Speed\":3.18,\"hash\":2032672527572496393},\"174\":{\"City_ID\":174,\"City\":\"kimbe\",\"Cloudiness\":92,\"Country\":\"PG\",\"Date\":1528905405,\"Humidity\":100,\"Lat\":-5.56,\"Lng\":150.15,\"Max Temp\":78.43,\"Wind Speed\":6.64,\"hash\":7504710179429835566},\"175\":{\"City_ID\":175,\"City\":\"guba\",\"Cloudiness\":75,\"Country\":\"PH\",\"Date\":1528902000,\"Humidity\":74,\"Lat\":10.43,\"Lng\":123.89,\"Max Temp\":84.2,\"Wind Speed\":8.05,\"hash\":-8424779675736301654},\"176\":{\"City_ID\":176,\"City\":\"inuvik\",\"Cloudiness\":40,\"Country\":\"CA\",\"Date\":1528902000,\"Humidity\":53,\"Lat\":68.36,\"Lng\":-133.71,\"Max Temp\":51.8,\"Wind Speed\":3.36,\"hash\":-2987344159298668627},\"177\":{\"City_ID\":177,\"City\":\"jiazi\",\"Cloudiness\":20,\"Country\":\"CN\",\"Date\":1528902000,\"Humidity\":78,\"Lat\":19.61,\"Lng\":110.49,\"Max Temp\":82.4,\"Wind Speed\":4.47,\"hash\":5400104950525914871},\"178\":{\"City_ID\":178,\"City\":\"namatanai\",\"Cloudiness\":76,\"Country\":\"PG\",\"Date\":1528905407,\"Humidity\":100,\"Lat\":-3.66,\"Lng\":152.44,\"Max Temp\":78.07,\"Wind Speed\":11.68,\"hash\":4080493963601763341},\"179\":{\"City_ID\":179,\"City\":\"port elizabeth\",\"Cloudiness\":90,\"Country\":\"US\",\"Date\":1528903500,\"Humidity\":83,\"Lat\":39.31,\"Lng\":-74.98,\"Max Temp\":75.2,\"Wind Speed\":9.17,\"hash\":17975228759749904},\"180\":{\"City_ID\":180,\"City\":\"chilca\",\"Cloudiness\":75,\"Country\":\"PE\",\"Date\":1528903800,\"Humidity\":47,\"Lat\":-13.22,\"Lng\":-72.34,\"Max Temp\":55.4,\"Wind Speed\":3.36,\"hash\":-1859073056864696611},\"181\":{\"City_ID\":181,\"City\":\"tual\",\"Cloudiness\":68,\"Country\":\"ID\",\"Date\":1528905408,\"Humidity\":100,\"Lat\":-5.67,\"Lng\":132.75,\"Max Temp\":79.78,\"Wind Speed\":12.12,\"hash\":2152220346928186558},\"182\":{\"City_ID\":182,\"City\":\"puerto colombia\",\"Cloudiness\":40,\"Country\":\"CO\",\"Date\":1528902000,\"Humidity\":74,\"Lat\":10.99,\"Lng\":-74.96,\"Max Temp\":87.8,\"Wind Speed\":6.93,\"hash\":-1098783154967563284},\"183\":{\"City_ID\":183,\"City\":\"muzhi\",\"Cloudiness\":0,\"Country\":\"RU\",\"Date\":1528905409,\"Humidity\":63,\"Lat\":65.4,\"Lng\":64.7,\"Max Temp\":55.57,\"Wind Speed\":10.67,\"hash\":6485202587181369130},\"184\":{\"City_ID\":184,\"City\":\"tabuk\",\"Cloudiness\":92,\"Country\":\"PH\",\"Date\":1528905413,\"Humidity\":86,\"Lat\":17.41,\"Lng\":121.44,\"Max Temp\":72.4,\"Wind Speed\":1.83,\"hash\":-3193850937492356613},\"185\":{\"City_ID\":185,\"City\":\"palauig\",\"Cloudiness\":92,\"Country\":\"PH\",\"Date\":1528905413,\"Humidity\":100,\"Lat\":15.44,\"Lng\":119.9,\"Max Temp\":74.11,\"Wind Speed\":10.67,\"hash\":7674706357603808027},\"186\":{\"City_ID\":186,\"City\":\"komsomolskiy\",\"Cloudiness\":0,\"Country\":\"RU\",\"Date\":1528905413,\"Humidity\":84,\"Lat\":67.55,\"Lng\":63.78,\"Max Temp\":37.39,\"Wind Speed\":9.22,\"hash\":-5245255298513747966},\"187\":{\"City_ID\":187,\"City\":\"atuona\",\"Cloudiness\":44,\"Country\":\"PF\",\"Date\":1528905298,\"Humidity\":100,\"Lat\":-9.8,\"Lng\":-139.03,\"Max Temp\":79.6,\"Wind Speed\":12.91,\"hash\":5958880992591766903},\"188\":{\"City_ID\":188,\"City\":\"sinnamary\",\"Cloudiness\":92,\"Country\":\"GF\",\"Date\":1528905414,\"Humidity\":100,\"Lat\":5.38,\"Lng\":-52.96,\"Max Temp\":75.19,\"Wind Speed\":3.4,\"hash\":6773685857697356997},\"189\":{\"City_ID\":189,\"City\":\"kavieng\",\"Cloudiness\":92,\"Country\":\"PG\",\"Date\":1528905414,\"Humidity\":100,\"Lat\":-2.57,\"Lng\":150.8,\"Max Temp\":78.97,\"Wind Speed\":5.41,\"hash\":-3395968865053134390},\"190\":{\"City_ID\":190,\"City\":\"moron\",\"Cloudiness\":0,\"Country\":\"VE\",\"Date\":1528905415,\"Humidity\":70,\"Lat\":10.49,\"Lng\":-68.2,\"Max Temp\":81.67,\"Wind Speed\":3.06,\"hash\":5321175495760704906},\"191\":{\"City_ID\":191,\"City\":\"fortuna\",\"Cloudiness\":20,\"Country\":\"ES\",\"Date\":1528903800,\"Humidity\":64,\"Lat\":38.18,\"Lng\":-1.13,\"Max Temp\":86.0,\"Wind Speed\":12.75,\"hash\":-669863738319858440},\"192\":{\"City_ID\":192,\"City\":\"pangnirtung\",\"Cloudiness\":90,\"Country\":\"CA\",\"Date\":1528902000,\"Humidity\":93,\"Lat\":66.15,\"Lng\":-65.72,\"Max Temp\":35.6,\"Wind Speed\":4.7,\"hash\":2709785764029533794},\"193\":{\"City_ID\":193,\"City\":\"paamiut\",\"Cloudiness\":68,\"Country\":\"GL\",\"Date\":1528905416,\"Humidity\":100,\"Lat\":61.99,\"Lng\":-49.67,\"Max Temp\":35.32,\"Wind Speed\":12.46,\"hash\":8649937271545689508},\"194\":{\"City_ID\":194,\"City\":\"juegang\",\"Cloudiness\":36,\"Country\":\"CN\",\"Date\":1528905417,\"Humidity\":76,\"Lat\":32.31,\"Lng\":121.18,\"Max Temp\":75.28,\"Wind Speed\":16.6,\"hash\":-4192615570367057040},\"195\":{\"City_ID\":195,\"City\":\"kiama\",\"Cloudiness\":0,\"Country\":\"AU\",\"Date\":1528905418,\"Humidity\":86,\"Lat\":-34.67,\"Lng\":150.86,\"Max Temp\":50.44,\"Wind Speed\":6.87,\"hash\":-5840369772308796640},\"196\":{\"City_ID\":196,\"City\":\"yamada\",\"Cloudiness\":20,\"Country\":\"JP\",\"Date\":1528902000,\"Humidity\":72,\"Lat\":36.58,\"Lng\":137.08,\"Max Temp\":60.8,\"Wind Speed\":14.99,\"hash\":-1522371217488833547},\"197\":{\"City_ID\":197,\"City\":\"russell\",\"Cloudiness\":0,\"Country\":\"AR\",\"Date\":1528902000,\"Humidity\":48,\"Lat\":-33.01,\"Lng\":-68.8,\"Max Temp\":42.8,\"Wind Speed\":3.36,\"hash\":3361365048498576336},\"198\":{\"City_ID\":198,\"City\":\"port hawkesbury\",\"Cloudiness\":1,\"Country\":\"CA\",\"Date\":1528902000,\"Humidity\":63,\"Lat\":45.62,\"Lng\":-61.36,\"Max Temp\":64.4,\"Wind Speed\":16.11,\"hash\":-3465857116922086530},\"199\":{\"City_ID\":199,\"City\":\"naze\",\"Cloudiness\":75,\"Country\":\"NG\",\"Date\":1528902000,\"Humidity\":62,\"Lat\":5.43,\"Lng\":7.07,\"Max Temp\":89.6,\"Wind Speed\":9.17,\"hash\":7637035698786056816},\"200\":{\"City_ID\":200,\"City\":\"namibe\",\"Cloudiness\":0,\"Country\":\"AO\",\"Date\":1528905419,\"Humidity\":89,\"Lat\":-15.19,\"Lng\":12.15,\"Max Temp\":74.02,\"Wind Speed\":17.49,\"hash\":-6851144389150300411},\"201\":{\"City_ID\":201,\"City\":\"lodja\",\"Cloudiness\":0,\"Country\":\"CD\",\"Date\":1528905419,\"Humidity\":20,\"Lat\":-3.52,\"Lng\":23.6,\"Max Temp\":94.36,\"Wind Speed\":4.97,\"hash\":8389589203013412480},\"202\":{\"City_ID\":202,\"City\":\"basco\",\"Cloudiness\":1,\"Country\":\"US\",\"Date\":1528904100,\"Humidity\":44,\"Lat\":40.33,\"Lng\":-91.2,\"Max Temp\":77.0,\"Wind Speed\":13.87,\"hash\":-8918551844474740427},\"203\":{\"City_ID\":203,\"City\":\"suleja\",\"Cloudiness\":20,\"Country\":\"NG\",\"Date\":1528905420,\"Humidity\":74,\"Lat\":9.18,\"Lng\":7.18,\"Max Temp\":87.34,\"Wind Speed\":2.95,\"hash\":6554461330736949960},\"204\":{\"City_ID\":204,\"City\":\"tazovskiy\",\"Cloudiness\":12,\"Country\":\"RU\",\"Date\":1528905420,\"Humidity\":60,\"Lat\":67.47,\"Lng\":78.7,\"Max Temp\":67.72,\"Wind Speed\":14.81,\"hash\":5592038254224433928},\"205\":{\"City_ID\":205,\"City\":\"waterloo\",\"Cloudiness\":75,\"Country\":\"CA\",\"Date\":1528902000,\"Humidity\":78,\"Lat\":43.47,\"Lng\":-80.52,\"Max Temp\":75.2,\"Wind Speed\":12.75,\"hash\":4459225910612428581},\"206\":{\"City_ID\":206,\"City\":\"kruisfontein\",\"Cloudiness\":0,\"Country\":\"ZA\",\"Date\":1528905421,\"Humidity\":47,\"Lat\":-34.0,\"Lng\":24.73,\"Max Temp\":75.82,\"Wind Speed\":8.43,\"hash\":253479311083955923},\"207\":{\"City_ID\":207,\"City\":\"hithadhoo\",\"Cloudiness\":12,\"Country\":\"MV\",\"Date\":1528905421,\"Humidity\":100,\"Lat\":-0.6,\"Lng\":73.08,\"Max Temp\":83.65,\"Wind Speed\":6.42,\"hash\":6174738147923548677},\"208\":{\"City_ID\":208,\"City\":\"aqtobe\",\"Cloudiness\":0,\"Country\":\"KZ\",\"Date\":1528902000,\"Humidity\":24,\"Lat\":50.28,\"Lng\":57.21,\"Max Temp\":71.6,\"Wind Speed\":6.71,\"hash\":2777542063762421848},\"209\":{\"City_ID\":209,\"City\":\"trinidad\",\"Cloudiness\":75,\"Country\":\"UY\",\"Date\":1528902000,\"Humidity\":76,\"Lat\":-33.52,\"Lng\":-56.9,\"Max Temp\":50.0,\"Wind Speed\":17.22,\"hash\":1803352107714966255},\"210\":{\"City_ID\":210,\"City\":\"jasper\",\"Cloudiness\":12,\"Country\":\"US\",\"Date\":1528904100,\"Humidity\":83,\"Lat\":33.83,\"Lng\":-87.28,\"Max Temp\":78.8,\"Wind Speed\":5.19,\"hash\":1318041816271874491},\"211\":{\"City_ID\":211,\"City\":\"tempio pausania\",\"Cloudiness\":40,\"Country\":\"IT\",\"Date\":1528903800,\"Humidity\":77,\"Lat\":40.9,\"Lng\":9.1,\"Max Temp\":69.8,\"Wind Speed\":11.41,\"hash\":5161369015492471311},\"212\":{\"City_ID\":212,\"City\":\"kununurra\",\"Cloudiness\":75,\"Country\":\"AU\",\"Date\":1528902000,\"Humidity\":73,\"Lat\":-15.77,\"Lng\":128.74,\"Max Temp\":73.4,\"Wind Speed\":5.82,\"hash\":-5942510890705601425},\"213\":{\"City_ID\":213,\"City\":\"zhob\",\"Cloudiness\":0,\"Country\":\"PK\",\"Date\":1528905423,\"Humidity\":10,\"Lat\":31.34,\"Lng\":69.45,\"Max Temp\":80.95,\"Wind Speed\":5.64,\"hash\":2516521424351658654},\"214\":{\"City_ID\":214,\"City\":\"los llanos de aridane\",\"Cloudiness\":20,\"Country\":\"ES\",\"Date\":1528903800,\"Humidity\":60,\"Lat\":28.66,\"Lng\":-17.92,\"Max Temp\":73.4,\"Wind Speed\":12.75,\"hash\":-7599981903273613561},\"215\":{\"City_ID\":215,\"City\":\"nohar\",\"Cloudiness\":0,\"Country\":\"IN\",\"Date\":1528905423,\"Humidity\":22,\"Lat\":29.18,\"Lng\":74.77,\"Max Temp\":98.5,\"Wind Speed\":9.55,\"hash\":-61474626902323202},\"216\":{\"City_ID\":216,\"City\":\"sainte-suzanne\",\"Cloudiness\":76,\"Country\":\"CH\",\"Date\":1528903800,\"Humidity\":48,\"Lat\":47.51,\"Lng\":6.77,\"Max Temp\":66.2,\"Wind Speed\":10.29,\"hash\":4813092151225687269},\"217\":{\"City_ID\":217,\"City\":\"crotone\",\"Cloudiness\":0,\"Country\":\"IT\",\"Date\":1528901400,\"Humidity\":42,\"Lat\":39.09,\"Lng\":17.12,\"Max Temp\":82.4,\"Wind Speed\":23.04,\"hash\":1626059712763054071},\"218\":{\"City_ID\":218,\"City\":\"gambela\",\"Cloudiness\":92,\"Country\":\"ET\",\"Date\":1528905424,\"Humidity\":94,\"Lat\":8.25,\"Lng\":34.59,\"Max Temp\":68.62,\"Wind Speed\":2.95,\"hash\":1735613032156614786},\"219\":{\"City_ID\":219,\"City\":\"kavaratti\",\"Cloudiness\":80,\"Country\":\"IN\",\"Date\":1528905424,\"Humidity\":100,\"Lat\":10.57,\"Lng\":72.64,\"Max Temp\":81.67,\"Wind Speed\":22.64,\"hash\":-3023779794035167505},\"220\":{\"City_ID\":220,\"City\":\"ust-ilimsk\",\"Cloudiness\":12,\"Country\":\"RU\",\"Date\":1528905425,\"Humidity\":87,\"Lat\":57.96,\"Lng\":102.73,\"Max Temp\":60.61,\"Wind Speed\":1.95,\"hash\":-4025783525318915025},\"221\":{\"City_ID\":221,\"City\":\"leo\",\"Cloudiness\":0,\"Country\":\"BF\",\"Date\":1528905429,\"Humidity\":66,\"Lat\":11.1,\"Lng\":-2.1,\"Max Temp\":94.72,\"Wind Speed\":4.63,\"hash\":-8482669994303759705},\"222\":{\"City_ID\":222,\"City\":\"totolapan\",\"Cloudiness\":75,\"Country\":\"MX\",\"Date\":1528902840,\"Humidity\":77,\"Lat\":18.99,\"Lng\":-98.92,\"Max Temp\":59.0,\"Wind Speed\":5.82,\"hash\":6406385172489953919},\"223\":{\"City_ID\":223,\"City\":\"funtua\",\"Cloudiness\":44,\"Country\":\"NG\",\"Date\":1528905429,\"Humidity\":50,\"Lat\":11.52,\"Lng\":7.31,\"Max Temp\":90.67,\"Wind Speed\":2.17,\"hash\":7616625936202446911},\"224\":{\"City_ID\":224,\"City\":\"salalah\",\"Cloudiness\":75,\"Country\":\"OM\",\"Date\":1528901400,\"Humidity\":89,\"Lat\":17.01,\"Lng\":54.1,\"Max Temp\":84.2,\"Wind Speed\":10.29,\"hash\":5998478172771315572},\"225\":{\"City_ID\":225,\"City\":\"burnie\",\"Cloudiness\":92,\"Country\":\"AU\",\"Date\":1528905430,\"Humidity\":100,\"Lat\":-41.05,\"Lng\":145.91,\"Max Temp\":51.88,\"Wind Speed\":21.07,\"hash\":997841424496260483},\"226\":{\"City_ID\":226,\"City\":\"boulder city\",\"Cloudiness\":1,\"Country\":\"US\",\"Date\":1528902900,\"Humidity\":11,\"Lat\":35.98,\"Lng\":-114.83,\"Max Temp\":89.6,\"Wind Speed\":3.51,\"hash\":4003269750188288369},\"227\":{\"City_ID\":227,\"City\":\"massakory\",\"Cloudiness\":0,\"Country\":\"TD\",\"Date\":1528905431,\"Humidity\":46,\"Lat\":13.0,\"Lng\":15.73,\"Max Temp\":100.21,\"Wind Speed\":6.98,\"hash\":7848957459471008630},\"228\":{\"City_ID\":228,\"City\":\"arlit\",\"Cloudiness\":0,\"Country\":\"NE\",\"Date\":1528905432,\"Humidity\":14,\"Lat\":18.74,\"Lng\":7.39,\"Max Temp\":110.92,\"Wind Speed\":4.74,\"hash\":-2475436826050529791},\"229\":{\"City_ID\":229,\"City\":\"zhigansk\",\"Cloudiness\":0,\"Country\":\"RU\",\"Date\":1528905432,\"Humidity\":56,\"Lat\":66.77,\"Lng\":123.37,\"Max Temp\":56.83,\"Wind Speed\":4.97,\"hash\":-2849388802247750596},\"230\":{\"City_ID\":230,\"City\":\"florianopolis\",\"Cloudiness\":40,\"Country\":\"BR\",\"Date\":1528902000,\"Humidity\":64,\"Lat\":-27.6,\"Lng\":-48.55,\"Max Temp\":69.8,\"Wind Speed\":3.36,\"hash\":-8913083999011399548},\"231\":{\"City_ID\":231,\"City\":\"lavrentiya\",\"Cloudiness\":0,\"Country\":\"RU\",\"Date\":1528905432,\"Humidity\":76,\"Lat\":65.58,\"Lng\":-170.99,\"Max Temp\":35.95,\"Wind Speed\":8.43,\"hash\":-7960593519886216149},\"232\":{\"City_ID\":232,\"City\":\"bluefield\",\"Cloudiness\":90,\"Country\":\"US\",\"Date\":1528902900,\"Humidity\":78,\"Lat\":37.27,\"Lng\":-81.22,\"Max Temp\":78.8,\"Wind Speed\":11.41,\"hash\":4006721788805457956},\"233\":{\"City_ID\":233,\"City\":\"te anau\",\"Cloudiness\":8,\"Country\":\"NZ\",\"Date\":1528905433,\"Humidity\":80,\"Lat\":-45.41,\"Lng\":167.72,\"Max Temp\":27.22,\"Wind Speed\":2.84,\"hash\":4926003173663721787},\"234\":{\"City_ID\":234,\"City\":\"marawi\",\"Cloudiness\":44,\"Country\":\"PH\",\"Date\":1528905433,\"Humidity\":99,\"Lat\":8.0,\"Lng\":124.29,\"Max Temp\":66.73,\"Wind Speed\":2.28,\"hash\":2050029647473754357},\"235\":{\"City_ID\":235,\"City\":\"amapa\",\"Cloudiness\":75,\"Country\":\"HN\",\"Date\":1528905600,\"Humidity\":83,\"Lat\":15.09,\"Lng\":-87.97,\"Max Temp\":84.2,\"Wind Speed\":4.7,\"hash\":-3102989984833733387},\"236\":{\"City_ID\":236,\"City\":\"palmer\",\"Cloudiness\":75,\"Country\":\"AU\",\"Date\":1528902000,\"Humidity\":82,\"Lat\":-34.85,\"Lng\":139.16,\"Max Temp\":55.4,\"Wind Speed\":17.22,\"hash\":-7766351002764085338},\"237\":{\"City_ID\":237,\"City\":\"cidreira\",\"Cloudiness\":0,\"Country\":\"BR\",\"Date\":1528905434,\"Humidity\":81,\"Lat\":-30.17,\"Lng\":-50.22,\"Max Temp\":51.97,\"Wind Speed\":26.33,\"hash\":-5857879516796184198},\"238\":{\"City_ID\":238,\"City\":\"saint-pierre\",\"Cloudiness\":90,\"Country\":\"FR\",\"Date\":1528903800,\"Humidity\":67,\"Lat\":48.95,\"Lng\":4.24,\"Max Temp\":66.2,\"Wind Speed\":12.75,\"hash\":8583995111113437978},\"239\":{\"City_ID\":239,\"City\":\"aykhal\",\"Cloudiness\":32,\"Country\":\"RU\",\"Date\":1528905439,\"Humidity\":57,\"Lat\":65.95,\"Lng\":111.51,\"Max Temp\":62.23,\"Wind Speed\":4.74,\"hash\":2173764944848538860},\"240\":{\"City_ID\":240,\"City\":\"ondangwa\",\"Cloudiness\":0,\"Country\":null,\"Date\":1528902000,\"Humidity\":13,\"Lat\":-17.91,\"Lng\":15.98,\"Max Temp\":84.2,\"Wind Speed\":2.24,\"hash\":7286853894797442715},\"241\":{\"City_ID\":241,\"City\":\"pitimbu\",\"Cloudiness\":40,\"Country\":\"BR\",\"Date\":1528902000,\"Humidity\":54,\"Lat\":-7.47,\"Lng\":-34.81,\"Max Temp\":84.2,\"Wind Speed\":17.22,\"hash\":-4988532275706416389},\"242\":{\"City_ID\":242,\"City\":\"grandview\",\"Cloudiness\":1,\"Country\":\"US\",\"Date\":1528905300,\"Humidity\":65,\"Lat\":38.89,\"Lng\":-94.53,\"Max Temp\":80.6,\"Wind Speed\":10.29,\"hash\":1796787674654242716},\"243\":{\"City_ID\":243,\"City\":\"williston\",\"Cloudiness\":1,\"Country\":\"US\",\"Date\":1528902900,\"Humidity\":36,\"Lat\":48.15,\"Lng\":-103.62,\"Max Temp\":71.6,\"Wind Speed\":8.05,\"hash\":8223576535732394640},\"244\":{\"City_ID\":244,\"City\":\"maniitsoq\",\"Cloudiness\":68,\"Country\":\"GL\",\"Date\":1528905442,\"Humidity\":97,\"Lat\":65.42,\"Lng\":-52.9,\"Max Temp\":36.31,\"Wind Speed\":5.53,\"hash\":8030314463368293699},\"245\":{\"City_ID\":245,\"City\":\"krasnyy yar\",\"Cloudiness\":92,\"Country\":\"RU\",\"Date\":1528905443,\"Humidity\":86,\"Lat\":50.7,\"Lng\":44.73,\"Max Temp\":64.03,\"Wind Speed\":8.21,\"hash\":6167225667504726450},\"246\":{\"City_ID\":246,\"City\":\"nouadhibou\",\"Cloudiness\":20,\"Country\":\"MR\",\"Date\":1528902000,\"Humidity\":47,\"Lat\":20.93,\"Lng\":-17.03,\"Max Temp\":80.6,\"Wind Speed\":14.99,\"hash\":-7782522085841009351},\"247\":{\"City_ID\":247,\"City\":\"buritama\",\"Cloudiness\":68,\"Country\":\"BR\",\"Date\":1528905444,\"Humidity\":95,\"Lat\":-21.07,\"Lng\":-50.14,\"Max Temp\":75.1,\"Wind Speed\":6.31,\"hash\":5396931686022843996},\"248\":{\"City_ID\":248,\"City\":\"longyearbyen\",\"Cloudiness\":90,\"Country\":\"NO\",\"Date\":1528901400,\"Humidity\":86,\"Lat\":78.22,\"Lng\":15.63,\"Max Temp\":33.8,\"Wind Speed\":18.34,\"hash\":6737068150901283254},\"249\":{\"City_ID\":249,\"City\":\"lasa\",\"Cloudiness\":20,\"Country\":\"CY\",\"Date\":1528903800,\"Humidity\":74,\"Lat\":34.92,\"Lng\":32.53,\"Max Temp\":80.6,\"Wind Speed\":6.93,\"hash\":-268886173616841629},\"250\":{\"City_ID\":250,\"City\":\"college\",\"Cloudiness\":1,\"Country\":\"US\",\"Date\":1528901880,\"Humidity\":75,\"Lat\":64.86,\"Lng\":-147.8,\"Max Temp\":42.8,\"Wind Speed\":3.36,\"hash\":-1610721394714504237},\"251\":{\"City_ID\":251,\"City\":\"ust-tsilma\",\"Cloudiness\":12,\"Country\":\"RU\",\"Date\":1528905445,\"Humidity\":84,\"Lat\":65.44,\"Lng\":52.15,\"Max Temp\":54.4,\"Wind Speed\":3.62,\"hash\":-8650069435617152119},\"252\":{\"City_ID\":252,\"City\":\"saint-augustin\",\"Cloudiness\":64,\"Country\":\"FR\",\"Date\":1528903800,\"Humidity\":82,\"Lat\":44.83,\"Lng\":-0.61,\"Max Temp\":69.8,\"Wind Speed\":12.75,\"hash\":4178280990667453053},\"253\":{\"City_ID\":253,\"City\":\"berlevag\",\"Cloudiness\":75,\"Country\":\"NO\",\"Date\":1528901400,\"Humidity\":70,\"Lat\":70.86,\"Lng\":29.09,\"Max Temp\":42.8,\"Wind Speed\":13.87,\"hash\":-5753088259867526506},\"254\":{\"City_ID\":254,\"City\":\"havoysund\",\"Cloudiness\":75,\"Country\":\"NO\",\"Date\":1528903200,\"Humidity\":87,\"Lat\":71.0,\"Lng\":24.66,\"Max Temp\":42.8,\"Wind Speed\":13.87,\"hash\":-3071437347793138051},\"255\":{\"City_ID\":255,\"City\":\"kamina\",\"Cloudiness\":0,\"Country\":\"CD\",\"Date\":1528905450,\"Humidity\":23,\"Lat\":-8.74,\"Lng\":25.0,\"Max Temp\":85.0,\"Wind Speed\":7.99,\"hash\":-22487142166052920},\"256\":{\"City_ID\":256,\"City\":\"yaan\",\"Cloudiness\":48,\"Country\":\"NG\",\"Date\":1528905450,\"Humidity\":100,\"Lat\":7.38,\"Lng\":8.57,\"Max Temp\":85.9,\"Wind Speed\":7.09,\"hash\":-81059359736525081},\"257\":{\"City_ID\":257,\"City\":\"makakilo city\",\"Cloudiness\":1,\"Country\":\"US\",\"Date\":1528901820,\"Humidity\":83,\"Lat\":21.35,\"Lng\":-158.09,\"Max Temp\":77.0,\"Wind Speed\":4.7,\"hash\":5664246654042655343},\"258\":{\"City_ID\":258,\"City\":\"along\",\"Cloudiness\":100,\"Country\":\"IN\",\"Date\":1528905450,\"Humidity\":98,\"Lat\":28.17,\"Lng\":94.8,\"Max Temp\":68.89,\"Wind Speed\":1.5,\"hash\":-4755224006460301687},\"259\":{\"City_ID\":259,\"City\":\"vanimo\",\"Cloudiness\":88,\"Country\":\"PG\",\"Date\":1528905451,\"Humidity\":100,\"Lat\":-2.67,\"Lng\":141.3,\"Max Temp\":83.65,\"Wind Speed\":4.29,\"hash\":959919717536639},\"260\":{\"City_ID\":260,\"City\":\"hovd\",\"Cloudiness\":75,\"Country\":\"NO\",\"Date\":1528903200,\"Humidity\":48,\"Lat\":63.83,\"Lng\":10.7,\"Max Temp\":62.6,\"Wind Speed\":4.7,\"hash\":347252249435519231},\"261\":{\"City_ID\":261,\"City\":\"la maddalena\",\"Cloudiness\":40,\"Country\":\"IT\",\"Date\":1528903200,\"Humidity\":57,\"Lat\":39.15,\"Lng\":9.02,\"Max Temp\":75.2,\"Wind Speed\":17.22,\"hash\":-7841121698494515702},\"262\":{\"City_ID\":262,\"City\":\"grand gaube\",\"Cloudiness\":75,\"Country\":\"MU\",\"Date\":1528902000,\"Humidity\":69,\"Lat\":-20.01,\"Lng\":57.66,\"Max Temp\":75.2,\"Wind Speed\":14.99,\"hash\":-2016749228211772610},\"263\":{\"City_ID\":263,\"City\":\"novoagansk\",\"Cloudiness\":20,\"Country\":\"RU\",\"Date\":1528905453,\"Humidity\":37,\"Lat\":61.94,\"Lng\":76.66,\"Max Temp\":67.81,\"Wind Speed\":8.43,\"hash\":-92464919147998377},\"264\":{\"City_ID\":264,\"City\":\"kearney\",\"Cloudiness\":90,\"Country\":\"US\",\"Date\":1528902900,\"Humidity\":64,\"Lat\":40.7,\"Lng\":-99.08,\"Max Temp\":71.6,\"Wind Speed\":14.99,\"hash\":-5767365989873992870},\"265\":{\"City_ID\":265,\"City\":\"geraldton\",\"Cloudiness\":75,\"Country\":\"CA\",\"Date\":1528902000,\"Humidity\":63,\"Lat\":49.72,\"Lng\":-86.95,\"Max Temp\":62.6,\"Wind Speed\":8.05,\"hash\":-3726445998722219031},\"266\":{\"City_ID\":266,\"City\":\"castro\",\"Cloudiness\":0,\"Country\":\"CL\",\"Date\":1528905454,\"Humidity\":99,\"Lat\":-42.48,\"Lng\":-73.76,\"Max Temp\":39.73,\"Wind Speed\":2.73,\"hash\":8207840230483728834},\"267\":{\"City_ID\":267,\"City\":\"luganville\",\"Cloudiness\":92,\"Country\":\"VU\",\"Date\":1528905455,\"Humidity\":100,\"Lat\":-15.51,\"Lng\":167.18,\"Max Temp\":75.19,\"Wind Speed\":4.85,\"hash\":3288422670011165104},\"268\":{\"City_ID\":268,\"City\":\"mahebourg\",\"Cloudiness\":75,\"Country\":\"MU\",\"Date\":1528902000,\"Humidity\":69,\"Lat\":-20.41,\"Lng\":57.7,\"Max Temp\":75.2,\"Wind Speed\":14.99,\"hash\":-5762071566516457832},\"269\":{\"City_ID\":269,\"City\":\"vostok\",\"Cloudiness\":44,\"Country\":\"RU\",\"Date\":1528905455,\"Humidity\":83,\"Lat\":46.45,\"Lng\":135.83,\"Max Temp\":45.04,\"Wind Speed\":1.95,\"hash\":4548911719554221416},\"270\":{\"City_ID\":270,\"City\":\"esperance\",\"Cloudiness\":75,\"Country\":\"TT\",\"Date\":1528902000,\"Humidity\":88,\"Lat\":10.24,\"Lng\":-61.45,\"Max Temp\":80.6,\"Wind Speed\":12.75,\"hash\":-5660593274186617543},\"271\":{\"City_ID\":271,\"City\":\"fare\",\"Cloudiness\":0,\"Country\":\"PF\",\"Date\":1528905456,\"Humidity\":100,\"Lat\":-16.7,\"Lng\":-151.02,\"Max Temp\":79.42,\"Wind Speed\":13.91,\"hash\":5746977771299484376},\"272\":{\"City_ID\":272,\"City\":\"toora-khem\",\"Cloudiness\":92,\"Country\":\"RU\",\"Date\":1528905456,\"Humidity\":83,\"Lat\":52.47,\"Lng\":96.11,\"Max Temp\":57.82,\"Wind Speed\":2.84,\"hash\":-5526688149909950294},\"273\":{\"City_ID\":273,\"City\":\"santa rita\",\"Cloudiness\":36,\"Country\":\"VE\",\"Date\":1528905458,\"Humidity\":64,\"Lat\":10.21,\"Lng\":-67.56,\"Max Temp\":83.65,\"Wind Speed\":2.73,\"hash\":-3669629406033020742},\"274\":{\"City_ID\":274,\"City\":\"west bay\",\"Cloudiness\":40,\"Country\":\"GB\",\"Date\":1528903200,\"Humidity\":77,\"Lat\":50.71,\"Lng\":-2.76,\"Max Temp\":68.0,\"Wind Speed\":12.75,\"hash\":-2244161645275538361},\"275\":{\"City_ID\":275,\"City\":\"gamba\",\"Cloudiness\":92,\"Country\":\"CN\",\"Date\":1528905459,\"Humidity\":91,\"Lat\":28.28,\"Lng\":88.52,\"Max Temp\":32.35,\"Wind Speed\":2.28,\"hash\":-984867289855645211},\"276\":{\"City_ID\":276,\"City\":\"rudnya\",\"Cloudiness\":92,\"Country\":\"RU\",\"Date\":1528905459,\"Humidity\":88,\"Lat\":50.8,\"Lng\":44.56,\"Max Temp\":63.31,\"Wind Speed\":7.65,\"hash\":-5066987835813437775},\"277\":{\"City_ID\":277,\"City\":\"norman wells\",\"Cloudiness\":90,\"Country\":\"CA\",\"Date\":1528902000,\"Humidity\":65,\"Lat\":65.28,\"Lng\":-126.83,\"Max Temp\":44.6,\"Wind Speed\":5.82,\"hash\":2993630163540130963},\"278\":{\"City_ID\":278,\"City\":\"salinas\",\"Cloudiness\":1,\"Country\":\"US\",\"Date\":1528904100,\"Humidity\":67,\"Lat\":36.67,\"Lng\":-121.66,\"Max Temp\":60.8,\"Wind Speed\":3.62,\"hash\":1344450537804079919},\"279\":{\"City_ID\":279,\"City\":\"ugoofaaru\",\"Cloudiness\":80,\"Country\":\"MV\",\"Date\":1528905461,\"Humidity\":100,\"Lat\":5.67,\"Lng\":73.0,\"Max Temp\":82.93,\"Wind Speed\":8.77,\"hash\":-5810379466834460891},\"280\":{\"City_ID\":280,\"City\":\"kiunga\",\"Cloudiness\":88,\"Country\":\"PG\",\"Date\":1528905464,\"Humidity\":94,\"Lat\":-6.12,\"Lng\":141.3,\"Max Temp\":74.29,\"Wind Speed\":2.06,\"hash\":-1734439652471203034},\"281\":{\"City_ID\":281,\"City\":\"koumac\",\"Cloudiness\":76,\"Country\":\"NC\",\"Date\":1528905465,\"Humidity\":96,\"Lat\":-20.56,\"Lng\":164.28,\"Max Temp\":67.9,\"Wind Speed\":4.07,\"hash\":7998979836806227265},\"282\":{\"City_ID\":282,\"City\":\"adre\",\"Cloudiness\":20,\"Country\":\"TD\",\"Date\":1528905465,\"Humidity\":16,\"Lat\":13.47,\"Lng\":22.2,\"Max Temp\":103.27,\"Wind Speed\":8.66,\"hash\":9998488950656145},\"283\":{\"City_ID\":283,\"City\":\"ahtopol\",\"Cloudiness\":0,\"Country\":\"BG\",\"Date\":1528903800,\"Humidity\":57,\"Lat\":42.1,\"Lng\":27.94,\"Max Temp\":77.0,\"Wind Speed\":13.87,\"hash\":-1424657638386811820},\"284\":{\"City_ID\":284,\"City\":\"slantsy\",\"Cloudiness\":0,\"Country\":\"RU\",\"Date\":1528905466,\"Humidity\":55,\"Lat\":59.12,\"Lng\":28.09,\"Max Temp\":62.5,\"Wind Speed\":4.18,\"hash\":448910886997296096},\"285\":{\"City_ID\":285,\"City\":\"mallaig\",\"Cloudiness\":92,\"Country\":\"GB\",\"Date\":1528905466,\"Humidity\":99,\"Lat\":57.01,\"Lng\":-5.83,\"Max Temp\":53.95,\"Wind Speed\":24.09,\"hash\":-1155741609412927994},\"286\":{\"City_ID\":286,\"City\":\"auch\",\"Cloudiness\":40,\"Country\":\"FR\",\"Date\":1528903800,\"Humidity\":56,\"Lat\":43.65,\"Lng\":0.59,\"Max Temp\":73.4,\"Wind Speed\":10.29,\"hash\":-2277444696437263345},\"287\":{\"City_ID\":287,\"City\":\"pathein\",\"Cloudiness\":92,\"Country\":\"MM\",\"Date\":1528905467,\"Humidity\":96,\"Lat\":16.78,\"Lng\":94.73,\"Max Temp\":76.9,\"Wind Speed\":14.81,\"hash\":68388180940544180},\"288\":{\"City_ID\":288,\"City\":\"maceio\",\"Cloudiness\":75,\"Country\":\"BR\",\"Date\":1528905600,\"Humidity\":88,\"Lat\":-9.67,\"Lng\":-35.74,\"Max Temp\":75.2,\"Wind Speed\":6.93,\"hash\":1018971185867681095},\"289\":{\"City_ID\":289,\"City\":\"oloron-sainte-marie\",\"Cloudiness\":88,\"Country\":\"FR\",\"Date\":1528903800,\"Humidity\":93,\"Lat\":43.19,\"Lng\":-0.61,\"Max Temp\":68.0,\"Wind Speed\":11.41,\"hash\":1475190752433743912},\"290\":{\"City_ID\":290,\"City\":\"isangel\",\"Cloudiness\":68,\"Country\":\"VU\",\"Date\":1528905468,\"Humidity\":100,\"Lat\":-19.55,\"Lng\":169.27,\"Max Temp\":74.2,\"Wind Speed\":14.36,\"hash\":-3771860607038705573},\"291\":{\"City_ID\":291,\"City\":\"manglaur\",\"Cloudiness\":0,\"Country\":\"IN\",\"Date\":1528905468,\"Humidity\":64,\"Lat\":29.79,\"Lng\":77.88,\"Max Temp\":82.57,\"Wind Speed\":2.39,\"hash\":-8771367259088641120},\"292\":{\"City_ID\":292,\"City\":\"wenling\",\"Cloudiness\":92,\"Country\":\"CN\",\"Date\":1528905468,\"Humidity\":95,\"Lat\":28.38,\"Lng\":121.38,\"Max Temp\":74.56,\"Wind Speed\":3.96,\"hash\":-8110290383582172176},\"293\":{\"City_ID\":293,\"City\":\"pak phanang\",\"Cloudiness\":48,\"Country\":\"TH\",\"Date\":1528905469,\"Humidity\":93,\"Lat\":8.35,\"Lng\":100.2,\"Max Temp\":85.99,\"Wind Speed\":10.22,\"hash\":-4442609934307033719},\"294\":{\"City_ID\":294,\"City\":\"aksay\",\"Cloudiness\":0,\"Country\":\"RU\",\"Date\":1528905469,\"Humidity\":21,\"Lat\":47.27,\"Lng\":39.86,\"Max Temp\":87.43,\"Wind Speed\":3.74,\"hash\":63140874866244756},\"295\":{\"City_ID\":295,\"City\":\"baghdad\",\"Cloudiness\":0,\"Country\":\"IQ\",\"Date\":1528902000,\"Humidity\":14,\"Lat\":33.3,\"Lng\":44.38,\"Max Temp\":104.0,\"Wind Speed\":4.7,\"hash\":-5115349077736408159},\"296\":{\"City_ID\":296,\"City\":\"fort nelson\",\"Cloudiness\":90,\"Country\":\"CA\",\"Date\":1528902000,\"Humidity\":86,\"Lat\":58.81,\"Lng\":-122.69,\"Max Temp\":41.0,\"Wind Speed\":9.17,\"hash\":-1417255933172484100},\"297\":{\"City_ID\":297,\"City\":\"fuerte olimpo\",\"Cloudiness\":92,\"Country\":\"BR\",\"Date\":1528905470,\"Humidity\":75,\"Lat\":-21.04,\"Lng\":-57.87,\"Max Temp\":60.97,\"Wind Speed\":12.8,\"hash\":3266371660547079890},\"298\":{\"City_ID\":298,\"City\":\"bandarban\",\"Cloudiness\":90,\"Country\":\"BD\",\"Date\":1528902000,\"Humidity\":94,\"Lat\":22.2,\"Lng\":92.22,\"Max Temp\":80.6,\"Wind Speed\":13.87,\"hash\":1965969688780781380},\"299\":{\"City_ID\":299,\"City\":\"mao\",\"Cloudiness\":40,\"Country\":\"DO\",\"Date\":1528902000,\"Humidity\":62,\"Lat\":19.55,\"Lng\":-71.08,\"Max Temp\":89.6,\"Wind Speed\":12.75,\"hash\":7491484278698398814},\"300\":{\"City_ID\":300,\"City\":\"christchurch\",\"Cloudiness\":100,\"Country\":\"NZ\",\"Date\":1528903800,\"Humidity\":93,\"Lat\":-43.53,\"Lng\":172.64,\"Max Temp\":48.2,\"Wind Speed\":8.05,\"hash\":3423768624900326795},\"301\":{\"City_ID\":301,\"City\":\"goderich\",\"Cloudiness\":32,\"Country\":\"CA\",\"Date\":1528905435,\"Humidity\":88,\"Lat\":43.74,\"Lng\":-81.71,\"Max Temp\":68.17,\"Wind Speed\":11.45,\"hash\":6576460413307389457},\"302\":{\"City_ID\":302,\"City\":\"kizema\",\"Cloudiness\":56,\"Country\":\"RU\",\"Date\":1528905476,\"Humidity\":66,\"Lat\":61.11,\"Lng\":44.83,\"Max Temp\":53.86,\"Wind Speed\":18.39,\"hash\":-4579957220473798885},\"303\":{\"City_ID\":303,\"City\":\"quatre cocos\",\"Cloudiness\":75,\"Country\":\"MU\",\"Date\":1528902000,\"Humidity\":69,\"Lat\":-20.21,\"Lng\":57.76,\"Max Temp\":75.2,\"Wind Speed\":14.99,\"hash\":-794757279661542211},\"304\":{\"City_ID\":304,\"City\":\"kalur kot\",\"Cloudiness\":44,\"Country\":\"PK\",\"Date\":1528905476,\"Humidity\":41,\"Lat\":32.16,\"Lng\":71.27,\"Max Temp\":91.03,\"Wind Speed\":1.95,\"hash\":2386664116796204710},\"305\":{\"City_ID\":305,\"City\":\"singaraja\",\"Cloudiness\":64,\"Country\":\"ID\",\"Date\":1528905476,\"Humidity\":100,\"Lat\":-8.11,\"Lng\":115.08,\"Max Temp\":66.73,\"Wind Speed\":1.95,\"hash\":107650080687498822},\"306\":{\"City_ID\":306,\"City\":\"coquimbo\",\"Cloudiness\":0,\"Country\":\"CL\",\"Date\":1528902000,\"Humidity\":62,\"Lat\":-29.95,\"Lng\":-71.34,\"Max Temp\":53.6,\"Wind Speed\":8.05,\"hash\":3143845431891256332},\"307\":{\"City_ID\":307,\"City\":\"urengoy\",\"Cloudiness\":12,\"Country\":\"RU\",\"Date\":1528905477,\"Humidity\":59,\"Lat\":65.96,\"Lng\":78.37,\"Max Temp\":69.25,\"Wind Speed\":12.24,\"hash\":5941161854472264100},\"308\":{\"City_ID\":308,\"City\":\"yaypan\",\"Cloudiness\":24,\"Country\":\"UZ\",\"Date\":1528905477,\"Humidity\":43,\"Lat\":40.38,\"Lng\":70.82,\"Max Temp\":76.54,\"Wind Speed\":3.62,\"hash\":3283495206558136218},\"309\":{\"City_ID\":309,\"City\":\"seoul\",\"Cloudiness\":75,\"Country\":\"KR\",\"Date\":1528902000,\"Humidity\":68,\"Lat\":37.57,\"Lng\":126.98,\"Max Temp\":71.6,\"Wind Speed\":3.36,\"hash\":7686911947205564555},\"310\":{\"City_ID\":310,\"City\":\"acopiara\",\"Cloudiness\":0,\"Country\":\"BR\",\"Date\":1528905477,\"Humidity\":51,\"Lat\":-6.09,\"Lng\":-39.45,\"Max Temp\":83.2,\"Wind Speed\":11.23,\"hash\":5461683892445464822},\"311\":{\"City_ID\":311,\"City\":\"warrnambool\",\"Cloudiness\":76,\"Country\":\"AU\",\"Date\":1528905363,\"Humidity\":100,\"Lat\":-38.38,\"Lng\":142.48,\"Max Temp\":51.43,\"Wind Speed\":17.72,\"hash\":-4502889342435108972},\"312\":{\"City_ID\":312,\"City\":\"phan thiet\",\"Cloudiness\":36,\"Country\":\"VN\",\"Date\":1528905478,\"Humidity\":100,\"Lat\":10.93,\"Lng\":108.1,\"Max Temp\":78.61,\"Wind Speed\":10.0,\"hash\":3023560135589622331},\"313\":{\"City_ID\":313,\"City\":\"ilebo\",\"Cloudiness\":12,\"Country\":\"CD\",\"Date\":1528905478,\"Humidity\":22,\"Lat\":-4.33,\"Lng\":20.59,\"Max Temp\":94.72,\"Wind Speed\":5.19,\"hash\":6843754066851540419},\"314\":{\"City_ID\":314,\"City\":\"kijang\",\"Cloudiness\":40,\"Country\":\"KR\",\"Date\":1528902000,\"Humidity\":72,\"Lat\":35.24,\"Lng\":129.21,\"Max Temp\":68.0,\"Wind Speed\":13.87,\"hash\":7533359096911914396},\"315\":{\"City_ID\":315,\"City\":\"krasnogorsk\",\"Cloudiness\":75,\"Country\":\"RU\",\"Date\":1528902000,\"Humidity\":59,\"Lat\":55.82,\"Lng\":37.34,\"Max Temp\":69.8,\"Wind Speed\":13.42,\"hash\":1465304335497003156},\"316\":{\"City_ID\":316,\"City\":\"husavik\",\"Cloudiness\":44,\"Country\":\"CA\",\"Date\":1528905479,\"Humidity\":72,\"Lat\":50.56,\"Lng\":-96.99,\"Max Temp\":67.27,\"Wind Speed\":7.31,\"hash\":6070094241413982976},\"317\":{\"City_ID\":317,\"City\":\"araouane\",\"Cloudiness\":0,\"Country\":\"ML\",\"Date\":1528905479,\"Humidity\":15,\"Lat\":18.9,\"Lng\":-3.53,\"Max Temp\":111.46,\"Wind Speed\":5.75,\"hash\":6230982348882297002},\"318\":{\"City_ID\":318,\"City\":\"tilichiki\",\"Cloudiness\":0,\"Country\":\"RU\",\"Date\":1528905480,\"Humidity\":88,\"Lat\":60.47,\"Lng\":166.1,\"Max Temp\":37.93,\"Wind Speed\":2.62,\"hash\":-7699442925708552886},\"319\":{\"City_ID\":319,\"City\":\"bosobolo\",\"Cloudiness\":20,\"Country\":\"CD\",\"Date\":1528905481,\"Humidity\":70,\"Lat\":4.19,\"Lng\":19.88,\"Max Temp\":84.19,\"Wind Speed\":6.42,\"hash\":9086716904417560491},\"320\":{\"City_ID\":320,\"City\":\"villarrobledo\",\"Cloudiness\":0,\"Country\":\"ES\",\"Date\":1528905482,\"Humidity\":28,\"Lat\":39.27,\"Lng\":-2.6,\"Max Temp\":76.99,\"Wind Speed\":12.01,\"hash\":5788301520948953414},\"321\":{\"City_ID\":321,\"City\":\"ribeira grande\",\"Cloudiness\":40,\"Country\":\"PT\",\"Date\":1528903800,\"Humidity\":83,\"Lat\":38.52,\"Lng\":-28.7,\"Max Temp\":75.2,\"Wind Speed\":11.41,\"hash\":7006559456845435238},\"322\":{\"City_ID\":322,\"City\":\"shakawe\",\"Cloudiness\":0,\"Country\":\"BW\",\"Date\":1528905485,\"Humidity\":23,\"Lat\":-18.36,\"Lng\":21.84,\"Max Temp\":73.93,\"Wind Speed\":5.19,\"hash\":317967205457196984},\"323\":{\"City_ID\":323,\"City\":\"nemuro\",\"Cloudiness\":80,\"Country\":\"JP\",\"Date\":1528905486,\"Humidity\":100,\"Lat\":43.32,\"Lng\":145.57,\"Max Temp\":48.64,\"Wind Speed\":17.83,\"hash\":977110890084016191},\"324\":{\"City_ID\":324,\"City\":\"miramar\",\"Cloudiness\":0,\"Country\":\"CR\",\"Date\":1528902000,\"Humidity\":61,\"Lat\":10.09,\"Lng\":-84.73,\"Max Temp\":80.6,\"Wind Speed\":3.36,\"hash\":-3205415384560157044},\"325\":{\"City_ID\":325,\"City\":\"kerman\",\"Cloudiness\":20,\"Country\":\"IR\",\"Date\":1528902000,\"Humidity\":5,\"Lat\":30.29,\"Lng\":57.06,\"Max Temp\":91.4,\"Wind Speed\":13.87,\"hash\":4262566748376327667},\"326\":{\"City_ID\":326,\"City\":\"davidson\",\"Cloudiness\":40,\"Country\":\"US\",\"Date\":1528905600,\"Humidity\":65,\"Lat\":35.5,\"Lng\":-80.85,\"Max Temp\":78.8,\"Wind Speed\":4.7,\"hash\":2145291667421024741},\"327\":{\"City_ID\":327,\"City\":\"oksfjord\",\"Cloudiness\":40,\"Country\":\"NO\",\"Date\":1528903200,\"Humidity\":65,\"Lat\":70.24,\"Lng\":22.35,\"Max Temp\":46.4,\"Wind Speed\":10.29,\"hash\":-7553710233165791374},\"328\":{\"City_ID\":328,\"City\":\"wattegama\",\"Cloudiness\":92,\"Country\":\"LK\",\"Date\":1528905487,\"Humidity\":97,\"Lat\":7.35,\"Lng\":80.68,\"Max Temp\":71.41,\"Wind Speed\":5.75,\"hash\":-5583411452785163250},\"329\":{\"City_ID\":329,\"City\":\"inyonga\",\"Cloudiness\":0,\"Country\":\"TZ\",\"Date\":1528905487,\"Humidity\":32,\"Lat\":-6.72,\"Lng\":32.06,\"Max Temp\":79.42,\"Wind Speed\":3.18,\"hash\":1278256384708453091},\"330\":{\"City_ID\":330,\"City\":\"saint george\",\"Cloudiness\":40,\"Country\":\"GR\",\"Date\":1528903200,\"Humidity\":54,\"Lat\":39.45,\"Lng\":22.34,\"Max Temp\":80.6,\"Wind Speed\":8.05,\"hash\":-5801858133508818833},\"331\":{\"City_ID\":331,\"City\":\"jabinyanah\",\"Cloudiness\":0,\"Country\":\"TN\",\"Date\":1528902000,\"Humidity\":47,\"Lat\":35.03,\"Lng\":10.91,\"Max Temp\":80.6,\"Wind Speed\":13.87,\"hash\":7911901882963107723},\"332\":{\"City_ID\":332,\"City\":\"siddipet\",\"Cloudiness\":56,\"Country\":\"IN\",\"Date\":1528905488,\"Humidity\":58,\"Lat\":18.1,\"Lng\":78.85,\"Max Temp\":84.1,\"Wind Speed\":11.68,\"hash\":-6173107025922333554},\"333\":{\"City_ID\":333,\"City\":\"praia da vitoria\",\"Cloudiness\":40,\"Country\":\"PT\",\"Date\":1528902000,\"Humidity\":78,\"Lat\":38.73,\"Lng\":-27.07,\"Max Temp\":75.2,\"Wind Speed\":10.22,\"hash\":-1264101029306818385},\"334\":{\"City_ID\":334,\"City\":\"duluth\",\"Cloudiness\":1,\"Country\":\"US\",\"Date\":1528904100,\"Humidity\":46,\"Lat\":46.77,\"Lng\":-92.13,\"Max Temp\":73.4,\"Wind Speed\":8.05,\"hash\":-5166565960493560901},\"335\":{\"City_ID\":335,\"City\":\"oistins\",\"Cloudiness\":20,\"Country\":\"BB\",\"Date\":1528902000,\"Humidity\":66,\"Lat\":13.07,\"Lng\":-59.53,\"Max Temp\":86.0,\"Wind Speed\":25.28,\"hash\":-3055908583993495741},\"336\":{\"City_ID\":336,\"City\":\"san onofre\",\"Cloudiness\":0,\"Country\":\"CO\",\"Date\":1528905495,\"Humidity\":93,\"Lat\":9.74,\"Lng\":-75.52,\"Max Temp\":86.44,\"Wind Speed\":5.3,\"hash\":-28193321542271802},\"337\":{\"City_ID\":337,\"City\":\"avera\",\"Cloudiness\":90,\"Country\":\"US\",\"Date\":1528904100,\"Humidity\":83,\"Lat\":33.19,\"Lng\":-82.53,\"Max Temp\":78.8,\"Wind Speed\":3.74,\"hash\":5039585976121275536},\"338\":{\"City_ID\":338,\"City\":\"alizai\",\"Cloudiness\":0,\"Country\":\"PK\",\"Date\":1528905496,\"Humidity\":30,\"Lat\":33.94,\"Lng\":71.55,\"Max Temp\":89.77,\"Wind Speed\":3.29,\"hash\":-3763790210662840382},\"339\":{\"City_ID\":339,\"City\":\"bela\",\"Cloudiness\":36,\"Country\":\"PK\",\"Date\":1528905496,\"Humidity\":29,\"Lat\":26.23,\"Lng\":66.31,\"Max Temp\":93.37,\"Wind Speed\":10.33,\"hash\":-4673006638126145914},\"340\":{\"City_ID\":340,\"City\":\"kalas\",\"Cloudiness\":0,\"Country\":\"PK\",\"Date\":1528903800,\"Humidity\":25,\"Lat\":33.49,\"Lng\":72.96,\"Max Temp\":98.6,\"Wind Speed\":4.97,\"hash\":3176145294553107053},\"341\":{\"City_ID\":341,\"City\":\"gisborne\",\"Cloudiness\":12,\"Country\":\"NZ\",\"Date\":1528905498,\"Humidity\":86,\"Lat\":-38.66,\"Lng\":178.02,\"Max Temp\":52.6,\"Wind Speed\":10.67,\"hash\":2164238910739728212},\"342\":{\"City_ID\":342,\"City\":\"yuryevets\",\"Cloudiness\":24,\"Country\":\"RU\",\"Date\":1528905498,\"Humidity\":69,\"Lat\":57.32,\"Lng\":43.11,\"Max Temp\":60.7,\"Wind Speed\":15.03,\"hash\":1701853481454786},\"343\":{\"City_ID\":343,\"City\":\"bundaberg\",\"Cloudiness\":88,\"Country\":\"AU\",\"Date\":1528905498,\"Humidity\":100,\"Lat\":-24.87,\"Lng\":152.35,\"Max Temp\":64.66,\"Wind Speed\":12.01,\"hash\":-4488587944678944790},\"344\":{\"City_ID\":344,\"City\":\"griffith\",\"Cloudiness\":80,\"Country\":\"AU\",\"Date\":1528905499,\"Humidity\":90,\"Lat\":-34.29,\"Lng\":146.06,\"Max Temp\":50.62,\"Wind Speed\":8.88,\"hash\":2001196409650652803},\"345\":{\"City_ID\":345,\"City\":\"raudeberg\",\"Cloudiness\":75,\"Country\":\"NO\",\"Date\":1528903200,\"Humidity\":71,\"Lat\":61.99,\"Lng\":5.14,\"Max Temp\":60.8,\"Wind Speed\":11.41,\"hash\":-4643344597551868063},\"346\":{\"City_ID\":346,\"City\":\"rio gallegos\",\"Cloudiness\":20,\"Country\":\"AR\",\"Date\":1528902000,\"Humidity\":86,\"Lat\":-51.62,\"Lng\":-69.22,\"Max Temp\":33.8,\"Wind Speed\":5.82,\"hash\":-8222339052341984268},\"347\":{\"City_ID\":347,\"City\":\"antalaha\",\"Cloudiness\":88,\"Country\":\"MG\",\"Date\":1528905500,\"Humidity\":85,\"Lat\":-14.9,\"Lng\":50.28,\"Max Temp\":75.01,\"Wind Speed\":14.14,\"hash\":-215103607778401741},\"348\":{\"City_ID\":348,\"City\":\"houma\",\"Cloudiness\":0,\"Country\":\"CN\",\"Date\":1528905500,\"Humidity\":58,\"Lat\":35.63,\"Lng\":111.36,\"Max Temp\":62.32,\"Wind Speed\":2.51,\"hash\":7445384278873350778},\"349\":{\"City_ID\":349,\"City\":\"verkhoyansk\",\"Cloudiness\":0,\"Country\":\"RU\",\"Date\":1528905500,\"Humidity\":63,\"Lat\":67.55,\"Lng\":133.39,\"Max Temp\":56.29,\"Wind Speed\":2.62,\"hash\":8731032350055270292},\"350\":{\"City_ID\":350,\"City\":\"donskoye\",\"Cloudiness\":0,\"Country\":\"RU\",\"Date\":1528902000,\"Humidity\":30,\"Lat\":45.45,\"Lng\":41.98,\"Max Temp\":80.6,\"Wind Speed\":6.71,\"hash\":2067125000758709760},\"351\":{\"City_ID\":351,\"City\":\"mogadishu\",\"Cloudiness\":64,\"Country\":\"SO\",\"Date\":1528905402,\"Humidity\":100,\"Lat\":2.04,\"Lng\":45.34,\"Max Temp\":78.25,\"Wind Speed\":22.08,\"hash\":5451967908154978854},\"352\":{\"City_ID\":352,\"City\":\"lewistown\",\"Cloudiness\":1,\"Country\":\"US\",\"Date\":1528904100,\"Humidity\":53,\"Lat\":40.39,\"Lng\":-90.15,\"Max Temp\":78.8,\"Wind Speed\":12.75,\"hash\":-5009531592856930387},\"353\":{\"City_ID\":353,\"City\":\"leningradskiy\",\"Cloudiness\":0,\"Country\":\"RU\",\"Date\":1528905501,\"Humidity\":88,\"Lat\":69.38,\"Lng\":178.42,\"Max Temp\":33.79,\"Wind Speed\":21.74,\"hash\":-3216377736798018024},\"354\":{\"City_ID\":354,\"City\":\"airai\",\"Cloudiness\":76,\"Country\":\"TL\",\"Date\":1528905503,\"Humidity\":93,\"Lat\":-8.93,\"Lng\":125.41,\"Max Temp\":68.98,\"Wind Speed\":1.72,\"hash\":6698379887161464859},\"355\":{\"City_ID\":355,\"City\":\"nantucket\",\"Cloudiness\":90,\"Country\":\"US\",\"Date\":1528904100,\"Humidity\":77,\"Lat\":41.28,\"Lng\":-70.1,\"Max Temp\":69.8,\"Wind Speed\":17.22,\"hash\":2478076199325130701},\"356\":{\"City_ID\":356,\"City\":\"mount gambier\",\"Cloudiness\":92,\"Country\":\"AU\",\"Date\":1528905506,\"Humidity\":81,\"Lat\":-37.83,\"Lng\":140.78,\"Max Temp\":49.72,\"Wind Speed\":6.87,\"hash\":-955816284125294048},\"357\":{\"City_ID\":357,\"City\":\"katobu\",\"Cloudiness\":24,\"Country\":\"ID\",\"Date\":1528905506,\"Humidity\":100,\"Lat\":-4.94,\"Lng\":122.53,\"Max Temp\":77.98,\"Wind Speed\":2.62,\"hash\":3850824140960687255},\"358\":{\"City_ID\":358,\"City\":\"baiyin\",\"Cloudiness\":0,\"Country\":\"CN\",\"Date\":1528902000,\"Humidity\":31,\"Lat\":36.55,\"Lng\":104.13,\"Max Temp\":60.8,\"Wind Speed\":4.47,\"hash\":8720220521779735010},\"359\":{\"City_ID\":359,\"City\":\"jumla\",\"Cloudiness\":88,\"Country\":\"NP\",\"Date\":1528905507,\"Humidity\":95,\"Lat\":29.28,\"Lng\":82.18,\"Max Temp\":37.75,\"Wind Speed\":2.51,\"hash\":5337656535302211556},\"360\":{\"City_ID\":360,\"City\":\"voh\",\"Cloudiness\":8,\"Country\":\"NC\",\"Date\":1528905507,\"Humidity\":100,\"Lat\":-20.95,\"Lng\":164.69,\"Max Temp\":71.59,\"Wind Speed\":14.81,\"hash\":-3677945333381521399},\"361\":{\"City_ID\":361,\"City\":\"kamaishi\",\"Cloudiness\":0,\"Country\":\"JP\",\"Date\":1528905507,\"Humidity\":78,\"Lat\":39.28,\"Lng\":141.86,\"Max Temp\":53.95,\"Wind Speed\":12.8,\"hash\":8684517638925376492},\"362\":{\"City_ID\":362,\"City\":\"jurm\",\"Cloudiness\":56,\"Country\":\"AF\",\"Date\":1528905508,\"Humidity\":100,\"Lat\":36.86,\"Lng\":70.83,\"Max Temp\":40.09,\"Wind Speed\":1.61,\"hash\":8018050195081226009},\"363\":{\"City_ID\":363,\"City\":\"la ronge\",\"Cloudiness\":75,\"Country\":\"CA\",\"Date\":1528902000,\"Humidity\":76,\"Lat\":55.1,\"Lng\":-105.3,\"Max Temp\":53.6,\"Wind Speed\":8.05,\"hash\":7672468031656255050},\"364\":{\"City_ID\":364,\"City\":\"paragominas\",\"Cloudiness\":20,\"Country\":\"BR\",\"Date\":1528905508,\"Humidity\":56,\"Lat\":-3.0,\"Lng\":-47.35,\"Max Temp\":91.93,\"Wind Speed\":5.41,\"hash\":-375964415606969411},\"365\":{\"City_ID\":365,\"City\":\"fairbanks\",\"Cloudiness\":1,\"Country\":\"US\",\"Date\":1528901880,\"Humidity\":75,\"Lat\":64.84,\"Lng\":-147.72,\"Max Temp\":42.8,\"Wind Speed\":3.36,\"hash\":6449761118477839154},\"366\":{\"City_ID\":366,\"City\":\"poum\",\"Cloudiness\":40,\"Country\":\"MK\",\"Date\":1528903800,\"Humidity\":47,\"Lat\":41.28,\"Lng\":20.71,\"Max Temp\":78.8,\"Wind Speed\":8.05,\"hash\":3272914528825408979},\"367\":{\"City_ID\":367,\"City\":\"boyle\",\"Cloudiness\":75,\"Country\":\"IE\",\"Date\":1528902000,\"Humidity\":100,\"Lat\":53.97,\"Lng\":-8.3,\"Max Temp\":55.4,\"Wind Speed\":18.34,\"hash\":-2755660088490706119},\"368\":{\"City_ID\":368,\"City\":\"klaksvik\",\"Cloudiness\":92,\"Country\":\"FO\",\"Date\":1528903200,\"Humidity\":93,\"Lat\":62.23,\"Lng\":-6.59,\"Max Temp\":48.2,\"Wind Speed\":19.46,\"hash\":-4427258730166693782},\"369\":{\"City_ID\":369,\"City\":\"aleksandro-nevskiy\",\"Cloudiness\":0,\"Country\":\"RU\",\"Date\":1528905510,\"Humidity\":49,\"Lat\":53.48,\"Lng\":40.21,\"Max Temp\":74.2,\"Wind Speed\":9.78,\"hash\":-4973553283277092399},\"370\":{\"City_ID\":370,\"City\":\"graham\",\"Cloudiness\":75,\"Country\":\"US\",\"Date\":1528905240,\"Humidity\":78,\"Lat\":36.07,\"Lng\":-79.4,\"Max Temp\":75.2,\"Wind Speed\":9.17,\"hash\":-913025002789738850},\"371\":{\"City_ID\":371,\"City\":\"paraiso\",\"Cloudiness\":75,\"Country\":\"MX\",\"Date\":1528901040,\"Humidity\":68,\"Lat\":24.01,\"Lng\":-104.61,\"Max Temp\":66.2,\"Wind Speed\":3.36,\"hash\":4191095004554781687},\"372\":{\"City_ID\":372,\"City\":\"nishihara\",\"Cloudiness\":75,\"Country\":\"JP\",\"Date\":1528902000,\"Humidity\":68,\"Lat\":35.74,\"Lng\":139.53,\"Max Temp\":69.8,\"Wind Speed\":3.36,\"hash\":-4579097460454055095},\"373\":{\"City_ID\":373,\"City\":\"charyshskoye\",\"Cloudiness\":8,\"Country\":\"RU\",\"Date\":1528905511,\"Humidity\":37,\"Lat\":51.4,\"Lng\":83.56,\"Max Temp\":69.7,\"Wind Speed\":3.4,\"hash\":1967312620355186183},\"374\":{\"City_ID\":374,\"City\":\"struer\",\"Cloudiness\":8,\"Country\":\"DK\",\"Date\":1528903200,\"Humidity\":63,\"Lat\":56.48,\"Lng\":8.6,\"Max Temp\":60.8,\"Wind Speed\":17.22,\"hash\":-8740371508603717885},\"375\":{\"City_ID\":375,\"City\":\"hualmay\",\"Cloudiness\":12,\"Country\":\"PE\",\"Date\":1528905511,\"Humidity\":77,\"Lat\":-11.1,\"Lng\":-77.61,\"Max Temp\":65.02,\"Wind Speed\":3.62,\"hash\":8497427193408533453},\"376\":{\"City_ID\":376,\"City\":\"ystad\",\"Cloudiness\":75,\"Country\":\"SE\",\"Date\":1528903200,\"Humidity\":60,\"Lat\":55.43,\"Lng\":13.82,\"Max Temp\":68.0,\"Wind Speed\":13.87,\"hash\":4237530576355281434},\"377\":{\"City_ID\":377,\"City\":\"buin\",\"Cloudiness\":0,\"Country\":\"CL\",\"Date\":1528905600,\"Humidity\":65,\"Lat\":-33.73,\"Lng\":-70.74,\"Max Temp\":46.4,\"Wind Speed\":3.36,\"hash\":4789000178161089407},\"378\":{\"City_ID\":378,\"City\":\"gamboma\",\"Cloudiness\":0,\"Country\":\"CG\",\"Date\":1528905516,\"Humidity\":64,\"Lat\":-1.87,\"Lng\":15.88,\"Max Temp\":87.34,\"Wind Speed\":6.53,\"hash\":7854899227601107886},\"379\":{\"City_ID\":379,\"City\":\"bristol\",\"Cloudiness\":75,\"Country\":\"GB\",\"Date\":1528903200,\"Humidity\":77,\"Lat\":51.45,\"Lng\":-2.6,\"Max Temp\":68.0,\"Wind Speed\":10.29,\"hash\":5305038161808823334},\"380\":{\"City_ID\":380,\"City\":\"imbituba\",\"Cloudiness\":40,\"Country\":\"BR\",\"Date\":1528902000,\"Humidity\":64,\"Lat\":-28.24,\"Lng\":-48.67,\"Max Temp\":69.8,\"Wind Speed\":3.36,\"hash\":-4476144156151351627},\"381\":{\"City_ID\":381,\"City\":\"comrie\",\"Cloudiness\":40,\"Country\":\"GB\",\"Date\":1528903200,\"Humidity\":72,\"Lat\":56.09,\"Lng\":-3.58,\"Max Temp\":60.8,\"Wind Speed\":14.99,\"hash\":3191620132773892959},\"382\":{\"City_ID\":382,\"City\":\"esil\",\"Cloudiness\":0,\"Country\":\"KZ\",\"Date\":1528905517,\"Humidity\":50,\"Lat\":51.96,\"Lng\":66.41,\"Max Temp\":60.25,\"Wind Speed\":7.65,\"hash\":-798041807030933321},\"383\":{\"City_ID\":383,\"City\":\"lompoc\",\"Cloudiness\":1,\"Country\":\"US\",\"Date\":1528904100,\"Humidity\":63,\"Lat\":34.64,\"Lng\":-120.46,\"Max Temp\":62.6,\"Wind Speed\":2.51,\"hash\":-8093478130156918453},\"384\":{\"City_ID\":384,\"City\":\"coihaique\",\"Cloudiness\":80,\"Country\":\"CL\",\"Date\":1528902000,\"Humidity\":85,\"Lat\":-45.58,\"Lng\":-72.07,\"Max Temp\":33.8,\"Wind Speed\":2.24,\"hash\":-7542379321502109585},\"385\":{\"City_ID\":385,\"City\":\"hamilton\",\"Cloudiness\":40,\"Country\":\"BM\",\"Date\":1528901700,\"Humidity\":73,\"Lat\":32.3,\"Lng\":-64.78,\"Max Temp\":77.0,\"Wind Speed\":10.29,\"hash\":-2947358422667822122},\"386\":{\"City_ID\":386,\"City\":\"hasaki\",\"Cloudiness\":75,\"Country\":\"JP\",\"Date\":1528902000,\"Humidity\":93,\"Lat\":35.73,\"Lng\":140.83,\"Max Temp\":64.4,\"Wind Speed\":3.36,\"hash\":3380321756465252549},\"387\":{\"City_ID\":387,\"City\":\"kajaani\",\"Cloudiness\":0,\"Country\":\"FI\",\"Date\":1528903200,\"Humidity\":52,\"Lat\":64.22,\"Lng\":27.73,\"Max Temp\":53.6,\"Wind Speed\":4.7,\"hash\":-4590602173957525682},\"388\":{\"City_ID\":388,\"City\":\"tupik\",\"Cloudiness\":0,\"Country\":\"RU\",\"Date\":1528905520,\"Humidity\":63,\"Lat\":54.43,\"Lng\":119.94,\"Max Temp\":51.25,\"Wind Speed\":4.63,\"hash\":8556337362036502149},\"389\":{\"City_ID\":389,\"City\":\"kloulklubed\",\"Cloudiness\":90,\"Country\":\"PW\",\"Date\":1528901700,\"Humidity\":83,\"Lat\":7.04,\"Lng\":134.26,\"Max Temp\":82.4,\"Wind Speed\":9.17,\"hash\":1965544537478678351},\"390\":{\"City_ID\":390,\"City\":\"kieta\",\"Cloudiness\":32,\"Country\":\"PG\",\"Date\":1528905520,\"Humidity\":100,\"Lat\":-6.22,\"Lng\":155.63,\"Max Temp\":76.81,\"Wind Speed\":2.73,\"hash\":-8931752498681525413},\"391\":{\"City_ID\":391,\"City\":\"maldonado\",\"Cloudiness\":75,\"Country\":\"UY\",\"Date\":1528902000,\"Humidity\":76,\"Lat\":-34.91,\"Lng\":-54.96,\"Max Temp\":51.8,\"Wind Speed\":19.46,\"hash\":-6531103162510083781},\"392\":{\"City_ID\":392,\"City\":\"smithers\",\"Cloudiness\":75,\"Country\":\"CA\",\"Date\":1528902000,\"Humidity\":81,\"Lat\":54.78,\"Lng\":-127.17,\"Max Temp\":48.2,\"Wind Speed\":2.62,\"hash\":-1483207803805273778},\"393\":{\"City_ID\":393,\"City\":\"mareeba\",\"Cloudiness\":0,\"Country\":\"AU\",\"Date\":1528902000,\"Humidity\":93,\"Lat\":-16.99,\"Lng\":145.42,\"Max Temp\":60.8,\"Wind Speed\":3.4,\"hash\":3451062591857794917},\"394\":{\"City_ID\":394,\"City\":\"kaputa\",\"Cloudiness\":0,\"Country\":\"ZM\",\"Date\":1528905521,\"Humidity\":29,\"Lat\":-8.47,\"Lng\":29.66,\"Max Temp\":78.88,\"Wind Speed\":3.62,\"hash\":-3914601925476979639},\"395\":{\"City_ID\":395,\"City\":\"lira\",\"Cloudiness\":68,\"Country\":\"UG\",\"Date\":1528905521,\"Humidity\":45,\"Lat\":2.25,\"Lng\":32.9,\"Max Temp\":82.39,\"Wind Speed\":8.21,\"hash\":-3379262475426798415},\"396\":{\"City_ID\":396,\"City\":\"constitucion\",\"Cloudiness\":75,\"Country\":\"MX\",\"Date\":1528901040,\"Humidity\":68,\"Lat\":23.99,\"Lng\":-104.67,\"Max Temp\":66.2,\"Wind Speed\":3.36,\"hash\":1264008482057066252},\"397\":{\"City_ID\":397,\"City\":\"ternate\",\"Cloudiness\":90,\"Country\":\"PH\",\"Date\":1528902000,\"Humidity\":100,\"Lat\":14.29,\"Lng\":120.72,\"Max Temp\":77.0,\"Wind Speed\":10.29,\"hash\":-2659530707881845570},\"398\":{\"City_ID\":398,\"City\":\"haines junction\",\"Cloudiness\":68,\"Country\":\"CA\",\"Date\":1528905526,\"Humidity\":52,\"Lat\":60.75,\"Lng\":-137.51,\"Max Temp\":42.79,\"Wind Speed\":2.62,\"hash\":1250734392527770668},\"399\":{\"City_ID\":399,\"City\":\"zagora\",\"Cloudiness\":75,\"Country\":\"HR\",\"Date\":1528903800,\"Humidity\":73,\"Lat\":46.19,\"Lng\":15.87,\"Max Temp\":71.6,\"Wind Speed\":2.24,\"hash\":-5785469391417406091},\"400\":{\"City_ID\":400,\"City\":\"zhongxing\",\"Cloudiness\":8,\"Country\":\"CN\",\"Date\":1528905527,\"Humidity\":69,\"Lat\":32.02,\"Lng\":116.14,\"Max Temp\":74.29,\"Wind Speed\":7.99,\"hash\":-2034948831654812620},\"401\":{\"City_ID\":401,\"City\":\"snezhnogorsk\",\"Cloudiness\":75,\"Country\":\"RU\",\"Date\":1528903800,\"Humidity\":70,\"Lat\":69.19,\"Lng\":33.23,\"Max Temp\":42.8,\"Wind Speed\":2.24,\"hash\":-2273931657679495829},\"402\":{\"City_ID\":402,\"City\":\"sola\",\"Cloudiness\":75,\"Country\":\"FI\",\"Date\":1528903200,\"Humidity\":76,\"Lat\":62.78,\"Lng\":29.36,\"Max Temp\":50.0,\"Wind Speed\":10.29,\"hash\":256912071285950961},\"403\":{\"City_ID\":403,\"City\":\"sioux lookout\",\"Cloudiness\":20,\"Country\":\"CA\",\"Date\":1528902000,\"Humidity\":59,\"Lat\":50.1,\"Lng\":-91.92,\"Max Temp\":66.2,\"Wind Speed\":4.7,\"hash\":-7276290526475897908},\"404\":{\"City_ID\":404,\"City\":\"sur\",\"Cloudiness\":0,\"Country\":\"OM\",\"Date\":1528905530,\"Humidity\":82,\"Lat\":22.57,\"Lng\":59.53,\"Max Temp\":89.32,\"Wind Speed\":4.85,\"hash\":-3469944150469400890},\"405\":{\"City_ID\":405,\"City\":\"utete\",\"Cloudiness\":12,\"Country\":\"TZ\",\"Date\":1528905531,\"Humidity\":51,\"Lat\":-7.99,\"Lng\":38.76,\"Max Temp\":81.76,\"Wind Speed\":6.08,\"hash\":-7435633025811654408},\"406\":{\"City_ID\":406,\"City\":\"saint-joseph\",\"Cloudiness\":75,\"Country\":\"FR\",\"Date\":1528903800,\"Humidity\":60,\"Lat\":43.56,\"Lng\":6.97,\"Max Temp\":71.6,\"Wind Speed\":4.7,\"hash\":4141491818367933884},\"407\":{\"City_ID\":407,\"City\":\"sadao\",\"Cloudiness\":75,\"Country\":\"TH\",\"Date\":1528902000,\"Humidity\":83,\"Lat\":6.63,\"Lng\":100.42,\"Max Temp\":82.4,\"Wind Speed\":2.24,\"hash\":-627033577270080388},\"408\":{\"City_ID\":408,\"City\":\"petropavlovsk-kamchatskiy\",\"Cloudiness\":90,\"Country\":\"RU\",\"Date\":1528902000,\"Humidity\":86,\"Lat\":53.05,\"Lng\":158.65,\"Max Temp\":41.0,\"Wind Speed\":2.24,\"hash\":9199750698915187109},\"409\":{\"City_ID\":409,\"City\":\"vestmanna\",\"Cloudiness\":92,\"Country\":\"FO\",\"Date\":1528903200,\"Humidity\":93,\"Lat\":62.16,\"Lng\":-7.17,\"Max Temp\":48.2,\"Wind Speed\":19.46,\"hash\":7621113967724317473},\"410\":{\"City_ID\":410,\"City\":\"chifeng\",\"Cloudiness\":8,\"Country\":\"CN\",\"Date\":1528905536,\"Humidity\":90,\"Lat\":42.27,\"Lng\":118.96,\"Max Temp\":52.42,\"Wind Speed\":0.72,\"hash\":-6431404173778382990},\"411\":{\"City_ID\":411,\"City\":\"grants pass\",\"Cloudiness\":90,\"Country\":\"US\",\"Date\":1528901760,\"Humidity\":50,\"Lat\":42.44,\"Lng\":-123.33,\"Max Temp\":59.0,\"Wind Speed\":2.62,\"hash\":-5753115923923654542},\"412\":{\"City_ID\":412,\"City\":\"lampazos de naranjo\",\"Cloudiness\":0,\"Country\":\"MX\",\"Date\":1528905536,\"Humidity\":57,\"Lat\":27.02,\"Lng\":-100.51,\"Max Temp\":82.93,\"Wind Speed\":6.76,\"hash\":5426302513877145012},\"413\":{\"City_ID\":413,\"City\":\"salym\",\"Cloudiness\":48,\"Country\":\"RU\",\"Date\":1528905536,\"Humidity\":51,\"Lat\":60.06,\"Lng\":71.48,\"Max Temp\":60.61,\"Wind Speed\":5.08,\"hash\":8096693782966008690},\"414\":{\"City_ID\":414,\"City\":\"verkh-chebula\",\"Cloudiness\":0,\"Country\":\"RU\",\"Date\":1528905536,\"Humidity\":75,\"Lat\":56.03,\"Lng\":87.61,\"Max Temp\":67.36,\"Wind Speed\":2.73,\"hash\":-6375732961498450131},\"415\":{\"City_ID\":415,\"City\":\"tsiroanomandidy\",\"Cloudiness\":64,\"Country\":\"MG\",\"Date\":1528905537,\"Humidity\":36,\"Lat\":-18.77,\"Lng\":46.05,\"Max Temp\":71.86,\"Wind Speed\":4.97,\"hash\":1689436515344407652},\"416\":{\"City_ID\":416,\"City\":\"lagoa\",\"Cloudiness\":20,\"Country\":\"PT\",\"Date\":1528903800,\"Humidity\":56,\"Lat\":37.14,\"Lng\":-8.45,\"Max Temp\":71.6,\"Wind Speed\":10.29,\"hash\":8107992629763770144},\"417\":{\"City_ID\":417,\"City\":\"les cayes\",\"Cloudiness\":88,\"Country\":\"HT\",\"Date\":1528905538,\"Humidity\":92,\"Lat\":18.19,\"Lng\":-73.75,\"Max Temp\":82.93,\"Wind Speed\":22.41,\"hash\":8454134782643833837},\"418\":{\"City_ID\":418,\"City\":\"mackay\",\"Cloudiness\":75,\"Country\":\"CA\",\"Date\":1528902000,\"Humidity\":81,\"Lat\":53.65,\"Lng\":-115.58,\"Max Temp\":50.0,\"Wind Speed\":3.36,\"hash\":-5233393284318001624},\"419\":{\"City_ID\":419,\"City\":\"treuchtlingen\",\"Cloudiness\":75,\"Country\":\"DE\",\"Date\":1528903200,\"Humidity\":67,\"Lat\":48.96,\"Lng\":10.91,\"Max Temp\":60.8,\"Wind Speed\":8.05,\"hash\":-8752735151187541285},\"420\":{\"City_ID\":420,\"City\":\"witney\",\"Cloudiness\":40,\"Country\":\"GB\",\"Date\":1528903200,\"Humidity\":56,\"Lat\":51.78,\"Lng\":-1.49,\"Max Temp\":69.8,\"Wind Speed\":16.11,\"hash\":-5571658583773856991},\"421\":{\"City_ID\":421,\"City\":\"tabou\",\"Cloudiness\":0,\"Country\":\"CI\",\"Date\":1528905538,\"Humidity\":100,\"Lat\":4.42,\"Lng\":-7.36,\"Max Temp\":80.86,\"Wind Speed\":9.78,\"hash\":711076006219720338},\"422\":{\"City_ID\":422,\"City\":\"koson\",\"Cloudiness\":0,\"Country\":\"UZ\",\"Date\":1528902000,\"Humidity\":19,\"Lat\":39.04,\"Lng\":65.59,\"Max Temp\":89.6,\"Wind Speed\":9.17,\"hash\":221858087884369564},\"423\":{\"City_ID\":423,\"City\":\"burewala\",\"Cloudiness\":0,\"Country\":\"PK\",\"Date\":1528905539,\"Humidity\":34,\"Lat\":30.16,\"Lng\":72.68,\"Max Temp\":95.62,\"Wind Speed\":7.2,\"hash\":6331890407296638613},\"424\":{\"City_ID\":424,\"City\":\"aksum\",\"Cloudiness\":80,\"Country\":\"ET\",\"Date\":1528905539,\"Humidity\":94,\"Lat\":14.12,\"Lng\":38.72,\"Max Temp\":61.15,\"Wind Speed\":3.4,\"hash\":-3135718562788372389},\"425\":{\"City_ID\":425,\"City\":\"iquitos\",\"Cloudiness\":20,\"Country\":\"PE\",\"Date\":1528902000,\"Humidity\":74,\"Lat\":-3.75,\"Lng\":-73.25,\"Max Temp\":84.2,\"Wind Speed\":4.7,\"hash\":-717370825927718312},\"426\":{\"City_ID\":426,\"City\":\"bealanana\",\"Cloudiness\":20,\"Country\":\"MG\",\"Date\":1528905541,\"Humidity\":53,\"Lat\":-14.54,\"Lng\":48.75,\"Max Temp\":69.07,\"Wind Speed\":6.98,\"hash\":4566401864176860082},\"427\":{\"City_ID\":427,\"City\":\"linqiong\",\"Cloudiness\":92,\"Country\":\"CN\",\"Date\":1528902000,\"Humidity\":83,\"Lat\":30.42,\"Lng\":103.46,\"Max Temp\":75.2,\"Wind Speed\":6.71,\"hash\":-629486625951566811},\"428\":{\"City_ID\":428,\"City\":\"bonaventure\",\"Cloudiness\":75,\"Country\":\"CA\",\"Date\":1528902000,\"Humidity\":32,\"Lat\":48.04,\"Lng\":-65.49,\"Max Temp\":66.2,\"Wind Speed\":8.05,\"hash\":-4238800122996309114},\"429\":{\"City_ID\":429,\"City\":\"ostrovnoy\",\"Cloudiness\":92,\"Country\":\"RU\",\"Date\":1528905546,\"Humidity\":82,\"Lat\":68.05,\"Lng\":39.51,\"Max Temp\":36.58,\"Wind Speed\":18.28,\"hash\":-6699543989283230524},\"430\":{\"City_ID\":430,\"City\":\"narsaq\",\"Cloudiness\":40,\"Country\":\"GL\",\"Date\":1528905000,\"Humidity\":43,\"Lat\":60.91,\"Lng\":-46.05,\"Max Temp\":55.4,\"Wind Speed\":9.17,\"hash\":715888666247455949},\"431\":{\"City_ID\":431,\"City\":\"richards bay\",\"Cloudiness\":0,\"Country\":\"ZA\",\"Date\":1528905547,\"Humidity\":75,\"Lat\":-28.77,\"Lng\":32.06,\"Max Temp\":68.53,\"Wind Speed\":1.72,\"hash\":3169209189142807052},\"432\":{\"City_ID\":432,\"City\":\"antofagasta\",\"Cloudiness\":40,\"Country\":\"CL\",\"Date\":1528902000,\"Humidity\":67,\"Lat\":-23.65,\"Lng\":-70.4,\"Max Temp\":57.2,\"Wind Speed\":8.05,\"hash\":6406253193814195050},\"433\":{\"City_ID\":433,\"City\":\"yeniseysk\",\"Cloudiness\":8,\"Country\":\"RU\",\"Date\":1528905547,\"Humidity\":71,\"Lat\":58.45,\"Lng\":92.17,\"Max Temp\":63.49,\"Wind Speed\":2.84,\"hash\":-6923324190738883637},\"434\":{\"City_ID\":434,\"City\":\"taguatinga\",\"Cloudiness\":20,\"Country\":\"BR\",\"Date\":1528902000,\"Humidity\":36,\"Lat\":-15.83,\"Lng\":-48.06,\"Max Temp\":78.8,\"Wind Speed\":5.82,\"hash\":-3766904798315290605},\"435\":{\"City_ID\":435,\"City\":\"port-gentil\",\"Cloudiness\":20,\"Country\":\"GA\",\"Date\":1528902000,\"Humidity\":78,\"Lat\":-0.72,\"Lng\":8.78,\"Max Temp\":82.4,\"Wind Speed\":16.11,\"hash\":-6408685150196375095},\"436\":{\"City_ID\":436,\"City\":\"yulara\",\"Cloudiness\":0,\"Country\":\"AU\",\"Date\":1528902000,\"Humidity\":56,\"Lat\":-25.24,\"Lng\":130.99,\"Max Temp\":41.0,\"Wind Speed\":4.7,\"hash\":4599275774707844158},\"437\":{\"City_ID\":437,\"City\":\"adrar\",\"Cloudiness\":0,\"Country\":\"DZ\",\"Date\":1528902000,\"Humidity\":12,\"Lat\":27.87,\"Lng\":-0.29,\"Max Temp\":109.4,\"Wind Speed\":11.41,\"hash\":-8369468828932244152},\"438\":{\"City_ID\":438,\"City\":\"samur\",\"Cloudiness\":0,\"Country\":\"RU\",\"Date\":1528905549,\"Humidity\":84,\"Lat\":41.83,\"Lng\":48.49,\"Max Temp\":71.23,\"Wind Speed\":13.13,\"hash\":-8611418038875087614},\"439\":{\"City_ID\":439,\"City\":\"chicla\",\"Cloudiness\":20,\"Country\":\"PE\",\"Date\":1528905550,\"Humidity\":74,\"Lat\":-11.71,\"Lng\":-76.27,\"Max Temp\":43.69,\"Wind Speed\":2.39,\"hash\":7330278372432604908},\"440\":{\"City_ID\":440,\"City\":\"tombouctou\",\"Cloudiness\":24,\"Country\":\"ML\",\"Date\":1528905550,\"Humidity\":18,\"Lat\":16.77,\"Lng\":-3.01,\"Max Temp\":110.65,\"Wind Speed\":4.74,\"hash\":375035480376717884},\"441\":{\"City_ID\":441,\"City\":\"pyaozerskiy\",\"Cloudiness\":48,\"Country\":\"RU\",\"Date\":1528905550,\"Humidity\":57,\"Lat\":65.83,\"Lng\":31.17,\"Max Temp\":49.0,\"Wind Speed\":3.96,\"hash\":7102868211545865991},\"442\":{\"City_ID\":442,\"City\":\"vagur\",\"Cloudiness\":92,\"Country\":\"FO\",\"Date\":1528905550,\"Humidity\":97,\"Lat\":61.47,\"Lng\":-6.81,\"Max Temp\":49.63,\"Wind Speed\":27.89,\"hash\":8564731620224703540},\"443\":{\"City_ID\":443,\"City\":\"yar-sale\",\"Cloudiness\":76,\"Country\":\"RU\",\"Date\":1528905551,\"Humidity\":89,\"Lat\":66.83,\"Lng\":70.83,\"Max Temp\":36.22,\"Wind Speed\":14.81,\"hash\":9186761058046802486},\"444\":{\"City_ID\":444,\"City\":\"ust-nera\",\"Cloudiness\":48,\"Country\":\"RU\",\"Date\":1528905551,\"Humidity\":65,\"Lat\":64.57,\"Lng\":143.24,\"Max Temp\":46.93,\"Wind Speed\":1.72,\"hash\":2143435825116518090},\"445\":{\"City_ID\":445,\"City\":\"solnechnyy\",\"Cloudiness\":0,\"Country\":\"RU\",\"Date\":1528905551,\"Humidity\":78,\"Lat\":50.72,\"Lng\":136.64,\"Max Temp\":51.52,\"Wind Speed\":4.18,\"hash\":7863652322039105904},\"446\":{\"City_ID\":446,\"City\":\"san patricio\",\"Cloudiness\":0,\"Country\":\"PY\",\"Date\":1528905551,\"Humidity\":74,\"Lat\":-26.98,\"Lng\":-56.83,\"Max Temp\":51.79,\"Wind Speed\":4.63,\"hash\":-110698731481950353},\"447\":{\"City_ID\":447,\"City\":\"angoram\",\"Cloudiness\":88,\"Country\":\"PG\",\"Date\":1528905555,\"Humidity\":100,\"Lat\":-4.06,\"Lng\":144.07,\"Max Temp\":74.47,\"Wind Speed\":1.95,\"hash\":-3529491575698620002},\"448\":{\"City_ID\":448,\"City\":\"champerico\",\"Cloudiness\":90,\"Country\":\"MX\",\"Date\":1528900860,\"Humidity\":94,\"Lat\":16.38,\"Lng\":-93.6,\"Max Temp\":71.6,\"Wind Speed\":2.62,\"hash\":3110076400404283837},\"449\":{\"City_ID\":449,\"City\":\"san policarpo\",\"Cloudiness\":80,\"Country\":\"PH\",\"Date\":1528905556,\"Humidity\":100,\"Lat\":12.18,\"Lng\":125.51,\"Max Temp\":78.43,\"Wind Speed\":7.76,\"hash\":1088423397506737625},\"450\":{\"City_ID\":450,\"City\":\"port-cartier\",\"Cloudiness\":40,\"Country\":\"CA\",\"Date\":1528902000,\"Humidity\":47,\"Lat\":50.03,\"Lng\":-66.88,\"Max Temp\":55.4,\"Wind Speed\":16.11,\"hash\":-3960548958175946217},\"451\":{\"City_ID\":451,\"City\":\"tateyama\",\"Cloudiness\":12,\"Country\":\"JP\",\"Date\":1528905556,\"Humidity\":100,\"Lat\":36.66,\"Lng\":137.31,\"Max Temp\":49.45,\"Wind Speed\":1.95,\"hash\":5686921029277727745},\"452\":{\"City_ID\":452,\"City\":\"mandalgovi\",\"Cloudiness\":8,\"Country\":\"MN\",\"Date\":1528905556,\"Humidity\":35,\"Lat\":45.76,\"Lng\":106.27,\"Max Temp\":62.59,\"Wind Speed\":6.64,\"hash\":-1943137524601746639},\"453\":{\"City_ID\":453,\"City\":\"bartica\",\"Cloudiness\":75,\"Country\":\"GY\",\"Date\":1528902000,\"Humidity\":78,\"Lat\":6.41,\"Lng\":-58.62,\"Max Temp\":82.4,\"Wind Speed\":9.17,\"hash\":1922519385978177417},\"454\":{\"City_ID\":454,\"City\":\"bathsheba\",\"Cloudiness\":20,\"Country\":\"BB\",\"Date\":1528902000,\"Humidity\":66,\"Lat\":13.22,\"Lng\":-59.52,\"Max Temp\":86.0,\"Wind Speed\":25.28,\"hash\":5497491640609060640},\"455\":{\"City_ID\":455,\"City\":\"bueu\",\"Cloudiness\":0,\"Country\":\"ES\",\"Date\":1528903800,\"Humidity\":53,\"Lat\":42.33,\"Lng\":-8.79,\"Max Temp\":71.6,\"Wind Speed\":16.11,\"hash\":-7865089926987653674},\"456\":{\"City_ID\":456,\"City\":\"chaltyr\",\"Cloudiness\":0,\"Country\":\"RU\",\"Date\":1528905557,\"Humidity\":21,\"Lat\":47.28,\"Lng\":39.48,\"Max Temp\":87.43,\"Wind Speed\":3.74,\"hash\":-4646434091264753605},\"457\":{\"City_ID\":457,\"City\":\"prince rupert\",\"Cloudiness\":90,\"Country\":\"CA\",\"Date\":1528902000,\"Humidity\":93,\"Lat\":54.32,\"Lng\":-130.32,\"Max Temp\":53.6,\"Wind Speed\":6.93,\"hash\":718202048861167010},\"458\":{\"City_ID\":458,\"City\":\"plouzane\",\"Cloudiness\":90,\"Country\":\"FR\",\"Date\":1528903800,\"Humidity\":63,\"Lat\":48.38,\"Lng\":-4.62,\"Max Temp\":66.2,\"Wind Speed\":8.05,\"hash\":1780384056813042326},\"459\":{\"City_ID\":459,\"City\":\"belaya gora\",\"Cloudiness\":36,\"Country\":\"RU\",\"Date\":1528905558,\"Humidity\":35,\"Lat\":68.54,\"Lng\":146.19,\"Max Temp\":62.77,\"Wind Speed\":4.07,\"hash\":375549101225213262},\"460\":{\"City_ID\":460,\"City\":\"tongren\",\"Cloudiness\":12,\"Country\":\"CN\",\"Date\":1528905558,\"Humidity\":85,\"Lat\":27.72,\"Lng\":109.18,\"Max Temp\":67.9,\"Wind Speed\":1.95,\"hash\":-2430496720661822205},\"461\":{\"City_ID\":461,\"City\":\"narsimhapur\",\"Cloudiness\":88,\"Country\":\"IN\",\"Date\":1528905558,\"Humidity\":78,\"Lat\":17.14,\"Lng\":74.26,\"Max Temp\":76.0,\"Wind Speed\":9.22,\"hash\":-8899852962240972018},\"462\":{\"City_ID\":462,\"City\":\"sao joao da barra\",\"Cloudiness\":0,\"Country\":\"BR\",\"Date\":1528902000,\"Humidity\":43,\"Lat\":-21.64,\"Lng\":-41.05,\"Max Temp\":87.8,\"Wind Speed\":5.82,\"hash\":-7118436246903965139},\"463\":{\"City_ID\":463,\"City\":\"mamakan\",\"Cloudiness\":32,\"Country\":\"RU\",\"Date\":1528905559,\"Humidity\":83,\"Lat\":57.82,\"Lng\":114.02,\"Max Temp\":51.7,\"Wind Speed\":2.06,\"hash\":8030527847803647069},\"464\":{\"City_ID\":464,\"City\":\"inirida\",\"Cloudiness\":80,\"Country\":\"CO\",\"Date\":1528905559,\"Humidity\":84,\"Lat\":3.87,\"Lng\":-67.92,\"Max Temp\":80.32,\"Wind Speed\":2.95,\"hash\":3149188233685811511},\"465\":{\"City_ID\":465,\"City\":\"payo\",\"Cloudiness\":56,\"Country\":\"ID\",\"Date\":1528905559,\"Humidity\":84,\"Lat\":-3.75,\"Lng\":103.64,\"Max Temp\":77.98,\"Wind Speed\":4.74,\"hash\":-1443943419160732987},\"466\":{\"City_ID\":466,\"City\":\"san carlos de bariloche\",\"Cloudiness\":75,\"Country\":\"AR\",\"Date\":1528902000,\"Humidity\":86,\"Lat\":-41.13,\"Lng\":-71.31,\"Max Temp\":26.6,\"Wind Speed\":10.29,\"hash\":-1498490976621838907},\"467\":{\"City_ID\":467,\"City\":\"piacabucu\",\"Cloudiness\":44,\"Country\":\"BR\",\"Date\":1528905560,\"Humidity\":57,\"Lat\":-10.41,\"Lng\":-36.43,\"Max Temp\":84.37,\"Wind Speed\":15.48,\"hash\":5017081141748220022},\"468\":{\"City_ID\":468,\"City\":\"auki\",\"Cloudiness\":44,\"Country\":\"NG\",\"Date\":1528905560,\"Humidity\":55,\"Lat\":12.18,\"Lng\":6.51,\"Max Temp\":94.81,\"Wind Speed\":1.61,\"hash\":-7487739068963776957},\"469\":{\"City_ID\":469,\"City\":\"ambon\",\"Cloudiness\":90,\"Country\":\"FR\",\"Date\":1528903800,\"Humidity\":64,\"Lat\":47.55,\"Lng\":-2.56,\"Max Temp\":69.8,\"Wind Speed\":8.05,\"hash\":4644883185073924432},\"470\":{\"City_ID\":470,\"City\":\"bilibino\",\"Cloudiness\":0,\"Country\":\"RU\",\"Date\":1528905560,\"Humidity\":60,\"Lat\":68.06,\"Lng\":166.44,\"Max Temp\":52.33,\"Wind Speed\":1.95,\"hash\":2099474066629767992},\"471\":{\"City_ID\":471,\"City\":\"jiangyou\",\"Cloudiness\":92,\"Country\":\"CN\",\"Date\":1528905561,\"Humidity\":64,\"Lat\":31.78,\"Lng\":104.73,\"Max Temp\":73.3,\"Wind Speed\":4.18,\"hash\":7913562755302906032},\"472\":{\"City_ID\":472,\"City\":\"ambilobe\",\"Cloudiness\":8,\"Country\":\"MG\",\"Date\":1528905561,\"Humidity\":44,\"Lat\":-13.19,\"Lng\":49.05,\"Max Temp\":80.95,\"Wind Speed\":13.8,\"hash\":6197063750487866608},\"473\":{\"City_ID\":473,\"City\":\"shebunino\",\"Cloudiness\":0,\"Country\":\"RU\",\"Date\":1528905561,\"Humidity\":69,\"Lat\":57.66,\"Lng\":40.04,\"Max Temp\":59.98,\"Wind Speed\":14.14,\"hash\":44227209073244480},\"474\":{\"City_ID\":474,\"City\":\"broome\",\"Cloudiness\":20,\"Country\":\"GB\",\"Date\":1528903200,\"Humidity\":52,\"Lat\":52.47,\"Lng\":1.45,\"Max Temp\":71.6,\"Wind Speed\":11.41,\"hash\":-7370121306619605510},\"475\":{\"City_ID\":475,\"City\":\"biedenkopf\",\"Cloudiness\":75,\"Country\":\"DE\",\"Date\":1528903200,\"Humidity\":71,\"Lat\":50.92,\"Lng\":8.53,\"Max Temp\":59.0,\"Wind Speed\":6.93,\"hash\":5295403183866955604},\"476\":{\"City_ID\":476,\"City\":\"aquiraz\",\"Cloudiness\":20,\"Country\":\"BR\",\"Date\":1528905600,\"Humidity\":52,\"Lat\":-3.9,\"Lng\":-38.39,\"Max Temp\":87.8,\"Wind Speed\":19.46,\"hash\":-6664049422215489221},\"477\":{\"City_ID\":477,\"City\":\"karangasem\",\"Cloudiness\":20,\"Country\":\"ID\",\"Date\":1528905563,\"Humidity\":100,\"Lat\":-6.7,\"Lng\":108.49,\"Max Temp\":81.4,\"Wind Speed\":15.7,\"hash\":487910905704427820},\"478\":{\"City_ID\":478,\"City\":\"boca do acre\",\"Cloudiness\":76,\"Country\":\"BR\",\"Date\":1528905563,\"Humidity\":77,\"Lat\":-8.76,\"Lng\":-67.39,\"Max Temp\":83.56,\"Wind Speed\":2.84,\"hash\":-4743484832629583762},\"479\":{\"City_ID\":479,\"City\":\"la antigua\",\"Cloudiness\":48,\"Country\":\"CO\",\"Date\":1528905564,\"Humidity\":94,\"Lat\":6.72,\"Lng\":-76.08,\"Max Temp\":68.35,\"Wind Speed\":1.5,\"hash\":-1764288115205772418},\"480\":{\"City_ID\":480,\"City\":\"sibolga\",\"Cloudiness\":76,\"Country\":\"ID\",\"Date\":1528905564,\"Humidity\":94,\"Lat\":1.74,\"Lng\":98.78,\"Max Temp\":74.56,\"Wind Speed\":1.95,\"hash\":8193964154767198928},\"481\":{\"City_ID\":481,\"City\":\"glebychevo\",\"Cloudiness\":68,\"Country\":\"RU\",\"Date\":1528905564,\"Humidity\":46,\"Lat\":60.44,\"Lng\":28.72,\"Max Temp\":60.79,\"Wind Speed\":4.63,\"hash\":-3273555912850993866},\"482\":{\"City_ID\":482,\"City\":\"campos altos\",\"Cloudiness\":0,\"Country\":\"BR\",\"Date\":1528905564,\"Humidity\":62,\"Lat\":-19.7,\"Lng\":-46.17,\"Max Temp\":79.69,\"Wind Speed\":6.42,\"hash\":7464316271054691186},\"483\":{\"City_ID\":483,\"City\":\"santiago del estero\",\"Cloudiness\":0,\"Country\":\"AR\",\"Date\":1528905565,\"Humidity\":49,\"Lat\":-27.8,\"Lng\":-64.26,\"Max Temp\":52.33,\"Wind Speed\":6.2,\"hash\":-8446630846667277551},\"484\":{\"City_ID\":484,\"City\":\"banff\",\"Cloudiness\":24,\"Country\":\"CA\",\"Date\":1528905565,\"Humidity\":36,\"Lat\":51.18,\"Lng\":-115.57,\"Max Temp\":48.01,\"Wind Speed\":2.17,\"hash\":-1263031750210803884},\"485\":{\"City_ID\":485,\"City\":\"santa helena\",\"Cloudiness\":36,\"Country\":\"BR\",\"Date\":1528905565,\"Humidity\":71,\"Lat\":-2.23,\"Lng\":-45.3,\"Max Temp\":88.51,\"Wind Speed\":6.53,\"hash\":-8432058168508293465},\"486\":{\"City_ID\":486,\"City\":\"lewiston\",\"Cloudiness\":1,\"Country\":\"US\",\"Date\":1528901760,\"Humidity\":55,\"Lat\":46.42,\"Lng\":-117.02,\"Max Temp\":64.4,\"Wind Speed\":4.7,\"hash\":8474758095345351221},\"487\":{\"City_ID\":487,\"City\":\"bouna\",\"Cloudiness\":0,\"Country\":\"CI\",\"Date\":1528905567,\"Humidity\":78,\"Lat\":9.27,\"Lng\":-3.0,\"Max Temp\":89.86,\"Wind Speed\":4.18,\"hash\":-5615753337646549142},\"488\":{\"City_ID\":488,\"City\":\"upington\",\"Cloudiness\":0,\"Country\":\"ZA\",\"Date\":1528902000,\"Humidity\":19,\"Lat\":-28.46,\"Lng\":21.24,\"Max Temp\":69.8,\"Wind Speed\":5.82,\"hash\":-3309296723395638562},\"489\":{\"City_ID\":489,\"City\":\"acaponeta\",\"Cloudiness\":68,\"Country\":\"MX\",\"Date\":1528905567,\"Humidity\":100,\"Lat\":22.49,\"Lng\":-105.36,\"Max Temp\":77.35,\"Wind Speed\":4.29,\"hash\":-5833356361692065393},\"490\":{\"City_ID\":490,\"City\":\"orito\",\"Cloudiness\":88,\"Country\":\"CO\",\"Date\":1528905567,\"Humidity\":97,\"Lat\":0.67,\"Lng\":-76.88,\"Max Temp\":70.42,\"Wind Speed\":2.73,\"hash\":8259048613739544395},\"491\":{\"City_ID\":491,\"City\":\"vao\",\"Cloudiness\":0,\"Country\":\"EE\",\"Date\":1528905567,\"Humidity\":45,\"Lat\":59.1,\"Lng\":26.19,\"Max Temp\":62.95,\"Wind Speed\":5.41,\"hash\":6659796041628602339},\"492\":{\"City_ID\":492,\"City\":\"nkhotakota\",\"Cloudiness\":0,\"Country\":\"MW\",\"Date\":1528905568,\"Humidity\":74,\"Lat\":-12.93,\"Lng\":34.3,\"Max Temp\":70.69,\"Wind Speed\":6.08,\"hash\":-9213039889873424403},\"493\":{\"City_ID\":493,\"City\":\"boyuibe\",\"Cloudiness\":90,\"Country\":\"BO\",\"Date\":1528902000,\"Humidity\":47,\"Lat\":-20.43,\"Lng\":-63.28,\"Max Temp\":55.4,\"Wind Speed\":5.82,\"hash\":5943394871473014201},\"494\":{\"City_ID\":494,\"City\":\"necochea\",\"Cloudiness\":80,\"Country\":\"AR\",\"Date\":1528905573,\"Humidity\":81,\"Lat\":-38.55,\"Lng\":-58.74,\"Max Temp\":50.26,\"Wind Speed\":14.03,\"hash\":-588481044996997423},\"495\":{\"City_ID\":495,\"City\":\"paitan\",\"Cloudiness\":0,\"Country\":\"CN\",\"Date\":1528902000,\"Humidity\":78,\"Lat\":23.49,\"Lng\":113.78,\"Max Temp\":77.0,\"Wind Speed\":11.18,\"hash\":3912719062908472451},\"496\":{\"City_ID\":496,\"City\":\"claresholm\",\"Cloudiness\":1,\"Country\":\"CA\",\"Date\":1528902000,\"Humidity\":31,\"Lat\":50.02,\"Lng\":-113.58,\"Max Temp\":60.8,\"Wind Speed\":23.04,\"hash\":420335534305207513},\"497\":{\"City_ID\":497,\"City\":\"sabha\",\"Cloudiness\":24,\"Country\":\"LY\",\"Date\":1528905575,\"Humidity\":10,\"Lat\":27.03,\"Lng\":14.43,\"Max Temp\":112.45,\"Wind Speed\":9.66,\"hash\":-5954788968471538686},\"498\":{\"City_ID\":498,\"City\":\"northam\",\"Cloudiness\":40,\"Country\":\"GB\",\"Date\":1528903200,\"Humidity\":77,\"Lat\":51.04,\"Lng\":-4.21,\"Max Temp\":66.2,\"Wind Speed\":12.75,\"hash\":-8839736465325740403},\"499\":{\"City_ID\":499,\"City\":\"sarakhs\",\"Cloudiness\":80,\"Country\":\"TM\",\"Date\":1528902000,\"Humidity\":37,\"Lat\":36.54,\"Lng\":61.16,\"Max Temp\":82.4,\"Wind Speed\":6.93,\"hash\":1040891137049141917},\"500\":{\"City_ID\":500,\"City\":\"moroni\",\"Cloudiness\":0,\"Country\":\"US\",\"Date\":1528905577,\"Humidity\":19,\"Lat\":39.52,\"Lng\":-111.59,\"Max Temp\":70.69,\"Wind Speed\":3.06,\"hash\":2582495030418542556},\"501\":{\"City_ID\":501,\"City\":\"nisia floresta\",\"Cloudiness\":75,\"Country\":\"BR\",\"Date\":1528905600,\"Humidity\":51,\"Lat\":-6.09,\"Lng\":-35.21,\"Max Temp\":86.0,\"Wind Speed\":24.16,\"hash\":-2341591165601626090},\"502\":{\"City_ID\":502,\"City\":\"yantarnyy\",\"Cloudiness\":20,\"Country\":\"RU\",\"Date\":1528903800,\"Humidity\":72,\"Lat\":54.87,\"Lng\":19.94,\"Max Temp\":64.4,\"Wind Speed\":6.71,\"hash\":1419235436730413894},\"503\":{\"City_ID\":503,\"City\":\"banjar\",\"Cloudiness\":12,\"Country\":\"ID\",\"Date\":1528905582,\"Humidity\":88,\"Lat\":-7.37,\"Lng\":108.54,\"Max Temp\":71.5,\"Wind Speed\":3.62,\"hash\":-5664821951269875221},\"504\":{\"City_ID\":504,\"City\":\"khandyga\",\"Cloudiness\":48,\"Country\":\"RU\",\"Date\":1528905583,\"Humidity\":47,\"Lat\":62.65,\"Lng\":135.58,\"Max Temp\":54.85,\"Wind Speed\":6.2,\"hash\":-6639476454387091090},\"505\":{\"City_ID\":505,\"City\":\"heinola\",\"Cloudiness\":0,\"Country\":\"FI\",\"Date\":1528903200,\"Humidity\":33,\"Lat\":61.2,\"Lng\":26.03,\"Max Temp\":62.6,\"Wind Speed\":3.36,\"hash\":2069031388989858289},\"506\":{\"City_ID\":506,\"City\":\"sept-iles\",\"Cloudiness\":40,\"Country\":\"CA\",\"Date\":1528902000,\"Humidity\":47,\"Lat\":50.2,\"Lng\":-66.38,\"Max Temp\":55.4,\"Wind Speed\":16.11,\"hash\":62541319653899559},\"507\":{\"City_ID\":507,\"City\":\"yenagoa\",\"Cloudiness\":92,\"Country\":\"NG\",\"Date\":1528905584,\"Humidity\":80,\"Lat\":4.92,\"Lng\":6.26,\"Max Temp\":81.94,\"Wind Speed\":11.01,\"hash\":8774744206874304810},\"508\":{\"City_ID\":508,\"City\":\"pontianak\",\"Cloudiness\":44,\"Country\":\"ID\",\"Date\":1528905585,\"Humidity\":99,\"Lat\":-0.02,\"Lng\":109.34,\"Max Temp\":77.89,\"Wind Speed\":3.4,\"hash\":6350693040875520137},\"509\":{\"City_ID\":509,\"City\":\"okha\",\"Cloudiness\":80,\"Country\":\"RU\",\"Date\":1528905585,\"Humidity\":90,\"Lat\":53.59,\"Lng\":142.95,\"Max Temp\":40.09,\"Wind Speed\":10.78,\"hash\":-9079228539102987887},\"510\":{\"City_ID\":510,\"City\":\"bismarck\",\"Cloudiness\":1,\"Country\":\"US\",\"Date\":1528905300,\"Humidity\":30,\"Lat\":46.81,\"Lng\":-100.78,\"Max Temp\":71.6,\"Wind Speed\":12.75,\"hash\":-1281364534530270851},\"511\":{\"City_ID\":511,\"City\":\"dunedin\",\"Cloudiness\":92,\"Country\":\"NZ\",\"Date\":1528905434,\"Humidity\":100,\"Lat\":-45.87,\"Lng\":170.5,\"Max Temp\":43.33,\"Wind Speed\":2.95,\"hash\":-7071795335296684515},\"512\":{\"City_ID\":512,\"City\":\"dabakala\",\"Cloudiness\":24,\"Country\":\"CI\",\"Date\":1528905587,\"Humidity\":74,\"Lat\":8.36,\"Lng\":-4.43,\"Max Temp\":88.78,\"Wind Speed\":4.52,\"hash\":5858045743099770057},\"513\":{\"City_ID\":513,\"City\":\"pitelino\",\"Cloudiness\":64,\"Country\":\"RU\",\"Date\":1528905589,\"Humidity\":66,\"Lat\":54.58,\"Lng\":41.81,\"Max Temp\":69.7,\"Wind Speed\":11.23,\"hash\":-6721645588125862235},\"514\":{\"City_ID\":514,\"City\":\"egvekinot\",\"Cloudiness\":0,\"Country\":\"RU\",\"Date\":1528905592,\"Humidity\":71,\"Lat\":66.32,\"Lng\":-179.17,\"Max Temp\":37.3,\"Wind Speed\":2.51,\"hash\":2650232991872930510},\"515\":{\"City_ID\":515,\"City\":\"melo\",\"Cloudiness\":56,\"Country\":\"UY\",\"Date\":1528905592,\"Humidity\":78,\"Lat\":-32.37,\"Lng\":-54.17,\"Max Temp\":50.08,\"Wind Speed\":22.08,\"hash\":-3897566888750557346},\"516\":{\"City_ID\":516,\"City\":\"mbeya\",\"Cloudiness\":0,\"Country\":\"TZ\",\"Date\":1528905593,\"Humidity\":40,\"Lat\":-8.91,\"Lng\":33.47,\"Max Temp\":71.05,\"Wind Speed\":3.85,\"hash\":-6976880559915332268},\"517\":{\"City_ID\":517,\"City\":\"kochi\",\"Cloudiness\":90,\"Country\":\"IN\",\"Date\":1528903800,\"Humidity\":94,\"Lat\":9.96,\"Lng\":76.25,\"Max Temp\":77.0,\"Wind Speed\":2.24,\"hash\":-220756460695529950},\"518\":{\"City_ID\":518,\"City\":\"notse\",\"Cloudiness\":56,\"Country\":\"TG\",\"Date\":1528905594,\"Humidity\":76,\"Lat\":6.95,\"Lng\":1.17,\"Max Temp\":86.62,\"Wind Speed\":8.77,\"hash\":-6128409467113136827},\"519\":{\"City_ID\":519,\"City\":\"amuntai\",\"Cloudiness\":36,\"Country\":\"ID\",\"Date\":1528905596,\"Humidity\":88,\"Lat\":-2.42,\"Lng\":115.25,\"Max Temp\":77.17,\"Wind Speed\":2.17,\"hash\":8625240859589867512},\"520\":{\"City_ID\":520,\"City\":\"san juan\",\"Cloudiness\":90,\"Country\":\"PH\",\"Date\":1528902000,\"Humidity\":100,\"Lat\":14.6,\"Lng\":121.03,\"Max Temp\":77.0,\"Wind Speed\":10.29,\"hash\":-153066361426131194},\"521\":{\"City_ID\":521,\"City\":\"rocha\",\"Cloudiness\":56,\"Country\":\"UY\",\"Date\":1528905597,\"Humidity\":93,\"Lat\":-34.48,\"Lng\":-54.34,\"Max Temp\":49.99,\"Wind Speed\":21.18,\"hash\":4161551547484756693},\"522\":{\"City_ID\":522,\"City\":\"elizabeth city\",\"Cloudiness\":90,\"Country\":\"US\",\"Date\":1528904640,\"Humidity\":83,\"Lat\":36.3,\"Lng\":-76.22,\"Max Temp\":78.8,\"Wind Speed\":12.75,\"hash\":510099740266828238},\"523\":{\"City_ID\":523,\"City\":\"narathiwat\",\"Cloudiness\":75,\"Country\":\"TH\",\"Date\":1528902000,\"Humidity\":83,\"Lat\":6.43,\"Lng\":101.8,\"Max Temp\":82.4,\"Wind Speed\":4.7,\"hash\":2083344734134795047},\"524\":{\"City_ID\":524,\"City\":\"acari\",\"Cloudiness\":0,\"Country\":\"BR\",\"Date\":1528905599,\"Humidity\":48,\"Lat\":-6.44,\"Lng\":-36.64,\"Max Temp\":84.1,\"Wind Speed\":15.26,\"hash\":-4152071637013877665},\"525\":{\"City_ID\":525,\"City\":\"puerto carreno\",\"Cloudiness\":40,\"Country\":\"CO\",\"Date\":1528902000,\"Humidity\":74,\"Lat\":6.19,\"Lng\":-67.49,\"Max Temp\":84.2,\"Wind Speed\":3.36,\"hash\":2364157067032502934},\"526\":{\"City_ID\":526,\"City\":\"troitskiy\",\"Cloudiness\":0,\"Country\":\"RU\",\"Date\":1528903800,\"Humidity\":48,\"Lat\":45.15,\"Lng\":38.14,\"Max Temp\":82.4,\"Wind Speed\":6.71,\"hash\":3748655039065153105},\"527\":{\"City_ID\":527,\"City\":\"dhidhdhoo\",\"Cloudiness\":88,\"Country\":\"MV\",\"Date\":1528905605,\"Humidity\":100,\"Lat\":6.88,\"Lng\":73.1,\"Max Temp\":82.39,\"Wind Speed\":12.24,\"hash\":6106168930291550371},\"528\":{\"City_ID\":528,\"City\":\"santa fe\",\"Cloudiness\":12,\"Country\":\"AR\",\"Date\":1528905642,\"Humidity\":84,\"Lat\":-31.62,\"Lng\":-60.7,\"Max Temp\":47.47,\"Wind Speed\":10.45,\"hash\":6079351339523025009},\"529\":{\"City_ID\":529,\"City\":\"kuytun\",\"Cloudiness\":20,\"Country\":\"RU\",\"Date\":1528905610,\"Humidity\":73,\"Lat\":54.34,\"Lng\":101.51,\"Max Temp\":64.3,\"Wind Speed\":2.62,\"hash\":2507809953133572536},\"530\":{\"City_ID\":530,\"City\":\"evans\",\"Cloudiness\":1,\"Country\":\"US\",\"Date\":1528904100,\"Humidity\":41,\"Lat\":40.38,\"Lng\":-104.69,\"Max Temp\":78.8,\"Wind Speed\":3.36,\"hash\":5958719250420342729},\"531\":{\"City_ID\":531,\"City\":\"sokoni\",\"Cloudiness\":0,\"Country\":\"CD\",\"Date\":1528905646,\"Humidity\":37,\"Lat\":-12.89,\"Lng\":28.78,\"Max Temp\":74.56,\"Wind Speed\":4.07,\"hash\":-1835267309645977618},\"532\":{\"City_ID\":532,\"City\":\"sovetskiy\",\"Cloudiness\":76,\"Country\":\"RU\",\"Date\":1528905619,\"Humidity\":85,\"Lat\":56.76,\"Lng\":48.47,\"Max Temp\":61.33,\"Wind Speed\":14.03,\"hash\":-4616972424198397176},\"533\":{\"City_ID\":533,\"City\":\"pagudpud\",\"Cloudiness\":90,\"Country\":\"PH\",\"Date\":1528902000,\"Humidity\":100,\"Lat\":18.56,\"Lng\":120.79,\"Max Temp\":77.0,\"Wind Speed\":13.87,\"hash\":5959837334798669421},\"534\":{\"City_ID\":534,\"City\":\"southbridge\",\"Cloudiness\":90,\"Country\":\"US\",\"Date\":1528903440,\"Humidity\":82,\"Lat\":42.08,\"Lng\":-72.03,\"Max Temp\":69.8,\"Wind Speed\":19.46,\"hash\":-7683185700745103703},\"535\":{\"City_ID\":535,\"City\":\"brazzaville\",\"Cloudiness\":8,\"Country\":\"CD\",\"Date\":1528902000,\"Humidity\":55,\"Lat\":-4.27,\"Lng\":15.27,\"Max Temp\":86.0,\"Wind Speed\":5.82,\"hash\":5696049273667897715},\"536\":{\"City_ID\":536,\"City\":\"tutoia\",\"Cloudiness\":40,\"Country\":\"BR\",\"Date\":1528902000,\"Humidity\":52,\"Lat\":-2.76,\"Lng\":-42.27,\"Max Temp\":91.4,\"Wind Speed\":8.05,\"hash\":-6214670980844538645},\"537\":{\"City_ID\":537,\"City\":\"harlingen\",\"Cloudiness\":75,\"Country\":\"US\",\"Date\":1528902900,\"Humidity\":62,\"Lat\":26.19,\"Lng\":-97.7,\"Max Temp\":89.6,\"Wind Speed\":10.29,\"hash\":-6059186704498920558},\"538\":{\"City_ID\":538,\"City\":\"calamar\",\"Cloudiness\":92,\"Country\":\"CO\",\"Date\":1528905629,\"Humidity\":100,\"Lat\":1.96,\"Lng\":-72.65,\"Max Temp\":70.87,\"Wind Speed\":2.95,\"hash\":-3234903378196140789},\"539\":{\"City_ID\":539,\"City\":\"road town\",\"Cloudiness\":40,\"Country\":\"VG\",\"Date\":1528905600,\"Humidity\":66,\"Lat\":18.42,\"Lng\":-64.62,\"Max Temp\":87.8,\"Wind Speed\":12.75,\"hash\":-4436133022556841967},\"540\":{\"City_ID\":540,\"City\":\"tabas\",\"Cloudiness\":36,\"Country\":\"IR\",\"Date\":1528905630,\"Humidity\":11,\"Lat\":33.6,\"Lng\":56.92,\"Max Temp\":94.27,\"Wind Speed\":6.98,\"hash\":-2480135052612158263},\"541\":{\"City_ID\":541,\"City\":\"shieli\",\"Cloudiness\":88,\"Country\":\"KZ\",\"Date\":1528905630,\"Humidity\":41,\"Lat\":44.18,\"Lng\":66.74,\"Max Temp\":67.27,\"Wind Speed\":14.81,\"hash\":-4237787203828448556},\"542\":{\"City_ID\":542,\"City\":\"scalea\",\"Cloudiness\":36,\"Country\":\"IT\",\"Date\":1528905631,\"Humidity\":100,\"Lat\":39.82,\"Lng\":15.79,\"Max Temp\":70.06,\"Wind Speed\":5.3,\"hash\":771415348116107666},\"543\":{\"City_ID\":543,\"City\":\"san andres\",\"Cloudiness\":68,\"Country\":\"PH\",\"Date\":1528905632,\"Humidity\":100,\"Lat\":13.32,\"Lng\":122.68,\"Max Temp\":83.47,\"Wind Speed\":22.64,\"hash\":2876186884428814759},\"544\":{\"City_ID\":544,\"City\":\"muisne\",\"Cloudiness\":92,\"Country\":\"EC\",\"Date\":1528905633,\"Humidity\":84,\"Lat\":0.61,\"Lng\":-80.02,\"Max Temp\":76.9,\"Wind Speed\":4.63,\"hash\":-4850487554661253467},\"545\":{\"City_ID\":545,\"City\":\"ati\",\"Cloudiness\":20,\"Country\":\"TD\",\"Date\":1528905633,\"Humidity\":25,\"Lat\":13.21,\"Lng\":18.34,\"Max Temp\":104.53,\"Wind Speed\":4.97,\"hash\":-8475818667095752873},\"546\":{\"City_ID\":546,\"City\":\"san luis\",\"Cloudiness\":0,\"Country\":\"AR\",\"Date\":1528905472,\"Humidity\":53,\"Lat\":-33.3,\"Lng\":-66.34,\"Max Temp\":42.43,\"Wind Speed\":2.62,\"hash\":5647731610009947006},\"547\":{\"City_ID\":546,\"City\":\"san luis\",\"Cloudiness\":0,\"Country\":\"AR\",\"Date\":1528905472,\"Humidity\":53,\"Lat\":-33.3,\"Lng\":-66.34,\"Max Temp\":42.43,\"Wind Speed\":2.62,\"hash\":-5869130011512737210}}'"
      ]
     },
     "execution_count": 11,
     "metadata": {},
     "output_type": "execute_result"
    }
   ],
   "source": [
    "df_nodupe.to_json(path_or_buf=None, orient='index')\n",
    "# Converting dataframe data to json format\n",
    "# https://pandas.pydata.org/pandas-docs/stable/reference/api/pandas.DataFrame.to_json.html"
   ]
  },
  {
   "cell_type": "code",
   "execution_count": 12,
   "metadata": {},
   "outputs": [],
   "source": [
    "json_data = df_nodupe.to_json(orient='index')\n",
    "parsed = json.loads(json_data)\n",
    "# print(json.dumps(parsed, indent=4, sort_keys=True))\n",
    "# Un-comment print to pretty print json formated data"
   ]
  },
  {
   "cell_type": "markdown",
   "metadata": {},
   "source": [
    "#### > Create MongoDB named 'etl_db' with a collection 'etl_data'"
   ]
  },
  {
   "cell_type": "code",
   "execution_count": 13,
   "metadata": {},
   "outputs": [
    {
     "name": "stdout",
     "output_type": "stream",
     "text": [
      "Mongo version 3.9.0\n"
     ]
    }
   ],
   "source": [
    "import pymongo\n",
    "from pymongo import MongoClient\n",
    "client = MongoClient()\n",
    "client = MongoClient('localhost', 27017)\n",
    "client = MongoClient('mongodb://localhost:27017/')\n",
    "print('Mongo version', pymongo.__version__)"
   ]
  },
  {
   "cell_type": "code",
   "execution_count": 14,
   "metadata": {},
   "outputs": [],
   "source": [
    "# Uncomment code to drop existing database before creating new one\n",
    "# client.drop_database('etl_db')"
   ]
  },
  {
   "cell_type": "code",
   "execution_count": 15,
   "metadata": {},
   "outputs": [],
   "source": [
    "db = client['etl_db']\n",
    "# Create database named 'etl_db'\n",
    "\n",
    "db.etl_data.drop() # Drop collection if it already exist\n",
    "\n",
    "collection = db['etl_data']\n",
    "# Create collection called 'etl_data'"
   ]
  },
  {
   "cell_type": "markdown",
   "metadata": {},
   "source": [
    "#### > Load ETL_json_file data"
   ]
  },
  {
   "cell_type": "code",
   "execution_count": 16,
   "metadata": {},
   "outputs": [],
   "source": [
    "with open('ETL_json_file') as f:\n",
    "    file_data = json.load(f)\n",
    "    collection.insert_one(file_data) \n",
    "client.close()\n",
    "# Read json file into mongoDB\n",
    "# https://stackoverflow.com/questions/49510049/how-to-import-json-file-to-mongodb-using-python"
   ]
  },
  {
   "cell_type": "code",
   "execution_count": 17,
   "metadata": {},
   "outputs": [
    {
     "data": {
      "text/plain": [
       "['etl_data']"
      ]
     },
     "execution_count": 17,
     "metadata": {},
     "output_type": "execute_result"
    }
   ],
   "source": [
    "db.list_collection_names()\n",
    "# List collections in database"
   ]
  },
  {
   "cell_type": "code",
   "execution_count": 18,
   "metadata": {},
   "outputs": [
    {
     "data": {
      "text/plain": [
       "<pymongo.cursor.Cursor at 0x2b22fe8aac8>"
      ]
     },
     "execution_count": 18,
     "metadata": {},
     "output_type": "execute_result"
    }
   ],
   "source": [
    "db.etl_data.find( { 0: {} } )\n"
   ]
  },
  {
   "cell_type": "code",
   "execution_count": 19,
   "metadata": {
    "scrolled": false
   },
   "outputs": [],
   "source": [
    "# cursor = db.etl_data # selecting the etl_data collection\n",
    "# for document in cursor.find():\n",
    "#    print (document)\n",
    "# Printing the content of the collection LARGE PRINTOUT"
   ]
  },
  {
   "cell_type": "markdown",
   "metadata": {},
   "source": [
    "#### > Reading content of database and loading it into a dataframe"
   ]
  },
  {
   "cell_type": "code",
   "execution_count": 20,
   "metadata": {},
   "outputs": [],
   "source": [
    "extracted_etl_data = db.etl_data\n",
    "df = pd.DataFrame(list(extracted_etl_data.find()))\n",
    "# https://stackoverflow.com/questions/16249736/how-to-import-data-from-mongodb-to-pandas"
   ]
  },
  {
   "cell_type": "code",
   "execution_count": 21,
   "metadata": {},
   "outputs": [
    {
     "data": {
      "text/html": [
       "<div>\n",
       "<style scoped>\n",
       "    .dataframe tbody tr th:only-of-type {\n",
       "        vertical-align: middle;\n",
       "    }\n",
       "\n",
       "    .dataframe tbody tr th {\n",
       "        vertical-align: top;\n",
       "    }\n",
       "\n",
       "    .dataframe thead th {\n",
       "        text-align: right;\n",
       "    }\n",
       "</style>\n",
       "<table border=\"1\" class=\"dataframe\">\n",
       "  <thead>\n",
       "    <tr style=\"text-align: right;\">\n",
       "      <th></th>\n",
       "      <th>0</th>\n",
       "      <th>1</th>\n",
       "      <th>10</th>\n",
       "      <th>100</th>\n",
       "      <th>101</th>\n",
       "      <th>102</th>\n",
       "      <th>103</th>\n",
       "      <th>104</th>\n",
       "      <th>105</th>\n",
       "      <th>106</th>\n",
       "      <th>...</th>\n",
       "      <th>91</th>\n",
       "      <th>92</th>\n",
       "      <th>93</th>\n",
       "      <th>94</th>\n",
       "      <th>95</th>\n",
       "      <th>96</th>\n",
       "      <th>97</th>\n",
       "      <th>98</th>\n",
       "      <th>99</th>\n",
       "      <th>_id</th>\n",
       "    </tr>\n",
       "  </thead>\n",
       "  <tbody>\n",
       "    <tr>\n",
       "      <th>0</th>\n",
       "      <td>{'City_ID': 0, 'City': 'jacareacanga', 'Cloudi...</td>\n",
       "      <td>{'City_ID': 1, 'City': 'kaitangata', 'Cloudine...</td>\n",
       "      <td>{'City_ID': 10, 'City': 'puerto ayora', 'Cloud...</td>\n",
       "      <td>{'City_ID': 100, 'City': 'auchel', 'Cloudiness...</td>\n",
       "      <td>{'City_ID': 101, 'City': 'bubaque', 'Cloudines...</td>\n",
       "      <td>{'City_ID': 102, 'City': 'khatanga', 'Cloudine...</td>\n",
       "      <td>{'City_ID': 103, 'City': 'los banos', 'Cloudin...</td>\n",
       "      <td>{'City_ID': 104, 'City': 'labuhan', 'Cloudines...</td>\n",
       "      <td>{'City_ID': 105, 'City': 'saint-paul', 'Cloudi...</td>\n",
       "      <td>{'City_ID': 106, 'City': 'petatlan', 'Cloudine...</td>\n",
       "      <td>...</td>\n",
       "      <td>{'City_ID': 91, 'City': 'mataura', 'Cloudiness...</td>\n",
       "      <td>{'City_ID': 92, 'City': 'buala', 'Cloudiness':...</td>\n",
       "      <td>{'City_ID': 93, 'City': 'eyl', 'Cloudiness': 2...</td>\n",
       "      <td>{'City_ID': 94, 'City': 'abu dhabi', 'Cloudine...</td>\n",
       "      <td>{'City_ID': 95, 'City': 'tahe', 'Cloudiness': ...</td>\n",
       "      <td>{'City_ID': 96, 'City': 'chuy', 'Cloudiness': ...</td>\n",
       "      <td>{'City_ID': 97, 'City': 'dzerzhinskoye', 'Clou...</td>\n",
       "      <td>{'City_ID': 98, 'City': 'vanavara', 'Cloudines...</td>\n",
       "      <td>{'City_ID': 99, 'City': 'muros', 'Cloudiness':...</td>\n",
       "      <td>5d71c1360a1d8c971157e421</td>\n",
       "    </tr>\n",
       "  </tbody>\n",
       "</table>\n",
       "<p>1 rows × 549 columns</p>\n",
       "</div>"
      ],
      "text/plain": [
       "                                                   0  \\\n",
       "0  {'City_ID': 0, 'City': 'jacareacanga', 'Cloudi...   \n",
       "\n",
       "                                                   1  \\\n",
       "0  {'City_ID': 1, 'City': 'kaitangata', 'Cloudine...   \n",
       "\n",
       "                                                  10  \\\n",
       "0  {'City_ID': 10, 'City': 'puerto ayora', 'Cloud...   \n",
       "\n",
       "                                                 100  \\\n",
       "0  {'City_ID': 100, 'City': 'auchel', 'Cloudiness...   \n",
       "\n",
       "                                                 101  \\\n",
       "0  {'City_ID': 101, 'City': 'bubaque', 'Cloudines...   \n",
       "\n",
       "                                                 102  \\\n",
       "0  {'City_ID': 102, 'City': 'khatanga', 'Cloudine...   \n",
       "\n",
       "                                                 103  \\\n",
       "0  {'City_ID': 103, 'City': 'los banos', 'Cloudin...   \n",
       "\n",
       "                                                 104  \\\n",
       "0  {'City_ID': 104, 'City': 'labuhan', 'Cloudines...   \n",
       "\n",
       "                                                 105  \\\n",
       "0  {'City_ID': 105, 'City': 'saint-paul', 'Cloudi...   \n",
       "\n",
       "                                                 106  ...  \\\n",
       "0  {'City_ID': 106, 'City': 'petatlan', 'Cloudine...  ...   \n",
       "\n",
       "                                                  91  \\\n",
       "0  {'City_ID': 91, 'City': 'mataura', 'Cloudiness...   \n",
       "\n",
       "                                                  92  \\\n",
       "0  {'City_ID': 92, 'City': 'buala', 'Cloudiness':...   \n",
       "\n",
       "                                                  93  \\\n",
       "0  {'City_ID': 93, 'City': 'eyl', 'Cloudiness': 2...   \n",
       "\n",
       "                                                  94  \\\n",
       "0  {'City_ID': 94, 'City': 'abu dhabi', 'Cloudine...   \n",
       "\n",
       "                                                  95  \\\n",
       "0  {'City_ID': 95, 'City': 'tahe', 'Cloudiness': ...   \n",
       "\n",
       "                                                  96  \\\n",
       "0  {'City_ID': 96, 'City': 'chuy', 'Cloudiness': ...   \n",
       "\n",
       "                                                  97  \\\n",
       "0  {'City_ID': 97, 'City': 'dzerzhinskoye', 'Clou...   \n",
       "\n",
       "                                                  98  \\\n",
       "0  {'City_ID': 98, 'City': 'vanavara', 'Cloudines...   \n",
       "\n",
       "                                                  99                       _id  \n",
       "0  {'City_ID': 99, 'City': 'muros', 'Cloudiness':...  5d71c1360a1d8c971157e421  \n",
       "\n",
       "[1 rows x 549 columns]"
      ]
     },
     "execution_count": 21,
     "metadata": {},
     "output_type": "execute_result"
    }
   ],
   "source": [
    "df"
   ]
  },
  {
   "cell_type": "code",
   "execution_count": 22,
   "metadata": {},
   "outputs": [],
   "source": [
    "df = df.melt()"
   ]
  },
  {
   "cell_type": "code",
   "execution_count": 23,
   "metadata": {},
   "outputs": [
    {
     "data": {
      "text/html": [
       "<div>\n",
       "<style scoped>\n",
       "    .dataframe tbody tr th:only-of-type {\n",
       "        vertical-align: middle;\n",
       "    }\n",
       "\n",
       "    .dataframe tbody tr th {\n",
       "        vertical-align: top;\n",
       "    }\n",
       "\n",
       "    .dataframe thead th {\n",
       "        text-align: right;\n",
       "    }\n",
       "</style>\n",
       "<table border=\"1\" class=\"dataframe\">\n",
       "  <thead>\n",
       "    <tr style=\"text-align: right;\">\n",
       "      <th></th>\n",
       "      <th>variable</th>\n",
       "      <th>value</th>\n",
       "    </tr>\n",
       "  </thead>\n",
       "  <tbody>\n",
       "    <tr>\n",
       "      <th>0</th>\n",
       "      <td>0</td>\n",
       "      <td>{'City_ID': 0, 'City': 'jacareacanga', 'Cloudi...</td>\n",
       "    </tr>\n",
       "    <tr>\n",
       "      <th>1</th>\n",
       "      <td>1</td>\n",
       "      <td>{'City_ID': 1, 'City': 'kaitangata', 'Cloudine...</td>\n",
       "    </tr>\n",
       "    <tr>\n",
       "      <th>2</th>\n",
       "      <td>10</td>\n",
       "      <td>{'City_ID': 10, 'City': 'puerto ayora', 'Cloud...</td>\n",
       "    </tr>\n",
       "    <tr>\n",
       "      <th>3</th>\n",
       "      <td>100</td>\n",
       "      <td>{'City_ID': 100, 'City': 'auchel', 'Cloudiness...</td>\n",
       "    </tr>\n",
       "    <tr>\n",
       "      <th>4</th>\n",
       "      <td>101</td>\n",
       "      <td>{'City_ID': 101, 'City': 'bubaque', 'Cloudines...</td>\n",
       "    </tr>\n",
       "  </tbody>\n",
       "</table>\n",
       "</div>"
      ],
      "text/plain": [
       "  variable                                              value\n",
       "0        0  {'City_ID': 0, 'City': 'jacareacanga', 'Cloudi...\n",
       "1        1  {'City_ID': 1, 'City': 'kaitangata', 'Cloudine...\n",
       "2       10  {'City_ID': 10, 'City': 'puerto ayora', 'Cloud...\n",
       "3      100  {'City_ID': 100, 'City': 'auchel', 'Cloudiness...\n",
       "4      101  {'City_ID': 101, 'City': 'bubaque', 'Cloudines..."
      ]
     },
     "execution_count": 23,
     "metadata": {},
     "output_type": "execute_result"
    }
   ],
   "source": [
    "df.head()"
   ]
  },
  {
   "cell_type": "code",
   "execution_count": 24,
   "metadata": {},
   "outputs": [
    {
     "data": {
      "text/plain": [
       "549"
      ]
     },
     "execution_count": 24,
     "metadata": {},
     "output_type": "execute_result"
    }
   ],
   "source": [
    "len(df)"
   ]
  },
  {
   "cell_type": "code",
   "execution_count": 25,
   "metadata": {
    "scrolled": false
   },
   "outputs": [
    {
     "data": {
      "text/plain": [
       "{'City_ID': 0,\n",
       " 'City': 'jacareacanga',\n",
       " 'Cloudiness': 0,\n",
       " 'Country': 'BR',\n",
       " 'Date': 1528902000,\n",
       " 'Humidity': 62,\n",
       " 'Lat': -6.22,\n",
       " 'Lng': -57.76,\n",
       " 'Max Temp': 89.6,\n",
       " 'Wind Speed': 6.93,\n",
       " 'hash': -3010865062464850435}"
      ]
     },
     "execution_count": 25,
     "metadata": {},
     "output_type": "execute_result"
    }
   ],
   "source": [
    "df.iloc[0][1]\n",
    "# Showing content of first row 'value'"
   ]
  },
  {
   "cell_type": "markdown",
   "metadata": {},
   "source": [
    "#### > CSV Move script - moves .csv files after being ETL processed"
   ]
  },
  {
   "cell_type": "code",
   "execution_count": 26,
   "metadata": {},
   "outputs": [],
   "source": [
    "import shutil, os, glob"
   ]
  },
  {
   "cell_type": "code",
   "execution_count": 27,
   "metadata": {},
   "outputs": [],
   "source": [
    "#For Loop moving all .csv files from the test_input folder \n",
    "for filePath in glob.glob('test_input' + '\\*.csv'):\n",
    "            #Move each file to the destination directory\n",
    "        shutil.move(filePath, 'test_processed');\n",
    "# Move all files that have been ETL'ed into a processed folder\n",
    "#Source Code           \n",
    "#https://thispointer.com/python-how-to-move-files-and-directories/"
   ]
  },
  {
   "cell_type": "code",
   "execution_count": null,
   "metadata": {},
   "outputs": [],
   "source": []
  }
 ],
 "metadata": {
  "kernelspec": {
   "display_name": "Python 3",
   "language": "python",
   "name": "python3"
  },
  "language_info": {
   "codemirror_mode": {
    "name": "ipython",
    "version": 3
   },
   "file_extension": ".py",
   "mimetype": "text/x-python",
   "name": "python",
   "nbconvert_exporter": "python",
   "pygments_lexer": "ipython3",
   "version": "3.7.3"
  }
 },
 "nbformat": 4,
 "nbformat_minor": 2
}
