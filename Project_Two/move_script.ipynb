{
 "cells": [
  {
   "cell_type": "code",
   "execution_count": 2,
   "metadata": {},
   "outputs": [],
   "source": [
    "import shutil, os, glob"
   ]
  },
  {
   "cell_type": "code",
   "execution_count": null,
   "metadata": {},
   "outputs": [],
   "source": [
    "srcDir=\n",
    "dstDir="
   ]
  },
  {
   "cell_type": "code",
   "execution_count": null,
   "metadata": {},
   "outputs": [],
   "source": [
    "def moveALLFILESinDIR():\n",
    "     #Check if both directories exist\n",
    "    if os.path.isdir(srcDir) and os.path.isdir(dstDir):\n",
    "    #Iterate all source files in directory\n",
    "        for filePath in glob.glob(srcDir + '\\*'):\n",
    "            #Move each file to the destination directory\n",
    "            shutil.move(filePath, dstDir);\n",
    "            \n",
    "            \n",
    "    else:\n",
    "        print(\"srcDir & dstDir should be directories\")\n",
    "        \n",
    "    \n",
    "    "
   ]
  }
 ],
 "metadata": {
  "kernelspec": {
   "display_name": "Python 3",
   "language": "python",
   "name": "python3"
  },
  "language_info": {
   "codemirror_mode": {
    "name": "ipython",
    "version": 3
   },
   "file_extension": ".py",
   "mimetype": "text/x-python",
   "name": "python",
   "nbconvert_exporter": "python",
   "pygments_lexer": "ipython3",
   "version": "3.7.3"
  }
 },
 "nbformat": 4,
 "nbformat_minor": 2
}
