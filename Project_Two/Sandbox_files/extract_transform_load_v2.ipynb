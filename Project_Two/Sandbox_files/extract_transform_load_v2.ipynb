{
 "cells": [
  {
   "cell_type": "code",
   "execution_count": 1,
   "metadata": {},
   "outputs": [],
   "source": [
    "import pandas as pd\n",
    "import glob"
   ]
  },
  {
   "cell_type": "markdown",
   "metadata": {},
   "source": [
    "## Extract"
   ]
  },
  {
   "cell_type": "code",
   "execution_count": 2,
   "metadata": {},
   "outputs": [],
   "source": [
    "df = pd.concat(map(pd.read_csv, glob.glob('test_input' + '\\*.csv')))\n",
    "#Extract All source code\n",
    "#https://stackoverflow.com/questions/20906474/import-multiple-csv-files-into-pandas-and-concatenate-into-one-dataframe"
   ]
  },
  {
   "cell_type": "code",
   "execution_count": 3,
   "metadata": {
    "scrolled": true
   },
   "outputs": [
    {
     "data": {
      "text/html": [
       "<div>\n",
       "<style scoped>\n",
       "    .dataframe tbody tr th:only-of-type {\n",
       "        vertical-align: middle;\n",
       "    }\n",
       "\n",
       "    .dataframe tbody tr th {\n",
       "        vertical-align: top;\n",
       "    }\n",
       "\n",
       "    .dataframe thead th {\n",
       "        text-align: right;\n",
       "    }\n",
       "</style>\n",
       "<table border=\"1\" class=\"dataframe\">\n",
       "  <thead>\n",
       "    <tr style=\"text-align: right;\">\n",
       "      <th></th>\n",
       "      <th>City_ID</th>\n",
       "      <th>City</th>\n",
       "      <th>Cloudiness</th>\n",
       "      <th>Country</th>\n",
       "      <th>Date</th>\n",
       "      <th>Humidity</th>\n",
       "      <th>Lat</th>\n",
       "      <th>Lng</th>\n",
       "      <th>Max Temp</th>\n",
       "      <th>Wind Speed</th>\n",
       "    </tr>\n",
       "  </thead>\n",
       "  <tbody>\n",
       "    <tr>\n",
       "      <th>0</th>\n",
       "      <td>0</td>\n",
       "      <td>jacareacanga</td>\n",
       "      <td>0</td>\n",
       "      <td>BR</td>\n",
       "      <td>1528902000</td>\n",
       "      <td>62</td>\n",
       "      <td>-6.22</td>\n",
       "      <td>-57.76</td>\n",
       "      <td>89.60</td>\n",
       "      <td>6.93</td>\n",
       "    </tr>\n",
       "    <tr>\n",
       "      <th>1</th>\n",
       "      <td>1</td>\n",
       "      <td>kaitangata</td>\n",
       "      <td>100</td>\n",
       "      <td>NZ</td>\n",
       "      <td>1528905304</td>\n",
       "      <td>94</td>\n",
       "      <td>-46.28</td>\n",
       "      <td>169.85</td>\n",
       "      <td>42.61</td>\n",
       "      <td>5.64</td>\n",
       "    </tr>\n",
       "    <tr>\n",
       "      <th>2</th>\n",
       "      <td>2</td>\n",
       "      <td>goulburn</td>\n",
       "      <td>20</td>\n",
       "      <td>AU</td>\n",
       "      <td>1528905078</td>\n",
       "      <td>91</td>\n",
       "      <td>-34.75</td>\n",
       "      <td>149.72</td>\n",
       "      <td>44.32</td>\n",
       "      <td>10.11</td>\n",
       "    </tr>\n",
       "    <tr>\n",
       "      <th>3</th>\n",
       "      <td>3</td>\n",
       "      <td>lata</td>\n",
       "      <td>76</td>\n",
       "      <td>IN</td>\n",
       "      <td>1528905305</td>\n",
       "      <td>89</td>\n",
       "      <td>30.78</td>\n",
       "      <td>78.62</td>\n",
       "      <td>59.89</td>\n",
       "      <td>0.94</td>\n",
       "    </tr>\n",
       "    <tr>\n",
       "      <th>4</th>\n",
       "      <td>4</td>\n",
       "      <td>chokurdakh</td>\n",
       "      <td>0</td>\n",
       "      <td>RU</td>\n",
       "      <td>1528905306</td>\n",
       "      <td>88</td>\n",
       "      <td>70.62</td>\n",
       "      <td>147.90</td>\n",
       "      <td>32.17</td>\n",
       "      <td>2.95</td>\n",
       "    </tr>\n",
       "  </tbody>\n",
       "</table>\n",
       "</div>"
      ],
      "text/plain": [
       "   City_ID          City  Cloudiness Country        Date  Humidity    Lat  \\\n",
       "0        0  jacareacanga           0      BR  1528902000        62  -6.22   \n",
       "1        1    kaitangata         100      NZ  1528905304        94 -46.28   \n",
       "2        2      goulburn          20      AU  1528905078        91 -34.75   \n",
       "3        3          lata          76      IN  1528905305        89  30.78   \n",
       "4        4    chokurdakh           0      RU  1528905306        88  70.62   \n",
       "\n",
       "      Lng  Max Temp  Wind Speed  \n",
       "0  -57.76     89.60        6.93  \n",
       "1  169.85     42.61        5.64  \n",
       "2  149.72     44.32       10.11  \n",
       "3   78.62     59.89        0.94  \n",
       "4  147.90     32.17        2.95  "
      ]
     },
     "execution_count": 3,
     "metadata": {},
     "output_type": "execute_result"
    }
   ],
   "source": [
    "df.head()"
   ]
  },
  {
   "cell_type": "code",
   "execution_count": 4,
   "metadata": {},
   "outputs": [
    {
     "data": {
      "text/plain": [
       "1095"
      ]
     },
     "execution_count": 4,
     "metadata": {},
     "output_type": "execute_result"
    }
   ],
   "source": [
    "len(df)"
   ]
  },
  {
   "cell_type": "markdown",
   "metadata": {},
   "source": [
    "## Transform"
   ]
  },
  {
   "cell_type": "code",
   "execution_count": 5,
   "metadata": {},
   "outputs": [
    {
     "data": {
      "text/html": [
       "<div>\n",
       "<style scoped>\n",
       "    .dataframe tbody tr th:only-of-type {\n",
       "        vertical-align: middle;\n",
       "    }\n",
       "\n",
       "    .dataframe tbody tr th {\n",
       "        vertical-align: top;\n",
       "    }\n",
       "\n",
       "    .dataframe thead th {\n",
       "        text-align: right;\n",
       "    }\n",
       "</style>\n",
       "<table border=\"1\" class=\"dataframe\">\n",
       "  <thead>\n",
       "    <tr style=\"text-align: right;\">\n",
       "      <th></th>\n",
       "      <th>City_ID</th>\n",
       "      <th>City</th>\n",
       "      <th>Cloudiness</th>\n",
       "      <th>Country</th>\n",
       "      <th>Date</th>\n",
       "      <th>Humidity</th>\n",
       "      <th>Lat</th>\n",
       "      <th>Lng</th>\n",
       "      <th>Max Temp</th>\n",
       "      <th>Wind Speed</th>\n",
       "      <th>hash</th>\n",
       "    </tr>\n",
       "  </thead>\n",
       "  <tbody>\n",
       "    <tr>\n",
       "      <th>0</th>\n",
       "      <td>0</td>\n",
       "      <td>jacareacanga</td>\n",
       "      <td>0</td>\n",
       "      <td>BR</td>\n",
       "      <td>1528902000</td>\n",
       "      <td>62</td>\n",
       "      <td>-6.22</td>\n",
       "      <td>-57.76</td>\n",
       "      <td>89.60</td>\n",
       "      <td>6.93</td>\n",
       "      <td>-3010865062464850435</td>\n",
       "    </tr>\n",
       "    <tr>\n",
       "      <th>1</th>\n",
       "      <td>1</td>\n",
       "      <td>kaitangata</td>\n",
       "      <td>100</td>\n",
       "      <td>NZ</td>\n",
       "      <td>1528905304</td>\n",
       "      <td>94</td>\n",
       "      <td>-46.28</td>\n",
       "      <td>169.85</td>\n",
       "      <td>42.61</td>\n",
       "      <td>5.64</td>\n",
       "      <td>-2354400514851636426</td>\n",
       "    </tr>\n",
       "    <tr>\n",
       "      <th>2</th>\n",
       "      <td>2</td>\n",
       "      <td>goulburn</td>\n",
       "      <td>20</td>\n",
       "      <td>AU</td>\n",
       "      <td>1528905078</td>\n",
       "      <td>91</td>\n",
       "      <td>-34.75</td>\n",
       "      <td>149.72</td>\n",
       "      <td>44.32</td>\n",
       "      <td>10.11</td>\n",
       "      <td>-2028459916823490890</td>\n",
       "    </tr>\n",
       "    <tr>\n",
       "      <th>3</th>\n",
       "      <td>3</td>\n",
       "      <td>lata</td>\n",
       "      <td>76</td>\n",
       "      <td>IN</td>\n",
       "      <td>1528905305</td>\n",
       "      <td>89</td>\n",
       "      <td>30.78</td>\n",
       "      <td>78.62</td>\n",
       "      <td>59.89</td>\n",
       "      <td>0.94</td>\n",
       "      <td>1629684874738633503</td>\n",
       "    </tr>\n",
       "    <tr>\n",
       "      <th>4</th>\n",
       "      <td>4</td>\n",
       "      <td>chokurdakh</td>\n",
       "      <td>0</td>\n",
       "      <td>RU</td>\n",
       "      <td>1528905306</td>\n",
       "      <td>88</td>\n",
       "      <td>70.62</td>\n",
       "      <td>147.90</td>\n",
       "      <td>32.17</td>\n",
       "      <td>2.95</td>\n",
       "      <td>7863629891363620698</td>\n",
       "    </tr>\n",
       "  </tbody>\n",
       "</table>\n",
       "</div>"
      ],
      "text/plain": [
       "   City_ID          City  Cloudiness Country        Date  Humidity    Lat  \\\n",
       "0        0  jacareacanga           0      BR  1528902000        62  -6.22   \n",
       "1        1    kaitangata         100      NZ  1528905304        94 -46.28   \n",
       "2        2      goulburn          20      AU  1528905078        91 -34.75   \n",
       "3        3          lata          76      IN  1528905305        89  30.78   \n",
       "4        4    chokurdakh           0      RU  1528905306        88  70.62   \n",
       "\n",
       "      Lng  Max Temp  Wind Speed                 hash  \n",
       "0  -57.76     89.60        6.93 -3010865062464850435  \n",
       "1  169.85     42.61        5.64 -2354400514851636426  \n",
       "2  149.72     44.32       10.11 -2028459916823490890  \n",
       "3   78.62     59.89        0.94  1629684874738633503  \n",
       "4  147.90     32.17        2.95  7863629891363620698  "
      ]
     },
     "execution_count": 5,
     "metadata": {},
     "output_type": "execute_result"
    }
   ],
   "source": [
    "df['hash'] = pd.Series((hash(tuple(row)) for _, row in df.iterrows()))\n",
    "#Hash Code\n",
    "#https://stackoverflow.com/questions/25757042/create-hash-value-for-each-row-of-data-with-selected-columns-in-dataframe-in-pyt\n",
    "df.head()"
   ]
  },
  {
   "cell_type": "code",
   "execution_count": 6,
   "metadata": {},
   "outputs": [
    {
     "data": {
      "text/plain": [
       "1095"
      ]
     },
     "execution_count": 6,
     "metadata": {},
     "output_type": "execute_result"
    }
   ],
   "source": [
    "len(df)"
   ]
  },
  {
   "cell_type": "code",
   "execution_count": 7,
   "metadata": {},
   "outputs": [],
   "source": [
    "df_nodupe = df[~df.duplicated()]\n",
    "#Dedupe code source\n",
    "#https://stackoverflow.com/questions/40438237/assign-hash-to-row-of-categorical-data-in-pandas"
   ]
  },
  {
   "cell_type": "code",
   "execution_count": 8,
   "metadata": {
    "scrolled": true
   },
   "outputs": [
    {
     "data": {
      "text/html": [
       "<div>\n",
       "<style scoped>\n",
       "    .dataframe tbody tr th:only-of-type {\n",
       "        vertical-align: middle;\n",
       "    }\n",
       "\n",
       "    .dataframe tbody tr th {\n",
       "        vertical-align: top;\n",
       "    }\n",
       "\n",
       "    .dataframe thead th {\n",
       "        text-align: right;\n",
       "    }\n",
       "</style>\n",
       "<table border=\"1\" class=\"dataframe\">\n",
       "  <thead>\n",
       "    <tr style=\"text-align: right;\">\n",
       "      <th></th>\n",
       "      <th>City_ID</th>\n",
       "      <th>City</th>\n",
       "      <th>Cloudiness</th>\n",
       "      <th>Country</th>\n",
       "      <th>Date</th>\n",
       "      <th>Humidity</th>\n",
       "      <th>Lat</th>\n",
       "      <th>Lng</th>\n",
       "      <th>Max Temp</th>\n",
       "      <th>Wind Speed</th>\n",
       "      <th>hash</th>\n",
       "    </tr>\n",
       "  </thead>\n",
       "  <tbody>\n",
       "    <tr>\n",
       "      <th>0</th>\n",
       "      <td>0</td>\n",
       "      <td>jacareacanga</td>\n",
       "      <td>0</td>\n",
       "      <td>BR</td>\n",
       "      <td>1528902000</td>\n",
       "      <td>62</td>\n",
       "      <td>-6.22</td>\n",
       "      <td>-57.76</td>\n",
       "      <td>89.60</td>\n",
       "      <td>6.93</td>\n",
       "      <td>-3010865062464850435</td>\n",
       "    </tr>\n",
       "    <tr>\n",
       "      <th>1</th>\n",
       "      <td>1</td>\n",
       "      <td>kaitangata</td>\n",
       "      <td>100</td>\n",
       "      <td>NZ</td>\n",
       "      <td>1528905304</td>\n",
       "      <td>94</td>\n",
       "      <td>-46.28</td>\n",
       "      <td>169.85</td>\n",
       "      <td>42.61</td>\n",
       "      <td>5.64</td>\n",
       "      <td>-2354400514851636426</td>\n",
       "    </tr>\n",
       "    <tr>\n",
       "      <th>2</th>\n",
       "      <td>2</td>\n",
       "      <td>goulburn</td>\n",
       "      <td>20</td>\n",
       "      <td>AU</td>\n",
       "      <td>1528905078</td>\n",
       "      <td>91</td>\n",
       "      <td>-34.75</td>\n",
       "      <td>149.72</td>\n",
       "      <td>44.32</td>\n",
       "      <td>10.11</td>\n",
       "      <td>-2028459916823490890</td>\n",
       "    </tr>\n",
       "    <tr>\n",
       "      <th>3</th>\n",
       "      <td>3</td>\n",
       "      <td>lata</td>\n",
       "      <td>76</td>\n",
       "      <td>IN</td>\n",
       "      <td>1528905305</td>\n",
       "      <td>89</td>\n",
       "      <td>30.78</td>\n",
       "      <td>78.62</td>\n",
       "      <td>59.89</td>\n",
       "      <td>0.94</td>\n",
       "      <td>1629684874738633503</td>\n",
       "    </tr>\n",
       "    <tr>\n",
       "      <th>4</th>\n",
       "      <td>4</td>\n",
       "      <td>chokurdakh</td>\n",
       "      <td>0</td>\n",
       "      <td>RU</td>\n",
       "      <td>1528905306</td>\n",
       "      <td>88</td>\n",
       "      <td>70.62</td>\n",
       "      <td>147.90</td>\n",
       "      <td>32.17</td>\n",
       "      <td>2.95</td>\n",
       "      <td>7863629891363620698</td>\n",
       "    </tr>\n",
       "  </tbody>\n",
       "</table>\n",
       "</div>"
      ],
      "text/plain": [
       "   City_ID          City  Cloudiness Country        Date  Humidity    Lat  \\\n",
       "0        0  jacareacanga           0      BR  1528902000        62  -6.22   \n",
       "1        1    kaitangata         100      NZ  1528905304        94 -46.28   \n",
       "2        2      goulburn          20      AU  1528905078        91 -34.75   \n",
       "3        3          lata          76      IN  1528905305        89  30.78   \n",
       "4        4    chokurdakh           0      RU  1528905306        88  70.62   \n",
       "\n",
       "      Lng  Max Temp  Wind Speed                 hash  \n",
       "0  -57.76     89.60        6.93 -3010865062464850435  \n",
       "1  169.85     42.61        5.64 -2354400514851636426  \n",
       "2  149.72     44.32       10.11 -2028459916823490890  \n",
       "3   78.62     59.89        0.94  1629684874738633503  \n",
       "4  147.90     32.17        2.95  7863629891363620698  "
      ]
     },
     "execution_count": 8,
     "metadata": {},
     "output_type": "execute_result"
    }
   ],
   "source": [
    "df_nodupe.head()"
   ]
  },
  {
   "cell_type": "code",
   "execution_count": 9,
   "metadata": {},
   "outputs": [
    {
     "data": {
      "text/plain": [
       "548"
      ]
     },
     "execution_count": 9,
     "metadata": {},
     "output_type": "execute_result"
    }
   ],
   "source": [
    "len(df_nodupe)"
   ]
  },
  {
   "cell_type": "markdown",
   "metadata": {},
   "source": [
    "## Load"
   ]
  },
  {
   "cell_type": "markdown",
   "metadata": {},
   "source": [
    "#### > Convert DataFrame to json formatted file"
   ]
  },
  {
   "cell_type": "code",
   "execution_count": 28,
   "metadata": {},
   "outputs": [],
   "source": [
    "import json"
   ]
  },
  {
   "cell_type": "code",
   "execution_count": 29,
   "metadata": {},
   "outputs": [
    {
     "data": {
      "text/plain": [
       "'{\"0\":{\"City_ID\":0,\"City\":\"jacareacanga\",\"Cloudiness\":0,\"Country\":\"BR\",\"Date\":1528902000,\"Humidity\":62,\"Lat\":-6.22,\"Lng\":-57.76,\"Max Temp\":89.6,\"Wind Speed\":6.93,\"hash\":-3010865062464850435},\"1\":{\"City_ID\":1,\"City\":\"kaitangata\",\"Cloudiness\":100,\"Country\":\"NZ\",\"Date\":1528905304,\"Humidity\":94,\"Lat\":-46.28,\"Lng\":169.85,\"Max Temp\":42.61,\"Wind Speed\":5.64,\"hash\":-2354400514851636426},\"2\":{\"City_ID\":2,\"City\":\"goulburn\",\"Cloudiness\":20,\"Country\":\"AU\",\"Date\":1528905078,\"Humidity\":91,\"Lat\":-34.75,\"Lng\":149.72,\"Max Temp\":44.32,\"Wind Speed\":10.11,\"hash\":-2028459916823490890},\"3\":{\"City_ID\":3,\"City\":\"lata\",\"Cloudiness\":76,\"Country\":\"IN\",\"Date\":1528905305,\"Humidity\":89,\"Lat\":30.78,\"Lng\":78.62,\"Max Temp\":59.89,\"Wind Speed\":0.94,\"hash\":1629684874738633503},\"4\":{\"City_ID\":4,\"City\":\"chokurdakh\",\"Cloudiness\":0,\"Country\":\"RU\",\"Date\":1528905306,\"Humidity\":88,\"Lat\":70.62,\"Lng\":147.9,\"Max Temp\":32.17,\"Wind Speed\":2.95,\"hash\":7863629891363620698},\"5\":{\"City_ID\":5,\"City\":\"martyush\",\"Cloudiness\":92,\"Country\":\"RU\",\"Date\":1528905306,\"Humidity\":94,\"Lat\":56.4,\"Lng\":61.89,\"Max Temp\":55.03,\"Wind Speed\":9.33,\"hash\":-2278166207422481426},\"6\":{\"City_ID\":6,\"City\":\"hobart\",\"Cloudiness\":20,\"Country\":\"AU\",\"Date\":1528902000,\"Humidity\":87,\"Lat\":-42.88,\"Lng\":147.33,\"Max Temp\":44.6,\"Wind Speed\":8.05,\"hash\":2116103848931815328},\"7\":{\"City_ID\":7,\"City\":\"broken hill\",\"Cloudiness\":0,\"Country\":\"AU\",\"Date\":1528905311,\"Humidity\":88,\"Lat\":-31.97,\"Lng\":141.45,\"Max Temp\":44.5,\"Wind Speed\":7.31,\"hash\":7420896607141266611},\"8\":{\"City_ID\":8,\"City\":\"harnosand\",\"Cloudiness\":0,\"Country\":\"SE\",\"Date\":1528903200,\"Humidity\":44,\"Lat\":62.63,\"Lng\":17.94,\"Max Temp\":60.8,\"Wind Speed\":13.87,\"hash\":-2711640016140213420},\"9\":{\"City_ID\":9,\"City\":\"tuatapere\",\"Cloudiness\":0,\"Country\":\"NZ\",\"Date\":1528905312,\"Humidity\":100,\"Lat\":-46.13,\"Lng\":167.69,\"Max Temp\":38.92,\"Wind Speed\":3.4,\"hash\":-5700945669018545918},\"10\":{\"City_ID\":10,\"City\":\"puerto ayora\",\"Cloudiness\":90,\"Country\":\"EC\",\"Date\":1528902000,\"Humidity\":69,\"Lat\":-0.74,\"Lng\":-90.35,\"Max Temp\":77.0,\"Wind Speed\":13.87,\"hash\":-5011123148378099235},\"11\":{\"City_ID\":11,\"City\":\"havre-saint-pierre\",\"Cloudiness\":75,\"Country\":\"CA\",\"Date\":1528902000,\"Humidity\":58,\"Lat\":50.23,\"Lng\":-63.6,\"Max Temp\":53.6,\"Wind Speed\":19.46,\"hash\":7866671032826119859},\"12\":{\"City_ID\":12,\"City\":\"punta arenas\",\"Cloudiness\":0,\"Country\":\"CL\",\"Date\":1528902000,\"Humidity\":100,\"Lat\":-53.16,\"Lng\":-70.91,\"Max Temp\":35.6,\"Wind Speed\":9.17,\"hash\":4802856624512832026},\"13\":{\"City_ID\":13,\"City\":\"tasiilaq\",\"Cloudiness\":75,\"Country\":\"GL\",\"Date\":1528901400,\"Humidity\":60,\"Lat\":65.61,\"Lng\":-37.64,\"Max Temp\":39.2,\"Wind Speed\":2.24,\"hash\":5475354368051004525},\"14\":{\"City_ID\":14,\"City\":\"chapais\",\"Cloudiness\":40,\"Country\":\"CA\",\"Date\":1528902000,\"Humidity\":38,\"Lat\":49.78,\"Lng\":-74.86,\"Max Temp\":59.0,\"Wind Speed\":10.29,\"hash\":7551159698005246026},\"15\":{\"City_ID\":15,\"City\":\"avarua\",\"Cloudiness\":40,\"Country\":\"CK\",\"Date\":1528902000,\"Humidity\":56,\"Lat\":-21.21,\"Lng\":-159.78,\"Max Temp\":73.4,\"Wind Speed\":10.29,\"hash\":6867248780845016265},\"16\":{\"City_ID\":16,\"City\":\"hofn\",\"Cloudiness\":75,\"Country\":\"IS\",\"Date\":1528902000,\"Humidity\":87,\"Lat\":64.25,\"Lng\":-15.21,\"Max Temp\":51.8,\"Wind Speed\":8.05,\"hash\":5786074864415848302},\"17\":{\"City_ID\":17,\"City\":\"yukamenskoye\",\"Cloudiness\":92,\"Country\":\"RU\",\"Date\":1528905315,\"Humidity\":98,\"Lat\":57.89,\"Lng\":52.24,\"Max Temp\":56.65,\"Wind Speed\":10.22,\"hash\":3699545565799809404},\"18\":{\"City_ID\":18,\"City\":\"khandbari\",\"Cloudiness\":80,\"Country\":\"NP\",\"Date\":1528905315,\"Humidity\":67,\"Lat\":27.38,\"Lng\":87.21,\"Max Temp\":44.59,\"Wind Speed\":1.39,\"hash\":8932749497332701536},\"19\":{\"City_ID\":19,\"City\":\"bethel\",\"Cloudiness\":1,\"Country\":\"US\",\"Date\":1528901580,\"Humidity\":93,\"Lat\":60.79,\"Lng\":-161.76,\"Max Temp\":44.6,\"Wind Speed\":8.05,\"hash\":-6563920810363547119},\"20\":{\"City_ID\":20,\"City\":\"ushuaia\",\"Cloudiness\":75,\"Country\":\"AR\",\"Date\":1528902000,\"Humidity\":64,\"Lat\":-54.81,\"Lng\":-68.31,\"Max Temp\":41.0,\"Wind Speed\":3.36,\"hash\":-5946508609141999666},\"21\":{\"City_ID\":21,\"City\":\"east london\",\"Cloudiness\":0,\"Country\":\"ZA\",\"Date\":1528902000,\"Humidity\":37,\"Lat\":-33.02,\"Lng\":27.91,\"Max Temp\":69.8,\"Wind Speed\":5.82,\"hash\":5775602050159452947},\"22\":{\"City_ID\":22,\"City\":\"bluff\",\"Cloudiness\":76,\"Country\":\"AU\",\"Date\":1528905321,\"Humidity\":76,\"Lat\":-23.58,\"Lng\":149.07,\"Max Temp\":61.96,\"Wind Speed\":4.74,\"hash\":1533521687503363455},\"23\":{\"City_ID\":23,\"City\":\"mount isa\",\"Cloudiness\":75,\"Country\":\"AU\",\"Date\":1528902000,\"Humidity\":100,\"Lat\":-20.73,\"Lng\":139.49,\"Max Temp\":64.4,\"Wind Speed\":3.29,\"hash\":-1324327628363631771},\"24\":{\"City_ID\":24,\"City\":\"pevek\",\"Cloudiness\":0,\"Country\":\"RU\",\"Date\":1528905321,\"Humidity\":71,\"Lat\":69.7,\"Lng\":170.27,\"Max Temp\":36.94,\"Wind Speed\":6.98,\"hash\":-3016080041858130494},\"25\":{\"City_ID\":25,\"City\":\"gao\",\"Cloudiness\":24,\"Country\":\"ML\",\"Date\":1528905321,\"Humidity\":16,\"Lat\":16.28,\"Lng\":-0.04,\"Max Temp\":110.02,\"Wind Speed\":4.97,\"hash\":970568689013181242},\"26\":{\"City_ID\":26,\"City\":\"cabo san lucas\",\"Cloudiness\":75,\"Country\":\"MX\",\"Date\":1528901160,\"Humidity\":74,\"Lat\":22.89,\"Lng\":-109.91,\"Max Temp\":84.2,\"Wind Speed\":10.29,\"hash\":-2317465199891991002},\"27\":{\"City_ID\":27,\"City\":\"sao filipe\",\"Cloudiness\":0,\"Country\":\"CV\",\"Date\":1528905323,\"Humidity\":88,\"Lat\":14.9,\"Lng\":-24.5,\"Max Temp\":75.73,\"Wind Speed\":13.02,\"hash\":3118200087085532246},\"28\":{\"City_ID\":28,\"City\":\"tiksi\",\"Cloudiness\":44,\"Country\":\"RU\",\"Date\":1528905298,\"Humidity\":58,\"Lat\":71.64,\"Lng\":128.87,\"Max Temp\":57.73,\"Wind Speed\":10.11,\"hash\":-2228498291016463781},\"29\":{\"City_ID\":29,\"City\":\"busselton\",\"Cloudiness\":92,\"Country\":\"AU\",\"Date\":1528905323,\"Humidity\":100,\"Lat\":-33.64,\"Lng\":115.35,\"Max Temp\":60.43,\"Wind Speed\":10.56,\"hash\":8274725452988558346},\"30\":{\"City_ID\":30,\"City\":\"alofi\",\"Cloudiness\":76,\"Country\":\"NU\",\"Date\":1528902000,\"Humidity\":88,\"Lat\":-19.06,\"Lng\":-169.92,\"Max Temp\":71.6,\"Wind Speed\":3.36,\"hash\":-8901994029717175134},\"31\":{\"City_ID\":31,\"City\":\"ola\",\"Cloudiness\":75,\"Country\":\"RU\",\"Date\":1528902000,\"Humidity\":100,\"Lat\":59.58,\"Lng\":151.3,\"Max Temp\":42.8,\"Wind Speed\":7.76,\"hash\":4145501126590664298},\"32\":{\"City_ID\":32,\"City\":\"atar\",\"Cloudiness\":20,\"Country\":\"MR\",\"Date\":1528902000,\"Humidity\":19,\"Lat\":20.52,\"Lng\":-13.05,\"Max Temp\":91.4,\"Wind Speed\":9.17,\"hash\":5060358535642842023},\"33\":{\"City_ID\":33,\"City\":\"rikitea\",\"Cloudiness\":0,\"Country\":\"PF\",\"Date\":1528905325,\"Humidity\":100,\"Lat\":-23.12,\"Lng\":-134.97,\"Max Temp\":73.57,\"Wind Speed\":8.66,\"hash\":4845281898239086505},\"34\":{\"City_ID\":34,\"City\":\"hermanus\",\"Cloudiness\":0,\"Country\":\"ZA\",\"Date\":1528905325,\"Humidity\":24,\"Lat\":-34.42,\"Lng\":19.24,\"Max Temp\":77.17,\"Wind Speed\":8.66,\"hash\":6403990679033949394},\"35\":{\"City_ID\":35,\"City\":\"ponta delgada\",\"Cloudiness\":75,\"Country\":\"PT\",\"Date\":1528903800,\"Humidity\":88,\"Lat\":37.73,\"Lng\":-25.67,\"Max Temp\":71.6,\"Wind Speed\":12.75,\"hash\":5825621937243439021},\"36\":{\"City_ID\":36,\"City\":\"bambari\",\"Cloudiness\":24,\"Country\":\"CF\",\"Date\":1528905326,\"Humidity\":84,\"Lat\":5.77,\"Lng\":20.68,\"Max Temp\":81.85,\"Wind Speed\":7.65,\"hash\":4095970818337240731},\"37\":{\"City_ID\":37,\"City\":\"cap malheureux\",\"Cloudiness\":75,\"Country\":\"MU\",\"Date\":1528902000,\"Humidity\":69,\"Lat\":-19.98,\"Lng\":57.61,\"Max Temp\":75.2,\"Wind Speed\":14.99,\"hash\":-4902924731082710831},\"38\":{\"City_ID\":38,\"City\":\"puerto escondido\",\"Cloudiness\":75,\"Country\":\"MX\",\"Date\":1528901100,\"Humidity\":65,\"Lat\":15.86,\"Lng\":-97.07,\"Max Temp\":80.6,\"Wind Speed\":3.36,\"hash\":629818869195390361},\"39\":{\"City_ID\":39,\"City\":\"qaanaaq\",\"Cloudiness\":32,\"Country\":\"GL\",\"Date\":1528905330,\"Humidity\":100,\"Lat\":77.48,\"Lng\":-69.36,\"Max Temp\":31.45,\"Wind Speed\":6.31,\"hash\":-6276479129619433752},\"40\":{\"City_ID\":40,\"City\":\"new norfolk\",\"Cloudiness\":20,\"Country\":\"AU\",\"Date\":1528902000,\"Humidity\":87,\"Lat\":-42.78,\"Lng\":147.06,\"Max Temp\":44.6,\"Wind Speed\":8.05,\"hash\":-1946239334130867865},\"41\":{\"City_ID\":41,\"City\":\"najran\",\"Cloudiness\":40,\"Country\":\"SA\",\"Date\":1528902000,\"Humidity\":13,\"Lat\":17.54,\"Lng\":44.22,\"Max Temp\":98.6,\"Wind Speed\":11.41,\"hash\":-4662957014727925934},\"42\":{\"City_ID\":42,\"City\":\"isla mujeres\",\"Cloudiness\":90,\"Country\":\"MX\",\"Date\":1528904340,\"Humidity\":100,\"Lat\":21.23,\"Lng\":-86.73,\"Max Temp\":75.2,\"Wind Speed\":16.11,\"hash\":-8481477455620020553},\"43\":{\"City_ID\":43,\"City\":\"mar del plata\",\"Cloudiness\":0,\"Country\":\"AR\",\"Date\":1528905297,\"Humidity\":100,\"Lat\":-46.43,\"Lng\":-67.52,\"Max Temp\":32.53,\"Wind Speed\":7.31,\"hash\":4725701494848774754},\"44\":{\"City_ID\":44,\"City\":\"provideniya\",\"Cloudiness\":0,\"Country\":\"RU\",\"Date\":1528905332,\"Humidity\":91,\"Lat\":64.42,\"Lng\":-173.23,\"Max Temp\":40.63,\"Wind Speed\":10.78,\"hash\":2004568624808876218},\"45\":{\"City_ID\":45,\"City\":\"jamestown\",\"Cloudiness\":12,\"Country\":\"AU\",\"Date\":1528905333,\"Humidity\":88,\"Lat\":-33.21,\"Lng\":138.6,\"Max Temp\":43.15,\"Wind Speed\":10.89,\"hash\":5752930368546084019},\"46\":{\"City_ID\":46,\"City\":\"medicine hat\",\"Cloudiness\":20,\"Country\":\"CA\",\"Date\":1528902000,\"Humidity\":34,\"Lat\":50.04,\"Lng\":-110.68,\"Max Temp\":66.2,\"Wind Speed\":14.99,\"hash\":603171841825844404},\"47\":{\"City_ID\":47,\"City\":\"katsuura\",\"Cloudiness\":8,\"Country\":\"JP\",\"Date\":1528905334,\"Humidity\":88,\"Lat\":33.93,\"Lng\":134.5,\"Max Temp\":62.05,\"Wind Speed\":7.54,\"hash\":487456111933816960},\"48\":{\"City_ID\":48,\"City\":\"aklavik\",\"Cloudiness\":20,\"Country\":\"CA\",\"Date\":1528902000,\"Humidity\":53,\"Lat\":68.22,\"Lng\":-135.01,\"Max Temp\":51.8,\"Wind Speed\":11.41,\"hash\":-2168000866503612203},\"49\":{\"City_ID\":49,\"City\":\"tuktoyaktuk\",\"Cloudiness\":20,\"Country\":\"CA\",\"Date\":1528902000,\"Humidity\":61,\"Lat\":69.44,\"Lng\":-133.03,\"Max Temp\":46.4,\"Wind Speed\":6.93,\"hash\":-1153444565131178293},\"50\":{\"City_ID\":50,\"City\":\"kapaa\",\"Cloudiness\":90,\"Country\":\"US\",\"Date\":1528901760,\"Humidity\":88,\"Lat\":22.08,\"Lng\":-159.32,\"Max Temp\":75.2,\"Wind Speed\":14.99,\"hash\":6004177724525128504},\"51\":{\"City_ID\":51,\"City\":\"mildura\",\"Cloudiness\":0,\"Country\":\"AU\",\"Date\":1528905300,\"Humidity\":92,\"Lat\":-34.18,\"Lng\":142.16,\"Max Temp\":45.67,\"Wind Speed\":9.66,\"hash\":-9194478449967620847},\"52\":{\"City_ID\":52,\"City\":\"souillac\",\"Cloudiness\":75,\"Country\":\"FR\",\"Date\":1528903800,\"Humidity\":49,\"Lat\":45.6,\"Lng\":-0.6,\"Max Temp\":73.4,\"Wind Speed\":10.29,\"hash\":-5314536536210713238},\"53\":{\"City_ID\":53,\"City\":\"lorengau\",\"Cloudiness\":100,\"Country\":\"PG\",\"Date\":1528905336,\"Humidity\":100,\"Lat\":-2.02,\"Lng\":147.27,\"Max Temp\":80.59,\"Wind Speed\":3.85,\"hash\":-5851685470365997203},\"54\":{\"City_ID\":54,\"City\":\"praia\",\"Cloudiness\":20,\"Country\":\"BR\",\"Date\":1528902000,\"Humidity\":47,\"Lat\":-20.25,\"Lng\":-43.81,\"Max Temp\":82.4,\"Wind Speed\":3.36,\"hash\":-5571888376652323884},\"55\":{\"City_ID\":55,\"City\":\"port alfred\",\"Cloudiness\":0,\"Country\":\"ZA\",\"Date\":1528905338,\"Humidity\":50,\"Lat\":-33.59,\"Lng\":26.89,\"Max Temp\":76.54,\"Wind Speed\":7.2,\"hash\":-2214866275985235044},\"56\":{\"City_ID\":56,\"City\":\"barranca\",\"Cloudiness\":0,\"Country\":\"PE\",\"Date\":1528905339,\"Humidity\":98,\"Lat\":-10.75,\"Lng\":-77.76,\"Max Temp\":61.87,\"Wind Speed\":9.89,\"hash\":412688972659378300},\"57\":{\"City_ID\":57,\"City\":\"nome\",\"Cloudiness\":40,\"Country\":\"US\",\"Date\":1528902900,\"Humidity\":70,\"Lat\":30.04,\"Lng\":-94.42,\"Max Temp\":87.8,\"Wind Speed\":3.36,\"hash\":-4485207399807848854},\"58\":{\"City_ID\":58,\"City\":\"matay\",\"Cloudiness\":0,\"Country\":\"EG\",\"Date\":1528905339,\"Humidity\":23,\"Lat\":28.42,\"Lng\":30.79,\"Max Temp\":97.69,\"Wind Speed\":6.98,\"hash\":-7300111532444276816},\"59\":{\"City_ID\":59,\"City\":\"saskylakh\",\"Cloudiness\":48,\"Country\":\"RU\",\"Date\":1528905339,\"Humidity\":55,\"Lat\":71.97,\"Lng\":114.09,\"Max Temp\":59.53,\"Wind Speed\":5.86,\"hash\":5146000736838805776},\"60\":{\"City_ID\":60,\"City\":\"itarema\",\"Cloudiness\":0,\"Country\":\"BR\",\"Date\":1528905340,\"Humidity\":61,\"Lat\":-2.92,\"Lng\":-39.92,\"Max Temp\":88.33,\"Wind Speed\":12.57,\"hash\":9136154599685183304},\"61\":{\"City_ID\":61,\"City\":\"butaritari\",\"Cloudiness\":56,\"Country\":\"KI\",\"Date\":1528905340,\"Humidity\":100,\"Lat\":3.07,\"Lng\":172.79,\"Max Temp\":81.13,\"Wind Speed\":7.31,\"hash\":7872233514934005873},\"62\":{\"City_ID\":62,\"City\":\"peniche\",\"Cloudiness\":20,\"Country\":\"PT\",\"Date\":1528903800,\"Humidity\":64,\"Lat\":39.36,\"Lng\":-9.38,\"Max Temp\":75.2,\"Wind Speed\":12.75,\"hash\":4754710256864119299},\"63\":{\"City_ID\":63,\"City\":\"beloha\",\"Cloudiness\":0,\"Country\":\"MG\",\"Date\":1528905340,\"Humidity\":57,\"Lat\":-25.17,\"Lng\":45.06,\"Max Temp\":71.95,\"Wind Speed\":16.37,\"hash\":-6183678501742995916},\"64\":{\"City_ID\":64,\"City\":\"anadyr\",\"Cloudiness\":0,\"Country\":\"RU\",\"Date\":1528902000,\"Humidity\":57,\"Lat\":64.73,\"Lng\":177.51,\"Max Temp\":48.2,\"Wind Speed\":4.47,\"hash\":7378813807424521404},\"65\":{\"City_ID\":65,\"City\":\"luderitz\",\"Cloudiness\":12,\"Country\":null,\"Date\":1528905342,\"Humidity\":64,\"Lat\":-26.65,\"Lng\":15.16,\"Max Temp\":64.03,\"Wind Speed\":17.38,\"hash\":38959283864483417},\"66\":{\"City_ID\":66,\"City\":\"rochester\",\"Cloudiness\":1,\"Country\":\"US\",\"Date\":1528902960,\"Humidity\":37,\"Lat\":44.02,\"Lng\":-92.46,\"Max Temp\":73.4,\"Wind Speed\":6.93,\"hash\":-5451480417034786150},\"67\":{\"City_ID\":67,\"City\":\"bosaso\",\"Cloudiness\":0,\"Country\":\"SO\",\"Date\":1528905347,\"Humidity\":86,\"Lat\":11.28,\"Lng\":49.18,\"Max Temp\":89.77,\"Wind Speed\":3.96,\"hash\":924795586081324924},\"68\":{\"City_ID\":68,\"City\":\"faanui\",\"Cloudiness\":0,\"Country\":\"PF\",\"Date\":1528905347,\"Humidity\":100,\"Lat\":-16.48,\"Lng\":-151.75,\"Max Temp\":79.96,\"Wind Speed\":11.79,\"hash\":3555960493080789105},\"69\":{\"City_ID\":69,\"City\":\"grindavik\",\"Cloudiness\":75,\"Country\":\"IS\",\"Date\":1528902000,\"Humidity\":70,\"Lat\":63.84,\"Lng\":-22.43,\"Max Temp\":48.2,\"Wind Speed\":5.82,\"hash\":4065105159561123832},\"70\":{\"City_ID\":70,\"City\":\"margate\",\"Cloudiness\":20,\"Country\":\"AU\",\"Date\":1528902000,\"Humidity\":87,\"Lat\":-43.03,\"Lng\":147.26,\"Max Temp\":44.6,\"Wind Speed\":8.05,\"hash\":6844629885968131975},\"71\":{\"City_ID\":71,\"City\":\"marsh harbour\",\"Cloudiness\":88,\"Country\":\"BS\",\"Date\":1528905349,\"Humidity\":95,\"Lat\":26.54,\"Lng\":-77.06,\"Max Temp\":82.39,\"Wind Speed\":10.0,\"hash\":2038828026045528322},\"72\":{\"City_ID\":72,\"City\":\"comodoro rivadavia\",\"Cloudiness\":40,\"Country\":\"AR\",\"Date\":1528902000,\"Humidity\":60,\"Lat\":-45.87,\"Lng\":-67.48,\"Max Temp\":42.8,\"Wind Speed\":9.17,\"hash\":-4513853686382667427},\"73\":{\"City_ID\":73,\"City\":\"upernavik\",\"Cloudiness\":92,\"Country\":\"GL\",\"Date\":1528905350,\"Humidity\":100,\"Lat\":72.79,\"Lng\":-56.15,\"Max Temp\":29.29,\"Wind Speed\":3.74,\"hash\":-1171746308801972833},\"74\":{\"City_ID\":74,\"City\":\"uige\",\"Cloudiness\":0,\"Country\":\"AO\",\"Date\":1528905350,\"Humidity\":29,\"Lat\":-7.61,\"Lng\":15.06,\"Max Temp\":86.8,\"Wind Speed\":3.18,\"hash\":-3377757366325585114},\"75\":{\"City_ID\":75,\"City\":\"bredasdorp\",\"Cloudiness\":0,\"Country\":\"ZA\",\"Date\":1528902000,\"Humidity\":23,\"Lat\":-34.53,\"Lng\":20.04,\"Max Temp\":82.4,\"Wind Speed\":5.82,\"hash\":6476466684170560852},\"76\":{\"City_ID\":76,\"City\":\"bodden town\",\"Cloudiness\":40,\"Country\":\"KY\",\"Date\":1528902000,\"Humidity\":78,\"Lat\":19.28,\"Lng\":-81.25,\"Max Temp\":80.6,\"Wind Speed\":16.11,\"hash\":7139499258406810272},\"77\":{\"City_ID\":77,\"City\":\"guerrero negro\",\"Cloudiness\":44,\"Country\":\"MX\",\"Date\":1528905350,\"Humidity\":88,\"Lat\":27.97,\"Lng\":-114.04,\"Max Temp\":63.85,\"Wind Speed\":3.74,\"hash\":-5077876784399247126},\"78\":{\"City_ID\":78,\"City\":\"bilma\",\"Cloudiness\":0,\"Country\":\"NE\",\"Date\":1528905351,\"Humidity\":12,\"Lat\":18.69,\"Lng\":12.92,\"Max Temp\":110.47,\"Wind Speed\":4.63,\"hash\":-8115221648249914757},\"79\":{\"City_ID\":79,\"City\":\"carnarvon\",\"Cloudiness\":0,\"Country\":\"ZA\",\"Date\":1528905351,\"Humidity\":30,\"Lat\":-30.97,\"Lng\":22.13,\"Max Temp\":60.43,\"Wind Speed\":14.25,\"hash\":3022881973177766769},\"80\":{\"City_ID\":80,\"City\":\"ponta do sol\",\"Cloudiness\":12,\"Country\":\"BR\",\"Date\":1528905352,\"Humidity\":72,\"Lat\":-20.63,\"Lng\":-46.0,\"Max Temp\":78.25,\"Wind Speed\":3.96,\"hash\":-4530974720427110385},\"81\":{\"City_ID\":81,\"City\":\"vila franca do campo\",\"Cloudiness\":75,\"Country\":\"PT\",\"Date\":1528903800,\"Humidity\":88,\"Lat\":37.72,\"Lng\":-25.43,\"Max Temp\":71.6,\"Wind Speed\":12.75,\"hash\":-5937872986455403724},\"82\":{\"City_ID\":82,\"City\":\"puerto del rosario\",\"Cloudiness\":20,\"Country\":\"ES\",\"Date\":1528903800,\"Humidity\":60,\"Lat\":28.5,\"Lng\":-13.86,\"Max Temp\":73.4,\"Wind Speed\":17.22,\"hash\":-8338675565512510455},\"83\":{\"City_ID\":83,\"City\":\"sitka\",\"Cloudiness\":20,\"Country\":\"US\",\"Date\":1528905353,\"Humidity\":92,\"Lat\":37.17,\"Lng\":-99.65,\"Max Temp\":74.02,\"Wind Speed\":5.97,\"hash\":1913047938503577416},\"84\":{\"City_ID\":84,\"City\":\"camacha\",\"Cloudiness\":75,\"Country\":\"PT\",\"Date\":1528903800,\"Humidity\":72,\"Lat\":33.08,\"Lng\":-16.33,\"Max Temp\":68.0,\"Wind Speed\":16.11,\"hash\":6729580687309752857},\"85\":{\"City_ID\":85,\"City\":\"saint-philippe\",\"Cloudiness\":1,\"Country\":\"CA\",\"Date\":1528902900,\"Humidity\":54,\"Lat\":45.36,\"Lng\":-73.48,\"Max Temp\":78.8,\"Wind Speed\":11.41,\"hash\":6825675035094772722},\"86\":{\"City_ID\":86,\"City\":\"port blair\",\"Cloudiness\":92,\"Country\":\"IN\",\"Date\":1528905357,\"Humidity\":97,\"Lat\":11.67,\"Lng\":92.75,\"Max Temp\":84.37,\"Wind Speed\":25.1,\"hash\":-2360506208825710214},\"87\":{\"City_ID\":87,\"City\":\"albany\",\"Cloudiness\":90,\"Country\":\"US\",\"Date\":1528903860,\"Humidity\":68,\"Lat\":42.65,\"Lng\":-73.75,\"Max Temp\":69.8,\"Wind Speed\":3.36,\"hash\":-131951556256465601},\"88\":{\"City_ID\":88,\"City\":\"barrow\",\"Cloudiness\":88,\"Country\":\"AR\",\"Date\":1528905182,\"Humidity\":72,\"Lat\":-38.31,\"Lng\":-60.23,\"Max Temp\":50.26,\"Wind Speed\":8.21,\"hash\":6170903142340870613},\"89\":{\"City_ID\":89,\"City\":\"qorveh\",\"Cloudiness\":92,\"Country\":\"IR\",\"Date\":1528905357,\"Humidity\":22,\"Lat\":35.17,\"Lng\":47.8,\"Max Temp\":76.72,\"Wind Speed\":3.18,\"hash\":8230247575553351246},\"90\":{\"City_ID\":90,\"City\":\"san jeronimo\",\"Cloudiness\":90,\"Country\":\"PE\",\"Date\":1528902000,\"Humidity\":81,\"Lat\":-13.65,\"Lng\":-73.37,\"Max Temp\":46.4,\"Wind Speed\":2.39,\"hash\":-7184817960964884274},\"91\":{\"City_ID\":91,\"City\":\"mataura\",\"Cloudiness\":24,\"Country\":\"NZ\",\"Date\":1528905299,\"Humidity\":79,\"Lat\":-46.19,\"Lng\":168.86,\"Max Temp\":25.69,\"Wind Speed\":3.18,\"hash\":-2339827515857698373},\"92\":{\"City_ID\":92,\"City\":\"buala\",\"Cloudiness\":64,\"Country\":\"SB\",\"Date\":1528905359,\"Humidity\":100,\"Lat\":-8.15,\"Lng\":159.59,\"Max Temp\":78.7,\"Wind Speed\":4.18,\"hash\":-3062881744310360975},\"93\":{\"City_ID\":93,\"City\":\"eyl\",\"Cloudiness\":20,\"Country\":\"SO\",\"Date\":1528905359,\"Humidity\":57,\"Lat\":7.98,\"Lng\":49.82,\"Max Temp\":86.62,\"Wind Speed\":22.41,\"hash\":4025480358999508198},\"94\":{\"City_ID\":94,\"City\":\"abu dhabi\",\"Cloudiness\":0,\"Country\":\"AE\",\"Date\":1528902000,\"Humidity\":29,\"Lat\":24.47,\"Lng\":54.37,\"Max Temp\":98.6,\"Wind Speed\":16.11,\"hash\":3586244498812196226},\"95\":{\"City_ID\":95,\"City\":\"tahe\",\"Cloudiness\":92,\"Country\":\"CN\",\"Date\":1528905359,\"Humidity\":98,\"Lat\":52.34,\"Lng\":124.71,\"Max Temp\":51.43,\"Wind Speed\":2.17,\"hash\":4943624803349739993},\"96\":{\"City_ID\":96,\"City\":\"chuy\",\"Cloudiness\":80,\"Country\":\"UY\",\"Date\":1528905099,\"Humidity\":93,\"Lat\":-33.69,\"Lng\":-53.46,\"Max Temp\":52.87,\"Wind Speed\":28.9,\"hash\":637318625137402092},\"97\":{\"City_ID\":97,\"City\":\"dzerzhinskoye\",\"Cloudiness\":8,\"Country\":\"RU\",\"Date\":1528905360,\"Humidity\":69,\"Lat\":56.84,\"Lng\":95.22,\"Max Temp\":65.11,\"Wind Speed\":3.85,\"hash\":-8942379304724848179},\"98\":{\"City_ID\":98,\"City\":\"vanavara\",\"Cloudiness\":0,\"Country\":\"RU\",\"Date\":1528905360,\"Humidity\":50,\"Lat\":60.35,\"Lng\":102.28,\"Max Temp\":64.21,\"Wind Speed\":5.64,\"hash\":7841194284679496908},\"99\":{\"City_ID\":99,\"City\":\"muros\",\"Cloudiness\":40,\"Country\":\"ES\",\"Date\":1528903800,\"Humidity\":72,\"Lat\":42.77,\"Lng\":-9.06,\"Max Temp\":66.2,\"Wind Speed\":10.29,\"hash\":5256195529683933873},\"100\":{\"City_ID\":100,\"City\":\"auchel\",\"Cloudiness\":0,\"Country\":\"FR\",\"Date\":1528903800,\"Humidity\":49,\"Lat\":50.51,\"Lng\":2.47,\"Max Temp\":68.0,\"Wind Speed\":3.36,\"hash\":705910375611646703},\"101\":{\"City_ID\":101,\"City\":\"bubaque\",\"Cloudiness\":40,\"Country\":\"GW\",\"Date\":1528902000,\"Humidity\":55,\"Lat\":11.28,\"Lng\":-15.83,\"Max Temp\":91.4,\"Wind Speed\":11.41,\"hash\":3424661053150190787},\"102\":{\"City_ID\":102,\"City\":\"khatanga\",\"Cloudiness\":8,\"Country\":\"RU\",\"Date\":1528905361,\"Humidity\":65,\"Lat\":71.98,\"Lng\":102.47,\"Max Temp\":60.97,\"Wind Speed\":4.63,\"hash\":-8506602576487056442},\"103\":{\"City_ID\":103,\"City\":\"los banos\",\"Cloudiness\":1,\"Country\":\"US\",\"Date\":1528904100,\"Humidity\":67,\"Lat\":37.06,\"Lng\":-120.85,\"Max Temp\":75.2,\"Wind Speed\":4.74,\"hash\":-3079415313242008906},\"104\":{\"City_ID\":104,\"City\":\"labuhan\",\"Cloudiness\":12,\"Country\":\"ID\",\"Date\":1528905361,\"Humidity\":95,\"Lat\":-2.54,\"Lng\":115.51,\"Max Temp\":72.94,\"Wind Speed\":1.83,\"hash\":-417097074964803806},\"105\":{\"City_ID\":105,\"City\":\"saint-paul\",\"Cloudiness\":75,\"Country\":\"FR\",\"Date\":1528903800,\"Humidity\":56,\"Lat\":45.22,\"Lng\":1.9,\"Max Temp\":68.0,\"Wind Speed\":14.99,\"hash\":4750249362694199548},\"106\":{\"City_ID\":106,\"City\":\"petatlan\",\"Cloudiness\":90,\"Country\":\"MX\",\"Date\":1528901220,\"Humidity\":74,\"Lat\":17.52,\"Lng\":-101.27,\"Max Temp\":84.2,\"Wind Speed\":1.83,\"hash\":3195029670910959895},\"107\":{\"City_ID\":107,\"City\":\"baykit\",\"Cloudiness\":36,\"Country\":\"RU\",\"Date\":1528905366,\"Humidity\":68,\"Lat\":61.68,\"Lng\":96.39,\"Max Temp\":63.94,\"Wind Speed\":4.29,\"hash\":7873126045454731293},\"108\":{\"City_ID\":108,\"City\":\"dalby\",\"Cloudiness\":75,\"Country\":\"AU\",\"Date\":1528902000,\"Humidity\":93,\"Lat\":-27.18,\"Lng\":151.26,\"Max Temp\":53.6,\"Wind Speed\":2.24,\"hash\":-2839607040429613643},\"109\":{\"City_ID\":109,\"City\":\"yellowknife\",\"Cloudiness\":90,\"Country\":\"CA\",\"Date\":1528902540,\"Humidity\":93,\"Lat\":62.45,\"Lng\":-114.38,\"Max Temp\":46.4,\"Wind Speed\":8.05,\"hash\":-7243262245726864431},\"110\":{\"City_ID\":110,\"City\":\"hilo\",\"Cloudiness\":75,\"Country\":\"US\",\"Date\":1528901580,\"Humidity\":88,\"Lat\":19.71,\"Lng\":-155.08,\"Max Temp\":66.2,\"Wind Speed\":5.82,\"hash\":8292377797466428523},\"111\":{\"City_ID\":111,\"City\":\"turukhansk\",\"Cloudiness\":36,\"Country\":\"RU\",\"Date\":1528905297,\"Humidity\":76,\"Lat\":65.8,\"Lng\":87.96,\"Max Temp\":66.37,\"Wind Speed\":6.42,\"hash\":-1409380056634130515},\"112\":{\"City_ID\":112,\"City\":\"dingle\",\"Cloudiness\":68,\"Country\":\"PH\",\"Date\":1528905368,\"Humidity\":82,\"Lat\":11.0,\"Lng\":122.67,\"Max Temp\":79.96,\"Wind Speed\":8.21,\"hash\":6404341041847825899},\"113\":{\"City_ID\":113,\"City\":\"dillon\",\"Cloudiness\":1,\"Country\":\"US\",\"Date\":1528901580,\"Humidity\":44,\"Lat\":45.22,\"Lng\":-112.64,\"Max Temp\":57.2,\"Wind Speed\":5.82,\"hash\":-592469285930063365},\"114\":{\"City_ID\":114,\"City\":\"labytnangi\",\"Cloudiness\":64,\"Country\":\"RU\",\"Date\":1528905370,\"Humidity\":75,\"Lat\":66.66,\"Lng\":66.39,\"Max Temp\":47.11,\"Wind Speed\":17.49,\"hash\":-1838861820034168633},\"115\":{\"City_ID\":115,\"City\":\"gigmoto\",\"Cloudiness\":36,\"Country\":\"PH\",\"Date\":1528905370,\"Humidity\":98,\"Lat\":13.78,\"Lng\":124.39,\"Max Temp\":83.56,\"Wind Speed\":17.6,\"hash\":-3285197487795232582},\"116\":{\"City_ID\":116,\"City\":\"nouakchott\",\"Cloudiness\":68,\"Country\":\"MR\",\"Date\":1528905371,\"Humidity\":76,\"Lat\":18.08,\"Lng\":-15.98,\"Max Temp\":76.72,\"Wind Speed\":1.39,\"hash\":8624137226433060952},\"117\":{\"City_ID\":117,\"City\":\"rumoi\",\"Cloudiness\":92,\"Country\":\"JP\",\"Date\":1528905371,\"Humidity\":100,\"Lat\":43.93,\"Lng\":141.67,\"Max Temp\":44.41,\"Wind Speed\":8.1,\"hash\":7669841711835728959},\"118\":{\"City_ID\":118,\"City\":\"dikson\",\"Cloudiness\":32,\"Country\":\"RU\",\"Date\":1528905373,\"Humidity\":100,\"Lat\":73.51,\"Lng\":80.55,\"Max Temp\":31.09,\"Wind Speed\":13.13,\"hash\":5388246206410374280},\"119\":{\"City_ID\":119,\"City\":\"chinsali\",\"Cloudiness\":0,\"Country\":\"ZM\",\"Date\":1528905377,\"Humidity\":36,\"Lat\":-10.55,\"Lng\":32.07,\"Max Temp\":73.39,\"Wind Speed\":9.22,\"hash\":-6893737252719271047},\"120\":{\"City_ID\":120,\"City\":\"georgetown\",\"Cloudiness\":75,\"Country\":\"GY\",\"Date\":1528902000,\"Humidity\":78,\"Lat\":6.8,\"Lng\":-58.16,\"Max Temp\":82.4,\"Wind Speed\":9.17,\"hash\":4156015145410168206},\"121\":{\"City_ID\":121,\"City\":\"tooele\",\"Cloudiness\":1,\"Country\":\"US\",\"Date\":1528902900,\"Humidity\":35,\"Lat\":40.53,\"Lng\":-112.3,\"Max Temp\":73.4,\"Wind Speed\":9.17,\"hash\":4995032343859923686},\"122\":{\"City_ID\":122,\"City\":\"nikolskoye\",\"Cloudiness\":40,\"Country\":\"RU\",\"Date\":1528902000,\"Humidity\":41,\"Lat\":59.7,\"Lng\":30.79,\"Max Temp\":60.8,\"Wind Speed\":4.47,\"hash\":-5176905636544746217},\"123\":{\"City_ID\":123,\"City\":\"bodo\",\"Cloudiness\":80,\"Country\":\"CI\",\"Date\":1528905379,\"Humidity\":66,\"Lat\":5.91,\"Lng\":-4.68,\"Max Temp\":87.7,\"Wind Speed\":8.21,\"hash\":-2902172971300424999},\"124\":{\"City_ID\":124,\"City\":\"minador do negrao\",\"Cloudiness\":32,\"Country\":\"BR\",\"Date\":1528905379,\"Humidity\":80,\"Lat\":-9.31,\"Lng\":-36.86,\"Max Temp\":76.81,\"Wind Speed\":13.24,\"hash\":8280990977154579055},\"125\":{\"City_ID\":125,\"City\":\"sambava\",\"Cloudiness\":88,\"Country\":\"MG\",\"Date\":1528905379,\"Humidity\":100,\"Lat\":-14.27,\"Lng\":50.17,\"Max Temp\":77.35,\"Wind Speed\":19.73,\"hash\":-9038634198197656411},\"126\":{\"City_ID\":126,\"City\":\"yerbogachen\",\"Cloudiness\":0,\"Country\":\"RU\",\"Date\":1528905380,\"Humidity\":44,\"Lat\":61.28,\"Lng\":108.01,\"Max Temp\":64.93,\"Wind Speed\":7.43,\"hash\":-4379199516947462444},\"127\":{\"City_ID\":127,\"City\":\"kahului\",\"Cloudiness\":1,\"Country\":\"US\",\"Date\":1528901760,\"Humidity\":93,\"Lat\":20.89,\"Lng\":-156.47,\"Max Temp\":66.2,\"Wind Speed\":3.36,\"hash\":-4142223664373256503},\"128\":{\"City_ID\":128,\"City\":\"clyde river\",\"Cloudiness\":75,\"Country\":\"CA\",\"Date\":1528902660,\"Humidity\":100,\"Lat\":70.47,\"Lng\":-68.59,\"Max Temp\":35.6,\"Wind Speed\":21.92,\"hash\":-8025437281469792681},\"129\":{\"City_ID\":129,\"City\":\"ancud\",\"Cloudiness\":20,\"Country\":\"CL\",\"Date\":1528905381,\"Humidity\":90,\"Lat\":-41.87,\"Lng\":-73.83,\"Max Temp\":39.1,\"Wind Speed\":2.73,\"hash\":1883432094531299896},\"130\":{\"City_ID\":130,\"City\":\"beringovskiy\",\"Cloudiness\":0,\"Country\":\"RU\",\"Date\":1528905381,\"Humidity\":88,\"Lat\":63.05,\"Lng\":179.32,\"Max Temp\":39.37,\"Wind Speed\":3.4,\"hash\":4067670685675149739},\"131\":{\"City_ID\":131,\"City\":\"majene\",\"Cloudiness\":32,\"Country\":\"ID\",\"Date\":1528905382,\"Humidity\":100,\"Lat\":-3.54,\"Lng\":118.97,\"Max Temp\":81.85,\"Wind Speed\":11.01,\"hash\":8343579700115535952},\"132\":{\"City_ID\":132,\"City\":\"ahar\",\"Cloudiness\":36,\"Country\":\"IR\",\"Date\":1528905382,\"Humidity\":62,\"Lat\":38.48,\"Lng\":47.07,\"Max Temp\":62.77,\"Wind Speed\":3.74,\"hash\":1810722721036350361},\"133\":{\"City_ID\":133,\"City\":\"ilhabela\",\"Cloudiness\":80,\"Country\":\"BR\",\"Date\":1528905382,\"Humidity\":98,\"Lat\":-23.78,\"Lng\":-45.36,\"Max Temp\":72.85,\"Wind Speed\":2.28,\"hash\":1715942382478704652},\"134\":{\"City_ID\":134,\"City\":\"listvyagi\",\"Cloudiness\":0,\"Country\":\"RU\",\"Date\":1528905382,\"Humidity\":78,\"Lat\":53.68,\"Lng\":86.95,\"Max Temp\":65.11,\"Wind Speed\":2.06,\"hash\":-1544120532597383442},\"135\":{\"City_ID\":135,\"City\":\"skjervoy\",\"Cloudiness\":40,\"Country\":\"NO\",\"Date\":1528903200,\"Humidity\":65,\"Lat\":70.03,\"Lng\":20.97,\"Max Temp\":44.6,\"Wind Speed\":10.29,\"hash\":-6803337548537344226},\"136\":{\"City_ID\":136,\"City\":\"cape town\",\"Cloudiness\":0,\"Country\":\"ZA\",\"Date\":1528902000,\"Humidity\":35,\"Lat\":-33.93,\"Lng\":18.42,\"Max Temp\":73.4,\"Wind Speed\":9.17,\"hash\":9201441634103888431},\"137\":{\"City_ID\":137,\"City\":\"iqaluit\",\"Cloudiness\":90,\"Country\":\"CA\",\"Date\":1528902000,\"Humidity\":96,\"Lat\":63.75,\"Lng\":-68.52,\"Max Temp\":35.6,\"Wind Speed\":20.8,\"hash\":-4820205633724328014},\"138\":{\"City_ID\":138,\"City\":\"fort-shevchenko\",\"Cloudiness\":0,\"Country\":\"KZ\",\"Date\":1528905387,\"Humidity\":59,\"Lat\":44.51,\"Lng\":50.26,\"Max Temp\":74.2,\"Wind Speed\":3.62,\"hash\":-2300222992180899071},\"139\":{\"City_ID\":139,\"City\":\"severo-kurilsk\",\"Cloudiness\":92,\"Country\":\"RU\",\"Date\":1528905387,\"Humidity\":100,\"Lat\":50.68,\"Lng\":156.12,\"Max Temp\":38.02,\"Wind Speed\":16.26,\"hash\":-1090385597916299794},\"140\":{\"City_ID\":140,\"City\":\"arraial do cabo\",\"Cloudiness\":0,\"Country\":\"BR\",\"Date\":1528905600,\"Humidity\":65,\"Lat\":-22.97,\"Lng\":-42.02,\"Max Temp\":80.6,\"Wind Speed\":4.7,\"hash\":-2334137771632813235},\"141\":{\"City_ID\":141,\"City\":\"torbay\",\"Cloudiness\":90,\"Country\":\"CA\",\"Date\":1528903560,\"Humidity\":93,\"Lat\":47.66,\"Lng\":-52.73,\"Max Temp\":50.0,\"Wind Speed\":19.46,\"hash\":3029749902509217395},\"142\":{\"City_ID\":142,\"City\":\"ahipara\",\"Cloudiness\":88,\"Country\":\"NZ\",\"Date\":1528905388,\"Humidity\":91,\"Lat\":-35.17,\"Lng\":173.16,\"Max Temp\":56.65,\"Wind Speed\":9.66,\"hash\":5266801730553898770},\"143\":{\"City_ID\":143,\"City\":\"bandarbeyla\",\"Cloudiness\":0,\"Country\":\"SO\",\"Date\":1528905389,\"Humidity\":79,\"Lat\":9.49,\"Lng\":50.81,\"Max Temp\":79.15,\"Wind Speed\":32.93,\"hash\":-5672189798821708554},\"144\":{\"City_ID\":144,\"City\":\"vuktyl\",\"Cloudiness\":92,\"Country\":\"RU\",\"Date\":1528905389,\"Humidity\":96,\"Lat\":63.86,\"Lng\":57.31,\"Max Temp\":52.6,\"Wind Speed\":7.43,\"hash\":1967730659136940265},\"145\":{\"City_ID\":145,\"City\":\"caravelas\",\"Cloudiness\":0,\"Country\":\"BR\",\"Date\":1528905390,\"Humidity\":98,\"Lat\":-17.73,\"Lng\":-39.27,\"Max Temp\":77.62,\"Wind Speed\":10.45,\"hash\":9075894959743638277},\"146\":{\"City_ID\":146,\"City\":\"waipawa\",\"Cloudiness\":92,\"Country\":\"NZ\",\"Date\":1528905390,\"Humidity\":94,\"Lat\":-39.94,\"Lng\":176.59,\"Max Temp\":50.89,\"Wind Speed\":9.44,\"hash\":8628284952654618365},\"147\":{\"City_ID\":147,\"City\":\"khomutovo\",\"Cloudiness\":0,\"Country\":\"RU\",\"Date\":1528905390,\"Humidity\":65,\"Lat\":52.85,\"Lng\":37.45,\"Max Temp\":72.31,\"Wind Speed\":5.97,\"hash\":8002218076395733344},\"148\":{\"City_ID\":148,\"City\":\"acajutla\",\"Cloudiness\":40,\"Country\":\"SV\",\"Date\":1528901400,\"Humidity\":79,\"Lat\":13.59,\"Lng\":-89.83,\"Max Temp\":84.2,\"Wind Speed\":1.12,\"hash\":5280374379399842637},\"149\":{\"City_ID\":149,\"City\":\"buritis\",\"Cloudiness\":0,\"Country\":\"BR\",\"Date\":1528905391,\"Humidity\":53,\"Lat\":-15.62,\"Lng\":-46.42,\"Max Temp\":83.74,\"Wind Speed\":6.87,\"hash\":-6786182162365751550},\"150\":{\"City_ID\":150,\"City\":\"meulaboh\",\"Cloudiness\":48,\"Country\":\"ID\",\"Date\":1528905392,\"Humidity\":100,\"Lat\":4.14,\"Lng\":96.13,\"Max Temp\":82.03,\"Wind Speed\":3.4,\"hash\":-4097823308356855476},\"151\":{\"City_ID\":151,\"City\":\"vaini\",\"Cloudiness\":100,\"Country\":\"IN\",\"Date\":1528905392,\"Humidity\":98,\"Lat\":15.34,\"Lng\":74.49,\"Max Temp\":70.42,\"Wind Speed\":4.29,\"hash\":2557197024555053416},\"152\":{\"City_ID\":152,\"City\":\"teya\",\"Cloudiness\":75,\"Country\":\"MX\",\"Date\":1528901400,\"Humidity\":66,\"Lat\":21.05,\"Lng\":-89.07,\"Max Temp\":86.0,\"Wind Speed\":13.87,\"hash\":-3472671010770047105},\"153\":{\"City_ID\":153,\"City\":\"bambous virieux\",\"Cloudiness\":75,\"Country\":\"MU\",\"Date\":1528902000,\"Humidity\":69,\"Lat\":-20.34,\"Lng\":57.76,\"Max Temp\":75.2,\"Wind Speed\":14.99,\"hash\":-4612853506983013347},\"154\":{\"City_ID\":154,\"City\":\"zaragoza\",\"Cloudiness\":20,\"Country\":\"ES\",\"Date\":1528903800,\"Humidity\":49,\"Lat\":41.65,\"Lng\":-0.88,\"Max Temp\":77.0,\"Wind Speed\":28.86,\"hash\":-2901713451577514705},\"155\":{\"City_ID\":155,\"City\":\"thompson\",\"Cloudiness\":75,\"Country\":\"CA\",\"Date\":1528902600,\"Humidity\":76,\"Lat\":55.74,\"Lng\":-97.86,\"Max Temp\":57.2,\"Wind Speed\":3.36,\"hash\":7467766559822033641},\"156\":{\"City_ID\":156,\"City\":\"kodiak\",\"Cloudiness\":1,\"Country\":\"US\",\"Date\":1528901580,\"Humidity\":50,\"Lat\":39.95,\"Lng\":-94.76,\"Max Temp\":75.2,\"Wind Speed\":13.87,\"hash\":-8959842318427536667},\"157\":{\"City_ID\":157,\"City\":\"nsanje\",\"Cloudiness\":92,\"Country\":\"MZ\",\"Date\":1528905397,\"Humidity\":84,\"Lat\":-16.92,\"Lng\":35.26,\"Max Temp\":70.33,\"Wind Speed\":4.18,\"hash\":7478784996102870155},\"158\":{\"City_ID\":158,\"City\":\"the pas\",\"Cloudiness\":1,\"Country\":\"CA\",\"Date\":1528902000,\"Humidity\":63,\"Lat\":53.82,\"Lng\":-101.24,\"Max Temp\":60.8,\"Wind Speed\":10.29,\"hash\":845984827272710899},\"159\":{\"City_ID\":159,\"City\":\"masalli\",\"Cloudiness\":12,\"Country\":\"KR\",\"Date\":1528902000,\"Humidity\":77,\"Lat\":34.8,\"Lng\":126.66,\"Max Temp\":68.0,\"Wind Speed\":9.17,\"hash\":8908404604137661988},\"160\":{\"City_ID\":160,\"City\":\"talnakh\",\"Cloudiness\":20,\"Country\":\"RU\",\"Date\":1528905398,\"Humidity\":100,\"Lat\":69.49,\"Lng\":88.39,\"Max Temp\":42.79,\"Wind Speed\":3.18,\"hash\":4335528659427700580},\"161\":{\"City_ID\":161,\"City\":\"ilulissat\",\"Cloudiness\":90,\"Country\":\"GL\",\"Date\":1528901400,\"Humidity\":97,\"Lat\":69.22,\"Lng\":-51.1,\"Max Temp\":32.0,\"Wind Speed\":4.7,\"hash\":3582961006923817258},\"162\":{\"City_ID\":162,\"City\":\"vallenar\",\"Cloudiness\":0,\"Country\":\"CL\",\"Date\":1528905399,\"Humidity\":56,\"Lat\":-28.58,\"Lng\":-70.76,\"Max Temp\":54.4,\"Wind Speed\":1.28,\"hash\":-1121116447752312462},\"163\":{\"City_ID\":163,\"City\":\"cap-aux-meules\",\"Cloudiness\":40,\"Country\":\"CA\",\"Date\":1528902000,\"Humidity\":62,\"Lat\":47.38,\"Lng\":-61.86,\"Max Temp\":51.8,\"Wind Speed\":20.8,\"hash\":2488645654346341195},\"164\":{\"City_ID\":164,\"City\":\"san quintin\",\"Cloudiness\":90,\"Country\":\"PH\",\"Date\":1528902000,\"Humidity\":100,\"Lat\":17.54,\"Lng\":120.52,\"Max Temp\":77.0,\"Wind Speed\":13.87,\"hash\":-5954608167188060449},\"165\":{\"City_ID\":165,\"City\":\"victoria\",\"Cloudiness\":75,\"Country\":\"BN\",\"Date\":1528902000,\"Humidity\":94,\"Lat\":5.28,\"Lng\":115.24,\"Max Temp\":80.6,\"Wind Speed\":1.12,\"hash\":-4701731010279159163},\"166\":{\"City_ID\":166,\"City\":\"okhotsk\",\"Cloudiness\":12,\"Country\":\"RU\",\"Date\":1528905400,\"Humidity\":100,\"Lat\":59.36,\"Lng\":143.24,\"Max Temp\":38.02,\"Wind Speed\":2.17,\"hash\":2998641605046718406},\"167\":{\"City_ID\":167,\"City\":\"bonavista\",\"Cloudiness\":92,\"Country\":\"CA\",\"Date\":1528905401,\"Humidity\":82,\"Lat\":48.65,\"Lng\":-53.11,\"Max Temp\":46.57,\"Wind Speed\":22.97,\"hash\":8335287682461864355},\"168\":{\"City_ID\":168,\"City\":\"manokwari\",\"Cloudiness\":80,\"Country\":\"ID\",\"Date\":1528905401,\"Humidity\":100,\"Lat\":-0.87,\"Lng\":134.08,\"Max Temp\":78.07,\"Wind Speed\":8.1,\"hash\":-8771283637133975920},\"169\":{\"City_ID\":169,\"City\":\"lebu\",\"Cloudiness\":92,\"Country\":\"ET\",\"Date\":1528905404,\"Humidity\":100,\"Lat\":8.96,\"Lng\":38.73,\"Max Temp\":55.3,\"Wind Speed\":0.72,\"hash\":-87709186166090187},\"170\":{\"City_ID\":170,\"City\":\"qostanay\",\"Cloudiness\":75,\"Country\":\"KZ\",\"Date\":1528902000,\"Humidity\":54,\"Lat\":53.17,\"Lng\":63.58,\"Max Temp\":59.0,\"Wind Speed\":6.71,\"hash\":8551357550070280095},\"171\":{\"City_ID\":171,\"City\":\"victor harbor\",\"Cloudiness\":75,\"Country\":\"AU\",\"Date\":1528902000,\"Humidity\":82,\"Lat\":-35.55,\"Lng\":138.62,\"Max Temp\":55.4,\"Wind Speed\":17.22,\"hash\":7039645673870226236},\"172\":{\"City_ID\":172,\"City\":\"kamenka\",\"Cloudiness\":12,\"Country\":\"RU\",\"Date\":1528905405,\"Humidity\":98,\"Lat\":53.19,\"Lng\":44.05,\"Max Temp\":61.6,\"Wind Speed\":9.44,\"hash\":-7988684996759465105},\"173\":{\"City_ID\":173,\"City\":\"cherskiy\",\"Cloudiness\":8,\"Country\":\"RU\",\"Date\":1528905405,\"Humidity\":48,\"Lat\":68.75,\"Lng\":161.3,\"Max Temp\":55.21,\"Wind Speed\":3.18,\"hash\":-7636987989499506347},\"174\":{\"City_ID\":174,\"City\":\"kimbe\",\"Cloudiness\":92,\"Country\":\"PG\",\"Date\":1528905405,\"Humidity\":100,\"Lat\":-5.56,\"Lng\":150.15,\"Max Temp\":78.43,\"Wind Speed\":6.64,\"hash\":7481191283517165785},\"175\":{\"City_ID\":175,\"City\":\"guba\",\"Cloudiness\":75,\"Country\":\"PH\",\"Date\":1528902000,\"Humidity\":74,\"Lat\":10.43,\"Lng\":123.89,\"Max Temp\":84.2,\"Wind Speed\":8.05,\"hash\":-6609195116597043266},\"176\":{\"City_ID\":176,\"City\":\"inuvik\",\"Cloudiness\":40,\"Country\":\"CA\",\"Date\":1528902000,\"Humidity\":53,\"Lat\":68.36,\"Lng\":-133.71,\"Max Temp\":51.8,\"Wind Speed\":3.36,\"hash\":6256933104506209478},\"177\":{\"City_ID\":177,\"City\":\"jiazi\",\"Cloudiness\":20,\"Country\":\"CN\",\"Date\":1528902000,\"Humidity\":78,\"Lat\":19.61,\"Lng\":110.49,\"Max Temp\":82.4,\"Wind Speed\":4.47,\"hash\":-2312461079022244394},\"178\":{\"City_ID\":178,\"City\":\"namatanai\",\"Cloudiness\":76,\"Country\":\"PG\",\"Date\":1528905407,\"Humidity\":100,\"Lat\":-3.66,\"Lng\":152.44,\"Max Temp\":78.07,\"Wind Speed\":11.68,\"hash\":346932516323299460},\"179\":{\"City_ID\":179,\"City\":\"port elizabeth\",\"Cloudiness\":90,\"Country\":\"US\",\"Date\":1528903500,\"Humidity\":83,\"Lat\":39.31,\"Lng\":-74.98,\"Max Temp\":75.2,\"Wind Speed\":9.17,\"hash\":3448155607818369230},\"180\":{\"City_ID\":180,\"City\":\"chilca\",\"Cloudiness\":75,\"Country\":\"PE\",\"Date\":1528903800,\"Humidity\":47,\"Lat\":-13.22,\"Lng\":-72.34,\"Max Temp\":55.4,\"Wind Speed\":3.36,\"hash\":-2524947875169274106},\"181\":{\"City_ID\":181,\"City\":\"tual\",\"Cloudiness\":68,\"Country\":\"ID\",\"Date\":1528905408,\"Humidity\":100,\"Lat\":-5.67,\"Lng\":132.75,\"Max Temp\":79.78,\"Wind Speed\":12.12,\"hash\":-7886758433983794423},\"182\":{\"City_ID\":182,\"City\":\"puerto colombia\",\"Cloudiness\":40,\"Country\":\"CO\",\"Date\":1528902000,\"Humidity\":74,\"Lat\":10.99,\"Lng\":-74.96,\"Max Temp\":87.8,\"Wind Speed\":6.93,\"hash\":-2772180913280634051},\"183\":{\"City_ID\":183,\"City\":\"muzhi\",\"Cloudiness\":0,\"Country\":\"RU\",\"Date\":1528905409,\"Humidity\":63,\"Lat\":65.4,\"Lng\":64.7,\"Max Temp\":55.57,\"Wind Speed\":10.67,\"hash\":-2039222853759164416},\"184\":{\"City_ID\":184,\"City\":\"tabuk\",\"Cloudiness\":92,\"Country\":\"PH\",\"Date\":1528905413,\"Humidity\":86,\"Lat\":17.41,\"Lng\":121.44,\"Max Temp\":72.4,\"Wind Speed\":1.83,\"hash\":4357510566232560501},\"185\":{\"City_ID\":185,\"City\":\"palauig\",\"Cloudiness\":92,\"Country\":\"PH\",\"Date\":1528905413,\"Humidity\":100,\"Lat\":15.44,\"Lng\":119.9,\"Max Temp\":74.11,\"Wind Speed\":10.67,\"hash\":5060802086472464450},\"186\":{\"City_ID\":186,\"City\":\"komsomolskiy\",\"Cloudiness\":0,\"Country\":\"RU\",\"Date\":1528905413,\"Humidity\":84,\"Lat\":67.55,\"Lng\":63.78,\"Max Temp\":37.39,\"Wind Speed\":9.22,\"hash\":-5733923791948269121},\"187\":{\"City_ID\":187,\"City\":\"atuona\",\"Cloudiness\":44,\"Country\":\"PF\",\"Date\":1528905298,\"Humidity\":100,\"Lat\":-9.8,\"Lng\":-139.03,\"Max Temp\":79.6,\"Wind Speed\":12.91,\"hash\":-8031259975958192924},\"188\":{\"City_ID\":188,\"City\":\"sinnamary\",\"Cloudiness\":92,\"Country\":\"GF\",\"Date\":1528905414,\"Humidity\":100,\"Lat\":5.38,\"Lng\":-52.96,\"Max Temp\":75.19,\"Wind Speed\":3.4,\"hash\":-5715631397561137532},\"189\":{\"City_ID\":189,\"City\":\"kavieng\",\"Cloudiness\":92,\"Country\":\"PG\",\"Date\":1528905414,\"Humidity\":100,\"Lat\":-2.57,\"Lng\":150.8,\"Max Temp\":78.97,\"Wind Speed\":5.41,\"hash\":7706148676883786726},\"190\":{\"City_ID\":190,\"City\":\"moron\",\"Cloudiness\":0,\"Country\":\"VE\",\"Date\":1528905415,\"Humidity\":70,\"Lat\":10.49,\"Lng\":-68.2,\"Max Temp\":81.67,\"Wind Speed\":3.06,\"hash\":-5433428783217430874},\"191\":{\"City_ID\":191,\"City\":\"fortuna\",\"Cloudiness\":20,\"Country\":\"ES\",\"Date\":1528903800,\"Humidity\":64,\"Lat\":38.18,\"Lng\":-1.13,\"Max Temp\":86.0,\"Wind Speed\":12.75,\"hash\":3234581370704910367},\"192\":{\"City_ID\":192,\"City\":\"pangnirtung\",\"Cloudiness\":90,\"Country\":\"CA\",\"Date\":1528902000,\"Humidity\":93,\"Lat\":66.15,\"Lng\":-65.72,\"Max Temp\":35.6,\"Wind Speed\":4.7,\"hash\":-8656346646271434873},\"193\":{\"City_ID\":193,\"City\":\"paamiut\",\"Cloudiness\":68,\"Country\":\"GL\",\"Date\":1528905416,\"Humidity\":100,\"Lat\":61.99,\"Lng\":-49.67,\"Max Temp\":35.32,\"Wind Speed\":12.46,\"hash\":889509854351696744},\"194\":{\"City_ID\":194,\"City\":\"juegang\",\"Cloudiness\":36,\"Country\":\"CN\",\"Date\":1528905417,\"Humidity\":76,\"Lat\":32.31,\"Lng\":121.18,\"Max Temp\":75.28,\"Wind Speed\":16.6,\"hash\":-897072880906298586},\"195\":{\"City_ID\":195,\"City\":\"kiama\",\"Cloudiness\":0,\"Country\":\"AU\",\"Date\":1528905418,\"Humidity\":86,\"Lat\":-34.67,\"Lng\":150.86,\"Max Temp\":50.44,\"Wind Speed\":6.87,\"hash\":-430179910514773993},\"196\":{\"City_ID\":196,\"City\":\"yamada\",\"Cloudiness\":20,\"Country\":\"JP\",\"Date\":1528902000,\"Humidity\":72,\"Lat\":36.58,\"Lng\":137.08,\"Max Temp\":60.8,\"Wind Speed\":14.99,\"hash\":6930993659948471651},\"197\":{\"City_ID\":197,\"City\":\"russell\",\"Cloudiness\":0,\"Country\":\"AR\",\"Date\":1528902000,\"Humidity\":48,\"Lat\":-33.01,\"Lng\":-68.8,\"Max Temp\":42.8,\"Wind Speed\":3.36,\"hash\":7798865003605146979},\"198\":{\"City_ID\":198,\"City\":\"port hawkesbury\",\"Cloudiness\":1,\"Country\":\"CA\",\"Date\":1528902000,\"Humidity\":63,\"Lat\":45.62,\"Lng\":-61.36,\"Max Temp\":64.4,\"Wind Speed\":16.11,\"hash\":8038116772088251557},\"199\":{\"City_ID\":199,\"City\":\"naze\",\"Cloudiness\":75,\"Country\":\"NG\",\"Date\":1528902000,\"Humidity\":62,\"Lat\":5.43,\"Lng\":7.07,\"Max Temp\":89.6,\"Wind Speed\":9.17,\"hash\":-8161180100148806497},\"200\":{\"City_ID\":200,\"City\":\"namibe\",\"Cloudiness\":0,\"Country\":\"AO\",\"Date\":1528905419,\"Humidity\":89,\"Lat\":-15.19,\"Lng\":12.15,\"Max Temp\":74.02,\"Wind Speed\":17.49,\"hash\":2874287436238049994},\"201\":{\"City_ID\":201,\"City\":\"lodja\",\"Cloudiness\":0,\"Country\":\"CD\",\"Date\":1528905419,\"Humidity\":20,\"Lat\":-3.52,\"Lng\":23.6,\"Max Temp\":94.36,\"Wind Speed\":4.97,\"hash\":-7736489324368570516},\"202\":{\"City_ID\":202,\"City\":\"basco\",\"Cloudiness\":1,\"Country\":\"US\",\"Date\":1528904100,\"Humidity\":44,\"Lat\":40.33,\"Lng\":-91.2,\"Max Temp\":77.0,\"Wind Speed\":13.87,\"hash\":56125492077572432},\"203\":{\"City_ID\":203,\"City\":\"suleja\",\"Cloudiness\":20,\"Country\":\"NG\",\"Date\":1528905420,\"Humidity\":74,\"Lat\":9.18,\"Lng\":7.18,\"Max Temp\":87.34,\"Wind Speed\":2.95,\"hash\":-3706045978170444120},\"204\":{\"City_ID\":204,\"City\":\"tazovskiy\",\"Cloudiness\":12,\"Country\":\"RU\",\"Date\":1528905420,\"Humidity\":60,\"Lat\":67.47,\"Lng\":78.7,\"Max Temp\":67.72,\"Wind Speed\":14.81,\"hash\":8285624831457417856},\"205\":{\"City_ID\":205,\"City\":\"waterloo\",\"Cloudiness\":75,\"Country\":\"CA\",\"Date\":1528902000,\"Humidity\":78,\"Lat\":43.47,\"Lng\":-80.52,\"Max Temp\":75.2,\"Wind Speed\":12.75,\"hash\":-6113696914725725642},\"206\":{\"City_ID\":206,\"City\":\"kruisfontein\",\"Cloudiness\":0,\"Country\":\"ZA\",\"Date\":1528905421,\"Humidity\":47,\"Lat\":-34.0,\"Lng\":24.73,\"Max Temp\":75.82,\"Wind Speed\":8.43,\"hash\":-6015697994074709533},\"207\":{\"City_ID\":207,\"City\":\"hithadhoo\",\"Cloudiness\":12,\"Country\":\"MV\",\"Date\":1528905421,\"Humidity\":100,\"Lat\":-0.6,\"Lng\":73.08,\"Max Temp\":83.65,\"Wind Speed\":6.42,\"hash\":3596501972130017981},\"208\":{\"City_ID\":208,\"City\":\"aqtobe\",\"Cloudiness\":0,\"Country\":\"KZ\",\"Date\":1528902000,\"Humidity\":24,\"Lat\":50.28,\"Lng\":57.21,\"Max Temp\":71.6,\"Wind Speed\":6.71,\"hash\":1974753654982756501},\"209\":{\"City_ID\":209,\"City\":\"trinidad\",\"Cloudiness\":75,\"Country\":\"UY\",\"Date\":1528902000,\"Humidity\":76,\"Lat\":-33.52,\"Lng\":-56.9,\"Max Temp\":50.0,\"Wind Speed\":17.22,\"hash\":-7182474999154011629},\"210\":{\"City_ID\":210,\"City\":\"jasper\",\"Cloudiness\":12,\"Country\":\"US\",\"Date\":1528904100,\"Humidity\":83,\"Lat\":33.83,\"Lng\":-87.28,\"Max Temp\":78.8,\"Wind Speed\":5.19,\"hash\":4073535278288190886},\"211\":{\"City_ID\":211,\"City\":\"tempio pausania\",\"Cloudiness\":40,\"Country\":\"IT\",\"Date\":1528903800,\"Humidity\":77,\"Lat\":40.9,\"Lng\":9.1,\"Max Temp\":69.8,\"Wind Speed\":11.41,\"hash\":-3864286928073517037},\"212\":{\"City_ID\":212,\"City\":\"kununurra\",\"Cloudiness\":75,\"Country\":\"AU\",\"Date\":1528902000,\"Humidity\":73,\"Lat\":-15.77,\"Lng\":128.74,\"Max Temp\":73.4,\"Wind Speed\":5.82,\"hash\":-7153681135601118163},\"213\":{\"City_ID\":213,\"City\":\"zhob\",\"Cloudiness\":0,\"Country\":\"PK\",\"Date\":1528905423,\"Humidity\":10,\"Lat\":31.34,\"Lng\":69.45,\"Max Temp\":80.95,\"Wind Speed\":5.64,\"hash\":-4248550723055247160},\"214\":{\"City_ID\":214,\"City\":\"los llanos de aridane\",\"Cloudiness\":20,\"Country\":\"ES\",\"Date\":1528903800,\"Humidity\":60,\"Lat\":28.66,\"Lng\":-17.92,\"Max Temp\":73.4,\"Wind Speed\":12.75,\"hash\":-1187879776879678321},\"215\":{\"City_ID\":215,\"City\":\"nohar\",\"Cloudiness\":0,\"Country\":\"IN\",\"Date\":1528905423,\"Humidity\":22,\"Lat\":29.18,\"Lng\":74.77,\"Max Temp\":98.5,\"Wind Speed\":9.55,\"hash\":-7811692178436934474},\"216\":{\"City_ID\":216,\"City\":\"sainte-suzanne\",\"Cloudiness\":76,\"Country\":\"CH\",\"Date\":1528903800,\"Humidity\":48,\"Lat\":47.51,\"Lng\":6.77,\"Max Temp\":66.2,\"Wind Speed\":10.29,\"hash\":-5399816052813367769},\"217\":{\"City_ID\":217,\"City\":\"crotone\",\"Cloudiness\":0,\"Country\":\"IT\",\"Date\":1528901400,\"Humidity\":42,\"Lat\":39.09,\"Lng\":17.12,\"Max Temp\":82.4,\"Wind Speed\":23.04,\"hash\":3025969064540093525},\"218\":{\"City_ID\":218,\"City\":\"gambela\",\"Cloudiness\":92,\"Country\":\"ET\",\"Date\":1528905424,\"Humidity\":94,\"Lat\":8.25,\"Lng\":34.59,\"Max Temp\":68.62,\"Wind Speed\":2.95,\"hash\":4728899741136406077},\"219\":{\"City_ID\":219,\"City\":\"kavaratti\",\"Cloudiness\":80,\"Country\":\"IN\",\"Date\":1528905424,\"Humidity\":100,\"Lat\":10.57,\"Lng\":72.64,\"Max Temp\":81.67,\"Wind Speed\":22.64,\"hash\":-7355751326476393287},\"220\":{\"City_ID\":220,\"City\":\"ust-ilimsk\",\"Cloudiness\":12,\"Country\":\"RU\",\"Date\":1528905425,\"Humidity\":87,\"Lat\":57.96,\"Lng\":102.73,\"Max Temp\":60.61,\"Wind Speed\":1.95,\"hash\":7945313387745551707},\"221\":{\"City_ID\":221,\"City\":\"leo\",\"Cloudiness\":0,\"Country\":\"BF\",\"Date\":1528905429,\"Humidity\":66,\"Lat\":11.1,\"Lng\":-2.1,\"Max Temp\":94.72,\"Wind Speed\":4.63,\"hash\":-658853334589202475},\"222\":{\"City_ID\":222,\"City\":\"totolapan\",\"Cloudiness\":75,\"Country\":\"MX\",\"Date\":1528902840,\"Humidity\":77,\"Lat\":18.99,\"Lng\":-98.92,\"Max Temp\":59.0,\"Wind Speed\":5.82,\"hash\":8476117751440830483},\"223\":{\"City_ID\":223,\"City\":\"funtua\",\"Cloudiness\":44,\"Country\":\"NG\",\"Date\":1528905429,\"Humidity\":50,\"Lat\":11.52,\"Lng\":7.31,\"Max Temp\":90.67,\"Wind Speed\":2.17,\"hash\":-3919371890377743389},\"224\":{\"City_ID\":224,\"City\":\"salalah\",\"Cloudiness\":75,\"Country\":\"OM\",\"Date\":1528901400,\"Humidity\":89,\"Lat\":17.01,\"Lng\":54.1,\"Max Temp\":84.2,\"Wind Speed\":10.29,\"hash\":-772497596411095368},\"225\":{\"City_ID\":225,\"City\":\"burnie\",\"Cloudiness\":92,\"Country\":\"AU\",\"Date\":1528905430,\"Humidity\":100,\"Lat\":-41.05,\"Lng\":145.91,\"Max Temp\":51.88,\"Wind Speed\":21.07,\"hash\":2261807772022823358},\"226\":{\"City_ID\":226,\"City\":\"boulder city\",\"Cloudiness\":1,\"Country\":\"US\",\"Date\":1528902900,\"Humidity\":11,\"Lat\":35.98,\"Lng\":-114.83,\"Max Temp\":89.6,\"Wind Speed\":3.51,\"hash\":50718138993912077},\"227\":{\"City_ID\":227,\"City\":\"massakory\",\"Cloudiness\":0,\"Country\":\"TD\",\"Date\":1528905431,\"Humidity\":46,\"Lat\":13.0,\"Lng\":15.73,\"Max Temp\":100.21,\"Wind Speed\":6.98,\"hash\":3980144443587203131},\"228\":{\"City_ID\":228,\"City\":\"arlit\",\"Cloudiness\":0,\"Country\":\"NE\",\"Date\":1528905432,\"Humidity\":14,\"Lat\":18.74,\"Lng\":7.39,\"Max Temp\":110.92,\"Wind Speed\":4.74,\"hash\":-6164161032522288256},\"229\":{\"City_ID\":229,\"City\":\"zhigansk\",\"Cloudiness\":0,\"Country\":\"RU\",\"Date\":1528905432,\"Humidity\":56,\"Lat\":66.77,\"Lng\":123.37,\"Max Temp\":56.83,\"Wind Speed\":4.97,\"hash\":1019772517663407916},\"230\":{\"City_ID\":230,\"City\":\"florianopolis\",\"Cloudiness\":40,\"Country\":\"BR\",\"Date\":1528902000,\"Humidity\":64,\"Lat\":-27.6,\"Lng\":-48.55,\"Max Temp\":69.8,\"Wind Speed\":3.36,\"hash\":7737987074527292862},\"231\":{\"City_ID\":231,\"City\":\"lavrentiya\",\"Cloudiness\":0,\"Country\":\"RU\",\"Date\":1528905432,\"Humidity\":76,\"Lat\":65.58,\"Lng\":-170.99,\"Max Temp\":35.95,\"Wind Speed\":8.43,\"hash\":-279418514159954663},\"232\":{\"City_ID\":232,\"City\":\"bluefield\",\"Cloudiness\":90,\"Country\":\"US\",\"Date\":1528902900,\"Humidity\":78,\"Lat\":37.27,\"Lng\":-81.22,\"Max Temp\":78.8,\"Wind Speed\":11.41,\"hash\":-1320142271174274965},\"233\":{\"City_ID\":233,\"City\":\"te anau\",\"Cloudiness\":8,\"Country\":\"NZ\",\"Date\":1528905433,\"Humidity\":80,\"Lat\":-45.41,\"Lng\":167.72,\"Max Temp\":27.22,\"Wind Speed\":2.84,\"hash\":4705482943771667303},\"234\":{\"City_ID\":234,\"City\":\"marawi\",\"Cloudiness\":44,\"Country\":\"PH\",\"Date\":1528905433,\"Humidity\":99,\"Lat\":8.0,\"Lng\":124.29,\"Max Temp\":66.73,\"Wind Speed\":2.28,\"hash\":1035584940941979806},\"235\":{\"City_ID\":235,\"City\":\"amapa\",\"Cloudiness\":75,\"Country\":\"HN\",\"Date\":1528905600,\"Humidity\":83,\"Lat\":15.09,\"Lng\":-87.97,\"Max Temp\":84.2,\"Wind Speed\":4.7,\"hash\":588708474125501314},\"236\":{\"City_ID\":236,\"City\":\"palmer\",\"Cloudiness\":75,\"Country\":\"AU\",\"Date\":1528902000,\"Humidity\":82,\"Lat\":-34.85,\"Lng\":139.16,\"Max Temp\":55.4,\"Wind Speed\":17.22,\"hash\":259365321191144284},\"237\":{\"City_ID\":237,\"City\":\"cidreira\",\"Cloudiness\":0,\"Country\":\"BR\",\"Date\":1528905434,\"Humidity\":81,\"Lat\":-30.17,\"Lng\":-50.22,\"Max Temp\":51.97,\"Wind Speed\":26.33,\"hash\":-2828785562955037554},\"238\":{\"City_ID\":238,\"City\":\"saint-pierre\",\"Cloudiness\":90,\"Country\":\"FR\",\"Date\":1528903800,\"Humidity\":67,\"Lat\":48.95,\"Lng\":4.24,\"Max Temp\":66.2,\"Wind Speed\":12.75,\"hash\":-6779661605500592599},\"239\":{\"City_ID\":239,\"City\":\"aykhal\",\"Cloudiness\":32,\"Country\":\"RU\",\"Date\":1528905439,\"Humidity\":57,\"Lat\":65.95,\"Lng\":111.51,\"Max Temp\":62.23,\"Wind Speed\":4.74,\"hash\":-6520272690940539859},\"240\":{\"City_ID\":240,\"City\":\"ondangwa\",\"Cloudiness\":0,\"Country\":null,\"Date\":1528902000,\"Humidity\":13,\"Lat\":-17.91,\"Lng\":15.98,\"Max Temp\":84.2,\"Wind Speed\":2.24,\"hash\":-245256846559299544},\"241\":{\"City_ID\":241,\"City\":\"pitimbu\",\"Cloudiness\":40,\"Country\":\"BR\",\"Date\":1528902000,\"Humidity\":54,\"Lat\":-7.47,\"Lng\":-34.81,\"Max Temp\":84.2,\"Wind Speed\":17.22,\"hash\":4515027460166063960},\"242\":{\"City_ID\":242,\"City\":\"grandview\",\"Cloudiness\":1,\"Country\":\"US\",\"Date\":1528905300,\"Humidity\":65,\"Lat\":38.89,\"Lng\":-94.53,\"Max Temp\":80.6,\"Wind Speed\":10.29,\"hash\":550564383918371752},\"243\":{\"City_ID\":243,\"City\":\"williston\",\"Cloudiness\":1,\"Country\":\"US\",\"Date\":1528902900,\"Humidity\":36,\"Lat\":48.15,\"Lng\":-103.62,\"Max Temp\":71.6,\"Wind Speed\":8.05,\"hash\":-8919989461105372753},\"244\":{\"City_ID\":244,\"City\":\"maniitsoq\",\"Cloudiness\":68,\"Country\":\"GL\",\"Date\":1528905442,\"Humidity\":97,\"Lat\":65.42,\"Lng\":-52.9,\"Max Temp\":36.31,\"Wind Speed\":5.53,\"hash\":-8197850793262873634},\"245\":{\"City_ID\":245,\"City\":\"krasnyy yar\",\"Cloudiness\":92,\"Country\":\"RU\",\"Date\":1528905443,\"Humidity\":86,\"Lat\":50.7,\"Lng\":44.73,\"Max Temp\":64.03,\"Wind Speed\":8.21,\"hash\":-5838667564263241131},\"246\":{\"City_ID\":246,\"City\":\"nouadhibou\",\"Cloudiness\":20,\"Country\":\"MR\",\"Date\":1528902000,\"Humidity\":47,\"Lat\":20.93,\"Lng\":-17.03,\"Max Temp\":80.6,\"Wind Speed\":14.99,\"hash\":-4470334013047237653},\"247\":{\"City_ID\":247,\"City\":\"buritama\",\"Cloudiness\":68,\"Country\":\"BR\",\"Date\":1528905444,\"Humidity\":95,\"Lat\":-21.07,\"Lng\":-50.14,\"Max Temp\":75.1,\"Wind Speed\":6.31,\"hash\":-2624400106273021968},\"248\":{\"City_ID\":248,\"City\":\"longyearbyen\",\"Cloudiness\":90,\"Country\":\"NO\",\"Date\":1528901400,\"Humidity\":86,\"Lat\":78.22,\"Lng\":15.63,\"Max Temp\":33.8,\"Wind Speed\":18.34,\"hash\":-8226260137726053626},\"249\":{\"City_ID\":249,\"City\":\"lasa\",\"Cloudiness\":20,\"Country\":\"CY\",\"Date\":1528903800,\"Humidity\":74,\"Lat\":34.92,\"Lng\":32.53,\"Max Temp\":80.6,\"Wind Speed\":6.93,\"hash\":7602166639996969287},\"250\":{\"City_ID\":250,\"City\":\"college\",\"Cloudiness\":1,\"Country\":\"US\",\"Date\":1528901880,\"Humidity\":75,\"Lat\":64.86,\"Lng\":-147.8,\"Max Temp\":42.8,\"Wind Speed\":3.36,\"hash\":1669142735240544166},\"251\":{\"City_ID\":251,\"City\":\"ust-tsilma\",\"Cloudiness\":12,\"Country\":\"RU\",\"Date\":1528905445,\"Humidity\":84,\"Lat\":65.44,\"Lng\":52.15,\"Max Temp\":54.4,\"Wind Speed\":3.62,\"hash\":3101820848543165928},\"252\":{\"City_ID\":252,\"City\":\"saint-augustin\",\"Cloudiness\":64,\"Country\":\"FR\",\"Date\":1528903800,\"Humidity\":82,\"Lat\":44.83,\"Lng\":-0.61,\"Max Temp\":69.8,\"Wind Speed\":12.75,\"hash\":3002994399541329508},\"253\":{\"City_ID\":253,\"City\":\"berlevag\",\"Cloudiness\":75,\"Country\":\"NO\",\"Date\":1528901400,\"Humidity\":70,\"Lat\":70.86,\"Lng\":29.09,\"Max Temp\":42.8,\"Wind Speed\":13.87,\"hash\":-3567124787886583159},\"254\":{\"City_ID\":254,\"City\":\"havoysund\",\"Cloudiness\":75,\"Country\":\"NO\",\"Date\":1528903200,\"Humidity\":87,\"Lat\":71.0,\"Lng\":24.66,\"Max Temp\":42.8,\"Wind Speed\":13.87,\"hash\":-6757113300336168433},\"255\":{\"City_ID\":255,\"City\":\"kamina\",\"Cloudiness\":0,\"Country\":\"CD\",\"Date\":1528905450,\"Humidity\":23,\"Lat\":-8.74,\"Lng\":25.0,\"Max Temp\":85.0,\"Wind Speed\":7.99,\"hash\":6104714919492827635},\"256\":{\"City_ID\":256,\"City\":\"yaan\",\"Cloudiness\":48,\"Country\":\"NG\",\"Date\":1528905450,\"Humidity\":100,\"Lat\":7.38,\"Lng\":8.57,\"Max Temp\":85.9,\"Wind Speed\":7.09,\"hash\":104437899914880916},\"257\":{\"City_ID\":257,\"City\":\"makakilo city\",\"Cloudiness\":1,\"Country\":\"US\",\"Date\":1528901820,\"Humidity\":83,\"Lat\":21.35,\"Lng\":-158.09,\"Max Temp\":77.0,\"Wind Speed\":4.7,\"hash\":-1462488843409687925},\"258\":{\"City_ID\":258,\"City\":\"along\",\"Cloudiness\":100,\"Country\":\"IN\",\"Date\":1528905450,\"Humidity\":98,\"Lat\":28.17,\"Lng\":94.8,\"Max Temp\":68.89,\"Wind Speed\":1.5,\"hash\":-1516338577701792197},\"259\":{\"City_ID\":259,\"City\":\"vanimo\",\"Cloudiness\":88,\"Country\":\"PG\",\"Date\":1528905451,\"Humidity\":100,\"Lat\":-2.67,\"Lng\":141.3,\"Max Temp\":83.65,\"Wind Speed\":4.29,\"hash\":5711174339592150184},\"260\":{\"City_ID\":260,\"City\":\"hovd\",\"Cloudiness\":75,\"Country\":\"NO\",\"Date\":1528903200,\"Humidity\":48,\"Lat\":63.83,\"Lng\":10.7,\"Max Temp\":62.6,\"Wind Speed\":4.7,\"hash\":2325303135634313678},\"261\":{\"City_ID\":261,\"City\":\"la maddalena\",\"Cloudiness\":40,\"Country\":\"IT\",\"Date\":1528903200,\"Humidity\":57,\"Lat\":39.15,\"Lng\":9.02,\"Max Temp\":75.2,\"Wind Speed\":17.22,\"hash\":6955663393173980914},\"262\":{\"City_ID\":262,\"City\":\"grand gaube\",\"Cloudiness\":75,\"Country\":\"MU\",\"Date\":1528902000,\"Humidity\":69,\"Lat\":-20.01,\"Lng\":57.66,\"Max Temp\":75.2,\"Wind Speed\":14.99,\"hash\":-8177347663142990968},\"263\":{\"City_ID\":263,\"City\":\"novoagansk\",\"Cloudiness\":20,\"Country\":\"RU\",\"Date\":1528905453,\"Humidity\":37,\"Lat\":61.94,\"Lng\":76.66,\"Max Temp\":67.81,\"Wind Speed\":8.43,\"hash\":-3847705104623470666},\"264\":{\"City_ID\":264,\"City\":\"kearney\",\"Cloudiness\":90,\"Country\":\"US\",\"Date\":1528902900,\"Humidity\":64,\"Lat\":40.7,\"Lng\":-99.08,\"Max Temp\":71.6,\"Wind Speed\":14.99,\"hash\":7571507107668481276},\"265\":{\"City_ID\":265,\"City\":\"geraldton\",\"Cloudiness\":75,\"Country\":\"CA\",\"Date\":1528902000,\"Humidity\":63,\"Lat\":49.72,\"Lng\":-86.95,\"Max Temp\":62.6,\"Wind Speed\":8.05,\"hash\":1392090184689098565},\"266\":{\"City_ID\":266,\"City\":\"castro\",\"Cloudiness\":0,\"Country\":\"CL\",\"Date\":1528905454,\"Humidity\":99,\"Lat\":-42.48,\"Lng\":-73.76,\"Max Temp\":39.73,\"Wind Speed\":2.73,\"hash\":8444806548007734094},\"267\":{\"City_ID\":267,\"City\":\"luganville\",\"Cloudiness\":92,\"Country\":\"VU\",\"Date\":1528905455,\"Humidity\":100,\"Lat\":-15.51,\"Lng\":167.18,\"Max Temp\":75.19,\"Wind Speed\":4.85,\"hash\":-3554150175354485796},\"268\":{\"City_ID\":268,\"City\":\"mahebourg\",\"Cloudiness\":75,\"Country\":\"MU\",\"Date\":1528902000,\"Humidity\":69,\"Lat\":-20.41,\"Lng\":57.7,\"Max Temp\":75.2,\"Wind Speed\":14.99,\"hash\":9165005971751558536},\"269\":{\"City_ID\":269,\"City\":\"vostok\",\"Cloudiness\":44,\"Country\":\"RU\",\"Date\":1528905455,\"Humidity\":83,\"Lat\":46.45,\"Lng\":135.83,\"Max Temp\":45.04,\"Wind Speed\":1.95,\"hash\":3970510942107392282},\"270\":{\"City_ID\":270,\"City\":\"esperance\",\"Cloudiness\":75,\"Country\":\"TT\",\"Date\":1528902000,\"Humidity\":88,\"Lat\":10.24,\"Lng\":-61.45,\"Max Temp\":80.6,\"Wind Speed\":12.75,\"hash\":-1323124815433086826},\"271\":{\"City_ID\":271,\"City\":\"fare\",\"Cloudiness\":0,\"Country\":\"PF\",\"Date\":1528905456,\"Humidity\":100,\"Lat\":-16.7,\"Lng\":-151.02,\"Max Temp\":79.42,\"Wind Speed\":13.91,\"hash\":8735675737598200799},\"272\":{\"City_ID\":272,\"City\":\"toora-khem\",\"Cloudiness\":92,\"Country\":\"RU\",\"Date\":1528905456,\"Humidity\":83,\"Lat\":52.47,\"Lng\":96.11,\"Max Temp\":57.82,\"Wind Speed\":2.84,\"hash\":4945658367461860842},\"273\":{\"City_ID\":273,\"City\":\"santa rita\",\"Cloudiness\":36,\"Country\":\"VE\",\"Date\":1528905458,\"Humidity\":64,\"Lat\":10.21,\"Lng\":-67.56,\"Max Temp\":83.65,\"Wind Speed\":2.73,\"hash\":3571115288087914379},\"274\":{\"City_ID\":274,\"City\":\"west bay\",\"Cloudiness\":40,\"Country\":\"GB\",\"Date\":1528903200,\"Humidity\":77,\"Lat\":50.71,\"Lng\":-2.76,\"Max Temp\":68.0,\"Wind Speed\":12.75,\"hash\":5464502592718851132},\"275\":{\"City_ID\":275,\"City\":\"gamba\",\"Cloudiness\":92,\"Country\":\"CN\",\"Date\":1528905459,\"Humidity\":91,\"Lat\":28.28,\"Lng\":88.52,\"Max Temp\":32.35,\"Wind Speed\":2.28,\"hash\":-4580705967740705017},\"276\":{\"City_ID\":276,\"City\":\"rudnya\",\"Cloudiness\":92,\"Country\":\"RU\",\"Date\":1528905459,\"Humidity\":88,\"Lat\":50.8,\"Lng\":44.56,\"Max Temp\":63.31,\"Wind Speed\":7.65,\"hash\":8808746100761884678},\"277\":{\"City_ID\":277,\"City\":\"norman wells\",\"Cloudiness\":90,\"Country\":\"CA\",\"Date\":1528902000,\"Humidity\":65,\"Lat\":65.28,\"Lng\":-126.83,\"Max Temp\":44.6,\"Wind Speed\":5.82,\"hash\":4935977058867108472},\"278\":{\"City_ID\":278,\"City\":\"salinas\",\"Cloudiness\":1,\"Country\":\"US\",\"Date\":1528904100,\"Humidity\":67,\"Lat\":36.67,\"Lng\":-121.66,\"Max Temp\":60.8,\"Wind Speed\":3.62,\"hash\":-1513169327846294954},\"279\":{\"City_ID\":279,\"City\":\"ugoofaaru\",\"Cloudiness\":80,\"Country\":\"MV\",\"Date\":1528905461,\"Humidity\":100,\"Lat\":5.67,\"Lng\":73.0,\"Max Temp\":82.93,\"Wind Speed\":8.77,\"hash\":7919127462620367722},\"280\":{\"City_ID\":280,\"City\":\"kiunga\",\"Cloudiness\":88,\"Country\":\"PG\",\"Date\":1528905464,\"Humidity\":94,\"Lat\":-6.12,\"Lng\":141.3,\"Max Temp\":74.29,\"Wind Speed\":2.06,\"hash\":-451428032322859846},\"281\":{\"City_ID\":281,\"City\":\"koumac\",\"Cloudiness\":76,\"Country\":\"NC\",\"Date\":1528905465,\"Humidity\":96,\"Lat\":-20.56,\"Lng\":164.28,\"Max Temp\":67.9,\"Wind Speed\":4.07,\"hash\":8473294564950206668},\"282\":{\"City_ID\":282,\"City\":\"adre\",\"Cloudiness\":20,\"Country\":\"TD\",\"Date\":1528905465,\"Humidity\":16,\"Lat\":13.47,\"Lng\":22.2,\"Max Temp\":103.27,\"Wind Speed\":8.66,\"hash\":6378503325391082176},\"283\":{\"City_ID\":283,\"City\":\"ahtopol\",\"Cloudiness\":0,\"Country\":\"BG\",\"Date\":1528903800,\"Humidity\":57,\"Lat\":42.1,\"Lng\":27.94,\"Max Temp\":77.0,\"Wind Speed\":13.87,\"hash\":1862069304000667796},\"284\":{\"City_ID\":284,\"City\":\"slantsy\",\"Cloudiness\":0,\"Country\":\"RU\",\"Date\":1528905466,\"Humidity\":55,\"Lat\":59.12,\"Lng\":28.09,\"Max Temp\":62.5,\"Wind Speed\":4.18,\"hash\":4717200721972771923},\"285\":{\"City_ID\":285,\"City\":\"mallaig\",\"Cloudiness\":92,\"Country\":\"GB\",\"Date\":1528905466,\"Humidity\":99,\"Lat\":57.01,\"Lng\":-5.83,\"Max Temp\":53.95,\"Wind Speed\":24.09,\"hash\":-404527885201942827},\"286\":{\"City_ID\":286,\"City\":\"auch\",\"Cloudiness\":40,\"Country\":\"FR\",\"Date\":1528903800,\"Humidity\":56,\"Lat\":43.65,\"Lng\":0.59,\"Max Temp\":73.4,\"Wind Speed\":10.29,\"hash\":-2381008067809240968},\"287\":{\"City_ID\":287,\"City\":\"pathein\",\"Cloudiness\":92,\"Country\":\"MM\",\"Date\":1528905467,\"Humidity\":96,\"Lat\":16.78,\"Lng\":94.73,\"Max Temp\":76.9,\"Wind Speed\":14.81,\"hash\":8284474526282269914},\"288\":{\"City_ID\":288,\"City\":\"maceio\",\"Cloudiness\":75,\"Country\":\"BR\",\"Date\":1528905600,\"Humidity\":88,\"Lat\":-9.67,\"Lng\":-35.74,\"Max Temp\":75.2,\"Wind Speed\":6.93,\"hash\":-38057670362810220},\"289\":{\"City_ID\":289,\"City\":\"oloron-sainte-marie\",\"Cloudiness\":88,\"Country\":\"FR\",\"Date\":1528903800,\"Humidity\":93,\"Lat\":43.19,\"Lng\":-0.61,\"Max Temp\":68.0,\"Wind Speed\":11.41,\"hash\":-3613555681000139710},\"290\":{\"City_ID\":290,\"City\":\"isangel\",\"Cloudiness\":68,\"Country\":\"VU\",\"Date\":1528905468,\"Humidity\":100,\"Lat\":-19.55,\"Lng\":169.27,\"Max Temp\":74.2,\"Wind Speed\":14.36,\"hash\":-5467353642350980576},\"291\":{\"City_ID\":291,\"City\":\"manglaur\",\"Cloudiness\":0,\"Country\":\"IN\",\"Date\":1528905468,\"Humidity\":64,\"Lat\":29.79,\"Lng\":77.88,\"Max Temp\":82.57,\"Wind Speed\":2.39,\"hash\":8202014267046996890},\"292\":{\"City_ID\":292,\"City\":\"wenling\",\"Cloudiness\":92,\"Country\":\"CN\",\"Date\":1528905468,\"Humidity\":95,\"Lat\":28.38,\"Lng\":121.38,\"Max Temp\":74.56,\"Wind Speed\":3.96,\"hash\":-7411077514155680332},\"293\":{\"City_ID\":293,\"City\":\"pak phanang\",\"Cloudiness\":48,\"Country\":\"TH\",\"Date\":1528905469,\"Humidity\":93,\"Lat\":8.35,\"Lng\":100.2,\"Max Temp\":85.99,\"Wind Speed\":10.22,\"hash\":-4461913742662635318},\"294\":{\"City_ID\":294,\"City\":\"aksay\",\"Cloudiness\":0,\"Country\":\"RU\",\"Date\":1528905469,\"Humidity\":21,\"Lat\":47.27,\"Lng\":39.86,\"Max Temp\":87.43,\"Wind Speed\":3.74,\"hash\":2743250912743474950},\"295\":{\"City_ID\":295,\"City\":\"baghdad\",\"Cloudiness\":0,\"Country\":\"IQ\",\"Date\":1528902000,\"Humidity\":14,\"Lat\":33.3,\"Lng\":44.38,\"Max Temp\":104.0,\"Wind Speed\":4.7,\"hash\":7125561153599256155},\"296\":{\"City_ID\":296,\"City\":\"fort nelson\",\"Cloudiness\":90,\"Country\":\"CA\",\"Date\":1528902000,\"Humidity\":86,\"Lat\":58.81,\"Lng\":-122.69,\"Max Temp\":41.0,\"Wind Speed\":9.17,\"hash\":-3543376074716412420},\"297\":{\"City_ID\":297,\"City\":\"fuerte olimpo\",\"Cloudiness\":92,\"Country\":\"BR\",\"Date\":1528905470,\"Humidity\":75,\"Lat\":-21.04,\"Lng\":-57.87,\"Max Temp\":60.97,\"Wind Speed\":12.8,\"hash\":-5498954955037597089},\"298\":{\"City_ID\":298,\"City\":\"bandarban\",\"Cloudiness\":90,\"Country\":\"BD\",\"Date\":1528902000,\"Humidity\":94,\"Lat\":22.2,\"Lng\":92.22,\"Max Temp\":80.6,\"Wind Speed\":13.87,\"hash\":3133192645177359090},\"299\":{\"City_ID\":299,\"City\":\"mao\",\"Cloudiness\":40,\"Country\":\"DO\",\"Date\":1528902000,\"Humidity\":62,\"Lat\":19.55,\"Lng\":-71.08,\"Max Temp\":89.6,\"Wind Speed\":12.75,\"hash\":6775295539349936912},\"300\":{\"City_ID\":300,\"City\":\"christchurch\",\"Cloudiness\":100,\"Country\":\"NZ\",\"Date\":1528903800,\"Humidity\":93,\"Lat\":-43.53,\"Lng\":172.64,\"Max Temp\":48.2,\"Wind Speed\":8.05,\"hash\":-523669892094045862},\"301\":{\"City_ID\":301,\"City\":\"goderich\",\"Cloudiness\":32,\"Country\":\"CA\",\"Date\":1528905435,\"Humidity\":88,\"Lat\":43.74,\"Lng\":-81.71,\"Max Temp\":68.17,\"Wind Speed\":11.45,\"hash\":8543864853579741642},\"302\":{\"City_ID\":302,\"City\":\"kizema\",\"Cloudiness\":56,\"Country\":\"RU\",\"Date\":1528905476,\"Humidity\":66,\"Lat\":61.11,\"Lng\":44.83,\"Max Temp\":53.86,\"Wind Speed\":18.39,\"hash\":9070320643236956594},\"303\":{\"City_ID\":303,\"City\":\"quatre cocos\",\"Cloudiness\":75,\"Country\":\"MU\",\"Date\":1528902000,\"Humidity\":69,\"Lat\":-20.21,\"Lng\":57.76,\"Max Temp\":75.2,\"Wind Speed\":14.99,\"hash\":-7022911579582446220},\"304\":{\"City_ID\":304,\"City\":\"kalur kot\",\"Cloudiness\":44,\"Country\":\"PK\",\"Date\":1528905476,\"Humidity\":41,\"Lat\":32.16,\"Lng\":71.27,\"Max Temp\":91.03,\"Wind Speed\":1.95,\"hash\":-2515319695997865441},\"305\":{\"City_ID\":305,\"City\":\"singaraja\",\"Cloudiness\":64,\"Country\":\"ID\",\"Date\":1528905476,\"Humidity\":100,\"Lat\":-8.11,\"Lng\":115.08,\"Max Temp\":66.73,\"Wind Speed\":1.95,\"hash\":-2819459306034192075},\"306\":{\"City_ID\":306,\"City\":\"coquimbo\",\"Cloudiness\":0,\"Country\":\"CL\",\"Date\":1528902000,\"Humidity\":62,\"Lat\":-29.95,\"Lng\":-71.34,\"Max Temp\":53.6,\"Wind Speed\":8.05,\"hash\":-3728229811718382994},\"307\":{\"City_ID\":307,\"City\":\"urengoy\",\"Cloudiness\":12,\"Country\":\"RU\",\"Date\":1528905477,\"Humidity\":59,\"Lat\":65.96,\"Lng\":78.37,\"Max Temp\":69.25,\"Wind Speed\":12.24,\"hash\":6038599286702311534},\"308\":{\"City_ID\":308,\"City\":\"yaypan\",\"Cloudiness\":24,\"Country\":\"UZ\",\"Date\":1528905477,\"Humidity\":43,\"Lat\":40.38,\"Lng\":70.82,\"Max Temp\":76.54,\"Wind Speed\":3.62,\"hash\":4980628103211683482},\"309\":{\"City_ID\":309,\"City\":\"seoul\",\"Cloudiness\":75,\"Country\":\"KR\",\"Date\":1528902000,\"Humidity\":68,\"Lat\":37.57,\"Lng\":126.98,\"Max Temp\":71.6,\"Wind Speed\":3.36,\"hash\":877378439740461945},\"310\":{\"City_ID\":310,\"City\":\"acopiara\",\"Cloudiness\":0,\"Country\":\"BR\",\"Date\":1528905477,\"Humidity\":51,\"Lat\":-6.09,\"Lng\":-39.45,\"Max Temp\":83.2,\"Wind Speed\":11.23,\"hash\":8870005696571304260},\"311\":{\"City_ID\":311,\"City\":\"warrnambool\",\"Cloudiness\":76,\"Country\":\"AU\",\"Date\":1528905363,\"Humidity\":100,\"Lat\":-38.38,\"Lng\":142.48,\"Max Temp\":51.43,\"Wind Speed\":17.72,\"hash\":295594458068770668},\"312\":{\"City_ID\":312,\"City\":\"phan thiet\",\"Cloudiness\":36,\"Country\":\"VN\",\"Date\":1528905478,\"Humidity\":100,\"Lat\":10.93,\"Lng\":108.1,\"Max Temp\":78.61,\"Wind Speed\":10.0,\"hash\":7729827991968922316},\"313\":{\"City_ID\":313,\"City\":\"ilebo\",\"Cloudiness\":12,\"Country\":\"CD\",\"Date\":1528905478,\"Humidity\":22,\"Lat\":-4.33,\"Lng\":20.59,\"Max Temp\":94.72,\"Wind Speed\":5.19,\"hash\":-7987218455687322479},\"314\":{\"City_ID\":314,\"City\":\"kijang\",\"Cloudiness\":40,\"Country\":\"KR\",\"Date\":1528902000,\"Humidity\":72,\"Lat\":35.24,\"Lng\":129.21,\"Max Temp\":68.0,\"Wind Speed\":13.87,\"hash\":7014478940598169824},\"315\":{\"City_ID\":315,\"City\":\"krasnogorsk\",\"Cloudiness\":75,\"Country\":\"RU\",\"Date\":1528902000,\"Humidity\":59,\"Lat\":55.82,\"Lng\":37.34,\"Max Temp\":69.8,\"Wind Speed\":13.42,\"hash\":-7914065385917000999},\"316\":{\"City_ID\":316,\"City\":\"husavik\",\"Cloudiness\":44,\"Country\":\"CA\",\"Date\":1528905479,\"Humidity\":72,\"Lat\":50.56,\"Lng\":-96.99,\"Max Temp\":67.27,\"Wind Speed\":7.31,\"hash\":-3904179546249107826},\"317\":{\"City_ID\":317,\"City\":\"araouane\",\"Cloudiness\":0,\"Country\":\"ML\",\"Date\":1528905479,\"Humidity\":15,\"Lat\":18.9,\"Lng\":-3.53,\"Max Temp\":111.46,\"Wind Speed\":5.75,\"hash\":2036371244688038999},\"318\":{\"City_ID\":318,\"City\":\"tilichiki\",\"Cloudiness\":0,\"Country\":\"RU\",\"Date\":1528905480,\"Humidity\":88,\"Lat\":60.47,\"Lng\":166.1,\"Max Temp\":37.93,\"Wind Speed\":2.62,\"hash\":-202291106660725108},\"319\":{\"City_ID\":319,\"City\":\"bosobolo\",\"Cloudiness\":20,\"Country\":\"CD\",\"Date\":1528905481,\"Humidity\":70,\"Lat\":4.19,\"Lng\":19.88,\"Max Temp\":84.19,\"Wind Speed\":6.42,\"hash\":7469774860420868999},\"320\":{\"City_ID\":320,\"City\":\"villarrobledo\",\"Cloudiness\":0,\"Country\":\"ES\",\"Date\":1528905482,\"Humidity\":28,\"Lat\":39.27,\"Lng\":-2.6,\"Max Temp\":76.99,\"Wind Speed\":12.01,\"hash\":1432223336310788031},\"321\":{\"City_ID\":321,\"City\":\"ribeira grande\",\"Cloudiness\":40,\"Country\":\"PT\",\"Date\":1528903800,\"Humidity\":83,\"Lat\":38.52,\"Lng\":-28.7,\"Max Temp\":75.2,\"Wind Speed\":11.41,\"hash\":-1198070814057403710},\"322\":{\"City_ID\":322,\"City\":\"shakawe\",\"Cloudiness\":0,\"Country\":\"BW\",\"Date\":1528905485,\"Humidity\":23,\"Lat\":-18.36,\"Lng\":21.84,\"Max Temp\":73.93,\"Wind Speed\":5.19,\"hash\":469863557624708684},\"323\":{\"City_ID\":323,\"City\":\"nemuro\",\"Cloudiness\":80,\"Country\":\"JP\",\"Date\":1528905486,\"Humidity\":100,\"Lat\":43.32,\"Lng\":145.57,\"Max Temp\":48.64,\"Wind Speed\":17.83,\"hash\":8454069245300045864},\"324\":{\"City_ID\":324,\"City\":\"miramar\",\"Cloudiness\":0,\"Country\":\"CR\",\"Date\":1528902000,\"Humidity\":61,\"Lat\":10.09,\"Lng\":-84.73,\"Max Temp\":80.6,\"Wind Speed\":3.36,\"hash\":-2353325523660749324},\"325\":{\"City_ID\":325,\"City\":\"kerman\",\"Cloudiness\":20,\"Country\":\"IR\",\"Date\":1528902000,\"Humidity\":5,\"Lat\":30.29,\"Lng\":57.06,\"Max Temp\":91.4,\"Wind Speed\":13.87,\"hash\":-6543548225007550770},\"326\":{\"City_ID\":326,\"City\":\"davidson\",\"Cloudiness\":40,\"Country\":\"US\",\"Date\":1528905600,\"Humidity\":65,\"Lat\":35.5,\"Lng\":-80.85,\"Max Temp\":78.8,\"Wind Speed\":4.7,\"hash\":7675796250480447520},\"327\":{\"City_ID\":327,\"City\":\"oksfjord\",\"Cloudiness\":40,\"Country\":\"NO\",\"Date\":1528903200,\"Humidity\":65,\"Lat\":70.24,\"Lng\":22.35,\"Max Temp\":46.4,\"Wind Speed\":10.29,\"hash\":1630774007966561562},\"328\":{\"City_ID\":328,\"City\":\"wattegama\",\"Cloudiness\":92,\"Country\":\"LK\",\"Date\":1528905487,\"Humidity\":97,\"Lat\":7.35,\"Lng\":80.68,\"Max Temp\":71.41,\"Wind Speed\":5.75,\"hash\":150441158965780614},\"329\":{\"City_ID\":329,\"City\":\"inyonga\",\"Cloudiness\":0,\"Country\":\"TZ\",\"Date\":1528905487,\"Humidity\":32,\"Lat\":-6.72,\"Lng\":32.06,\"Max Temp\":79.42,\"Wind Speed\":3.18,\"hash\":6442791440584467867},\"330\":{\"City_ID\":330,\"City\":\"saint george\",\"Cloudiness\":40,\"Country\":\"GR\",\"Date\":1528903200,\"Humidity\":54,\"Lat\":39.45,\"Lng\":22.34,\"Max Temp\":80.6,\"Wind Speed\":8.05,\"hash\":-7104503381378480918},\"331\":{\"City_ID\":331,\"City\":\"jabinyanah\",\"Cloudiness\":0,\"Country\":\"TN\",\"Date\":1528902000,\"Humidity\":47,\"Lat\":35.03,\"Lng\":10.91,\"Max Temp\":80.6,\"Wind Speed\":13.87,\"hash\":-6934695614591481662},\"332\":{\"City_ID\":332,\"City\":\"siddipet\",\"Cloudiness\":56,\"Country\":\"IN\",\"Date\":1528905488,\"Humidity\":58,\"Lat\":18.1,\"Lng\":78.85,\"Max Temp\":84.1,\"Wind Speed\":11.68,\"hash\":-4581526587267017384},\"333\":{\"City_ID\":333,\"City\":\"praia da vitoria\",\"Cloudiness\":40,\"Country\":\"PT\",\"Date\":1528902000,\"Humidity\":78,\"Lat\":38.73,\"Lng\":-27.07,\"Max Temp\":75.2,\"Wind Speed\":10.22,\"hash\":-7633284136902378292},\"334\":{\"City_ID\":334,\"City\":\"duluth\",\"Cloudiness\":1,\"Country\":\"US\",\"Date\":1528904100,\"Humidity\":46,\"Lat\":46.77,\"Lng\":-92.13,\"Max Temp\":73.4,\"Wind Speed\":8.05,\"hash\":-6742599546370626303},\"335\":{\"City_ID\":335,\"City\":\"oistins\",\"Cloudiness\":20,\"Country\":\"BB\",\"Date\":1528902000,\"Humidity\":66,\"Lat\":13.07,\"Lng\":-59.53,\"Max Temp\":86.0,\"Wind Speed\":25.28,\"hash\":5872083493028837158},\"336\":{\"City_ID\":336,\"City\":\"san onofre\",\"Cloudiness\":0,\"Country\":\"CO\",\"Date\":1528905495,\"Humidity\":93,\"Lat\":9.74,\"Lng\":-75.52,\"Max Temp\":86.44,\"Wind Speed\":5.3,\"hash\":-8408511799022488433},\"337\":{\"City_ID\":337,\"City\":\"avera\",\"Cloudiness\":90,\"Country\":\"US\",\"Date\":1528904100,\"Humidity\":83,\"Lat\":33.19,\"Lng\":-82.53,\"Max Temp\":78.8,\"Wind Speed\":3.74,\"hash\":9162174194678472852},\"338\":{\"City_ID\":338,\"City\":\"alizai\",\"Cloudiness\":0,\"Country\":\"PK\",\"Date\":1528905496,\"Humidity\":30,\"Lat\":33.94,\"Lng\":71.55,\"Max Temp\":89.77,\"Wind Speed\":3.29,\"hash\":-2852879912098163595},\"339\":{\"City_ID\":339,\"City\":\"bela\",\"Cloudiness\":36,\"Country\":\"PK\",\"Date\":1528905496,\"Humidity\":29,\"Lat\":26.23,\"Lng\":66.31,\"Max Temp\":93.37,\"Wind Speed\":10.33,\"hash\":8247678397299573126},\"340\":{\"City_ID\":340,\"City\":\"kalas\",\"Cloudiness\":0,\"Country\":\"PK\",\"Date\":1528903800,\"Humidity\":25,\"Lat\":33.49,\"Lng\":72.96,\"Max Temp\":98.6,\"Wind Speed\":4.97,\"hash\":-1484390903513987511},\"341\":{\"City_ID\":341,\"City\":\"gisborne\",\"Cloudiness\":12,\"Country\":\"NZ\",\"Date\":1528905498,\"Humidity\":86,\"Lat\":-38.66,\"Lng\":178.02,\"Max Temp\":52.6,\"Wind Speed\":10.67,\"hash\":-3712621170495240964},\"342\":{\"City_ID\":342,\"City\":\"yuryevets\",\"Cloudiness\":24,\"Country\":\"RU\",\"Date\":1528905498,\"Humidity\":69,\"Lat\":57.32,\"Lng\":43.11,\"Max Temp\":60.7,\"Wind Speed\":15.03,\"hash\":668890174298468417},\"343\":{\"City_ID\":343,\"City\":\"bundaberg\",\"Cloudiness\":88,\"Country\":\"AU\",\"Date\":1528905498,\"Humidity\":100,\"Lat\":-24.87,\"Lng\":152.35,\"Max Temp\":64.66,\"Wind Speed\":12.01,\"hash\":-8065280990855050582},\"344\":{\"City_ID\":344,\"City\":\"griffith\",\"Cloudiness\":80,\"Country\":\"AU\",\"Date\":1528905499,\"Humidity\":90,\"Lat\":-34.29,\"Lng\":146.06,\"Max Temp\":50.62,\"Wind Speed\":8.88,\"hash\":3085280767381373300},\"345\":{\"City_ID\":345,\"City\":\"raudeberg\",\"Cloudiness\":75,\"Country\":\"NO\",\"Date\":1528903200,\"Humidity\":71,\"Lat\":61.99,\"Lng\":5.14,\"Max Temp\":60.8,\"Wind Speed\":11.41,\"hash\":2580574975729146907},\"346\":{\"City_ID\":346,\"City\":\"rio gallegos\",\"Cloudiness\":20,\"Country\":\"AR\",\"Date\":1528902000,\"Humidity\":86,\"Lat\":-51.62,\"Lng\":-69.22,\"Max Temp\":33.8,\"Wind Speed\":5.82,\"hash\":681004766924669276},\"347\":{\"City_ID\":347,\"City\":\"antalaha\",\"Cloudiness\":88,\"Country\":\"MG\",\"Date\":1528905500,\"Humidity\":85,\"Lat\":-14.9,\"Lng\":50.28,\"Max Temp\":75.01,\"Wind Speed\":14.14,\"hash\":-7026819367892099061},\"348\":{\"City_ID\":348,\"City\":\"houma\",\"Cloudiness\":0,\"Country\":\"CN\",\"Date\":1528905500,\"Humidity\":58,\"Lat\":35.63,\"Lng\":111.36,\"Max Temp\":62.32,\"Wind Speed\":2.51,\"hash\":-3960106010956751725},\"349\":{\"City_ID\":349,\"City\":\"verkhoyansk\",\"Cloudiness\":0,\"Country\":\"RU\",\"Date\":1528905500,\"Humidity\":63,\"Lat\":67.55,\"Lng\":133.39,\"Max Temp\":56.29,\"Wind Speed\":2.62,\"hash\":-8612977747023996080},\"350\":{\"City_ID\":350,\"City\":\"donskoye\",\"Cloudiness\":0,\"Country\":\"RU\",\"Date\":1528902000,\"Humidity\":30,\"Lat\":45.45,\"Lng\":41.98,\"Max Temp\":80.6,\"Wind Speed\":6.71,\"hash\":-5581060911953726129},\"351\":{\"City_ID\":351,\"City\":\"mogadishu\",\"Cloudiness\":64,\"Country\":\"SO\",\"Date\":1528905402,\"Humidity\":100,\"Lat\":2.04,\"Lng\":45.34,\"Max Temp\":78.25,\"Wind Speed\":22.08,\"hash\":1672241034507721042},\"352\":{\"City_ID\":352,\"City\":\"lewistown\",\"Cloudiness\":1,\"Country\":\"US\",\"Date\":1528904100,\"Humidity\":53,\"Lat\":40.39,\"Lng\":-90.15,\"Max Temp\":78.8,\"Wind Speed\":12.75,\"hash\":6711136848747041917},\"353\":{\"City_ID\":353,\"City\":\"leningradskiy\",\"Cloudiness\":0,\"Country\":\"RU\",\"Date\":1528905501,\"Humidity\":88,\"Lat\":69.38,\"Lng\":178.42,\"Max Temp\":33.79,\"Wind Speed\":21.74,\"hash\":5620227959792818933},\"354\":{\"City_ID\":354,\"City\":\"airai\",\"Cloudiness\":76,\"Country\":\"TL\",\"Date\":1528905503,\"Humidity\":93,\"Lat\":-8.93,\"Lng\":125.41,\"Max Temp\":68.98,\"Wind Speed\":1.72,\"hash\":-5114654406517935971},\"355\":{\"City_ID\":355,\"City\":\"nantucket\",\"Cloudiness\":90,\"Country\":\"US\",\"Date\":1528904100,\"Humidity\":77,\"Lat\":41.28,\"Lng\":-70.1,\"Max Temp\":69.8,\"Wind Speed\":17.22,\"hash\":8136413659641227017},\"356\":{\"City_ID\":356,\"City\":\"mount gambier\",\"Cloudiness\":92,\"Country\":\"AU\",\"Date\":1528905506,\"Humidity\":81,\"Lat\":-37.83,\"Lng\":140.78,\"Max Temp\":49.72,\"Wind Speed\":6.87,\"hash\":1817025614307350610},\"357\":{\"City_ID\":357,\"City\":\"katobu\",\"Cloudiness\":24,\"Country\":\"ID\",\"Date\":1528905506,\"Humidity\":100,\"Lat\":-4.94,\"Lng\":122.53,\"Max Temp\":77.98,\"Wind Speed\":2.62,\"hash\":9087561574633464757},\"358\":{\"City_ID\":358,\"City\":\"baiyin\",\"Cloudiness\":0,\"Country\":\"CN\",\"Date\":1528902000,\"Humidity\":31,\"Lat\":36.55,\"Lng\":104.13,\"Max Temp\":60.8,\"Wind Speed\":4.47,\"hash\":-1642519891567759110},\"359\":{\"City_ID\":359,\"City\":\"jumla\",\"Cloudiness\":88,\"Country\":\"NP\",\"Date\":1528905507,\"Humidity\":95,\"Lat\":29.28,\"Lng\":82.18,\"Max Temp\":37.75,\"Wind Speed\":2.51,\"hash\":3340011679065280165},\"360\":{\"City_ID\":360,\"City\":\"voh\",\"Cloudiness\":8,\"Country\":\"NC\",\"Date\":1528905507,\"Humidity\":100,\"Lat\":-20.95,\"Lng\":164.69,\"Max Temp\":71.59,\"Wind Speed\":14.81,\"hash\":1693479374225562122},\"361\":{\"City_ID\":361,\"City\":\"kamaishi\",\"Cloudiness\":0,\"Country\":\"JP\",\"Date\":1528905507,\"Humidity\":78,\"Lat\":39.28,\"Lng\":141.86,\"Max Temp\":53.95,\"Wind Speed\":12.8,\"hash\":-2469865064624207259},\"362\":{\"City_ID\":362,\"City\":\"jurm\",\"Cloudiness\":56,\"Country\":\"AF\",\"Date\":1528905508,\"Humidity\":100,\"Lat\":36.86,\"Lng\":70.83,\"Max Temp\":40.09,\"Wind Speed\":1.61,\"hash\":-4484088319485603518},\"363\":{\"City_ID\":363,\"City\":\"la ronge\",\"Cloudiness\":75,\"Country\":\"CA\",\"Date\":1528902000,\"Humidity\":76,\"Lat\":55.1,\"Lng\":-105.3,\"Max Temp\":53.6,\"Wind Speed\":8.05,\"hash\":-3928020051003944098},\"364\":{\"City_ID\":364,\"City\":\"paragominas\",\"Cloudiness\":20,\"Country\":\"BR\",\"Date\":1528905508,\"Humidity\":56,\"Lat\":-3.0,\"Lng\":-47.35,\"Max Temp\":91.93,\"Wind Speed\":5.41,\"hash\":-3806245160340173007},\"365\":{\"City_ID\":365,\"City\":\"fairbanks\",\"Cloudiness\":1,\"Country\":\"US\",\"Date\":1528901880,\"Humidity\":75,\"Lat\":64.84,\"Lng\":-147.72,\"Max Temp\":42.8,\"Wind Speed\":3.36,\"hash\":8584448268118608076},\"366\":{\"City_ID\":366,\"City\":\"poum\",\"Cloudiness\":40,\"Country\":\"MK\",\"Date\":1528903800,\"Humidity\":47,\"Lat\":41.28,\"Lng\":20.71,\"Max Temp\":78.8,\"Wind Speed\":8.05,\"hash\":8724103439162350284},\"367\":{\"City_ID\":367,\"City\":\"boyle\",\"Cloudiness\":75,\"Country\":\"IE\",\"Date\":1528902000,\"Humidity\":100,\"Lat\":53.97,\"Lng\":-8.3,\"Max Temp\":55.4,\"Wind Speed\":18.34,\"hash\":-7031981165065724377},\"368\":{\"City_ID\":368,\"City\":\"klaksvik\",\"Cloudiness\":92,\"Country\":\"FO\",\"Date\":1528903200,\"Humidity\":93,\"Lat\":62.23,\"Lng\":-6.59,\"Max Temp\":48.2,\"Wind Speed\":19.46,\"hash\":3816114478219869097},\"369\":{\"City_ID\":369,\"City\":\"aleksandro-nevskiy\",\"Cloudiness\":0,\"Country\":\"RU\",\"Date\":1528905510,\"Humidity\":49,\"Lat\":53.48,\"Lng\":40.21,\"Max Temp\":74.2,\"Wind Speed\":9.78,\"hash\":6226332311506759898},\"370\":{\"City_ID\":370,\"City\":\"graham\",\"Cloudiness\":75,\"Country\":\"US\",\"Date\":1528905240,\"Humidity\":78,\"Lat\":36.07,\"Lng\":-79.4,\"Max Temp\":75.2,\"Wind Speed\":9.17,\"hash\":8395157579189707121},\"371\":{\"City_ID\":371,\"City\":\"paraiso\",\"Cloudiness\":75,\"Country\":\"MX\",\"Date\":1528901040,\"Humidity\":68,\"Lat\":24.01,\"Lng\":-104.61,\"Max Temp\":66.2,\"Wind Speed\":3.36,\"hash\":1027758352796915751},\"372\":{\"City_ID\":372,\"City\":\"nishihara\",\"Cloudiness\":75,\"Country\":\"JP\",\"Date\":1528902000,\"Humidity\":68,\"Lat\":35.74,\"Lng\":139.53,\"Max Temp\":69.8,\"Wind Speed\":3.36,\"hash\":2170963987908603074},\"373\":{\"City_ID\":373,\"City\":\"charyshskoye\",\"Cloudiness\":8,\"Country\":\"RU\",\"Date\":1528905511,\"Humidity\":37,\"Lat\":51.4,\"Lng\":83.56,\"Max Temp\":69.7,\"Wind Speed\":3.4,\"hash\":-2599297923323145360},\"374\":{\"City_ID\":374,\"City\":\"struer\",\"Cloudiness\":8,\"Country\":\"DK\",\"Date\":1528903200,\"Humidity\":63,\"Lat\":56.48,\"Lng\":8.6,\"Max Temp\":60.8,\"Wind Speed\":17.22,\"hash\":-5453008309994685020},\"375\":{\"City_ID\":375,\"City\":\"hualmay\",\"Cloudiness\":12,\"Country\":\"PE\",\"Date\":1528905511,\"Humidity\":77,\"Lat\":-11.1,\"Lng\":-77.61,\"Max Temp\":65.02,\"Wind Speed\":3.62,\"hash\":300905479986659583},\"376\":{\"City_ID\":376,\"City\":\"ystad\",\"Cloudiness\":75,\"Country\":\"SE\",\"Date\":1528903200,\"Humidity\":60,\"Lat\":55.43,\"Lng\":13.82,\"Max Temp\":68.0,\"Wind Speed\":13.87,\"hash\":1094942896415769642},\"377\":{\"City_ID\":377,\"City\":\"buin\",\"Cloudiness\":0,\"Country\":\"CL\",\"Date\":1528905600,\"Humidity\":65,\"Lat\":-33.73,\"Lng\":-70.74,\"Max Temp\":46.4,\"Wind Speed\":3.36,\"hash\":-6569595235265641988},\"378\":{\"City_ID\":378,\"City\":\"gamboma\",\"Cloudiness\":0,\"Country\":\"CG\",\"Date\":1528905516,\"Humidity\":64,\"Lat\":-1.87,\"Lng\":15.88,\"Max Temp\":87.34,\"Wind Speed\":6.53,\"hash\":2540651606585013631},\"379\":{\"City_ID\":379,\"City\":\"bristol\",\"Cloudiness\":75,\"Country\":\"GB\",\"Date\":1528903200,\"Humidity\":77,\"Lat\":51.45,\"Lng\":-2.6,\"Max Temp\":68.0,\"Wind Speed\":10.29,\"hash\":-6050837754852484722},\"380\":{\"City_ID\":380,\"City\":\"imbituba\",\"Cloudiness\":40,\"Country\":\"BR\",\"Date\":1528902000,\"Humidity\":64,\"Lat\":-28.24,\"Lng\":-48.67,\"Max Temp\":69.8,\"Wind Speed\":3.36,\"hash\":-7242232761984542979},\"381\":{\"City_ID\":381,\"City\":\"comrie\",\"Cloudiness\":40,\"Country\":\"GB\",\"Date\":1528903200,\"Humidity\":72,\"Lat\":56.09,\"Lng\":-3.58,\"Max Temp\":60.8,\"Wind Speed\":14.99,\"hash\":-8199633621390469149},\"382\":{\"City_ID\":382,\"City\":\"esil\",\"Cloudiness\":0,\"Country\":\"KZ\",\"Date\":1528905517,\"Humidity\":50,\"Lat\":51.96,\"Lng\":66.41,\"Max Temp\":60.25,\"Wind Speed\":7.65,\"hash\":163053218032383105},\"383\":{\"City_ID\":383,\"City\":\"lompoc\",\"Cloudiness\":1,\"Country\":\"US\",\"Date\":1528904100,\"Humidity\":63,\"Lat\":34.64,\"Lng\":-120.46,\"Max Temp\":62.6,\"Wind Speed\":2.51,\"hash\":-8870686931331008616},\"384\":{\"City_ID\":384,\"City\":\"coihaique\",\"Cloudiness\":80,\"Country\":\"CL\",\"Date\":1528902000,\"Humidity\":85,\"Lat\":-45.58,\"Lng\":-72.07,\"Max Temp\":33.8,\"Wind Speed\":2.24,\"hash\":1832122010385752827},\"385\":{\"City_ID\":385,\"City\":\"hamilton\",\"Cloudiness\":40,\"Country\":\"BM\",\"Date\":1528901700,\"Humidity\":73,\"Lat\":32.3,\"Lng\":-64.78,\"Max Temp\":77.0,\"Wind Speed\":10.29,\"hash\":8910972039913476011},\"386\":{\"City_ID\":386,\"City\":\"hasaki\",\"Cloudiness\":75,\"Country\":\"JP\",\"Date\":1528902000,\"Humidity\":93,\"Lat\":35.73,\"Lng\":140.83,\"Max Temp\":64.4,\"Wind Speed\":3.36,\"hash\":-3381177013482122194},\"387\":{\"City_ID\":387,\"City\":\"kajaani\",\"Cloudiness\":0,\"Country\":\"FI\",\"Date\":1528903200,\"Humidity\":52,\"Lat\":64.22,\"Lng\":27.73,\"Max Temp\":53.6,\"Wind Speed\":4.7,\"hash\":8550373562434333205},\"388\":{\"City_ID\":388,\"City\":\"tupik\",\"Cloudiness\":0,\"Country\":\"RU\",\"Date\":1528905520,\"Humidity\":63,\"Lat\":54.43,\"Lng\":119.94,\"Max Temp\":51.25,\"Wind Speed\":4.63,\"hash\":-8700443640783239728},\"389\":{\"City_ID\":389,\"City\":\"kloulklubed\",\"Cloudiness\":90,\"Country\":\"PW\",\"Date\":1528901700,\"Humidity\":83,\"Lat\":7.04,\"Lng\":134.26,\"Max Temp\":82.4,\"Wind Speed\":9.17,\"hash\":-2929154768631044456},\"390\":{\"City_ID\":390,\"City\":\"kieta\",\"Cloudiness\":32,\"Country\":\"PG\",\"Date\":1528905520,\"Humidity\":100,\"Lat\":-6.22,\"Lng\":155.63,\"Max Temp\":76.81,\"Wind Speed\":2.73,\"hash\":7753326181327313749},\"391\":{\"City_ID\":391,\"City\":\"maldonado\",\"Cloudiness\":75,\"Country\":\"UY\",\"Date\":1528902000,\"Humidity\":76,\"Lat\":-34.91,\"Lng\":-54.96,\"Max Temp\":51.8,\"Wind Speed\":19.46,\"hash\":737310400219545330},\"392\":{\"City_ID\":392,\"City\":\"smithers\",\"Cloudiness\":75,\"Country\":\"CA\",\"Date\":1528902000,\"Humidity\":81,\"Lat\":54.78,\"Lng\":-127.17,\"Max Temp\":48.2,\"Wind Speed\":2.62,\"hash\":7854164390276850104},\"393\":{\"City_ID\":393,\"City\":\"mareeba\",\"Cloudiness\":0,\"Country\":\"AU\",\"Date\":1528902000,\"Humidity\":93,\"Lat\":-16.99,\"Lng\":145.42,\"Max Temp\":60.8,\"Wind Speed\":3.4,\"hash\":-7408767507447304139},\"394\":{\"City_ID\":394,\"City\":\"kaputa\",\"Cloudiness\":0,\"Country\":\"ZM\",\"Date\":1528905521,\"Humidity\":29,\"Lat\":-8.47,\"Lng\":29.66,\"Max Temp\":78.88,\"Wind Speed\":3.62,\"hash\":-8523914749338698641},\"395\":{\"City_ID\":395,\"City\":\"lira\",\"Cloudiness\":68,\"Country\":\"UG\",\"Date\":1528905521,\"Humidity\":45,\"Lat\":2.25,\"Lng\":32.9,\"Max Temp\":82.39,\"Wind Speed\":8.21,\"hash\":2290221318650405044},\"396\":{\"City_ID\":396,\"City\":\"constitucion\",\"Cloudiness\":75,\"Country\":\"MX\",\"Date\":1528901040,\"Humidity\":68,\"Lat\":23.99,\"Lng\":-104.67,\"Max Temp\":66.2,\"Wind Speed\":3.36,\"hash\":-5037877241285439774},\"397\":{\"City_ID\":397,\"City\":\"ternate\",\"Cloudiness\":90,\"Country\":\"PH\",\"Date\":1528902000,\"Humidity\":100,\"Lat\":14.29,\"Lng\":120.72,\"Max Temp\":77.0,\"Wind Speed\":10.29,\"hash\":3861762654993141921},\"398\":{\"City_ID\":398,\"City\":\"haines junction\",\"Cloudiness\":68,\"Country\":\"CA\",\"Date\":1528905526,\"Humidity\":52,\"Lat\":60.75,\"Lng\":-137.51,\"Max Temp\":42.79,\"Wind Speed\":2.62,\"hash\":-3198693663871852758},\"399\":{\"City_ID\":399,\"City\":\"zagora\",\"Cloudiness\":75,\"Country\":\"HR\",\"Date\":1528903800,\"Humidity\":73,\"Lat\":46.19,\"Lng\":15.87,\"Max Temp\":71.6,\"Wind Speed\":2.24,\"hash\":3884355296545068922},\"400\":{\"City_ID\":400,\"City\":\"zhongxing\",\"Cloudiness\":8,\"Country\":\"CN\",\"Date\":1528905527,\"Humidity\":69,\"Lat\":32.02,\"Lng\":116.14,\"Max Temp\":74.29,\"Wind Speed\":7.99,\"hash\":7041597721047142997},\"401\":{\"City_ID\":401,\"City\":\"snezhnogorsk\",\"Cloudiness\":75,\"Country\":\"RU\",\"Date\":1528903800,\"Humidity\":70,\"Lat\":69.19,\"Lng\":33.23,\"Max Temp\":42.8,\"Wind Speed\":2.24,\"hash\":-1179868876577141748},\"402\":{\"City_ID\":402,\"City\":\"sola\",\"Cloudiness\":75,\"Country\":\"FI\",\"Date\":1528903200,\"Humidity\":76,\"Lat\":62.78,\"Lng\":29.36,\"Max Temp\":50.0,\"Wind Speed\":10.29,\"hash\":-4570387551963408263},\"403\":{\"City_ID\":403,\"City\":\"sioux lookout\",\"Cloudiness\":20,\"Country\":\"CA\",\"Date\":1528902000,\"Humidity\":59,\"Lat\":50.1,\"Lng\":-91.92,\"Max Temp\":66.2,\"Wind Speed\":4.7,\"hash\":2848226280429472773},\"404\":{\"City_ID\":404,\"City\":\"sur\",\"Cloudiness\":0,\"Country\":\"OM\",\"Date\":1528905530,\"Humidity\":82,\"Lat\":22.57,\"Lng\":59.53,\"Max Temp\":89.32,\"Wind Speed\":4.85,\"hash\":-7065933998434762278},\"405\":{\"City_ID\":405,\"City\":\"utete\",\"Cloudiness\":12,\"Country\":\"TZ\",\"Date\":1528905531,\"Humidity\":51,\"Lat\":-7.99,\"Lng\":38.76,\"Max Temp\":81.76,\"Wind Speed\":6.08,\"hash\":6914815953664851796},\"406\":{\"City_ID\":406,\"City\":\"saint-joseph\",\"Cloudiness\":75,\"Country\":\"FR\",\"Date\":1528903800,\"Humidity\":60,\"Lat\":43.56,\"Lng\":6.97,\"Max Temp\":71.6,\"Wind Speed\":4.7,\"hash\":-6006439252574909031},\"407\":{\"City_ID\":407,\"City\":\"sadao\",\"Cloudiness\":75,\"Country\":\"TH\",\"Date\":1528902000,\"Humidity\":83,\"Lat\":6.63,\"Lng\":100.42,\"Max Temp\":82.4,\"Wind Speed\":2.24,\"hash\":2863010904145282059},\"408\":{\"City_ID\":408,\"City\":\"petropavlovsk-kamchatskiy\",\"Cloudiness\":90,\"Country\":\"RU\",\"Date\":1528902000,\"Humidity\":86,\"Lat\":53.05,\"Lng\":158.65,\"Max Temp\":41.0,\"Wind Speed\":2.24,\"hash\":6059361311969389900},\"409\":{\"City_ID\":409,\"City\":\"vestmanna\",\"Cloudiness\":92,\"Country\":\"FO\",\"Date\":1528903200,\"Humidity\":93,\"Lat\":62.16,\"Lng\":-7.17,\"Max Temp\":48.2,\"Wind Speed\":19.46,\"hash\":7954201200173297983},\"410\":{\"City_ID\":410,\"City\":\"chifeng\",\"Cloudiness\":8,\"Country\":\"CN\",\"Date\":1528905536,\"Humidity\":90,\"Lat\":42.27,\"Lng\":118.96,\"Max Temp\":52.42,\"Wind Speed\":0.72,\"hash\":6913046471846885123},\"411\":{\"City_ID\":411,\"City\":\"grants pass\",\"Cloudiness\":90,\"Country\":\"US\",\"Date\":1528901760,\"Humidity\":50,\"Lat\":42.44,\"Lng\":-123.33,\"Max Temp\":59.0,\"Wind Speed\":2.62,\"hash\":-6952845287413362636},\"412\":{\"City_ID\":412,\"City\":\"lampazos de naranjo\",\"Cloudiness\":0,\"Country\":\"MX\",\"Date\":1528905536,\"Humidity\":57,\"Lat\":27.02,\"Lng\":-100.51,\"Max Temp\":82.93,\"Wind Speed\":6.76,\"hash\":-3153121560778586304},\"413\":{\"City_ID\":413,\"City\":\"salym\",\"Cloudiness\":48,\"Country\":\"RU\",\"Date\":1528905536,\"Humidity\":51,\"Lat\":60.06,\"Lng\":71.48,\"Max Temp\":60.61,\"Wind Speed\":5.08,\"hash\":7821892370412086306},\"414\":{\"City_ID\":414,\"City\":\"verkh-chebula\",\"Cloudiness\":0,\"Country\":\"RU\",\"Date\":1528905536,\"Humidity\":75,\"Lat\":56.03,\"Lng\":87.61,\"Max Temp\":67.36,\"Wind Speed\":2.73,\"hash\":433305806457425503},\"415\":{\"City_ID\":415,\"City\":\"tsiroanomandidy\",\"Cloudiness\":64,\"Country\":\"MG\",\"Date\":1528905537,\"Humidity\":36,\"Lat\":-18.77,\"Lng\":46.05,\"Max Temp\":71.86,\"Wind Speed\":4.97,\"hash\":-7079088247448713750},\"416\":{\"City_ID\":416,\"City\":\"lagoa\",\"Cloudiness\":20,\"Country\":\"PT\",\"Date\":1528903800,\"Humidity\":56,\"Lat\":37.14,\"Lng\":-8.45,\"Max Temp\":71.6,\"Wind Speed\":10.29,\"hash\":-1003931370687798873},\"417\":{\"City_ID\":417,\"City\":\"les cayes\",\"Cloudiness\":88,\"Country\":\"HT\",\"Date\":1528905538,\"Humidity\":92,\"Lat\":18.19,\"Lng\":-73.75,\"Max Temp\":82.93,\"Wind Speed\":22.41,\"hash\":6373775514617571059},\"418\":{\"City_ID\":418,\"City\":\"mackay\",\"Cloudiness\":75,\"Country\":\"CA\",\"Date\":1528902000,\"Humidity\":81,\"Lat\":53.65,\"Lng\":-115.58,\"Max Temp\":50.0,\"Wind Speed\":3.36,\"hash\":-5772747845670805190},\"419\":{\"City_ID\":419,\"City\":\"treuchtlingen\",\"Cloudiness\":75,\"Country\":\"DE\",\"Date\":1528903200,\"Humidity\":67,\"Lat\":48.96,\"Lng\":10.91,\"Max Temp\":60.8,\"Wind Speed\":8.05,\"hash\":4292924613698279896},\"420\":{\"City_ID\":420,\"City\":\"witney\",\"Cloudiness\":40,\"Country\":\"GB\",\"Date\":1528903200,\"Humidity\":56,\"Lat\":51.78,\"Lng\":-1.49,\"Max Temp\":69.8,\"Wind Speed\":16.11,\"hash\":2619656876061929335},\"421\":{\"City_ID\":421,\"City\":\"tabou\",\"Cloudiness\":0,\"Country\":\"CI\",\"Date\":1528905538,\"Humidity\":100,\"Lat\":4.42,\"Lng\":-7.36,\"Max Temp\":80.86,\"Wind Speed\":9.78,\"hash\":5025640303340637839},\"422\":{\"City_ID\":422,\"City\":\"koson\",\"Cloudiness\":0,\"Country\":\"UZ\",\"Date\":1528902000,\"Humidity\":19,\"Lat\":39.04,\"Lng\":65.59,\"Max Temp\":89.6,\"Wind Speed\":9.17,\"hash\":3636999214659496661},\"423\":{\"City_ID\":423,\"City\":\"burewala\",\"Cloudiness\":0,\"Country\":\"PK\",\"Date\":1528905539,\"Humidity\":34,\"Lat\":30.16,\"Lng\":72.68,\"Max Temp\":95.62,\"Wind Speed\":7.2,\"hash\":2379354247647670605},\"424\":{\"City_ID\":424,\"City\":\"aksum\",\"Cloudiness\":80,\"Country\":\"ET\",\"Date\":1528905539,\"Humidity\":94,\"Lat\":14.12,\"Lng\":38.72,\"Max Temp\":61.15,\"Wind Speed\":3.4,\"hash\":7621549336978846957},\"425\":{\"City_ID\":425,\"City\":\"iquitos\",\"Cloudiness\":20,\"Country\":\"PE\",\"Date\":1528902000,\"Humidity\":74,\"Lat\":-3.75,\"Lng\":-73.25,\"Max Temp\":84.2,\"Wind Speed\":4.7,\"hash\":8834164268697505156},\"426\":{\"City_ID\":426,\"City\":\"bealanana\",\"Cloudiness\":20,\"Country\":\"MG\",\"Date\":1528905541,\"Humidity\":53,\"Lat\":-14.54,\"Lng\":48.75,\"Max Temp\":69.07,\"Wind Speed\":6.98,\"hash\":-4432498381635201867},\"427\":{\"City_ID\":427,\"City\":\"linqiong\",\"Cloudiness\":92,\"Country\":\"CN\",\"Date\":1528902000,\"Humidity\":83,\"Lat\":30.42,\"Lng\":103.46,\"Max Temp\":75.2,\"Wind Speed\":6.71,\"hash\":-2381629662441542349},\"428\":{\"City_ID\":428,\"City\":\"bonaventure\",\"Cloudiness\":75,\"Country\":\"CA\",\"Date\":1528902000,\"Humidity\":32,\"Lat\":48.04,\"Lng\":-65.49,\"Max Temp\":66.2,\"Wind Speed\":8.05,\"hash\":8282379112730337398},\"429\":{\"City_ID\":429,\"City\":\"ostrovnoy\",\"Cloudiness\":92,\"Country\":\"RU\",\"Date\":1528905546,\"Humidity\":82,\"Lat\":68.05,\"Lng\":39.51,\"Max Temp\":36.58,\"Wind Speed\":18.28,\"hash\":-9060439956779804016},\"430\":{\"City_ID\":430,\"City\":\"narsaq\",\"Cloudiness\":40,\"Country\":\"GL\",\"Date\":1528905000,\"Humidity\":43,\"Lat\":60.91,\"Lng\":-46.05,\"Max Temp\":55.4,\"Wind Speed\":9.17,\"hash\":7677762098390270590},\"431\":{\"City_ID\":431,\"City\":\"richards bay\",\"Cloudiness\":0,\"Country\":\"ZA\",\"Date\":1528905547,\"Humidity\":75,\"Lat\":-28.77,\"Lng\":32.06,\"Max Temp\":68.53,\"Wind Speed\":1.72,\"hash\":3761784402825911075},\"432\":{\"City_ID\":432,\"City\":\"antofagasta\",\"Cloudiness\":40,\"Country\":\"CL\",\"Date\":1528902000,\"Humidity\":67,\"Lat\":-23.65,\"Lng\":-70.4,\"Max Temp\":57.2,\"Wind Speed\":8.05,\"hash\":-6428342028128963370},\"433\":{\"City_ID\":433,\"City\":\"yeniseysk\",\"Cloudiness\":8,\"Country\":\"RU\",\"Date\":1528905547,\"Humidity\":71,\"Lat\":58.45,\"Lng\":92.17,\"Max Temp\":63.49,\"Wind Speed\":2.84,\"hash\":-6346351055901307679},\"434\":{\"City_ID\":434,\"City\":\"taguatinga\",\"Cloudiness\":20,\"Country\":\"BR\",\"Date\":1528902000,\"Humidity\":36,\"Lat\":-15.83,\"Lng\":-48.06,\"Max Temp\":78.8,\"Wind Speed\":5.82,\"hash\":-4266367327390640502},\"435\":{\"City_ID\":435,\"City\":\"port-gentil\",\"Cloudiness\":20,\"Country\":\"GA\",\"Date\":1528902000,\"Humidity\":78,\"Lat\":-0.72,\"Lng\":8.78,\"Max Temp\":82.4,\"Wind Speed\":16.11,\"hash\":4426681415242775760},\"436\":{\"City_ID\":436,\"City\":\"yulara\",\"Cloudiness\":0,\"Country\":\"AU\",\"Date\":1528902000,\"Humidity\":56,\"Lat\":-25.24,\"Lng\":130.99,\"Max Temp\":41.0,\"Wind Speed\":4.7,\"hash\":-5781863644266362068},\"437\":{\"City_ID\":437,\"City\":\"adrar\",\"Cloudiness\":0,\"Country\":\"DZ\",\"Date\":1528902000,\"Humidity\":12,\"Lat\":27.87,\"Lng\":-0.29,\"Max Temp\":109.4,\"Wind Speed\":11.41,\"hash\":197528744009695425},\"438\":{\"City_ID\":438,\"City\":\"samur\",\"Cloudiness\":0,\"Country\":\"RU\",\"Date\":1528905549,\"Humidity\":84,\"Lat\":41.83,\"Lng\":48.49,\"Max Temp\":71.23,\"Wind Speed\":13.13,\"hash\":-3257428540950928740},\"439\":{\"City_ID\":439,\"City\":\"chicla\",\"Cloudiness\":20,\"Country\":\"PE\",\"Date\":1528905550,\"Humidity\":74,\"Lat\":-11.71,\"Lng\":-76.27,\"Max Temp\":43.69,\"Wind Speed\":2.39,\"hash\":-208415300159495414},\"440\":{\"City_ID\":440,\"City\":\"tombouctou\",\"Cloudiness\":24,\"Country\":\"ML\",\"Date\":1528905550,\"Humidity\":18,\"Lat\":16.77,\"Lng\":-3.01,\"Max Temp\":110.65,\"Wind Speed\":4.74,\"hash\":-6322034062401575030},\"441\":{\"City_ID\":441,\"City\":\"pyaozerskiy\",\"Cloudiness\":48,\"Country\":\"RU\",\"Date\":1528905550,\"Humidity\":57,\"Lat\":65.83,\"Lng\":31.17,\"Max Temp\":49.0,\"Wind Speed\":3.96,\"hash\":5491302277322964542},\"442\":{\"City_ID\":442,\"City\":\"vagur\",\"Cloudiness\":92,\"Country\":\"FO\",\"Date\":1528905550,\"Humidity\":97,\"Lat\":61.47,\"Lng\":-6.81,\"Max Temp\":49.63,\"Wind Speed\":27.89,\"hash\":6652894725054873851},\"443\":{\"City_ID\":443,\"City\":\"yar-sale\",\"Cloudiness\":76,\"Country\":\"RU\",\"Date\":1528905551,\"Humidity\":89,\"Lat\":66.83,\"Lng\":70.83,\"Max Temp\":36.22,\"Wind Speed\":14.81,\"hash\":2095151615509056103},\"444\":{\"City_ID\":444,\"City\":\"ust-nera\",\"Cloudiness\":48,\"Country\":\"RU\",\"Date\":1528905551,\"Humidity\":65,\"Lat\":64.57,\"Lng\":143.24,\"Max Temp\":46.93,\"Wind Speed\":1.72,\"hash\":-856896644113164308},\"445\":{\"City_ID\":445,\"City\":\"solnechnyy\",\"Cloudiness\":0,\"Country\":\"RU\",\"Date\":1528905551,\"Humidity\":78,\"Lat\":50.72,\"Lng\":136.64,\"Max Temp\":51.52,\"Wind Speed\":4.18,\"hash\":-8785922813722960131},\"446\":{\"City_ID\":446,\"City\":\"san patricio\",\"Cloudiness\":0,\"Country\":\"PY\",\"Date\":1528905551,\"Humidity\":74,\"Lat\":-26.98,\"Lng\":-56.83,\"Max Temp\":51.79,\"Wind Speed\":4.63,\"hash\":-3074841978666645907},\"447\":{\"City_ID\":447,\"City\":\"angoram\",\"Cloudiness\":88,\"Country\":\"PG\",\"Date\":1528905555,\"Humidity\":100,\"Lat\":-4.06,\"Lng\":144.07,\"Max Temp\":74.47,\"Wind Speed\":1.95,\"hash\":582454782618945329},\"448\":{\"City_ID\":448,\"City\":\"champerico\",\"Cloudiness\":90,\"Country\":\"MX\",\"Date\":1528900860,\"Humidity\":94,\"Lat\":16.38,\"Lng\":-93.6,\"Max Temp\":71.6,\"Wind Speed\":2.62,\"hash\":-7165403646439343668},\"449\":{\"City_ID\":449,\"City\":\"san policarpo\",\"Cloudiness\":80,\"Country\":\"PH\",\"Date\":1528905556,\"Humidity\":100,\"Lat\":12.18,\"Lng\":125.51,\"Max Temp\":78.43,\"Wind Speed\":7.76,\"hash\":5459573304352938730},\"450\":{\"City_ID\":450,\"City\":\"port-cartier\",\"Cloudiness\":40,\"Country\":\"CA\",\"Date\":1528902000,\"Humidity\":47,\"Lat\":50.03,\"Lng\":-66.88,\"Max Temp\":55.4,\"Wind Speed\":16.11,\"hash\":2515392634557563521},\"451\":{\"City_ID\":451,\"City\":\"tateyama\",\"Cloudiness\":12,\"Country\":\"JP\",\"Date\":1528905556,\"Humidity\":100,\"Lat\":36.66,\"Lng\":137.31,\"Max Temp\":49.45,\"Wind Speed\":1.95,\"hash\":8816862223740544028},\"452\":{\"City_ID\":452,\"City\":\"mandalgovi\",\"Cloudiness\":8,\"Country\":\"MN\",\"Date\":1528905556,\"Humidity\":35,\"Lat\":45.76,\"Lng\":106.27,\"Max Temp\":62.59,\"Wind Speed\":6.64,\"hash\":-1550421815889361628},\"453\":{\"City_ID\":453,\"City\":\"bartica\",\"Cloudiness\":75,\"Country\":\"GY\",\"Date\":1528902000,\"Humidity\":78,\"Lat\":6.41,\"Lng\":-58.62,\"Max Temp\":82.4,\"Wind Speed\":9.17,\"hash\":2670685652474965692},\"454\":{\"City_ID\":454,\"City\":\"bathsheba\",\"Cloudiness\":20,\"Country\":\"BB\",\"Date\":1528902000,\"Humidity\":66,\"Lat\":13.22,\"Lng\":-59.52,\"Max Temp\":86.0,\"Wind Speed\":25.28,\"hash\":6757212009262625734},\"455\":{\"City_ID\":455,\"City\":\"bueu\",\"Cloudiness\":0,\"Country\":\"ES\",\"Date\":1528903800,\"Humidity\":53,\"Lat\":42.33,\"Lng\":-8.79,\"Max Temp\":71.6,\"Wind Speed\":16.11,\"hash\":2297432136872774521},\"456\":{\"City_ID\":456,\"City\":\"chaltyr\",\"Cloudiness\":0,\"Country\":\"RU\",\"Date\":1528905557,\"Humidity\":21,\"Lat\":47.28,\"Lng\":39.48,\"Max Temp\":87.43,\"Wind Speed\":3.74,\"hash\":-7479195612969208676},\"457\":{\"City_ID\":457,\"City\":\"prince rupert\",\"Cloudiness\":90,\"Country\":\"CA\",\"Date\":1528902000,\"Humidity\":93,\"Lat\":54.32,\"Lng\":-130.32,\"Max Temp\":53.6,\"Wind Speed\":6.93,\"hash\":3952155866484206668},\"458\":{\"City_ID\":458,\"City\":\"plouzane\",\"Cloudiness\":90,\"Country\":\"FR\",\"Date\":1528903800,\"Humidity\":63,\"Lat\":48.38,\"Lng\":-4.62,\"Max Temp\":66.2,\"Wind Speed\":8.05,\"hash\":-7484155959808993851},\"459\":{\"City_ID\":459,\"City\":\"belaya gora\",\"Cloudiness\":36,\"Country\":\"RU\",\"Date\":1528905558,\"Humidity\":35,\"Lat\":68.54,\"Lng\":146.19,\"Max Temp\":62.77,\"Wind Speed\":4.07,\"hash\":2282925561633535016},\"460\":{\"City_ID\":460,\"City\":\"tongren\",\"Cloudiness\":12,\"Country\":\"CN\",\"Date\":1528905558,\"Humidity\":85,\"Lat\":27.72,\"Lng\":109.18,\"Max Temp\":67.9,\"Wind Speed\":1.95,\"hash\":-2034865045328002223},\"461\":{\"City_ID\":461,\"City\":\"narsimhapur\",\"Cloudiness\":88,\"Country\":\"IN\",\"Date\":1528905558,\"Humidity\":78,\"Lat\":17.14,\"Lng\":74.26,\"Max Temp\":76.0,\"Wind Speed\":9.22,\"hash\":-7476093250443976390},\"462\":{\"City_ID\":462,\"City\":\"sao joao da barra\",\"Cloudiness\":0,\"Country\":\"BR\",\"Date\":1528902000,\"Humidity\":43,\"Lat\":-21.64,\"Lng\":-41.05,\"Max Temp\":87.8,\"Wind Speed\":5.82,\"hash\":6697148154751626773},\"463\":{\"City_ID\":463,\"City\":\"mamakan\",\"Cloudiness\":32,\"Country\":\"RU\",\"Date\":1528905559,\"Humidity\":83,\"Lat\":57.82,\"Lng\":114.02,\"Max Temp\":51.7,\"Wind Speed\":2.06,\"hash\":-8443887268249239167},\"464\":{\"City_ID\":464,\"City\":\"inirida\",\"Cloudiness\":80,\"Country\":\"CO\",\"Date\":1528905559,\"Humidity\":84,\"Lat\":3.87,\"Lng\":-67.92,\"Max Temp\":80.32,\"Wind Speed\":2.95,\"hash\":-1843849162817294826},\"465\":{\"City_ID\":465,\"City\":\"payo\",\"Cloudiness\":56,\"Country\":\"ID\",\"Date\":1528905559,\"Humidity\":84,\"Lat\":-3.75,\"Lng\":103.64,\"Max Temp\":77.98,\"Wind Speed\":4.74,\"hash\":6051591335689005199},\"466\":{\"City_ID\":466,\"City\":\"san carlos de bariloche\",\"Cloudiness\":75,\"Country\":\"AR\",\"Date\":1528902000,\"Humidity\":86,\"Lat\":-41.13,\"Lng\":-71.31,\"Max Temp\":26.6,\"Wind Speed\":10.29,\"hash\":4194961562430986089},\"467\":{\"City_ID\":467,\"City\":\"piacabucu\",\"Cloudiness\":44,\"Country\":\"BR\",\"Date\":1528905560,\"Humidity\":57,\"Lat\":-10.41,\"Lng\":-36.43,\"Max Temp\":84.37,\"Wind Speed\":15.48,\"hash\":-7893110326845400158},\"468\":{\"City_ID\":468,\"City\":\"auki\",\"Cloudiness\":44,\"Country\":\"NG\",\"Date\":1528905560,\"Humidity\":55,\"Lat\":12.18,\"Lng\":6.51,\"Max Temp\":94.81,\"Wind Speed\":1.61,\"hash\":-3817123798231028829},\"469\":{\"City_ID\":469,\"City\":\"ambon\",\"Cloudiness\":90,\"Country\":\"FR\",\"Date\":1528903800,\"Humidity\":64,\"Lat\":47.55,\"Lng\":-2.56,\"Max Temp\":69.8,\"Wind Speed\":8.05,\"hash\":1782048009026480020},\"470\":{\"City_ID\":470,\"City\":\"bilibino\",\"Cloudiness\":0,\"Country\":\"RU\",\"Date\":1528905560,\"Humidity\":60,\"Lat\":68.06,\"Lng\":166.44,\"Max Temp\":52.33,\"Wind Speed\":1.95,\"hash\":-446052618796668655},\"471\":{\"City_ID\":471,\"City\":\"jiangyou\",\"Cloudiness\":92,\"Country\":\"CN\",\"Date\":1528905561,\"Humidity\":64,\"Lat\":31.78,\"Lng\":104.73,\"Max Temp\":73.3,\"Wind Speed\":4.18,\"hash\":-3812150524245885953},\"472\":{\"City_ID\":472,\"City\":\"ambilobe\",\"Cloudiness\":8,\"Country\":\"MG\",\"Date\":1528905561,\"Humidity\":44,\"Lat\":-13.19,\"Lng\":49.05,\"Max Temp\":80.95,\"Wind Speed\":13.8,\"hash\":-5510826789335968954},\"473\":{\"City_ID\":473,\"City\":\"shebunino\",\"Cloudiness\":0,\"Country\":\"RU\",\"Date\":1528905561,\"Humidity\":69,\"Lat\":57.66,\"Lng\":40.04,\"Max Temp\":59.98,\"Wind Speed\":14.14,\"hash\":-6109670558558788116},\"474\":{\"City_ID\":474,\"City\":\"broome\",\"Cloudiness\":20,\"Country\":\"GB\",\"Date\":1528903200,\"Humidity\":52,\"Lat\":52.47,\"Lng\":1.45,\"Max Temp\":71.6,\"Wind Speed\":11.41,\"hash\":5489482676223533543},\"475\":{\"City_ID\":475,\"City\":\"biedenkopf\",\"Cloudiness\":75,\"Country\":\"DE\",\"Date\":1528903200,\"Humidity\":71,\"Lat\":50.92,\"Lng\":8.53,\"Max Temp\":59.0,\"Wind Speed\":6.93,\"hash\":1612963230812324758},\"476\":{\"City_ID\":476,\"City\":\"aquiraz\",\"Cloudiness\":20,\"Country\":\"BR\",\"Date\":1528905600,\"Humidity\":52,\"Lat\":-3.9,\"Lng\":-38.39,\"Max Temp\":87.8,\"Wind Speed\":19.46,\"hash\":-4372311172061995803},\"477\":{\"City_ID\":477,\"City\":\"karangasem\",\"Cloudiness\":20,\"Country\":\"ID\",\"Date\":1528905563,\"Humidity\":100,\"Lat\":-6.7,\"Lng\":108.49,\"Max Temp\":81.4,\"Wind Speed\":15.7,\"hash\":-1073577355431090546},\"478\":{\"City_ID\":478,\"City\":\"boca do acre\",\"Cloudiness\":76,\"Country\":\"BR\",\"Date\":1528905563,\"Humidity\":77,\"Lat\":-8.76,\"Lng\":-67.39,\"Max Temp\":83.56,\"Wind Speed\":2.84,\"hash\":6230567263917395243},\"479\":{\"City_ID\":479,\"City\":\"la antigua\",\"Cloudiness\":48,\"Country\":\"CO\",\"Date\":1528905564,\"Humidity\":94,\"Lat\":6.72,\"Lng\":-76.08,\"Max Temp\":68.35,\"Wind Speed\":1.5,\"hash\":5568180679497645156},\"480\":{\"City_ID\":480,\"City\":\"sibolga\",\"Cloudiness\":76,\"Country\":\"ID\",\"Date\":1528905564,\"Humidity\":94,\"Lat\":1.74,\"Lng\":98.78,\"Max Temp\":74.56,\"Wind Speed\":1.95,\"hash\":-379798448259043482},\"481\":{\"City_ID\":481,\"City\":\"glebychevo\",\"Cloudiness\":68,\"Country\":\"RU\",\"Date\":1528905564,\"Humidity\":46,\"Lat\":60.44,\"Lng\":28.72,\"Max Temp\":60.79,\"Wind Speed\":4.63,\"hash\":-8100648799231080803},\"482\":{\"City_ID\":482,\"City\":\"campos altos\",\"Cloudiness\":0,\"Country\":\"BR\",\"Date\":1528905564,\"Humidity\":62,\"Lat\":-19.7,\"Lng\":-46.17,\"Max Temp\":79.69,\"Wind Speed\":6.42,\"hash\":6639394212315882506},\"483\":{\"City_ID\":483,\"City\":\"santiago del estero\",\"Cloudiness\":0,\"Country\":\"AR\",\"Date\":1528905565,\"Humidity\":49,\"Lat\":-27.8,\"Lng\":-64.26,\"Max Temp\":52.33,\"Wind Speed\":6.2,\"hash\":6458412636939540801},\"484\":{\"City_ID\":484,\"City\":\"banff\",\"Cloudiness\":24,\"Country\":\"CA\",\"Date\":1528905565,\"Humidity\":36,\"Lat\":51.18,\"Lng\":-115.57,\"Max Temp\":48.01,\"Wind Speed\":2.17,\"hash\":2362824211215223561},\"485\":{\"City_ID\":485,\"City\":\"santa helena\",\"Cloudiness\":36,\"Country\":\"BR\",\"Date\":1528905565,\"Humidity\":71,\"Lat\":-2.23,\"Lng\":-45.3,\"Max Temp\":88.51,\"Wind Speed\":6.53,\"hash\":335650427021262671},\"486\":{\"City_ID\":486,\"City\":\"lewiston\",\"Cloudiness\":1,\"Country\":\"US\",\"Date\":1528901760,\"Humidity\":55,\"Lat\":46.42,\"Lng\":-117.02,\"Max Temp\":64.4,\"Wind Speed\":4.7,\"hash\":7292434591942208187},\"487\":{\"City_ID\":487,\"City\":\"bouna\",\"Cloudiness\":0,\"Country\":\"CI\",\"Date\":1528905567,\"Humidity\":78,\"Lat\":9.27,\"Lng\":-3.0,\"Max Temp\":89.86,\"Wind Speed\":4.18,\"hash\":3125754579129502520},\"488\":{\"City_ID\":488,\"City\":\"upington\",\"Cloudiness\":0,\"Country\":\"ZA\",\"Date\":1528902000,\"Humidity\":19,\"Lat\":-28.46,\"Lng\":21.24,\"Max Temp\":69.8,\"Wind Speed\":5.82,\"hash\":-5375180155412638284},\"489\":{\"City_ID\":489,\"City\":\"acaponeta\",\"Cloudiness\":68,\"Country\":\"MX\",\"Date\":1528905567,\"Humidity\":100,\"Lat\":22.49,\"Lng\":-105.36,\"Max Temp\":77.35,\"Wind Speed\":4.29,\"hash\":1263925878509221534},\"490\":{\"City_ID\":490,\"City\":\"orito\",\"Cloudiness\":88,\"Country\":\"CO\",\"Date\":1528905567,\"Humidity\":97,\"Lat\":0.67,\"Lng\":-76.88,\"Max Temp\":70.42,\"Wind Speed\":2.73,\"hash\":2160476777182040973},\"491\":{\"City_ID\":491,\"City\":\"vao\",\"Cloudiness\":0,\"Country\":\"EE\",\"Date\":1528905567,\"Humidity\":45,\"Lat\":59.1,\"Lng\":26.19,\"Max Temp\":62.95,\"Wind Speed\":5.41,\"hash\":7385436321551445660},\"492\":{\"City_ID\":492,\"City\":\"nkhotakota\",\"Cloudiness\":0,\"Country\":\"MW\",\"Date\":1528905568,\"Humidity\":74,\"Lat\":-12.93,\"Lng\":34.3,\"Max Temp\":70.69,\"Wind Speed\":6.08,\"hash\":4789844770652195503},\"493\":{\"City_ID\":493,\"City\":\"boyuibe\",\"Cloudiness\":90,\"Country\":\"BO\",\"Date\":1528902000,\"Humidity\":47,\"Lat\":-20.43,\"Lng\":-63.28,\"Max Temp\":55.4,\"Wind Speed\":5.82,\"hash\":1114432828413708924},\"494\":{\"City_ID\":494,\"City\":\"necochea\",\"Cloudiness\":80,\"Country\":\"AR\",\"Date\":1528905573,\"Humidity\":81,\"Lat\":-38.55,\"Lng\":-58.74,\"Max Temp\":50.26,\"Wind Speed\":14.03,\"hash\":86856503283501282},\"495\":{\"City_ID\":495,\"City\":\"paitan\",\"Cloudiness\":0,\"Country\":\"CN\",\"Date\":1528902000,\"Humidity\":78,\"Lat\":23.49,\"Lng\":113.78,\"Max Temp\":77.0,\"Wind Speed\":11.18,\"hash\":-842939107022609513},\"496\":{\"City_ID\":496,\"City\":\"claresholm\",\"Cloudiness\":1,\"Country\":\"CA\",\"Date\":1528902000,\"Humidity\":31,\"Lat\":50.02,\"Lng\":-113.58,\"Max Temp\":60.8,\"Wind Speed\":23.04,\"hash\":-1300699063573348572},\"497\":{\"City_ID\":497,\"City\":\"sabha\",\"Cloudiness\":24,\"Country\":\"LY\",\"Date\":1528905575,\"Humidity\":10,\"Lat\":27.03,\"Lng\":14.43,\"Max Temp\":112.45,\"Wind Speed\":9.66,\"hash\":7709309195611817405},\"498\":{\"City_ID\":498,\"City\":\"northam\",\"Cloudiness\":40,\"Country\":\"GB\",\"Date\":1528903200,\"Humidity\":77,\"Lat\":51.04,\"Lng\":-4.21,\"Max Temp\":66.2,\"Wind Speed\":12.75,\"hash\":950566246334551030},\"499\":{\"City_ID\":499,\"City\":\"sarakhs\",\"Cloudiness\":80,\"Country\":\"TM\",\"Date\":1528902000,\"Humidity\":37,\"Lat\":36.54,\"Lng\":61.16,\"Max Temp\":82.4,\"Wind Speed\":6.93,\"hash\":5528666855223827279},\"500\":{\"City_ID\":500,\"City\":\"moroni\",\"Cloudiness\":0,\"Country\":\"US\",\"Date\":1528905577,\"Humidity\":19,\"Lat\":39.52,\"Lng\":-111.59,\"Max Temp\":70.69,\"Wind Speed\":3.06,\"hash\":-135647423589248609},\"501\":{\"City_ID\":501,\"City\":\"nisia floresta\",\"Cloudiness\":75,\"Country\":\"BR\",\"Date\":1528905600,\"Humidity\":51,\"Lat\":-6.09,\"Lng\":-35.21,\"Max Temp\":86.0,\"Wind Speed\":24.16,\"hash\":8255446721506108272},\"502\":{\"City_ID\":502,\"City\":\"yantarnyy\",\"Cloudiness\":20,\"Country\":\"RU\",\"Date\":1528903800,\"Humidity\":72,\"Lat\":54.87,\"Lng\":19.94,\"Max Temp\":64.4,\"Wind Speed\":6.71,\"hash\":-3919704196232971091},\"503\":{\"City_ID\":503,\"City\":\"banjar\",\"Cloudiness\":12,\"Country\":\"ID\",\"Date\":1528905582,\"Humidity\":88,\"Lat\":-7.37,\"Lng\":108.54,\"Max Temp\":71.5,\"Wind Speed\":3.62,\"hash\":-8638705845641540464},\"504\":{\"City_ID\":504,\"City\":\"khandyga\",\"Cloudiness\":48,\"Country\":\"RU\",\"Date\":1528905583,\"Humidity\":47,\"Lat\":62.65,\"Lng\":135.58,\"Max Temp\":54.85,\"Wind Speed\":6.2,\"hash\":-7735704930725744057},\"505\":{\"City_ID\":505,\"City\":\"heinola\",\"Cloudiness\":0,\"Country\":\"FI\",\"Date\":1528903200,\"Humidity\":33,\"Lat\":61.2,\"Lng\":26.03,\"Max Temp\":62.6,\"Wind Speed\":3.36,\"hash\":-8597587540978665126},\"506\":{\"City_ID\":506,\"City\":\"sept-iles\",\"Cloudiness\":40,\"Country\":\"CA\",\"Date\":1528902000,\"Humidity\":47,\"Lat\":50.2,\"Lng\":-66.38,\"Max Temp\":55.4,\"Wind Speed\":16.11,\"hash\":5311974791940510272},\"507\":{\"City_ID\":507,\"City\":\"yenagoa\",\"Cloudiness\":92,\"Country\":\"NG\",\"Date\":1528905584,\"Humidity\":80,\"Lat\":4.92,\"Lng\":6.26,\"Max Temp\":81.94,\"Wind Speed\":11.01,\"hash\":8062218184348011514},\"508\":{\"City_ID\":508,\"City\":\"pontianak\",\"Cloudiness\":44,\"Country\":\"ID\",\"Date\":1528905585,\"Humidity\":99,\"Lat\":-0.02,\"Lng\":109.34,\"Max Temp\":77.89,\"Wind Speed\":3.4,\"hash\":6332403261807623654},\"509\":{\"City_ID\":509,\"City\":\"okha\",\"Cloudiness\":80,\"Country\":\"RU\",\"Date\":1528905585,\"Humidity\":90,\"Lat\":53.59,\"Lng\":142.95,\"Max Temp\":40.09,\"Wind Speed\":10.78,\"hash\":-7000426624069492295},\"510\":{\"City_ID\":510,\"City\":\"bismarck\",\"Cloudiness\":1,\"Country\":\"US\",\"Date\":1528905300,\"Humidity\":30,\"Lat\":46.81,\"Lng\":-100.78,\"Max Temp\":71.6,\"Wind Speed\":12.75,\"hash\":-7717549931431812614},\"511\":{\"City_ID\":511,\"City\":\"dunedin\",\"Cloudiness\":92,\"Country\":\"NZ\",\"Date\":1528905434,\"Humidity\":100,\"Lat\":-45.87,\"Lng\":170.5,\"Max Temp\":43.33,\"Wind Speed\":2.95,\"hash\":8104855377785505663},\"512\":{\"City_ID\":512,\"City\":\"dabakala\",\"Cloudiness\":24,\"Country\":\"CI\",\"Date\":1528905587,\"Humidity\":74,\"Lat\":8.36,\"Lng\":-4.43,\"Max Temp\":88.78,\"Wind Speed\":4.52,\"hash\":2994284513868160121},\"513\":{\"City_ID\":513,\"City\":\"pitelino\",\"Cloudiness\":64,\"Country\":\"RU\",\"Date\":1528905589,\"Humidity\":66,\"Lat\":54.58,\"Lng\":41.81,\"Max Temp\":69.7,\"Wind Speed\":11.23,\"hash\":2431492178408676439},\"514\":{\"City_ID\":514,\"City\":\"egvekinot\",\"Cloudiness\":0,\"Country\":\"RU\",\"Date\":1528905592,\"Humidity\":71,\"Lat\":66.32,\"Lng\":-179.17,\"Max Temp\":37.3,\"Wind Speed\":2.51,\"hash\":717064907105634212},\"515\":{\"City_ID\":515,\"City\":\"melo\",\"Cloudiness\":56,\"Country\":\"UY\",\"Date\":1528905592,\"Humidity\":78,\"Lat\":-32.37,\"Lng\":-54.17,\"Max Temp\":50.08,\"Wind Speed\":22.08,\"hash\":7474764668848170788},\"516\":{\"City_ID\":516,\"City\":\"mbeya\",\"Cloudiness\":0,\"Country\":\"TZ\",\"Date\":1528905593,\"Humidity\":40,\"Lat\":-8.91,\"Lng\":33.47,\"Max Temp\":71.05,\"Wind Speed\":3.85,\"hash\":470027010307163326},\"517\":{\"City_ID\":517,\"City\":\"kochi\",\"Cloudiness\":90,\"Country\":\"IN\",\"Date\":1528903800,\"Humidity\":94,\"Lat\":9.96,\"Lng\":76.25,\"Max Temp\":77.0,\"Wind Speed\":2.24,\"hash\":-895969957760577961},\"518\":{\"City_ID\":518,\"City\":\"notse\",\"Cloudiness\":56,\"Country\":\"TG\",\"Date\":1528905594,\"Humidity\":76,\"Lat\":6.95,\"Lng\":1.17,\"Max Temp\":86.62,\"Wind Speed\":8.77,\"hash\":-7549963642296461066},\"519\":{\"City_ID\":519,\"City\":\"amuntai\",\"Cloudiness\":36,\"Country\":\"ID\",\"Date\":1528905596,\"Humidity\":88,\"Lat\":-2.42,\"Lng\":115.25,\"Max Temp\":77.17,\"Wind Speed\":2.17,\"hash\":-9023677716394677306},\"520\":{\"City_ID\":520,\"City\":\"san juan\",\"Cloudiness\":90,\"Country\":\"PH\",\"Date\":1528902000,\"Humidity\":100,\"Lat\":14.6,\"Lng\":121.03,\"Max Temp\":77.0,\"Wind Speed\":10.29,\"hash\":5671142374289281743},\"521\":{\"City_ID\":521,\"City\":\"rocha\",\"Cloudiness\":56,\"Country\":\"UY\",\"Date\":1528905597,\"Humidity\":93,\"Lat\":-34.48,\"Lng\":-54.34,\"Max Temp\":49.99,\"Wind Speed\":21.18,\"hash\":2530368696327114507},\"522\":{\"City_ID\":522,\"City\":\"elizabeth city\",\"Cloudiness\":90,\"Country\":\"US\",\"Date\":1528904640,\"Humidity\":83,\"Lat\":36.3,\"Lng\":-76.22,\"Max Temp\":78.8,\"Wind Speed\":12.75,\"hash\":3836787630560220080},\"523\":{\"City_ID\":523,\"City\":\"narathiwat\",\"Cloudiness\":75,\"Country\":\"TH\",\"Date\":1528902000,\"Humidity\":83,\"Lat\":6.43,\"Lng\":101.8,\"Max Temp\":82.4,\"Wind Speed\":4.7,\"hash\":-4781904766449949201},\"524\":{\"City_ID\":524,\"City\":\"acari\",\"Cloudiness\":0,\"Country\":\"BR\",\"Date\":1528905599,\"Humidity\":48,\"Lat\":-6.44,\"Lng\":-36.64,\"Max Temp\":84.1,\"Wind Speed\":15.26,\"hash\":6001527287689672672},\"525\":{\"City_ID\":525,\"City\":\"puerto carreno\",\"Cloudiness\":40,\"Country\":\"CO\",\"Date\":1528902000,\"Humidity\":74,\"Lat\":6.19,\"Lng\":-67.49,\"Max Temp\":84.2,\"Wind Speed\":3.36,\"hash\":8247527192847772013},\"526\":{\"City_ID\":526,\"City\":\"troitskiy\",\"Cloudiness\":0,\"Country\":\"RU\",\"Date\":1528903800,\"Humidity\":48,\"Lat\":45.15,\"Lng\":38.14,\"Max Temp\":82.4,\"Wind Speed\":6.71,\"hash\":4510123713225969288},\"527\":{\"City_ID\":527,\"City\":\"dhidhdhoo\",\"Cloudiness\":88,\"Country\":\"MV\",\"Date\":1528905605,\"Humidity\":100,\"Lat\":6.88,\"Lng\":73.1,\"Max Temp\":82.39,\"Wind Speed\":12.24,\"hash\":8026431930865863722},\"528\":{\"City_ID\":528,\"City\":\"santa fe\",\"Cloudiness\":12,\"Country\":\"AR\",\"Date\":1528905642,\"Humidity\":84,\"Lat\":-31.62,\"Lng\":-60.7,\"Max Temp\":47.47,\"Wind Speed\":10.45,\"hash\":-463471716828682832},\"529\":{\"City_ID\":529,\"City\":\"kuytun\",\"Cloudiness\":20,\"Country\":\"RU\",\"Date\":1528905610,\"Humidity\":73,\"Lat\":54.34,\"Lng\":101.51,\"Max Temp\":64.3,\"Wind Speed\":2.62,\"hash\":869304000094890219},\"530\":{\"City_ID\":530,\"City\":\"evans\",\"Cloudiness\":1,\"Country\":\"US\",\"Date\":1528904100,\"Humidity\":41,\"Lat\":40.38,\"Lng\":-104.69,\"Max Temp\":78.8,\"Wind Speed\":3.36,\"hash\":-714678509157190826},\"531\":{\"City_ID\":531,\"City\":\"sokoni\",\"Cloudiness\":0,\"Country\":\"CD\",\"Date\":1528905646,\"Humidity\":37,\"Lat\":-12.89,\"Lng\":28.78,\"Max Temp\":74.56,\"Wind Speed\":4.07,\"hash\":4474539996603576763},\"532\":{\"City_ID\":532,\"City\":\"sovetskiy\",\"Cloudiness\":76,\"Country\":\"RU\",\"Date\":1528905619,\"Humidity\":85,\"Lat\":56.76,\"Lng\":48.47,\"Max Temp\":61.33,\"Wind Speed\":14.03,\"hash\":133511668116257268},\"533\":{\"City_ID\":533,\"City\":\"pagudpud\",\"Cloudiness\":90,\"Country\":\"PH\",\"Date\":1528902000,\"Humidity\":100,\"Lat\":18.56,\"Lng\":120.79,\"Max Temp\":77.0,\"Wind Speed\":13.87,\"hash\":-3496897070609931886},\"534\":{\"City_ID\":534,\"City\":\"southbridge\",\"Cloudiness\":90,\"Country\":\"US\",\"Date\":1528903440,\"Humidity\":82,\"Lat\":42.08,\"Lng\":-72.03,\"Max Temp\":69.8,\"Wind Speed\":19.46,\"hash\":1850137308226553590},\"535\":{\"City_ID\":535,\"City\":\"brazzaville\",\"Cloudiness\":8,\"Country\":\"CD\",\"Date\":1528902000,\"Humidity\":55,\"Lat\":-4.27,\"Lng\":15.27,\"Max Temp\":86.0,\"Wind Speed\":5.82,\"hash\":3039062974646376700},\"536\":{\"City_ID\":536,\"City\":\"tutoia\",\"Cloudiness\":40,\"Country\":\"BR\",\"Date\":1528902000,\"Humidity\":52,\"Lat\":-2.76,\"Lng\":-42.27,\"Max Temp\":91.4,\"Wind Speed\":8.05,\"hash\":-3693744196705645777},\"537\":{\"City_ID\":537,\"City\":\"harlingen\",\"Cloudiness\":75,\"Country\":\"US\",\"Date\":1528902900,\"Humidity\":62,\"Lat\":26.19,\"Lng\":-97.7,\"Max Temp\":89.6,\"Wind Speed\":10.29,\"hash\":-5259009797209511813},\"538\":{\"City_ID\":538,\"City\":\"calamar\",\"Cloudiness\":92,\"Country\":\"CO\",\"Date\":1528905629,\"Humidity\":100,\"Lat\":1.96,\"Lng\":-72.65,\"Max Temp\":70.87,\"Wind Speed\":2.95,\"hash\":-2453730626922207275},\"539\":{\"City_ID\":539,\"City\":\"road town\",\"Cloudiness\":40,\"Country\":\"VG\",\"Date\":1528905600,\"Humidity\":66,\"Lat\":18.42,\"Lng\":-64.62,\"Max Temp\":87.8,\"Wind Speed\":12.75,\"hash\":7756838075574191991},\"540\":{\"City_ID\":540,\"City\":\"tabas\",\"Cloudiness\":36,\"Country\":\"IR\",\"Date\":1528905630,\"Humidity\":11,\"Lat\":33.6,\"Lng\":56.92,\"Max Temp\":94.27,\"Wind Speed\":6.98,\"hash\":6214031958480070389},\"541\":{\"City_ID\":541,\"City\":\"shieli\",\"Cloudiness\":88,\"Country\":\"KZ\",\"Date\":1528905630,\"Humidity\":41,\"Lat\":44.18,\"Lng\":66.74,\"Max Temp\":67.27,\"Wind Speed\":14.81,\"hash\":-5067707164034279041},\"542\":{\"City_ID\":542,\"City\":\"scalea\",\"Cloudiness\":36,\"Country\":\"IT\",\"Date\":1528905631,\"Humidity\":100,\"Lat\":39.82,\"Lng\":15.79,\"Max Temp\":70.06,\"Wind Speed\":5.3,\"hash\":-2938001709762789988},\"543\":{\"City_ID\":543,\"City\":\"san andres\",\"Cloudiness\":68,\"Country\":\"PH\",\"Date\":1528905632,\"Humidity\":100,\"Lat\":13.32,\"Lng\":122.68,\"Max Temp\":83.47,\"Wind Speed\":22.64,\"hash\":-4300116191350238582},\"544\":{\"City_ID\":544,\"City\":\"muisne\",\"Cloudiness\":92,\"Country\":\"EC\",\"Date\":1528905633,\"Humidity\":84,\"Lat\":0.61,\"Lng\":-80.02,\"Max Temp\":76.9,\"Wind Speed\":4.63,\"hash\":9056071514081048334},\"545\":{\"City_ID\":545,\"City\":\"ati\",\"Cloudiness\":20,\"Country\":\"TD\",\"Date\":1528905633,\"Humidity\":25,\"Lat\":13.21,\"Lng\":18.34,\"Max Temp\":104.53,\"Wind Speed\":4.97,\"hash\":-2070595231479816634},\"546\":{\"City_ID\":546,\"City\":\"san luis\",\"Cloudiness\":0,\"Country\":\"AR\",\"Date\":1528905472,\"Humidity\":53,\"Lat\":-33.3,\"Lng\":-66.34,\"Max Temp\":42.43,\"Wind Speed\":2.62,\"hash\":5515159328050062964},\"547\":{\"City_ID\":546,\"City\":\"san luis\",\"Cloudiness\":0,\"Country\":\"AR\",\"Date\":1528905472,\"Humidity\":53,\"Lat\":-33.3,\"Lng\":-66.34,\"Max Temp\":42.43,\"Wind Speed\":2.62,\"hash\":-3010865062464850435}}'"
      ]
     },
     "execution_count": 29,
     "metadata": {},
     "output_type": "execute_result"
    }
   ],
   "source": [
    "df_nodupe.to_json(path_or_buf=None, orient='index')\n",
    "# Converting dataframe data to json format\n",
    "# https://pandas.pydata.org/pandas-docs/stable/reference/api/pandas.DataFrame.to_json.html"
   ]
  },
  {
   "cell_type": "code",
   "execution_count": 30,
   "metadata": {},
   "outputs": [],
   "source": [
    "json_data = df_nodupe.to_json(orient='index')\n",
    "parsed = json.loads(json_data)\n",
    "# print(json.dumps(parsed, indent=4, sort_keys=True))\n",
    "# Un-comment print to pretty print json formated data"
   ]
  },
  {
   "cell_type": "markdown",
   "metadata": {},
   "source": [
    "#### > Create MongoDB named 'etl_db' with a collection 'etl_data'"
   ]
  },
  {
   "cell_type": "code",
   "execution_count": 31,
   "metadata": {},
   "outputs": [
    {
     "name": "stdout",
     "output_type": "stream",
     "text": [
      "Mongo version 3.9.0\n"
     ]
    }
   ],
   "source": [
    "import pymongo\n",
    "from pymongo import MongoClient\n",
    "client = MongoClient()\n",
    "client = MongoClient('localhost', 27017)\n",
    "client = MongoClient('mongodb://localhost:27017/')\n",
    "print('Mongo version', pymongo.__version__)"
   ]
  },
  {
   "cell_type": "code",
   "execution_count": 32,
   "metadata": {},
   "outputs": [],
   "source": [
    "# Uncomment code to drop existing database before creating new one\n",
    "# client.drop_database('etl_db')"
   ]
  },
  {
   "cell_type": "code",
   "execution_count": 33,
   "metadata": {},
   "outputs": [],
   "source": [
    "db = client['etl_db']\n",
    "# Create database named 'etl_db'\n",
    "\n",
    "db.etl_data.drop() # Drop collection if it already exist\n",
    "\n",
    "collection = db['etl_data']\n",
    "# Create collection called 'etl_data'"
   ]
  },
  {
   "cell_type": "markdown",
   "metadata": {},
   "source": [
    "#### > Load ETL_json_file data"
   ]
  },
  {
   "cell_type": "code",
   "execution_count": 34,
   "metadata": {},
   "outputs": [],
   "source": [
    "with open('ETL_json_file') as f:\n",
    "    file_data = json.load(f)\n",
    "    collection.insert_one(file_data) \n",
    "client.close()\n",
    "# Read json file into mongoDB\n",
    "# https://stackoverflow.com/questions/49510049/how-to-import-json-file-to-mongodb-using-python"
   ]
  },
  {
   "cell_type": "code",
   "execution_count": 35,
   "metadata": {},
   "outputs": [
    {
     "data": {
      "text/plain": [
       "['etl_data']"
      ]
     },
     "execution_count": 35,
     "metadata": {},
     "output_type": "execute_result"
    }
   ],
   "source": [
    "db.list_collection_names()\n",
    "# List collections in database"
   ]
  },
  {
   "cell_type": "code",
   "execution_count": 18,
   "metadata": {},
   "outputs": [
    {
     "data": {
      "text/plain": [
       "<pymongo.cursor.Cursor at 0x187df1de2b0>"
      ]
     },
     "execution_count": 18,
     "metadata": {},
     "output_type": "execute_result"
    }
   ],
   "source": [
    "db.etl_data.find( { 0: {} } )\n"
   ]
  },
  {
   "cell_type": "code",
   "execution_count": 19,
   "metadata": {
    "scrolled": false
   },
   "outputs": [],
   "source": [
    "# cursor = db.etl_data # selecting the etl_data collection\n",
    "# for document in cursor.find():\n",
    "#    print (document)\n",
    "# Printing the content of the collection LARGE PRINTOUT"
   ]
  },
  {
   "cell_type": "markdown",
   "metadata": {},
   "source": [
    "#### > Reading content of database and loading it into a dataframe"
   ]
  },
  {
   "cell_type": "code",
   "execution_count": 20,
   "metadata": {},
   "outputs": [],
   "source": [
    "extracted_etl_data = db.etl_data\n",
    "df = pd.DataFrame(list(extracted_etl_data.find()))\n",
    "# https://stackoverflow.com/questions/16249736/how-to-import-data-from-mongodb-to-pandas"
   ]
  },
  {
   "cell_type": "code",
   "execution_count": 21,
   "metadata": {},
   "outputs": [
    {
     "data": {
      "text/html": [
       "<div>\n",
       "<style scoped>\n",
       "    .dataframe tbody tr th:only-of-type {\n",
       "        vertical-align: middle;\n",
       "    }\n",
       "\n",
       "    .dataframe tbody tr th {\n",
       "        vertical-align: top;\n",
       "    }\n",
       "\n",
       "    .dataframe thead th {\n",
       "        text-align: right;\n",
       "    }\n",
       "</style>\n",
       "<table border=\"1\" class=\"dataframe\">\n",
       "  <thead>\n",
       "    <tr style=\"text-align: right;\">\n",
       "      <th></th>\n",
       "      <th>0</th>\n",
       "      <th>1</th>\n",
       "      <th>10</th>\n",
       "      <th>100</th>\n",
       "      <th>101</th>\n",
       "      <th>102</th>\n",
       "      <th>103</th>\n",
       "      <th>104</th>\n",
       "      <th>105</th>\n",
       "      <th>106</th>\n",
       "      <th>...</th>\n",
       "      <th>91</th>\n",
       "      <th>92</th>\n",
       "      <th>93</th>\n",
       "      <th>94</th>\n",
       "      <th>95</th>\n",
       "      <th>96</th>\n",
       "      <th>97</th>\n",
       "      <th>98</th>\n",
       "      <th>99</th>\n",
       "      <th>_id</th>\n",
       "    </tr>\n",
       "  </thead>\n",
       "  <tbody>\n",
       "    <tr>\n",
       "      <th>0</th>\n",
       "      <td>{'City_ID': 0, 'City': 'jacareacanga', 'Cloudi...</td>\n",
       "      <td>{'City_ID': 1, 'City': 'kaitangata', 'Cloudine...</td>\n",
       "      <td>{'City_ID': 10, 'City': 'puerto ayora', 'Cloud...</td>\n",
       "      <td>{'City_ID': 100, 'City': 'auchel', 'Cloudiness...</td>\n",
       "      <td>{'City_ID': 101, 'City': 'bubaque', 'Cloudines...</td>\n",
       "      <td>{'City_ID': 102, 'City': 'khatanga', 'Cloudine...</td>\n",
       "      <td>{'City_ID': 103, 'City': 'los banos', 'Cloudin...</td>\n",
       "      <td>{'City_ID': 104, 'City': 'labuhan', 'Cloudines...</td>\n",
       "      <td>{'City_ID': 105, 'City': 'saint-paul', 'Cloudi...</td>\n",
       "      <td>{'City_ID': 106, 'City': 'petatlan', 'Cloudine...</td>\n",
       "      <td>...</td>\n",
       "      <td>{'City_ID': 91, 'City': 'mataura', 'Cloudiness...</td>\n",
       "      <td>{'City_ID': 92, 'City': 'buala', 'Cloudiness':...</td>\n",
       "      <td>{'City_ID': 93, 'City': 'eyl', 'Cloudiness': 2...</td>\n",
       "      <td>{'City_ID': 94, 'City': 'abu dhabi', 'Cloudine...</td>\n",
       "      <td>{'City_ID': 95, 'City': 'tahe', 'Cloudiness': ...</td>\n",
       "      <td>{'City_ID': 96, 'City': 'chuy', 'Cloudiness': ...</td>\n",
       "      <td>{'City_ID': 97, 'City': 'dzerzhinskoye', 'Clou...</td>\n",
       "      <td>{'City_ID': 98, 'City': 'vanavara', 'Cloudines...</td>\n",
       "      <td>{'City_ID': 99, 'City': 'muros', 'Cloudiness':...</td>\n",
       "      <td>5d71c0b05f2abcf499e75679</td>\n",
       "    </tr>\n",
       "  </tbody>\n",
       "</table>\n",
       "<p>1 rows × 549 columns</p>\n",
       "</div>"
      ],
      "text/plain": [
       "                                                   0  \\\n",
       "0  {'City_ID': 0, 'City': 'jacareacanga', 'Cloudi...   \n",
       "\n",
       "                                                   1  \\\n",
       "0  {'City_ID': 1, 'City': 'kaitangata', 'Cloudine...   \n",
       "\n",
       "                                                  10  \\\n",
       "0  {'City_ID': 10, 'City': 'puerto ayora', 'Cloud...   \n",
       "\n",
       "                                                 100  \\\n",
       "0  {'City_ID': 100, 'City': 'auchel', 'Cloudiness...   \n",
       "\n",
       "                                                 101  \\\n",
       "0  {'City_ID': 101, 'City': 'bubaque', 'Cloudines...   \n",
       "\n",
       "                                                 102  \\\n",
       "0  {'City_ID': 102, 'City': 'khatanga', 'Cloudine...   \n",
       "\n",
       "                                                 103  \\\n",
       "0  {'City_ID': 103, 'City': 'los banos', 'Cloudin...   \n",
       "\n",
       "                                                 104  \\\n",
       "0  {'City_ID': 104, 'City': 'labuhan', 'Cloudines...   \n",
       "\n",
       "                                                 105  \\\n",
       "0  {'City_ID': 105, 'City': 'saint-paul', 'Cloudi...   \n",
       "\n",
       "                                                 106  ...  \\\n",
       "0  {'City_ID': 106, 'City': 'petatlan', 'Cloudine...  ...   \n",
       "\n",
       "                                                  91  \\\n",
       "0  {'City_ID': 91, 'City': 'mataura', 'Cloudiness...   \n",
       "\n",
       "                                                  92  \\\n",
       "0  {'City_ID': 92, 'City': 'buala', 'Cloudiness':...   \n",
       "\n",
       "                                                  93  \\\n",
       "0  {'City_ID': 93, 'City': 'eyl', 'Cloudiness': 2...   \n",
       "\n",
       "                                                  94  \\\n",
       "0  {'City_ID': 94, 'City': 'abu dhabi', 'Cloudine...   \n",
       "\n",
       "                                                  95  \\\n",
       "0  {'City_ID': 95, 'City': 'tahe', 'Cloudiness': ...   \n",
       "\n",
       "                                                  96  \\\n",
       "0  {'City_ID': 96, 'City': 'chuy', 'Cloudiness': ...   \n",
       "\n",
       "                                                  97  \\\n",
       "0  {'City_ID': 97, 'City': 'dzerzhinskoye', 'Clou...   \n",
       "\n",
       "                                                  98  \\\n",
       "0  {'City_ID': 98, 'City': 'vanavara', 'Cloudines...   \n",
       "\n",
       "                                                  99                       _id  \n",
       "0  {'City_ID': 99, 'City': 'muros', 'Cloudiness':...  5d71c0b05f2abcf499e75679  \n",
       "\n",
       "[1 rows x 549 columns]"
      ]
     },
     "execution_count": 21,
     "metadata": {},
     "output_type": "execute_result"
    }
   ],
   "source": [
    "df"
   ]
  },
  {
   "cell_type": "code",
   "execution_count": 22,
   "metadata": {},
   "outputs": [],
   "source": [
    "df = df.melt()"
   ]
  },
  {
   "cell_type": "code",
   "execution_count": 23,
   "metadata": {},
   "outputs": [
    {
     "data": {
      "text/html": [
       "<div>\n",
       "<style scoped>\n",
       "    .dataframe tbody tr th:only-of-type {\n",
       "        vertical-align: middle;\n",
       "    }\n",
       "\n",
       "    .dataframe tbody tr th {\n",
       "        vertical-align: top;\n",
       "    }\n",
       "\n",
       "    .dataframe thead th {\n",
       "        text-align: right;\n",
       "    }\n",
       "</style>\n",
       "<table border=\"1\" class=\"dataframe\">\n",
       "  <thead>\n",
       "    <tr style=\"text-align: right;\">\n",
       "      <th></th>\n",
       "      <th>variable</th>\n",
       "      <th>value</th>\n",
       "    </tr>\n",
       "  </thead>\n",
       "  <tbody>\n",
       "    <tr>\n",
       "      <th>0</th>\n",
       "      <td>0</td>\n",
       "      <td>{'City_ID': 0, 'City': 'jacareacanga', 'Cloudi...</td>\n",
       "    </tr>\n",
       "    <tr>\n",
       "      <th>1</th>\n",
       "      <td>1</td>\n",
       "      <td>{'City_ID': 1, 'City': 'kaitangata', 'Cloudine...</td>\n",
       "    </tr>\n",
       "    <tr>\n",
       "      <th>2</th>\n",
       "      <td>10</td>\n",
       "      <td>{'City_ID': 10, 'City': 'puerto ayora', 'Cloud...</td>\n",
       "    </tr>\n",
       "    <tr>\n",
       "      <th>3</th>\n",
       "      <td>100</td>\n",
       "      <td>{'City_ID': 100, 'City': 'auchel', 'Cloudiness...</td>\n",
       "    </tr>\n",
       "    <tr>\n",
       "      <th>4</th>\n",
       "      <td>101</td>\n",
       "      <td>{'City_ID': 101, 'City': 'bubaque', 'Cloudines...</td>\n",
       "    </tr>\n",
       "  </tbody>\n",
       "</table>\n",
       "</div>"
      ],
      "text/plain": [
       "  variable                                              value\n",
       "0        0  {'City_ID': 0, 'City': 'jacareacanga', 'Cloudi...\n",
       "1        1  {'City_ID': 1, 'City': 'kaitangata', 'Cloudine...\n",
       "2       10  {'City_ID': 10, 'City': 'puerto ayora', 'Cloud...\n",
       "3      100  {'City_ID': 100, 'City': 'auchel', 'Cloudiness...\n",
       "4      101  {'City_ID': 101, 'City': 'bubaque', 'Cloudines..."
      ]
     },
     "execution_count": 23,
     "metadata": {},
     "output_type": "execute_result"
    }
   ],
   "source": [
    "df.head()"
   ]
  },
  {
   "cell_type": "code",
   "execution_count": 24,
   "metadata": {},
   "outputs": [
    {
     "data": {
      "text/plain": [
       "549"
      ]
     },
     "execution_count": 24,
     "metadata": {},
     "output_type": "execute_result"
    }
   ],
   "source": [
    "len(df)"
   ]
  },
  {
   "cell_type": "code",
   "execution_count": 25,
   "metadata": {
    "scrolled": false
   },
   "outputs": [
    {
     "data": {
      "text/plain": [
       "{'City_ID': 0,\n",
       " 'City': 'jacareacanga',\n",
       " 'Cloudiness': 0,\n",
       " 'Country': 'BR',\n",
       " 'Date': 1528902000,\n",
       " 'Humidity': 62,\n",
       " 'Lat': -6.22,\n",
       " 'Lng': -57.76,\n",
       " 'Max Temp': 89.6,\n",
       " 'Wind Speed': 6.93,\n",
       " 'hash': -3010865062464850435}"
      ]
     },
     "execution_count": 25,
     "metadata": {},
     "output_type": "execute_result"
    }
   ],
   "source": [
    "df.iloc[0][1]\n",
    "# Showing content of first row 'value'"
   ]
  },
  {
   "cell_type": "markdown",
   "metadata": {},
   "source": [
    "#### > CSV Move script - moves .csv files after being ETL processed"
   ]
  },
  {
   "cell_type": "code",
   "execution_count": 26,
   "metadata": {},
   "outputs": [],
   "source": [
    "import shutil, os, glob"
   ]
  },
  {
   "cell_type": "code",
   "execution_count": 27,
   "metadata": {},
   "outputs": [],
   "source": [
    "#For Loop moving all .csv files from the test_input folder \n",
    "for filePath in glob.glob('test_input' + '\\*.csv'):\n",
    "            #Move each file to the destination directory\n",
    "        shutil.move(filePath, 'test_processed');\n",
    "# Move all files that have been ETL'ed into a processed folder\n",
    "#Source Code           \n",
    "#https://thispointer.com/python-how-to-move-files-and-directories/"
   ]
  },
  {
   "cell_type": "code",
   "execution_count": null,
   "metadata": {},
   "outputs": [],
   "source": []
  }
 ],
 "metadata": {
  "kernelspec": {
   "display_name": "Python 3",
   "language": "python",
   "name": "python3"
  },
  "language_info": {
   "codemirror_mode": {
    "name": "ipython",
    "version": 3
   },
   "file_extension": ".py",
   "mimetype": "text/x-python",
   "name": "python",
   "nbconvert_exporter": "python",
   "pygments_lexer": "ipython3",
   "version": "3.7.3"
  }
 },
 "nbformat": 4,
 "nbformat_minor": 2
}
