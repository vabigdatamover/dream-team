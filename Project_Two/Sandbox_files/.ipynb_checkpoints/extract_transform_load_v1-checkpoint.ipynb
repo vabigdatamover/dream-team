{
 "cells": [
  {
   "cell_type": "code",
   "execution_count": 1,
   "metadata": {},
   "outputs": [],
   "source": [
    "import pandas as pd\n",
    "import glob"
   ]
  },
  {
   "cell_type": "markdown",
   "metadata": {},
   "source": [
    "## Extract"
   ]
  },
  {
   "cell_type": "code",
   "execution_count": 2,
   "metadata": {},
   "outputs": [],
   "source": [
    "df = pd.concat(map(pd.read_csv, glob.glob('input/*.csv')))\n",
    "#Extract All source code\n",
    "#https://stackoverflow.com/questions/20906474/import-multiple-csv-files-into-pandas-and-concatenate-into-one-dataframe"
   ]
  },
  {
   "cell_type": "code",
   "execution_count": 3,
   "metadata": {
    "scrolled": true
   },
   "outputs": [
    {
     "data": {
      "text/html": [
       "<div>\n",
       "<style scoped>\n",
       "    .dataframe tbody tr th:only-of-type {\n",
       "        vertical-align: middle;\n",
       "    }\n",
       "\n",
       "    .dataframe tbody tr th {\n",
       "        vertical-align: top;\n",
       "    }\n",
       "\n",
       "    .dataframe thead th {\n",
       "        text-align: right;\n",
       "    }\n",
       "</style>\n",
       "<table border=\"1\" class=\"dataframe\">\n",
       "  <thead>\n",
       "    <tr style=\"text-align: right;\">\n",
       "      <th></th>\n",
       "      <th>City_ID</th>\n",
       "      <th>City</th>\n",
       "      <th>Cloudiness</th>\n",
       "      <th>Country</th>\n",
       "      <th>Date</th>\n",
       "      <th>Humidity</th>\n",
       "      <th>Lat</th>\n",
       "      <th>Lng</th>\n",
       "      <th>Max Temp</th>\n",
       "      <th>Wind Speed</th>\n",
       "    </tr>\n",
       "  </thead>\n",
       "  <tbody>\n",
       "    <tr>\n",
       "      <th>0</th>\n",
       "      <td>0</td>\n",
       "      <td>jacareacanga</td>\n",
       "      <td>0</td>\n",
       "      <td>BR</td>\n",
       "      <td>1528902000</td>\n",
       "      <td>62</td>\n",
       "      <td>-6.22</td>\n",
       "      <td>-57.76</td>\n",
       "      <td>89.60</td>\n",
       "      <td>6.93</td>\n",
       "    </tr>\n",
       "    <tr>\n",
       "      <th>1</th>\n",
       "      <td>1</td>\n",
       "      <td>kaitangata</td>\n",
       "      <td>100</td>\n",
       "      <td>NZ</td>\n",
       "      <td>1528905304</td>\n",
       "      <td>94</td>\n",
       "      <td>-46.28</td>\n",
       "      <td>169.85</td>\n",
       "      <td>42.61</td>\n",
       "      <td>5.64</td>\n",
       "    </tr>\n",
       "    <tr>\n",
       "      <th>2</th>\n",
       "      <td>2</td>\n",
       "      <td>goulburn</td>\n",
       "      <td>20</td>\n",
       "      <td>AU</td>\n",
       "      <td>1528905078</td>\n",
       "      <td>91</td>\n",
       "      <td>-34.75</td>\n",
       "      <td>149.72</td>\n",
       "      <td>44.32</td>\n",
       "      <td>10.11</td>\n",
       "    </tr>\n",
       "    <tr>\n",
       "      <th>3</th>\n",
       "      <td>3</td>\n",
       "      <td>lata</td>\n",
       "      <td>76</td>\n",
       "      <td>IN</td>\n",
       "      <td>1528905305</td>\n",
       "      <td>89</td>\n",
       "      <td>30.78</td>\n",
       "      <td>78.62</td>\n",
       "      <td>59.89</td>\n",
       "      <td>0.94</td>\n",
       "    </tr>\n",
       "    <tr>\n",
       "      <th>4</th>\n",
       "      <td>4</td>\n",
       "      <td>chokurdakh</td>\n",
       "      <td>0</td>\n",
       "      <td>RU</td>\n",
       "      <td>1528905306</td>\n",
       "      <td>88</td>\n",
       "      <td>70.62</td>\n",
       "      <td>147.90</td>\n",
       "      <td>32.17</td>\n",
       "      <td>2.95</td>\n",
       "    </tr>\n",
       "  </tbody>\n",
       "</table>\n",
       "</div>"
      ],
      "text/plain": [
       "   City_ID          City  Cloudiness Country        Date  Humidity    Lat  \\\n",
       "0        0  jacareacanga           0      BR  1528902000        62  -6.22   \n",
       "1        1    kaitangata         100      NZ  1528905304        94 -46.28   \n",
       "2        2      goulburn          20      AU  1528905078        91 -34.75   \n",
       "3        3          lata          76      IN  1528905305        89  30.78   \n",
       "4        4    chokurdakh           0      RU  1528905306        88  70.62   \n",
       "\n",
       "      Lng  Max Temp  Wind Speed  \n",
       "0  -57.76     89.60        6.93  \n",
       "1  169.85     42.61        5.64  \n",
       "2  149.72     44.32       10.11  \n",
       "3   78.62     59.89        0.94  \n",
       "4  147.90     32.17        2.95  "
      ]
     },
     "execution_count": 3,
     "metadata": {},
     "output_type": "execute_result"
    }
   ],
   "source": [
    "df.head()"
   ]
  },
  {
   "cell_type": "code",
   "execution_count": 4,
   "metadata": {},
   "outputs": [
    {
     "data": {
      "text/plain": [
       "1095"
      ]
     },
     "execution_count": 4,
     "metadata": {},
     "output_type": "execute_result"
    }
   ],
   "source": [
    "len(df)"
   ]
  },
  {
   "cell_type": "markdown",
   "metadata": {},
   "source": [
    "## Transform"
   ]
  },
  {
   "cell_type": "code",
   "execution_count": 5,
   "metadata": {},
   "outputs": [
    {
     "data": {
      "text/html": [
       "<div>\n",
       "<style scoped>\n",
       "    .dataframe tbody tr th:only-of-type {\n",
       "        vertical-align: middle;\n",
       "    }\n",
       "\n",
       "    .dataframe tbody tr th {\n",
       "        vertical-align: top;\n",
       "    }\n",
       "\n",
       "    .dataframe thead th {\n",
       "        text-align: right;\n",
       "    }\n",
       "</style>\n",
       "<table border=\"1\" class=\"dataframe\">\n",
       "  <thead>\n",
       "    <tr style=\"text-align: right;\">\n",
       "      <th></th>\n",
       "      <th>City_ID</th>\n",
       "      <th>City</th>\n",
       "      <th>Cloudiness</th>\n",
       "      <th>Country</th>\n",
       "      <th>Date</th>\n",
       "      <th>Humidity</th>\n",
       "      <th>Lat</th>\n",
       "      <th>Lng</th>\n",
       "      <th>Max Temp</th>\n",
       "      <th>Wind Speed</th>\n",
       "      <th>hash</th>\n",
       "    </tr>\n",
       "  </thead>\n",
       "  <tbody>\n",
       "    <tr>\n",
       "      <th>0</th>\n",
       "      <td>0</td>\n",
       "      <td>jacareacanga</td>\n",
       "      <td>0</td>\n",
       "      <td>BR</td>\n",
       "      <td>1528902000</td>\n",
       "      <td>62</td>\n",
       "      <td>-6.22</td>\n",
       "      <td>-57.76</td>\n",
       "      <td>89.60</td>\n",
       "      <td>6.93</td>\n",
       "      <td>-1625669663818752798</td>\n",
       "    </tr>\n",
       "    <tr>\n",
       "      <th>1</th>\n",
       "      <td>1</td>\n",
       "      <td>kaitangata</td>\n",
       "      <td>100</td>\n",
       "      <td>NZ</td>\n",
       "      <td>1528905304</td>\n",
       "      <td>94</td>\n",
       "      <td>-46.28</td>\n",
       "      <td>169.85</td>\n",
       "      <td>42.61</td>\n",
       "      <td>5.64</td>\n",
       "      <td>2734567828028643346</td>\n",
       "    </tr>\n",
       "    <tr>\n",
       "      <th>2</th>\n",
       "      <td>2</td>\n",
       "      <td>goulburn</td>\n",
       "      <td>20</td>\n",
       "      <td>AU</td>\n",
       "      <td>1528905078</td>\n",
       "      <td>91</td>\n",
       "      <td>-34.75</td>\n",
       "      <td>149.72</td>\n",
       "      <td>44.32</td>\n",
       "      <td>10.11</td>\n",
       "      <td>1117517490766594019</td>\n",
       "    </tr>\n",
       "    <tr>\n",
       "      <th>3</th>\n",
       "      <td>3</td>\n",
       "      <td>lata</td>\n",
       "      <td>76</td>\n",
       "      <td>IN</td>\n",
       "      <td>1528905305</td>\n",
       "      <td>89</td>\n",
       "      <td>30.78</td>\n",
       "      <td>78.62</td>\n",
       "      <td>59.89</td>\n",
       "      <td>0.94</td>\n",
       "      <td>1699187215842811681</td>\n",
       "    </tr>\n",
       "    <tr>\n",
       "      <th>4</th>\n",
       "      <td>4</td>\n",
       "      <td>chokurdakh</td>\n",
       "      <td>0</td>\n",
       "      <td>RU</td>\n",
       "      <td>1528905306</td>\n",
       "      <td>88</td>\n",
       "      <td>70.62</td>\n",
       "      <td>147.90</td>\n",
       "      <td>32.17</td>\n",
       "      <td>2.95</td>\n",
       "      <td>-5962522836276746445</td>\n",
       "    </tr>\n",
       "  </tbody>\n",
       "</table>\n",
       "</div>"
      ],
      "text/plain": [
       "   City_ID          City  Cloudiness Country        Date  Humidity    Lat  \\\n",
       "0        0  jacareacanga           0      BR  1528902000        62  -6.22   \n",
       "1        1    kaitangata         100      NZ  1528905304        94 -46.28   \n",
       "2        2      goulburn          20      AU  1528905078        91 -34.75   \n",
       "3        3          lata          76      IN  1528905305        89  30.78   \n",
       "4        4    chokurdakh           0      RU  1528905306        88  70.62   \n",
       "\n",
       "      Lng  Max Temp  Wind Speed                 hash  \n",
       "0  -57.76     89.60        6.93 -1625669663818752798  \n",
       "1  169.85     42.61        5.64  2734567828028643346  \n",
       "2  149.72     44.32       10.11  1117517490766594019  \n",
       "3   78.62     59.89        0.94  1699187215842811681  \n",
       "4  147.90     32.17        2.95 -5962522836276746445  "
      ]
     },
     "execution_count": 5,
     "metadata": {},
     "output_type": "execute_result"
    }
   ],
   "source": [
    "df['hash'] = pd.Series((hash(tuple(row)) for _, row in df.iterrows()))\n",
    "#Hash Code\n",
    "#https://stackoverflow.com/questions/25757042/create-hash-value-for-each-row-of-data-with-selected-columns-in-dataframe-in-pyt\n",
    "df.head()"
   ]
  },
  {
   "cell_type": "code",
   "execution_count": 6,
   "metadata": {},
   "outputs": [
    {
     "data": {
      "text/plain": [
       "1095"
      ]
     },
     "execution_count": 6,
     "metadata": {},
     "output_type": "execute_result"
    }
   ],
   "source": [
    "len(df)"
   ]
  },
  {
   "cell_type": "code",
   "execution_count": 7,
   "metadata": {},
   "outputs": [],
   "source": [
    "df_nodupe = df[~df.duplicated()]\n",
    "#Dedupe code source\n",
    "#https://stackoverflow.com/questions/40438237/assign-hash-to-row-of-categorical-data-in-pandas"
   ]
  },
  {
   "cell_type": "code",
   "execution_count": 8,
   "metadata": {
    "scrolled": true
   },
   "outputs": [
    {
     "data": {
      "text/html": [
       "<div>\n",
       "<style scoped>\n",
       "    .dataframe tbody tr th:only-of-type {\n",
       "        vertical-align: middle;\n",
       "    }\n",
       "\n",
       "    .dataframe tbody tr th {\n",
       "        vertical-align: top;\n",
       "    }\n",
       "\n",
       "    .dataframe thead th {\n",
       "        text-align: right;\n",
       "    }\n",
       "</style>\n",
       "<table border=\"1\" class=\"dataframe\">\n",
       "  <thead>\n",
       "    <tr style=\"text-align: right;\">\n",
       "      <th></th>\n",
       "      <th>City_ID</th>\n",
       "      <th>City</th>\n",
       "      <th>Cloudiness</th>\n",
       "      <th>Country</th>\n",
       "      <th>Date</th>\n",
       "      <th>Humidity</th>\n",
       "      <th>Lat</th>\n",
       "      <th>Lng</th>\n",
       "      <th>Max Temp</th>\n",
       "      <th>Wind Speed</th>\n",
       "      <th>hash</th>\n",
       "    </tr>\n",
       "  </thead>\n",
       "  <tbody>\n",
       "    <tr>\n",
       "      <th>0</th>\n",
       "      <td>0</td>\n",
       "      <td>jacareacanga</td>\n",
       "      <td>0</td>\n",
       "      <td>BR</td>\n",
       "      <td>1528902000</td>\n",
       "      <td>62</td>\n",
       "      <td>-6.22</td>\n",
       "      <td>-57.76</td>\n",
       "      <td>89.60</td>\n",
       "      <td>6.93</td>\n",
       "      <td>-1625669663818752798</td>\n",
       "    </tr>\n",
       "    <tr>\n",
       "      <th>1</th>\n",
       "      <td>1</td>\n",
       "      <td>kaitangata</td>\n",
       "      <td>100</td>\n",
       "      <td>NZ</td>\n",
       "      <td>1528905304</td>\n",
       "      <td>94</td>\n",
       "      <td>-46.28</td>\n",
       "      <td>169.85</td>\n",
       "      <td>42.61</td>\n",
       "      <td>5.64</td>\n",
       "      <td>2734567828028643346</td>\n",
       "    </tr>\n",
       "    <tr>\n",
       "      <th>2</th>\n",
       "      <td>2</td>\n",
       "      <td>goulburn</td>\n",
       "      <td>20</td>\n",
       "      <td>AU</td>\n",
       "      <td>1528905078</td>\n",
       "      <td>91</td>\n",
       "      <td>-34.75</td>\n",
       "      <td>149.72</td>\n",
       "      <td>44.32</td>\n",
       "      <td>10.11</td>\n",
       "      <td>1117517490766594019</td>\n",
       "    </tr>\n",
       "    <tr>\n",
       "      <th>3</th>\n",
       "      <td>3</td>\n",
       "      <td>lata</td>\n",
       "      <td>76</td>\n",
       "      <td>IN</td>\n",
       "      <td>1528905305</td>\n",
       "      <td>89</td>\n",
       "      <td>30.78</td>\n",
       "      <td>78.62</td>\n",
       "      <td>59.89</td>\n",
       "      <td>0.94</td>\n",
       "      <td>1699187215842811681</td>\n",
       "    </tr>\n",
       "    <tr>\n",
       "      <th>4</th>\n",
       "      <td>4</td>\n",
       "      <td>chokurdakh</td>\n",
       "      <td>0</td>\n",
       "      <td>RU</td>\n",
       "      <td>1528905306</td>\n",
       "      <td>88</td>\n",
       "      <td>70.62</td>\n",
       "      <td>147.90</td>\n",
       "      <td>32.17</td>\n",
       "      <td>2.95</td>\n",
       "      <td>-5962522836276746445</td>\n",
       "    </tr>\n",
       "  </tbody>\n",
       "</table>\n",
       "</div>"
      ],
      "text/plain": [
       "   City_ID          City  Cloudiness Country        Date  Humidity    Lat  \\\n",
       "0        0  jacareacanga           0      BR  1528902000        62  -6.22   \n",
       "1        1    kaitangata         100      NZ  1528905304        94 -46.28   \n",
       "2        2      goulburn          20      AU  1528905078        91 -34.75   \n",
       "3        3          lata          76      IN  1528905305        89  30.78   \n",
       "4        4    chokurdakh           0      RU  1528905306        88  70.62   \n",
       "\n",
       "      Lng  Max Temp  Wind Speed                 hash  \n",
       "0  -57.76     89.60        6.93 -1625669663818752798  \n",
       "1  169.85     42.61        5.64  2734567828028643346  \n",
       "2  149.72     44.32       10.11  1117517490766594019  \n",
       "3   78.62     59.89        0.94  1699187215842811681  \n",
       "4  147.90     32.17        2.95 -5962522836276746445  "
      ]
     },
     "execution_count": 8,
     "metadata": {},
     "output_type": "execute_result"
    }
   ],
   "source": [
    "df_nodupe.head()"
   ]
  },
  {
   "cell_type": "code",
   "execution_count": 9,
   "metadata": {},
   "outputs": [
    {
     "data": {
      "text/plain": [
       "548"
      ]
     },
     "execution_count": 9,
     "metadata": {},
     "output_type": "execute_result"
    }
   ],
   "source": [
    "len(df_nodupe)"
   ]
  },
  {
   "cell_type": "markdown",
   "metadata": {},
   "source": [
    "## Load"
   ]
  },
  {
   "cell_type": "markdown",
   "metadata": {},
   "source": [
    "#### > Convert DataFrame to json formatted file"
   ]
  },
  {
   "cell_type": "code",
   "execution_count": 10,
   "metadata": {},
   "outputs": [],
   "source": [
    "import json"
   ]
  },
  {
   "cell_type": "code",
   "execution_count": 11,
   "metadata": {},
   "outputs": [],
   "source": [
    "df_nodupe.to_json('ETL_json_file', orient='index')\n",
    "# Converting dataframe data to json format\n",
    "# https://pandas.pydata.org/pandas-docs/stable/reference/api/pandas.DataFrame.to_json.html"
   ]
  },
  {
   "cell_type": "code",
   "execution_count": 12,
   "metadata": {},
   "outputs": [],
   "source": [
    "json_data = df_nodupe.to_json(orient='index')\n",
    "parsed = json.loads(json_data)\n",
    "# print(json.dumps(parsed, indent=4, sort_keys=True))\n",
    "# Un-comment print to pretty print json formated data"
   ]
  },
  {
   "cell_type": "code",
   "execution_count": null,
   "metadata": {},
   "outputs": [],
   "source": []
  },
  {
   "cell_type": "markdown",
   "metadata": {},
   "source": [
    "#### > Create MongoDB named 'etl_db' with a collection 'etl_data'"
   ]
  },
  {
   "cell_type": "code",
   "execution_count": 13,
   "metadata": {},
   "outputs": [
    {
     "name": "stdout",
     "output_type": "stream",
     "text": [
      "Mongo version 3.9.0\n"
     ]
    }
   ],
   "source": [
    "import pymongo\n",
    "from pymongo import MongoClient\n",
    "client = MongoClient()\n",
    "client = MongoClient('localhost', 27017)\n",
    "client = MongoClient('mongodb://localhost:27017/')\n",
    "print('Mongo version', pymongo.__version__)"
   ]
  },
  {
   "cell_type": "code",
   "execution_count": 14,
   "metadata": {},
   "outputs": [],
   "source": [
    "#client.drop_database('etl_db')\n",
    "db = client['etl_db']\n",
    "# Create database named 'etl_db'\n",
    "\n",
    "db.etl_data.drop() # Drop collection if it already exist\n",
    "\n",
    "collection = db['etl_data']\n",
    "# Create collection called 'etl_data'"
   ]
  },
  {
   "cell_type": "markdown",
   "metadata": {},
   "source": [
    "#### > Load ETL_json_file data"
   ]
  },
  {
   "cell_type": "code",
   "execution_count": 15,
   "metadata": {},
   "outputs": [],
   "source": [
    "with open('ETL_json_file') as f:\n",
    "    file_data = json.load(f)\n",
    "    collection.insert_one(file_data) \n",
    "client.close()\n",
    "# Read json file into mongoDB\n",
    "# https://stackoverflow.com/questions/49510049/how-to-import-json-file-to-mongodb-using-python"
   ]
  },
  {
   "cell_type": "code",
   "execution_count": 16,
   "metadata": {},
   "outputs": [
    {
     "data": {
      "text/plain": [
       "['etl_data']"
      ]
     },
     "execution_count": 16,
     "metadata": {},
     "output_type": "execute_result"
    }
   ],
   "source": [
    "db.list_collection_names()\n",
    "# List collections in database"
   ]
  },
  {
   "cell_type": "code",
   "execution_count": 17,
   "metadata": {},
   "outputs": [
    {
     "data": {
      "text/plain": [
       "<pymongo.cursor.Cursor at 0x22d0990a898>"
      ]
     },
     "execution_count": 17,
     "metadata": {},
     "output_type": "execute_result"
    }
   ],
   "source": [
    "db.etl_data.find( { 0: {} } )\n"
   ]
  },
  {
   "cell_type": "code",
   "execution_count": 18,
   "metadata": {
    "scrolled": false
   },
   "outputs": [],
   "source": [
    "# cursor = db.etl_data # selecting the etl_data collection\n",
    "# for document in cursor.find():\n",
    "#    print (document)\n",
    "# Printing the content of the collection LARGE PRINTOUT"
   ]
  },
  {
   "cell_type": "code",
   "execution_count": null,
   "metadata": {},
   "outputs": [],
   "source": []
  },
  {
   "cell_type": "markdown",
   "metadata": {},
   "source": [
    "#### > Reading content of database and loading it into a dataframe"
   ]
  },
  {
   "cell_type": "code",
   "execution_count": 19,
   "metadata": {},
   "outputs": [],
   "source": [
    "extracted_etl_data = db.etl_data\n",
    "df = pd.DataFrame(list(extracted_etl_data.find()))\n",
    "# https://stackoverflow.com/questions/16249736/how-to-import-data-from-mongodb-to-pandas"
   ]
  },
  {
   "cell_type": "code",
   "execution_count": 20,
   "metadata": {},
   "outputs": [
    {
     "data": {
      "text/html": [
       "<div>\n",
       "<style scoped>\n",
       "    .dataframe tbody tr th:only-of-type {\n",
       "        vertical-align: middle;\n",
       "    }\n",
       "\n",
       "    .dataframe tbody tr th {\n",
       "        vertical-align: top;\n",
       "    }\n",
       "\n",
       "    .dataframe thead th {\n",
       "        text-align: right;\n",
       "    }\n",
       "</style>\n",
       "<table border=\"1\" class=\"dataframe\">\n",
       "  <thead>\n",
       "    <tr style=\"text-align: right;\">\n",
       "      <th></th>\n",
       "      <th>0</th>\n",
       "      <th>1</th>\n",
       "      <th>10</th>\n",
       "      <th>100</th>\n",
       "      <th>101</th>\n",
       "      <th>102</th>\n",
       "      <th>103</th>\n",
       "      <th>104</th>\n",
       "      <th>105</th>\n",
       "      <th>106</th>\n",
       "      <th>...</th>\n",
       "      <th>91</th>\n",
       "      <th>92</th>\n",
       "      <th>93</th>\n",
       "      <th>94</th>\n",
       "      <th>95</th>\n",
       "      <th>96</th>\n",
       "      <th>97</th>\n",
       "      <th>98</th>\n",
       "      <th>99</th>\n",
       "      <th>_id</th>\n",
       "    </tr>\n",
       "  </thead>\n",
       "  <tbody>\n",
       "    <tr>\n",
       "      <th>0</th>\n",
       "      <td>{'City_ID': 0, 'City': 'jacareacanga', 'Cloudi...</td>\n",
       "      <td>{'City_ID': 1, 'City': 'kaitangata', 'Cloudine...</td>\n",
       "      <td>{'City_ID': 10, 'City': 'puerto ayora', 'Cloud...</td>\n",
       "      <td>{'City_ID': 100, 'City': 'auchel', 'Cloudiness...</td>\n",
       "      <td>{'City_ID': 101, 'City': 'bubaque', 'Cloudines...</td>\n",
       "      <td>{'City_ID': 102, 'City': 'khatanga', 'Cloudine...</td>\n",
       "      <td>{'City_ID': 103, 'City': 'los banos', 'Cloudin...</td>\n",
       "      <td>{'City_ID': 104, 'City': 'labuhan', 'Cloudines...</td>\n",
       "      <td>{'City_ID': 105, 'City': 'saint-paul', 'Cloudi...</td>\n",
       "      <td>{'City_ID': 106, 'City': 'petatlan', 'Cloudine...</td>\n",
       "      <td>...</td>\n",
       "      <td>{'City_ID': 91, 'City': 'mataura', 'Cloudiness...</td>\n",
       "      <td>{'City_ID': 92, 'City': 'buala', 'Cloudiness':...</td>\n",
       "      <td>{'City_ID': 93, 'City': 'eyl', 'Cloudiness': 2...</td>\n",
       "      <td>{'City_ID': 94, 'City': 'abu dhabi', 'Cloudine...</td>\n",
       "      <td>{'City_ID': 95, 'City': 'tahe', 'Cloudiness': ...</td>\n",
       "      <td>{'City_ID': 96, 'City': 'chuy', 'Cloudiness': ...</td>\n",
       "      <td>{'City_ID': 97, 'City': 'dzerzhinskoye', 'Clou...</td>\n",
       "      <td>{'City_ID': 98, 'City': 'vanavara', 'Cloudines...</td>\n",
       "      <td>{'City_ID': 99, 'City': 'muros', 'Cloudiness':...</td>\n",
       "      <td>5d6d25c53eb3305b9fdb8251</td>\n",
       "    </tr>\n",
       "  </tbody>\n",
       "</table>\n",
       "<p>1 rows × 549 columns</p>\n",
       "</div>"
      ],
      "text/plain": [
       "                                                   0  \\\n",
       "0  {'City_ID': 0, 'City': 'jacareacanga', 'Cloudi...   \n",
       "\n",
       "                                                   1  \\\n",
       "0  {'City_ID': 1, 'City': 'kaitangata', 'Cloudine...   \n",
       "\n",
       "                                                  10  \\\n",
       "0  {'City_ID': 10, 'City': 'puerto ayora', 'Cloud...   \n",
       "\n",
       "                                                 100  \\\n",
       "0  {'City_ID': 100, 'City': 'auchel', 'Cloudiness...   \n",
       "\n",
       "                                                 101  \\\n",
       "0  {'City_ID': 101, 'City': 'bubaque', 'Cloudines...   \n",
       "\n",
       "                                                 102  \\\n",
       "0  {'City_ID': 102, 'City': 'khatanga', 'Cloudine...   \n",
       "\n",
       "                                                 103  \\\n",
       "0  {'City_ID': 103, 'City': 'los banos', 'Cloudin...   \n",
       "\n",
       "                                                 104  \\\n",
       "0  {'City_ID': 104, 'City': 'labuhan', 'Cloudines...   \n",
       "\n",
       "                                                 105  \\\n",
       "0  {'City_ID': 105, 'City': 'saint-paul', 'Cloudi...   \n",
       "\n",
       "                                                 106  ...  \\\n",
       "0  {'City_ID': 106, 'City': 'petatlan', 'Cloudine...  ...   \n",
       "\n",
       "                                                  91  \\\n",
       "0  {'City_ID': 91, 'City': 'mataura', 'Cloudiness...   \n",
       "\n",
       "                                                  92  \\\n",
       "0  {'City_ID': 92, 'City': 'buala', 'Cloudiness':...   \n",
       "\n",
       "                                                  93  \\\n",
       "0  {'City_ID': 93, 'City': 'eyl', 'Cloudiness': 2...   \n",
       "\n",
       "                                                  94  \\\n",
       "0  {'City_ID': 94, 'City': 'abu dhabi', 'Cloudine...   \n",
       "\n",
       "                                                  95  \\\n",
       "0  {'City_ID': 95, 'City': 'tahe', 'Cloudiness': ...   \n",
       "\n",
       "                                                  96  \\\n",
       "0  {'City_ID': 96, 'City': 'chuy', 'Cloudiness': ...   \n",
       "\n",
       "                                                  97  \\\n",
       "0  {'City_ID': 97, 'City': 'dzerzhinskoye', 'Clou...   \n",
       "\n",
       "                                                  98  \\\n",
       "0  {'City_ID': 98, 'City': 'vanavara', 'Cloudines...   \n",
       "\n",
       "                                                  99                       _id  \n",
       "0  {'City_ID': 99, 'City': 'muros', 'Cloudiness':...  5d6d25c53eb3305b9fdb8251  \n",
       "\n",
       "[1 rows x 549 columns]"
      ]
     },
     "execution_count": 20,
     "metadata": {},
     "output_type": "execute_result"
    }
   ],
   "source": [
    "df"
   ]
  },
  {
   "cell_type": "code",
   "execution_count": 21,
   "metadata": {},
   "outputs": [],
   "source": [
    "df = df.melt()"
   ]
  },
  {
   "cell_type": "code",
   "execution_count": 22,
   "metadata": {},
   "outputs": [
    {
     "data": {
      "text/html": [
       "<div>\n",
       "<style scoped>\n",
       "    .dataframe tbody tr th:only-of-type {\n",
       "        vertical-align: middle;\n",
       "    }\n",
       "\n",
       "    .dataframe tbody tr th {\n",
       "        vertical-align: top;\n",
       "    }\n",
       "\n",
       "    .dataframe thead th {\n",
       "        text-align: right;\n",
       "    }\n",
       "</style>\n",
       "<table border=\"1\" class=\"dataframe\">\n",
       "  <thead>\n",
       "    <tr style=\"text-align: right;\">\n",
       "      <th></th>\n",
       "      <th>variable</th>\n",
       "      <th>value</th>\n",
       "    </tr>\n",
       "  </thead>\n",
       "  <tbody>\n",
       "    <tr>\n",
       "      <th>0</th>\n",
       "      <td>0</td>\n",
       "      <td>{'City_ID': 0, 'City': 'jacareacanga', 'Cloudi...</td>\n",
       "    </tr>\n",
       "    <tr>\n",
       "      <th>1</th>\n",
       "      <td>1</td>\n",
       "      <td>{'City_ID': 1, 'City': 'kaitangata', 'Cloudine...</td>\n",
       "    </tr>\n",
       "    <tr>\n",
       "      <th>2</th>\n",
       "      <td>10</td>\n",
       "      <td>{'City_ID': 10, 'City': 'puerto ayora', 'Cloud...</td>\n",
       "    </tr>\n",
       "    <tr>\n",
       "      <th>3</th>\n",
       "      <td>100</td>\n",
       "      <td>{'City_ID': 100, 'City': 'auchel', 'Cloudiness...</td>\n",
       "    </tr>\n",
       "    <tr>\n",
       "      <th>4</th>\n",
       "      <td>101</td>\n",
       "      <td>{'City_ID': 101, 'City': 'bubaque', 'Cloudines...</td>\n",
       "    </tr>\n",
       "  </tbody>\n",
       "</table>\n",
       "</div>"
      ],
      "text/plain": [
       "  variable                                              value\n",
       "0        0  {'City_ID': 0, 'City': 'jacareacanga', 'Cloudi...\n",
       "1        1  {'City_ID': 1, 'City': 'kaitangata', 'Cloudine...\n",
       "2       10  {'City_ID': 10, 'City': 'puerto ayora', 'Cloud...\n",
       "3      100  {'City_ID': 100, 'City': 'auchel', 'Cloudiness...\n",
       "4      101  {'City_ID': 101, 'City': 'bubaque', 'Cloudines..."
      ]
     },
     "execution_count": 22,
     "metadata": {},
     "output_type": "execute_result"
    }
   ],
   "source": [
    "df.head()"
   ]
  },
  {
   "cell_type": "code",
   "execution_count": 23,
   "metadata": {},
   "outputs": [
    {
     "data": {
      "text/plain": [
       "549"
      ]
     },
     "execution_count": 23,
     "metadata": {},
     "output_type": "execute_result"
    }
   ],
   "source": [
    "len(df)"
   ]
  },
  {
   "cell_type": "code",
   "execution_count": 24,
   "metadata": {},
   "outputs": [
    {
     "data": {
      "text/plain": [
       "{'City_ID': 0,\n",
       " 'City': 'jacareacanga',\n",
       " 'Cloudiness': 0,\n",
       " 'Country': 'BR',\n",
       " 'Date': 1528902000,\n",
       " 'Humidity': 62,\n",
       " 'Lat': -6.22,\n",
       " 'Lng': -57.76,\n",
       " 'Max Temp': 89.6,\n",
       " 'Wind Speed': 6.93,\n",
       " 'hash': -1625669663818752798}"
      ]
     },
     "execution_count": 24,
     "metadata": {},
     "output_type": "execute_result"
    }
   ],
   "source": [
    "df.iloc[0][1]\n",
    "# Showing content of first row 'value'"
   ]
  },
  {
   "cell_type": "code",
   "execution_count": null,
   "metadata": {},
   "outputs": [],
   "source": []
  }
 ],
 "metadata": {
  "kernelspec": {
   "display_name": "Python 3",
   "language": "python",
   "name": "python3"
  },
  "language_info": {
   "codemirror_mode": {
    "name": "ipython",
    "version": 3
   },
   "file_extension": ".py",
   "mimetype": "text/x-python",
   "name": "python",
   "nbconvert_exporter": "python",
   "pygments_lexer": "ipython3",
   "version": "3.7.3"
  }
 },
 "nbformat": 4,
 "nbformat_minor": 2
}
